{
 "cells": [
  {
   "cell_type": "markdown",
   "id": "032f3c15",
   "metadata": {},
   "source": [
    "# ¡Hola  !🙋🏻‍♂️\n",
    "\n",
    "Te escribe Lisandro Saez, soy revisor de código en Tripleten y tengo el agrado de revisar el proyecto que entregaste.\n",
    "\n",
    "Para simular la dinámica de un ambiente de trabajo, si veo algún error, en primer instancia solo los señalaré, dándote la oportunidad de encontrarlos y corregirlos por tu cuenta. En un trabajo real, el líder de tu equipo hará una dinámica similar. En caso de que no puedas resolver la tarea, te daré una información más precisa en la próxima revisión.\n",
    "\n",
    "Encontrarás mis comentarios más abajo - **por favor, no los muevas, no los modifiques ni los borres**.\n",
    "\n",
    "¿Cómo lo voy a hacer? Voy a leer detenidamente cada una de las implementaciones que has llevado a cabo para cumplir con lo solicitado. Verás los comentarios de esta forma:\n",
    "\n",
    "<div class=\"alert alert-block alert-success\">\n",
    "<b>Comentario del revisor</b> <a class=\"tocSkip\"></a>\n",
    "\n",
    "Si todo está perfecto.\n",
    "</div>\n",
    "\n",
    "\n",
    "<div class=\"alert alert-block alert-warning\">\n",
    "<b>Comentario del revisor</b> <a class=\"tocSkip\"></a>\n",
    "\n",
    "Si tu código está bien pero se puede mejorar o hay algún detalle que le hace falta. Se aceptan uno o dos comentarios de este tipo en el borrador, pero si hay más, deberías hacer las correcciones. Es como una tarea de prueba al solicitar un trabajo: muchos pequeños errores pueden hacer que un candidato sea rechazado.\n",
    "</div>\n",
    "\n",
    "<div class=\"alert alert-block alert-danger\">\n",
    "\n",
    "<b>Comentario del revisor</b> <a class=\"tocSkip\"></a>\n",
    "\n",
    "Si de pronto hace falta algo o existe algún problema con tu código o conclusiones.\n",
    "</div>\n",
    "\n",
    "Puedes responderme de esta forma (no te preocupes, no es obligatorio):\n",
    "\n",
    "<div class=\"alert alert-block alert-info\">\n",
    "<b>Respuesta del estudiante</b> <a class=\"tocSkip\"></a>\n",
    "\n",
    "Hola, muchas gracias por tus comentarios y la revisión.\n",
    "</div>\n",
    "\n",
    "¡Empecemos!"
   ]
  },
  {
   "cell_type": "markdown",
   "id": "3Xg_RQfnafXz",
   "metadata": {
    "id": "3Xg_RQfnafXz"
   },
   "source": [
    "# ¡Llena ese carrito!"
   ]
  },
  {
   "cell_type": "markdown",
   "id": "mhIvmmkW414q",
   "metadata": {
    "id": "mhIvmmkW414q"
   },
   "source": [
    "# Introducción\n",
    "\n",
    "Instacart es una plataforma de entregas de comestibles donde la clientela puede registrar un pedido y hacer que se lo entreguen, similar a Uber Eats y Door Dash.\n",
    "El conjunto de datos que te hemos proporcionado tiene modificaciones del original. Redujimos el tamaño del conjunto para que tus cálculos se hicieran más rápido e introdujimos valores ausentes y duplicados. Tuvimos cuidado de conservar las distribuciones de los datos originales cuando hicimos los cambios.\n",
    "\n",
    "Debes completar tres pasos. Para cada uno de ellos, escribe una breve introducción que refleje con claridad cómo pretendes resolver cada paso, y escribe párrafos explicatorios que justifiquen tus decisiones al tiempo que avanzas en tu solución.  También escribe una conclusión que resuma tus hallazgos y elecciones.\n"
   ]
  },
  {
   "cell_type": "markdown",
   "id": "3MbyzpOQZ5Or",
   "metadata": {
    "id": "3MbyzpOQZ5Or"
   },
   "source": [
    "## Diccionario de datos\n",
    "\n",
    "Hay cinco tablas en el conjunto de datos, y tendrás que usarlas todas para hacer el preprocesamiento de datos y el análisis exploratorio de datos. A continuación se muestra un diccionario de datos que enumera las columnas de cada tabla y describe los datos que contienen.\n",
    "\n",
    "- `instacart_orders.csv`: cada fila corresponde a un pedido en la aplicación Instacart.\n",
    "    - `'order_id'`: número de ID que identifica de manera única cada pedido.\n",
    "    - `'user_id'`: número de ID que identifica de manera única la cuenta de cada cliente.\n",
    "    - `'order_number'`: el número de veces que este cliente ha hecho un pedido.\n",
    "    - `'order_dow'`: día de la semana en que se hizo el pedido (0 si es domingo).\n",
    "    - `'order_hour_of_day'`: hora del día en que se hizo el pedido.\n",
    "    - `'days_since_prior_order'`: número de días transcurridos desde que este cliente hizo su pedido anterior.\n",
    "- `products.csv`: cada fila corresponde a un producto único que pueden comprar los clientes.\n",
    "    - `'product_id'`: número ID que identifica de manera única cada producto.\n",
    "    - `'product_name'`: nombre del producto.\n",
    "    - `'aisle_id'`: número ID que identifica de manera única cada categoría de pasillo de víveres.\n",
    "    - `'department_id'`: número ID que identifica de manera única cada departamento de víveres.\n",
    "- `order_products.csv`: cada fila corresponde a un artículo pedido en un pedido.\n",
    "    - `'order_id'`: número de ID que identifica de manera única cada pedido.\n",
    "    - `'product_id'`: número ID que identifica de manera única cada producto.\n",
    "    - `'add_to_cart_order'`: el orden secuencial en el que se añadió cada artículo en el carrito.\n",
    "    - `'reordered'`: 0 si el cliente nunca ha pedido este producto antes, 1 si lo ha pedido.\n",
    "- `aisles.csv`\n",
    "    - `'aisle_id'`: número ID que identifica de manera única cada categoría de pasillo de víveres.\n",
    "    - `'aisle'`: nombre del pasillo.\n",
    "- `departments.csv`\n",
    "    - `'department_id'`: número ID que identifica de manera única cada departamento de víveres.\n",
    "    - `'department'`: nombre del departamento."
   ]
  },
  {
   "cell_type": "markdown",
   "id": "n3Ha_cNSZ8lK",
   "metadata": {
    "id": "n3Ha_cNSZ8lK"
   },
   "source": [
    "# Paso 1. Descripción de los datos\n",
    "\n",
    "Lee los archivos de datos (`/datasets/instacart_orders.csv`, `/datasets/products.csv`, `/datasets/aisles.csv`, `/datasets/departments.csv` y `/datasets/order_products.csv`) con `pd.read_csv()` usando los parámetros adecuados para leer los datos correctamente. Verifica la información para cada DataFrame creado.\n"
   ]
  },
  {
   "cell_type": "markdown",
   "id": "OmlQPLlyaAfR",
   "metadata": {
    "id": "OmlQPLlyaAfR"
   },
   "source": [
    "## Plan de solución\n",
    "\n",
    "Escribe aquí tu plan de solución para el Paso 1. Descripción de los datos."
   ]
  },
  {
   "cell_type": "code",
   "execution_count": 8,
   "id": "fbf1adab",
   "metadata": {
    "id": "fbf1adab"
   },
   "outputs": [],
   "source": [
    "import pandas as pd\n",
    "import numpy as np\n",
    "from matplotlib import pyplot as plt# importar librerías"
   ]
  },
  {
   "cell_type": "code",
   "execution_count": 9,
   "id": "ad36396d",
   "metadata": {
    "id": "ad36396d"
   },
   "outputs": [],
   "source": [
    "# leer conjuntos de datos en los DataFrames\n",
    "df_instacart_orders=pd.read_csv('datasets/instacart_orders.csv',sep=';')\n",
    "df_products=pd.read_csv('datasets/products.csv',sep=';')\n",
    "df_aisles=pd.read_csv('datasets/aisles.csv',sep=';')\n",
    "df_departments=pd.read_csv('datasets/departments.csv',sep=';')\n",
    "df_order_products=pd.read_csv('datasets/order_products.csv',sep=';')"
   ]
  },
  {
   "cell_type": "code",
   "execution_count": 11,
   "id": "ad6a1efa",
   "metadata": {
    "id": "ad6a1efa"
   },
   "outputs": [
    {
     "name": "stdout",
     "output_type": "stream",
     "text": [
      "<class 'pandas.core.frame.DataFrame'>\n",
      "RangeIndex: 478967 entries, 0 to 478966\n",
      "Data columns (total 6 columns):\n",
      " #   Column                  Non-Null Count   Dtype  \n",
      "---  ------                  --------------   -----  \n",
      " 0   order_id                478967 non-null  int64  \n",
      " 1   user_id                 478967 non-null  int64  \n",
      " 2   order_number            478967 non-null  int64  \n",
      " 3   order_dow               478967 non-null  int64  \n",
      " 4   order_hour_of_day       478967 non-null  int64  \n",
      " 5   days_since_prior_order  450148 non-null  float64\n",
      "dtypes: float64(1), int64(5)\n",
      "memory usage: 21.9 MB\n"
     ]
    }
   ],
   "source": [
    "# mostrar información del DataFrame\n",
    "df_instacart_orders.info()"
   ]
  },
  {
   "cell_type": "code",
   "execution_count": 12,
   "id": "9c2db9df",
   "metadata": {},
   "outputs": [
    {
     "name": "stdout",
     "output_type": "stream",
     "text": [
      "<class 'pandas.core.frame.DataFrame'>\n",
      "RangeIndex: 478967 entries, 0 to 478966\n",
      "Data columns (total 6 columns):\n",
      " #   Column                  Non-Null Count   Dtype  \n",
      "---  ------                  --------------   -----  \n",
      " 0   order_id                478967 non-null  int64  \n",
      " 1   user_id                 478967 non-null  int64  \n",
      " 2   order_number            478967 non-null  int64  \n",
      " 3   order_dow               478967 non-null  int64  \n",
      " 4   order_hour_of_day       478967 non-null  int64  \n",
      " 5   days_since_prior_order  450148 non-null  float64\n",
      "dtypes: float64(1), int64(5)\n",
      "memory usage: 21.9 MB\n"
     ]
    }
   ],
   "source": [
    "df_instacart_orders.info(show_counts=True)"
   ]
  },
  {
   "cell_type": "code",
   "execution_count": 13,
   "id": "5130e05e",
   "metadata": {
    "id": "5130e05e"
   },
   "outputs": [
    {
     "name": "stdout",
     "output_type": "stream",
     "text": [
      "<class 'pandas.core.frame.DataFrame'>\n",
      "RangeIndex: 49694 entries, 0 to 49693\n",
      "Data columns (total 4 columns):\n",
      " #   Column         Non-Null Count  Dtype \n",
      "---  ------         --------------  ----- \n",
      " 0   product_id     49694 non-null  int64 \n",
      " 1   product_name   48436 non-null  object\n",
      " 2   aisle_id       49694 non-null  int64 \n",
      " 3   department_id  49694 non-null  int64 \n",
      "dtypes: int64(3), object(1)\n",
      "memory usage: 1.5+ MB\n"
     ]
    }
   ],
   "source": [
    "# mostrar información del DataFrame\n",
    "df_products.info()"
   ]
  },
  {
   "cell_type": "code",
   "execution_count": 14,
   "id": "d8370c05",
   "metadata": {
    "id": "d8370c05"
   },
   "outputs": [
    {
     "name": "stdout",
     "output_type": "stream",
     "text": [
      "<class 'pandas.core.frame.DataFrame'>\n",
      "RangeIndex: 134 entries, 0 to 133\n",
      "Data columns (total 2 columns):\n",
      " #   Column    Non-Null Count  Dtype \n",
      "---  ------    --------------  ----- \n",
      " 0   aisle_id  134 non-null    int64 \n",
      " 1   aisle     134 non-null    object\n",
      "dtypes: int64(1), object(1)\n",
      "memory usage: 2.2+ KB\n"
     ]
    }
   ],
   "source": [
    "# mostrar información del DataFrame\n",
    "df_aisles.info()"
   ]
  },
  {
   "cell_type": "code",
   "execution_count": 15,
   "id": "59e2090f",
   "metadata": {
    "id": "59e2090f"
   },
   "outputs": [
    {
     "name": "stdout",
     "output_type": "stream",
     "text": [
      "<class 'pandas.core.frame.DataFrame'>\n",
      "RangeIndex: 21 entries, 0 to 20\n",
      "Data columns (total 2 columns):\n",
      " #   Column         Non-Null Count  Dtype \n",
      "---  ------         --------------  ----- \n",
      " 0   department_id  21 non-null     int64 \n",
      " 1   department     21 non-null     object\n",
      "dtypes: int64(1), object(1)\n",
      "memory usage: 468.0+ bytes\n"
     ]
    }
   ],
   "source": [
    "# mostrar información del DataFrame\n",
    "df_departments.info()"
   ]
  },
  {
   "cell_type": "code",
   "execution_count": 16,
   "id": "6fc81694",
   "metadata": {
    "id": "6fc81694"
   },
   "outputs": [
    {
     "name": "stdout",
     "output_type": "stream",
     "text": [
      "<class 'pandas.core.frame.DataFrame'>\n",
      "RangeIndex: 4545007 entries, 0 to 4545006\n",
      "Data columns (total 4 columns):\n",
      " #   Column             Dtype  \n",
      "---  ------             -----  \n",
      " 0   order_id           int64  \n",
      " 1   product_id         int64  \n",
      " 2   add_to_cart_order  float64\n",
      " 3   reordered          int64  \n",
      "dtypes: float64(1), int64(3)\n",
      "memory usage: 138.7 MB\n"
     ]
    }
   ],
   "source": [
    "# mostrar información del DataFrame\n",
    "df_order_products.info()"
   ]
  },
  {
   "cell_type": "markdown",
   "id": "t75BD19oaR5f",
   "metadata": {
    "id": "t75BD19oaR5f"
   },
   "source": [
    "## Conclusiones\n",
    "\n",
    "Escribe aquí tus conclusiones intermedias sobre el Paso 1. Descripción de los datos.\n",
    "Los dataframes: instacard_orders tiene datos ausentes en la columna day_since_prior_order, products en la columna product_name tiene datos ausentes.\n"
   ]
  },
  {
   "cell_type": "markdown",
   "id": "8RJHqxVmaVsF",
   "metadata": {
    "id": "8RJHqxVmaVsF"
   },
   "source": [
    "# Paso 2. Preprocesamiento de los datos\n",
    "\n",
    "Preprocesa los datos de la siguiente manera:\n",
    "\n",
    "- Verifica y corrige los tipos de datos (por ejemplo, asegúrate de que las columnas de ID sean números enteros).\n",
    "- Identifica y completa los valores ausentes.\n",
    "- Identifica y elimina los valores duplicados.\n",
    "\n",
    "Asegúrate de explicar qué tipos de valores ausentes y duplicados encontraste, cómo los completaste o eliminaste y por qué usaste esos métodos. ¿Por qué crees que estos valores ausentes y duplicados pueden haber estado presentes en el conjunto de datos?"
   ]
  },
  {
   "cell_type": "markdown",
   "id": "p6poABZQaZYb",
   "metadata": {
    "id": "p6poABZQaZYb"
   },
   "source": [
    "## Plan de solución\n",
    "\n",
    "Escribe aquí tu plan para el Paso 2. Preprocesamiento de los datos.\n",
    "Luego de identificado la cantidad de valores de cada dataframe y en vista que hay valores ausentes en algunas columnas se tendria que completar esos valores con el metodo fillna()\n",
    "Para identificar la cantidad de  los valores de cada dataframe se va usar el metodo duplicated().sum()\n",
    "y para eliminar los valores duplicados se debe utilizar el metodo drop_duplicates()\n",
    "Los valores ausentes en el caso de la columna de dias transcurridos puede ser debido a que algunas compras fueron efectuadas el mismo dia y aun no hayan transcurrido dias.\n",
    "Los valores ausentes en el caso de la comlumna product_name puede ser debido a un error humano y no se especifico el nombre del producto. "
   ]
  },
  {
   "cell_type": "markdown",
   "id": "07357848-dc64-4156-9cc3-01ff4365226d",
   "metadata": {
    "id": "07357848-dc64-4156-9cc3-01ff4365226d"
   },
   "source": [
    "## Encuentra y elimina los valores duplicados (y describe cómo tomaste tus decisiones)."
   ]
  },
  {
   "cell_type": "markdown",
   "id": "f179f0a9",
   "metadata": {
    "id": "f179f0a9"
   },
   "source": [
    "### `instacart_orders` data frame"
   ]
  },
  {
   "cell_type": "code",
   "execution_count": 23,
   "id": "b99297a5-405a-463d-8535-9adc3da4ad74",
   "metadata": {
    "id": "b99297a5-405a-463d-8535-9adc3da4ad74"
   },
   "outputs": [
    {
     "data": {
      "text/html": [
       "<div>\n",
       "<style scoped>\n",
       "    .dataframe tbody tr th:only-of-type {\n",
       "        vertical-align: middle;\n",
       "    }\n",
       "\n",
       "    .dataframe tbody tr th {\n",
       "        vertical-align: top;\n",
       "    }\n",
       "\n",
       "    .dataframe thead th {\n",
       "        text-align: right;\n",
       "    }\n",
       "</style>\n",
       "<table border=\"1\" class=\"dataframe\">\n",
       "  <thead>\n",
       "    <tr style=\"text-align: right;\">\n",
       "      <th></th>\n",
       "      <th>order_id</th>\n",
       "      <th>user_id</th>\n",
       "      <th>order_number</th>\n",
       "      <th>order_dow</th>\n",
       "      <th>order_hour_of_day</th>\n",
       "      <th>days_since_prior_order</th>\n",
       "    </tr>\n",
       "  </thead>\n",
       "  <tbody>\n",
       "    <tr>\n",
       "      <th>145574</th>\n",
       "      <td>794638</td>\n",
       "      <td>50898</td>\n",
       "      <td>24</td>\n",
       "      <td>3</td>\n",
       "      <td>2</td>\n",
       "      <td>2.0</td>\n",
       "    </tr>\n",
       "    <tr>\n",
       "      <th>223105</th>\n",
       "      <td>2160484</td>\n",
       "      <td>107525</td>\n",
       "      <td>16</td>\n",
       "      <td>3</td>\n",
       "      <td>2</td>\n",
       "      <td>30.0</td>\n",
       "    </tr>\n",
       "    <tr>\n",
       "      <th>230807</th>\n",
       "      <td>1918001</td>\n",
       "      <td>188546</td>\n",
       "      <td>14</td>\n",
       "      <td>3</td>\n",
       "      <td>2</td>\n",
       "      <td>16.0</td>\n",
       "    </tr>\n",
       "    <tr>\n",
       "      <th>266232</th>\n",
       "      <td>1782114</td>\n",
       "      <td>106752</td>\n",
       "      <td>1</td>\n",
       "      <td>3</td>\n",
       "      <td>2</td>\n",
       "      <td>NaN</td>\n",
       "    </tr>\n",
       "    <tr>\n",
       "      <th>273805</th>\n",
       "      <td>1112182</td>\n",
       "      <td>202304</td>\n",
       "      <td>84</td>\n",
       "      <td>3</td>\n",
       "      <td>2</td>\n",
       "      <td>6.0</td>\n",
       "    </tr>\n",
       "    <tr>\n",
       "      <th>284038</th>\n",
       "      <td>2845099</td>\n",
       "      <td>31189</td>\n",
       "      <td>11</td>\n",
       "      <td>3</td>\n",
       "      <td>2</td>\n",
       "      <td>7.0</td>\n",
       "    </tr>\n",
       "    <tr>\n",
       "      <th>311713</th>\n",
       "      <td>1021560</td>\n",
       "      <td>53767</td>\n",
       "      <td>3</td>\n",
       "      <td>3</td>\n",
       "      <td>2</td>\n",
       "      <td>9.0</td>\n",
       "    </tr>\n",
       "    <tr>\n",
       "      <th>321100</th>\n",
       "      <td>408114</td>\n",
       "      <td>68324</td>\n",
       "      <td>4</td>\n",
       "      <td>3</td>\n",
       "      <td>2</td>\n",
       "      <td>18.0</td>\n",
       "    </tr>\n",
       "    <tr>\n",
       "      <th>323900</th>\n",
       "      <td>1919531</td>\n",
       "      <td>191501</td>\n",
       "      <td>32</td>\n",
       "      <td>3</td>\n",
       "      <td>2</td>\n",
       "      <td>7.0</td>\n",
       "    </tr>\n",
       "    <tr>\n",
       "      <th>345917</th>\n",
       "      <td>2232988</td>\n",
       "      <td>82565</td>\n",
       "      <td>1</td>\n",
       "      <td>3</td>\n",
       "      <td>2</td>\n",
       "      <td>NaN</td>\n",
       "    </tr>\n",
       "    <tr>\n",
       "      <th>371905</th>\n",
       "      <td>391768</td>\n",
       "      <td>57671</td>\n",
       "      <td>19</td>\n",
       "      <td>3</td>\n",
       "      <td>2</td>\n",
       "      <td>10.0</td>\n",
       "    </tr>\n",
       "    <tr>\n",
       "      <th>394347</th>\n",
       "      <td>467134</td>\n",
       "      <td>63189</td>\n",
       "      <td>21</td>\n",
       "      <td>3</td>\n",
       "      <td>2</td>\n",
       "      <td>2.0</td>\n",
       "    </tr>\n",
       "    <tr>\n",
       "      <th>411408</th>\n",
       "      <td>1286742</td>\n",
       "      <td>183220</td>\n",
       "      <td>48</td>\n",
       "      <td>3</td>\n",
       "      <td>2</td>\n",
       "      <td>4.0</td>\n",
       "    </tr>\n",
       "    <tr>\n",
       "      <th>415163</th>\n",
       "      <td>2282673</td>\n",
       "      <td>86751</td>\n",
       "      <td>49</td>\n",
       "      <td>3</td>\n",
       "      <td>2</td>\n",
       "      <td>2.0</td>\n",
       "    </tr>\n",
       "    <tr>\n",
       "      <th>441599</th>\n",
       "      <td>2125197</td>\n",
       "      <td>14050</td>\n",
       "      <td>48</td>\n",
       "      <td>3</td>\n",
       "      <td>2</td>\n",
       "      <td>3.0</td>\n",
       "    </tr>\n",
       "  </tbody>\n",
       "</table>\n",
       "</div>"
      ],
      "text/plain": [
       "        order_id  user_id  order_number  order_dow  order_hour_of_day  \\\n",
       "145574    794638    50898            24          3                  2   \n",
       "223105   2160484   107525            16          3                  2   \n",
       "230807   1918001   188546            14          3                  2   \n",
       "266232   1782114   106752             1          3                  2   \n",
       "273805   1112182   202304            84          3                  2   \n",
       "284038   2845099    31189            11          3                  2   \n",
       "311713   1021560    53767             3          3                  2   \n",
       "321100    408114    68324             4          3                  2   \n",
       "323900   1919531   191501            32          3                  2   \n",
       "345917   2232988    82565             1          3                  2   \n",
       "371905    391768    57671            19          3                  2   \n",
       "394347    467134    63189            21          3                  2   \n",
       "411408   1286742   183220            48          3                  2   \n",
       "415163   2282673    86751            49          3                  2   \n",
       "441599   2125197    14050            48          3                  2   \n",
       "\n",
       "        days_since_prior_order  \n",
       "145574                     2.0  \n",
       "223105                    30.0  \n",
       "230807                    16.0  \n",
       "266232                     NaN  \n",
       "273805                     6.0  \n",
       "284038                     7.0  \n",
       "311713                     9.0  \n",
       "321100                    18.0  \n",
       "323900                     7.0  \n",
       "345917                     NaN  \n",
       "371905                    10.0  \n",
       "394347                     2.0  \n",
       "411408                     4.0  \n",
       "415163                     2.0  \n",
       "441599                     3.0  "
      ]
     },
     "execution_count": 23,
     "metadata": {},
     "output_type": "execute_result"
    }
   ],
   "source": [
    "# Revisa si hay pedidos duplicados\n",
    "df_instacart_orders[df_instacart_orders.duplicated()]"
   ]
  },
  {
   "cell_type": "markdown",
   "id": "PEkwUX_gvt5A",
   "metadata": {
    "id": "PEkwUX_gvt5A"
   },
   "source": [
    "¿Tienes líneas duplicadas? Si sí, ¿qué tienen en común?"
   ]
  },
  {
   "cell_type": "code",
   "execution_count": 25,
   "id": "0d44de5d",
   "metadata": {
    "id": "0d44de5d"
   },
   "outputs": [
    {
     "data": {
      "text/html": [
       "<div>\n",
       "<style scoped>\n",
       "    .dataframe tbody tr th:only-of-type {\n",
       "        vertical-align: middle;\n",
       "    }\n",
       "\n",
       "    .dataframe tbody tr th {\n",
       "        vertical-align: top;\n",
       "    }\n",
       "\n",
       "    .dataframe thead th {\n",
       "        text-align: right;\n",
       "    }\n",
       "</style>\n",
       "<table border=\"1\" class=\"dataframe\">\n",
       "  <thead>\n",
       "    <tr style=\"text-align: right;\">\n",
       "      <th></th>\n",
       "      <th>order_id</th>\n",
       "      <th>user_id</th>\n",
       "      <th>order_number</th>\n",
       "      <th>order_dow</th>\n",
       "      <th>order_hour_of_day</th>\n",
       "      <th>days_since_prior_order</th>\n",
       "    </tr>\n",
       "  </thead>\n",
       "  <tbody>\n",
       "    <tr>\n",
       "      <th>4838</th>\n",
       "      <td>2766110</td>\n",
       "      <td>162084</td>\n",
       "      <td>41</td>\n",
       "      <td>3</td>\n",
       "      <td>2</td>\n",
       "      <td>16.0</td>\n",
       "    </tr>\n",
       "    <tr>\n",
       "      <th>5156</th>\n",
       "      <td>2190225</td>\n",
       "      <td>138285</td>\n",
       "      <td>18</td>\n",
       "      <td>3</td>\n",
       "      <td>2</td>\n",
       "      <td>11.0</td>\n",
       "    </tr>\n",
       "    <tr>\n",
       "      <th>15506</th>\n",
       "      <td>553049</td>\n",
       "      <td>58599</td>\n",
       "      <td>13</td>\n",
       "      <td>3</td>\n",
       "      <td>2</td>\n",
       "      <td>7.0</td>\n",
       "    </tr>\n",
       "    <tr>\n",
       "      <th>18420</th>\n",
       "      <td>382357</td>\n",
       "      <td>120200</td>\n",
       "      <td>19</td>\n",
       "      <td>3</td>\n",
       "      <td>2</td>\n",
       "      <td>11.0</td>\n",
       "    </tr>\n",
       "    <tr>\n",
       "      <th>24691</th>\n",
       "      <td>690242</td>\n",
       "      <td>77357</td>\n",
       "      <td>2</td>\n",
       "      <td>3</td>\n",
       "      <td>2</td>\n",
       "      <td>9.0</td>\n",
       "    </tr>\n",
       "    <tr>\n",
       "      <th>...</th>\n",
       "      <td>...</td>\n",
       "      <td>...</td>\n",
       "      <td>...</td>\n",
       "      <td>...</td>\n",
       "      <td>...</td>\n",
       "      <td>...</td>\n",
       "    </tr>\n",
       "    <tr>\n",
       "      <th>457013</th>\n",
       "      <td>3384021</td>\n",
       "      <td>14881</td>\n",
       "      <td>6</td>\n",
       "      <td>3</td>\n",
       "      <td>2</td>\n",
       "      <td>30.0</td>\n",
       "    </tr>\n",
       "    <tr>\n",
       "      <th>458816</th>\n",
       "      <td>910166</td>\n",
       "      <td>164782</td>\n",
       "      <td>18</td>\n",
       "      <td>3</td>\n",
       "      <td>2</td>\n",
       "      <td>4.0</td>\n",
       "    </tr>\n",
       "    <tr>\n",
       "      <th>459635</th>\n",
       "      <td>1680532</td>\n",
       "      <td>106435</td>\n",
       "      <td>6</td>\n",
       "      <td>3</td>\n",
       "      <td>2</td>\n",
       "      <td>21.0</td>\n",
       "    </tr>\n",
       "    <tr>\n",
       "      <th>468324</th>\n",
       "      <td>222962</td>\n",
       "      <td>54979</td>\n",
       "      <td>59</td>\n",
       "      <td>3</td>\n",
       "      <td>2</td>\n",
       "      <td>3.0</td>\n",
       "    </tr>\n",
       "    <tr>\n",
       "      <th>477526</th>\n",
       "      <td>2592344</td>\n",
       "      <td>46860</td>\n",
       "      <td>38</td>\n",
       "      <td>3</td>\n",
       "      <td>2</td>\n",
       "      <td>3.0</td>\n",
       "    </tr>\n",
       "  </tbody>\n",
       "</table>\n",
       "<p>121 rows × 6 columns</p>\n",
       "</div>"
      ],
      "text/plain": [
       "        order_id  user_id  order_number  order_dow  order_hour_of_day  \\\n",
       "4838     2766110   162084            41          3                  2   \n",
       "5156     2190225   138285            18          3                  2   \n",
       "15506     553049    58599            13          3                  2   \n",
       "18420     382357   120200            19          3                  2   \n",
       "24691     690242    77357             2          3                  2   \n",
       "...          ...      ...           ...        ...                ...   \n",
       "457013   3384021    14881             6          3                  2   \n",
       "458816    910166   164782            18          3                  2   \n",
       "459635   1680532   106435             6          3                  2   \n",
       "468324    222962    54979            59          3                  2   \n",
       "477526   2592344    46860            38          3                  2   \n",
       "\n",
       "        days_since_prior_order  \n",
       "4838                      16.0  \n",
       "5156                      11.0  \n",
       "15506                      7.0  \n",
       "18420                     11.0  \n",
       "24691                      9.0  \n",
       "...                        ...  \n",
       "457013                    30.0  \n",
       "458816                     4.0  \n",
       "459635                    21.0  \n",
       "468324                     3.0  \n",
       "477526                     3.0  \n",
       "\n",
       "[121 rows x 6 columns]"
      ]
     },
     "execution_count": 25,
     "metadata": {},
     "output_type": "execute_result"
    }
   ],
   "source": [
    "# Basándote en tus hallazgos,\n",
    "# Verifica todos los pedidos que se hicieron el miércoles a las 2:00 a.m.\n",
    "df_filtered=df_instacart_orders[(df_instacart_orders['order_dow']==3) & (df_instacart_orders['order_hour_of_day']==2)]\n",
    "df_filtered"
   ]
  },
  {
   "cell_type": "markdown",
   "id": "vu2OWyoqwOx5",
   "metadata": {
    "id": "vu2OWyoqwOx5"
   },
   "source": [
    "¿Qué sugiere este resultado? Que estan ordenes duplicadas el dia miercoles a las 2 am"
   ]
  },
  {
   "cell_type": "code",
   "execution_count": 28,
   "id": "480563c7",
   "metadata": {
    "id": "480563c7"
   },
   "outputs": [],
   "source": [
    "# Elimina los pedidos duplicados\n",
    "df_instacart_orders=df_instacart_orders.drop_duplicates().reset_index(drop=True)"
   ]
  },
  {
   "cell_type": "code",
   "execution_count": 29,
   "id": "0b2396a2",
   "metadata": {
    "id": "0b2396a2"
   },
   "outputs": [
    {
     "data": {
      "text/plain": [
       "0"
      ]
     },
     "execution_count": 29,
     "metadata": {},
     "output_type": "execute_result"
    }
   ],
   "source": [
    "# Vuelve a verificar si hay filas duplicadas\n",
    "df_instacart_orders.duplicated().sum()"
   ]
  },
  {
   "cell_type": "code",
   "execution_count": 30,
   "id": "021c78d2",
   "metadata": {},
   "outputs": [
    {
     "data": {
      "text/plain": [
       "0"
      ]
     },
     "execution_count": 30,
     "metadata": {},
     "output_type": "execute_result"
    }
   ],
   "source": [
    "# Vuelve a verificar si hay duplicadasen la columna order_id\n",
    "df_instacart_orders.duplicated(subset='order_id').sum()"
   ]
  },
  {
   "cell_type": "markdown",
   "id": "5e8905ae",
   "metadata": {
    "id": "5e8905ae"
   },
   "source": [
    "Describe brevemente tus hallazgos y lo que hiciste con ellos\n",
    "En el Dataframe de Instacard_orders hay 15 valores duplicados los cuales se aplica el metodo drop.duplicates() para eliminarlos y se volvio a verificar en la columna del order_id si hay algun duplicado."
   ]
  },
  {
   "cell_type": "markdown",
   "id": "45e6bc46",
   "metadata": {
    "id": "45e6bc46"
   },
   "source": [
    "### `products` data frame"
   ]
  },
  {
   "cell_type": "code",
   "execution_count": 34,
   "id": "5f526b5b-8175-46fa-a0fd-441767d50e64",
   "metadata": {
    "id": "5f526b5b-8175-46fa-a0fd-441767d50e64"
   },
   "outputs": [
    {
     "data": {
      "text/html": [
       "<div>\n",
       "<style scoped>\n",
       "    .dataframe tbody tr th:only-of-type {\n",
       "        vertical-align: middle;\n",
       "    }\n",
       "\n",
       "    .dataframe tbody tr th {\n",
       "        vertical-align: top;\n",
       "    }\n",
       "\n",
       "    .dataframe thead th {\n",
       "        text-align: right;\n",
       "    }\n",
       "</style>\n",
       "<table border=\"1\" class=\"dataframe\">\n",
       "  <thead>\n",
       "    <tr style=\"text-align: right;\">\n",
       "      <th></th>\n",
       "      <th>product_id</th>\n",
       "      <th>product_name</th>\n",
       "      <th>aisle_id</th>\n",
       "      <th>department_id</th>\n",
       "    </tr>\n",
       "  </thead>\n",
       "  <tbody>\n",
       "  </tbody>\n",
       "</table>\n",
       "</div>"
      ],
      "text/plain": [
       "Empty DataFrame\n",
       "Columns: [product_id, product_name, aisle_id, department_id]\n",
       "Index: []"
      ]
     },
     "execution_count": 34,
     "metadata": {},
     "output_type": "execute_result"
    }
   ],
   "source": [
    "# Verifica si hay filas totalmente duplicadas\n",
    "df_products[df_products.duplicated()]"
   ]
  },
  {
   "cell_type": "code",
   "execution_count": 35,
   "id": "88daa4f4",
   "metadata": {
    "id": "88daa4f4"
   },
   "outputs": [
    {
     "data": {
      "text/plain": [
       "0"
      ]
     },
     "execution_count": 35,
     "metadata": {},
     "output_type": "execute_result"
    }
   ],
   "source": [
    "# Verifica si hay IDs duplicadas de productos\n",
    "df_products.duplicated(subset='product_id').sum()"
   ]
  },
  {
   "cell_type": "code",
   "execution_count": 36,
   "id": "c773f0bf",
   "metadata": {
    "id": "c773f0bf"
   },
   "outputs": [
    {
     "data": {
      "text/plain": [
       "1257"
      ]
     },
     "execution_count": 36,
     "metadata": {},
     "output_type": "execute_result"
    }
   ],
   "source": [
    "# Revisa si hay nombres duplicados de productos (convierte los nombres a letras mayúsculas para compararlos mejor)\n",
    "df_products.duplicated(subset='product_name').sum()"
   ]
  },
  {
   "cell_type": "code",
   "execution_count": 37,
   "id": "08431258",
   "metadata": {},
   "outputs": [
    {
     "data": {
      "text/html": [
       "<div>\n",
       "<style scoped>\n",
       "    .dataframe tbody tr th:only-of-type {\n",
       "        vertical-align: middle;\n",
       "    }\n",
       "\n",
       "    .dataframe tbody tr th {\n",
       "        vertical-align: top;\n",
       "    }\n",
       "\n",
       "    .dataframe thead th {\n",
       "        text-align: right;\n",
       "    }\n",
       "</style>\n",
       "<table border=\"1\" class=\"dataframe\">\n",
       "  <thead>\n",
       "    <tr style=\"text-align: right;\">\n",
       "      <th></th>\n",
       "      <th>product_id</th>\n",
       "      <th>product_name</th>\n",
       "      <th>aisle_id</th>\n",
       "      <th>department_id</th>\n",
       "    </tr>\n",
       "  </thead>\n",
       "  <tbody>\n",
       "    <tr>\n",
       "      <th>2058</th>\n",
       "      <td>2059</td>\n",
       "      <td>Biotin 1000 Mcg</td>\n",
       "      <td>47</td>\n",
       "      <td>11</td>\n",
       "    </tr>\n",
       "    <tr>\n",
       "      <th>5455</th>\n",
       "      <td>5456</td>\n",
       "      <td>Green Tea With Ginseng and Honey</td>\n",
       "      <td>96</td>\n",
       "      <td>20</td>\n",
       "    </tr>\n",
       "    <tr>\n",
       "      <th>5558</th>\n",
       "      <td>5559</td>\n",
       "      <td>Cream Of Mushroom Soup</td>\n",
       "      <td>69</td>\n",
       "      <td>15</td>\n",
       "    </tr>\n",
       "    <tr>\n",
       "      <th>7558</th>\n",
       "      <td>7559</td>\n",
       "      <td>Cinnamon Rolls with Icing</td>\n",
       "      <td>105</td>\n",
       "      <td>13</td>\n",
       "    </tr>\n",
       "    <tr>\n",
       "      <th>9037</th>\n",
       "      <td>9038</td>\n",
       "      <td>American Cheese slices</td>\n",
       "      <td>21</td>\n",
       "      <td>16</td>\n",
       "    </tr>\n",
       "    <tr>\n",
       "      <th>...</th>\n",
       "      <td>...</td>\n",
       "      <td>...</td>\n",
       "      <td>...</td>\n",
       "      <td>...</td>\n",
       "    </tr>\n",
       "    <tr>\n",
       "      <th>49689</th>\n",
       "      <td>49690</td>\n",
       "      <td>HIGH PERFORMANCE ENERGY DRINK</td>\n",
       "      <td>64</td>\n",
       "      <td>7</td>\n",
       "    </tr>\n",
       "    <tr>\n",
       "      <th>49690</th>\n",
       "      <td>49691</td>\n",
       "      <td>ORIGINAL PANCAKE &amp; WAFFLE MIX</td>\n",
       "      <td>130</td>\n",
       "      <td>14</td>\n",
       "    </tr>\n",
       "    <tr>\n",
       "      <th>49691</th>\n",
       "      <td>49692</td>\n",
       "      <td>ORGANIC INSTANT OATMEAL LIGHT MAPLE BROWN SUGAR</td>\n",
       "      <td>130</td>\n",
       "      <td>14</td>\n",
       "    </tr>\n",
       "    <tr>\n",
       "      <th>49692</th>\n",
       "      <td>49693</td>\n",
       "      <td>SPRING WATER BODY WASH</td>\n",
       "      <td>127</td>\n",
       "      <td>11</td>\n",
       "    </tr>\n",
       "    <tr>\n",
       "      <th>49693</th>\n",
       "      <td>49694</td>\n",
       "      <td>BURRITO- STEAK &amp; CHEESE</td>\n",
       "      <td>38</td>\n",
       "      <td>1</td>\n",
       "    </tr>\n",
       "  </tbody>\n",
       "</table>\n",
       "<p>104 rows × 4 columns</p>\n",
       "</div>"
      ],
      "text/plain": [
       "       product_id                                     product_name  aisle_id  \\\n",
       "2058         2059                                  Biotin 1000 Mcg        47   \n",
       "5455         5456                 Green Tea With Ginseng and Honey        96   \n",
       "5558         5559                           Cream Of Mushroom Soup        69   \n",
       "7558         7559                        Cinnamon Rolls with Icing       105   \n",
       "9037         9038                           American Cheese slices        21   \n",
       "...           ...                                              ...       ...   \n",
       "49689       49690                    HIGH PERFORMANCE ENERGY DRINK        64   \n",
       "49690       49691                    ORIGINAL PANCAKE & WAFFLE MIX       130   \n",
       "49691       49692  ORGANIC INSTANT OATMEAL LIGHT MAPLE BROWN SUGAR       130   \n",
       "49692       49693                           SPRING WATER BODY WASH       127   \n",
       "49693       49694                          BURRITO- STEAK & CHEESE        38   \n",
       "\n",
       "       department_id  \n",
       "2058              11  \n",
       "5455              20  \n",
       "5558              15  \n",
       "7558              13  \n",
       "9037              16  \n",
       "...              ...  \n",
       "49689              7  \n",
       "49690             14  \n",
       "49691             14  \n",
       "49692             11  \n",
       "49693              1  \n",
       "\n",
       "[104 rows x 4 columns]"
      ]
     },
     "execution_count": 37,
     "metadata": {},
     "output_type": "execute_result"
    }
   ],
   "source": [
    "df_products[(df_products['product_name'].str.upper().duplicated()) &(~df_products['product_name'].isna())]"
   ]
  },
  {
   "cell_type": "code",
   "execution_count": 38,
   "id": "01efd02e",
   "metadata": {
    "id": "01efd02e"
   },
   "outputs": [
    {
     "data": {
      "text/html": [
       "<div>\n",
       "<style scoped>\n",
       "    .dataframe tbody tr th:only-of-type {\n",
       "        vertical-align: middle;\n",
       "    }\n",
       "\n",
       "    .dataframe tbody tr th {\n",
       "        vertical-align: top;\n",
       "    }\n",
       "\n",
       "    .dataframe thead th {\n",
       "        text-align: right;\n",
       "    }\n",
       "</style>\n",
       "<table border=\"1\" class=\"dataframe\">\n",
       "  <thead>\n",
       "    <tr style=\"text-align: right;\">\n",
       "      <th></th>\n",
       "      <th>product_id</th>\n",
       "      <th>product_name</th>\n",
       "      <th>aisle_id</th>\n",
       "      <th>department_id</th>\n",
       "    </tr>\n",
       "  </thead>\n",
       "  <tbody>\n",
       "  </tbody>\n",
       "</table>\n",
       "</div>"
      ],
      "text/plain": [
       "Empty DataFrame\n",
       "Columns: [product_id, product_name, aisle_id, department_id]\n",
       "Index: []"
      ]
     },
     "execution_count": 38,
     "metadata": {},
     "output_type": "execute_result"
    }
   ],
   "source": [
    "# Revisa si hay nombres duplicados de productos no faltantes\n",
    "df_products[(df_products.duplicated(subset='product_name')) & ~df_products['product_name'].isna()]"
   ]
  },
  {
   "cell_type": "markdown",
   "id": "9da8d293",
   "metadata": {
    "id": "9da8d293"
   },
   "source": [
    "Describe brevemente tus hallazgos y lo que hiciste con ellos.\n",
    "En el dataframe de products se identifico los duplicados en caso de las filas no hay duplicadas ni el caso del ID del producto lo que si hay duplicados es en el nombre de los productos faltante. Los duplicados tienen id diferentes por lo que no se puede borrar."
   ]
  },
  {
   "cell_type": "markdown",
   "id": "60f30db1",
   "metadata": {
    "id": "60f30db1"
   },
   "source": [
    "### `departments` data frame"
   ]
  },
  {
   "cell_type": "code",
   "execution_count": 41,
   "id": "fb410ad4-0fbf-4b80-bb09-23fdea79afe3",
   "metadata": {
    "id": "fb410ad4-0fbf-4b80-bb09-23fdea79afe3"
   },
   "outputs": [
    {
     "data": {
      "text/html": [
       "<div>\n",
       "<style scoped>\n",
       "    .dataframe tbody tr th:only-of-type {\n",
       "        vertical-align: middle;\n",
       "    }\n",
       "\n",
       "    .dataframe tbody tr th {\n",
       "        vertical-align: top;\n",
       "    }\n",
       "\n",
       "    .dataframe thead th {\n",
       "        text-align: right;\n",
       "    }\n",
       "</style>\n",
       "<table border=\"1\" class=\"dataframe\">\n",
       "  <thead>\n",
       "    <tr style=\"text-align: right;\">\n",
       "      <th></th>\n",
       "      <th>department_id</th>\n",
       "      <th>department</th>\n",
       "    </tr>\n",
       "  </thead>\n",
       "  <tbody>\n",
       "  </tbody>\n",
       "</table>\n",
       "</div>"
      ],
      "text/plain": [
       "Empty DataFrame\n",
       "Columns: [department_id, department]\n",
       "Index: []"
      ]
     },
     "execution_count": 41,
     "metadata": {},
     "output_type": "execute_result"
    }
   ],
   "source": [
    "# Revisa si hay filas totalmente duplicadas\n",
    "df_departments[df_departments.duplicated()]"
   ]
  },
  {
   "cell_type": "code",
   "execution_count": 42,
   "id": "332b12bb",
   "metadata": {
    "id": "332b12bb"
   },
   "outputs": [
    {
     "data": {
      "text/plain": [
       "0"
      ]
     },
     "execution_count": 42,
     "metadata": {},
     "output_type": "execute_result"
    }
   ],
   "source": [
    "# Revisa si hay IDs duplicadas de productos\n",
    "df_departments.duplicated(subset='department_id').sum()"
   ]
  },
  {
   "cell_type": "markdown",
   "id": "bd30d78e",
   "metadata": {
    "id": "bd30d78e"
   },
   "source": [
    "Describe brevemente tus hallazgos y lo que hiciste con ellos. No hay ningun valor duplicado en el Dataframe departments"
   ]
  },
  {
   "cell_type": "markdown",
   "id": "889349c1",
   "metadata": {
    "id": "889349c1"
   },
   "source": [
    "### `aisles` data frame"
   ]
  },
  {
   "cell_type": "code",
   "execution_count": 45,
   "id": "9da89fb9-4679-40f5-ad0d-c34df753a3f8",
   "metadata": {
    "id": "9da89fb9-4679-40f5-ad0d-c34df753a3f8"
   },
   "outputs": [
    {
     "data": {
      "text/html": [
       "<div>\n",
       "<style scoped>\n",
       "    .dataframe tbody tr th:only-of-type {\n",
       "        vertical-align: middle;\n",
       "    }\n",
       "\n",
       "    .dataframe tbody tr th {\n",
       "        vertical-align: top;\n",
       "    }\n",
       "\n",
       "    .dataframe thead th {\n",
       "        text-align: right;\n",
       "    }\n",
       "</style>\n",
       "<table border=\"1\" class=\"dataframe\">\n",
       "  <thead>\n",
       "    <tr style=\"text-align: right;\">\n",
       "      <th></th>\n",
       "      <th>aisle_id</th>\n",
       "      <th>aisle</th>\n",
       "    </tr>\n",
       "  </thead>\n",
       "  <tbody>\n",
       "  </tbody>\n",
       "</table>\n",
       "</div>"
      ],
      "text/plain": [
       "Empty DataFrame\n",
       "Columns: [aisle_id, aisle]\n",
       "Index: []"
      ]
     },
     "execution_count": 45,
     "metadata": {},
     "output_type": "execute_result"
    }
   ],
   "source": [
    "# Revisa si hay filas totalmente duplicadas\n",
    "df_aisles[df_aisles.duplicated()]"
   ]
  },
  {
   "cell_type": "code",
   "execution_count": 46,
   "id": "da7c2822",
   "metadata": {
    "id": "da7c2822"
   },
   "outputs": [
    {
     "data": {
      "text/html": [
       "<div>\n",
       "<style scoped>\n",
       "    .dataframe tbody tr th:only-of-type {\n",
       "        vertical-align: middle;\n",
       "    }\n",
       "\n",
       "    .dataframe tbody tr th {\n",
       "        vertical-align: top;\n",
       "    }\n",
       "\n",
       "    .dataframe thead th {\n",
       "        text-align: right;\n",
       "    }\n",
       "</style>\n",
       "<table border=\"1\" class=\"dataframe\">\n",
       "  <thead>\n",
       "    <tr style=\"text-align: right;\">\n",
       "      <th></th>\n",
       "      <th>aisle_id</th>\n",
       "      <th>aisle</th>\n",
       "    </tr>\n",
       "  </thead>\n",
       "  <tbody>\n",
       "  </tbody>\n",
       "</table>\n",
       "</div>"
      ],
      "text/plain": [
       "Empty DataFrame\n",
       "Columns: [aisle_id, aisle]\n",
       "Index: []"
      ]
     },
     "execution_count": 46,
     "metadata": {},
     "output_type": "execute_result"
    }
   ],
   "source": [
    "# Revisa si hay IDs duplicadas de productos\n",
    "df_aisles[df_aisles.duplicated(subset='aisle_id')]"
   ]
  },
  {
   "cell_type": "markdown",
   "id": "ac63826f",
   "metadata": {
    "id": "ac63826f"
   },
   "source": [
    "Describe brevemente tus hallazgos y lo que hiciste con ellos. Se utilizo el metodo duplicated()para identidicar si hay valores duplicados y el resultado fue 0.\n"
   ]
  },
  {
   "cell_type": "markdown",
   "id": "274cd06a",
   "metadata": {
    "id": "274cd06a"
   },
   "source": [
    "### `order_products` data frame"
   ]
  },
  {
   "cell_type": "code",
   "execution_count": 49,
   "id": "52326689-84a8-4b8f-a881-7c68780f62c9",
   "metadata": {
    "id": "52326689-84a8-4b8f-a881-7c68780f62c9"
   },
   "outputs": [
    {
     "data": {
      "text/html": [
       "<div>\n",
       "<style scoped>\n",
       "    .dataframe tbody tr th:only-of-type {\n",
       "        vertical-align: middle;\n",
       "    }\n",
       "\n",
       "    .dataframe tbody tr th {\n",
       "        vertical-align: top;\n",
       "    }\n",
       "\n",
       "    .dataframe thead th {\n",
       "        text-align: right;\n",
       "    }\n",
       "</style>\n",
       "<table border=\"1\" class=\"dataframe\">\n",
       "  <thead>\n",
       "    <tr style=\"text-align: right;\">\n",
       "      <th></th>\n",
       "      <th>order_id</th>\n",
       "      <th>product_id</th>\n",
       "      <th>add_to_cart_order</th>\n",
       "      <th>reordered</th>\n",
       "    </tr>\n",
       "  </thead>\n",
       "  <tbody>\n",
       "  </tbody>\n",
       "</table>\n",
       "</div>"
      ],
      "text/plain": [
       "Empty DataFrame\n",
       "Columns: [order_id, product_id, add_to_cart_order, reordered]\n",
       "Index: []"
      ]
     },
     "execution_count": 49,
     "metadata": {},
     "output_type": "execute_result"
    }
   ],
   "source": [
    "# Revisa si hay filas totalmente duplicadas\n",
    "df_order_products[df_order_products.duplicated()]"
   ]
  },
  {
   "cell_type": "code",
   "execution_count": 50,
   "id": "7b861391",
   "metadata": {
    "id": "7b861391"
   },
   "outputs": [
    {
     "data": {
      "text/html": [
       "<div>\n",
       "<style scoped>\n",
       "    .dataframe tbody tr th:only-of-type {\n",
       "        vertical-align: middle;\n",
       "    }\n",
       "\n",
       "    .dataframe tbody tr th {\n",
       "        vertical-align: top;\n",
       "    }\n",
       "\n",
       "    .dataframe thead th {\n",
       "        text-align: right;\n",
       "    }\n",
       "</style>\n",
       "<table border=\"1\" class=\"dataframe\">\n",
       "  <thead>\n",
       "    <tr style=\"text-align: right;\">\n",
       "      <th></th>\n",
       "      <th>order_id</th>\n",
       "      <th>product_id</th>\n",
       "      <th>add_to_cart_order</th>\n",
       "      <th>reordered</th>\n",
       "    </tr>\n",
       "  </thead>\n",
       "  <tbody>\n",
       "    <tr>\n",
       "      <th>367</th>\n",
       "      <td>2867619</td>\n",
       "      <td>48094</td>\n",
       "      <td>9.0</td>\n",
       "      <td>0</td>\n",
       "    </tr>\n",
       "    <tr>\n",
       "      <th>824</th>\n",
       "      <td>844425</td>\n",
       "      <td>39408</td>\n",
       "      <td>10.0</td>\n",
       "      <td>1</td>\n",
       "    </tr>\n",
       "    <tr>\n",
       "      <th>1124</th>\n",
       "      <td>3319857</td>\n",
       "      <td>37067</td>\n",
       "      <td>19.0</td>\n",
       "      <td>0</td>\n",
       "    </tr>\n",
       "    <tr>\n",
       "      <th>1258</th>\n",
       "      <td>1038788</td>\n",
       "      <td>12471</td>\n",
       "      <td>14.0</td>\n",
       "      <td>0</td>\n",
       "    </tr>\n",
       "    <tr>\n",
       "      <th>1303</th>\n",
       "      <td>2825714</td>\n",
       "      <td>44632</td>\n",
       "      <td>16.0</td>\n",
       "      <td>1</td>\n",
       "    </tr>\n",
       "    <tr>\n",
       "      <th>...</th>\n",
       "      <td>...</td>\n",
       "      <td>...</td>\n",
       "      <td>...</td>\n",
       "      <td>...</td>\n",
       "    </tr>\n",
       "    <tr>\n",
       "      <th>4545002</th>\n",
       "      <td>577211</td>\n",
       "      <td>15290</td>\n",
       "      <td>12.0</td>\n",
       "      <td>1</td>\n",
       "    </tr>\n",
       "    <tr>\n",
       "      <th>4545003</th>\n",
       "      <td>1219554</td>\n",
       "      <td>21914</td>\n",
       "      <td>9.0</td>\n",
       "      <td>0</td>\n",
       "    </tr>\n",
       "    <tr>\n",
       "      <th>4545004</th>\n",
       "      <td>692640</td>\n",
       "      <td>47766</td>\n",
       "      <td>4.0</td>\n",
       "      <td>1</td>\n",
       "    </tr>\n",
       "    <tr>\n",
       "      <th>4545005</th>\n",
       "      <td>319435</td>\n",
       "      <td>691</td>\n",
       "      <td>8.0</td>\n",
       "      <td>1</td>\n",
       "    </tr>\n",
       "    <tr>\n",
       "      <th>4545006</th>\n",
       "      <td>1398151</td>\n",
       "      <td>28733</td>\n",
       "      <td>9.0</td>\n",
       "      <td>0</td>\n",
       "    </tr>\n",
       "  </tbody>\n",
       "</table>\n",
       "<p>4094961 rows × 4 columns</p>\n",
       "</div>"
      ],
      "text/plain": [
       "         order_id  product_id  add_to_cart_order  reordered\n",
       "367       2867619       48094                9.0          0\n",
       "824        844425       39408               10.0          1\n",
       "1124      3319857       37067               19.0          0\n",
       "1258      1038788       12471               14.0          0\n",
       "1303      2825714       44632               16.0          1\n",
       "...           ...         ...                ...        ...\n",
       "4545002    577211       15290               12.0          1\n",
       "4545003   1219554       21914                9.0          0\n",
       "4545004    692640       47766                4.0          1\n",
       "4545005    319435         691                8.0          1\n",
       "4545006   1398151       28733                9.0          0\n",
       "\n",
       "[4094961 rows x 4 columns]"
      ]
     },
     "execution_count": 50,
     "metadata": {},
     "output_type": "execute_result"
    }
   ],
   "source": [
    "# Vuelve a verificar si hay cualquier otro duplicado engañoso\n",
    "df_order_products[df_order_products.duplicated(subset='order_id')]"
   ]
  },
  {
   "cell_type": "markdown",
   "id": "0b890492",
   "metadata": {
    "id": "0b890492"
   },
   "source": [
    "Describe brevemente tus hallazgos y lo que hiciste con ellos. Se volvio a utilizar el metodo duplicated(),en caso de los  duplicados en la columna 'order_id' que es la forma unica de orden es posible que se dupliquen pq en la misma orden se agragaron varios productos por lo que no seria prudente eliminar. "
   ]
  },
  {
   "cell_type": "markdown",
   "id": "1e46de76",
   "metadata": {
    "id": "1e46de76"
   },
   "source": [
    "## Encuentra y elimina los valores ausentes\n",
    "\n",
    "Al trabajar con valores duplicados, pudimos observar que también nos falta investigar valores ausentes:\n",
    "\n",
    "* La columna `'product_name'` de la tabla products.\n",
    "* La columna `'days_since_prior_order'` de la tabla orders.\n",
    "* La columna `'add_to_cart_order'` de la tabla order_productos."
   ]
  },
  {
   "cell_type": "markdown",
   "id": "c0aebd78",
   "metadata": {
    "id": "c0aebd78"
   },
   "source": [
    "### `products` data frame"
   ]
  },
  {
   "cell_type": "code",
   "execution_count": 55,
   "id": "fe4a8b0f",
   "metadata": {
    "id": "fe4a8b0f"
   },
   "outputs": [
    {
     "data": {
      "text/plain": [
       "1258"
      ]
     },
     "execution_count": 55,
     "metadata": {},
     "output_type": "execute_result"
    }
   ],
   "source": [
    "# Encuentra los valores ausentes en la columna 'product_name'\n",
    "df_products['product_name'].isna().sum()"
   ]
  },
  {
   "cell_type": "markdown",
   "id": "-A6x1AbJhjkp",
   "metadata": {
    "id": "-A6x1AbJhjkp"
   },
   "source": [
    "Describe brevemente cuáles son tus hallazgos. Hay 1258 valores ausentes en la columna product name 48436"
   ]
  },
  {
   "cell_type": "code",
   "execution_count": 57,
   "id": "e96167bc",
   "metadata": {
    "id": "e96167bc"
   },
   "outputs": [
    {
     "data": {
      "text/html": [
       "<div>\n",
       "<style scoped>\n",
       "    .dataframe tbody tr th:only-of-type {\n",
       "        vertical-align: middle;\n",
       "    }\n",
       "\n",
       "    .dataframe tbody tr th {\n",
       "        vertical-align: top;\n",
       "    }\n",
       "\n",
       "    .dataframe thead th {\n",
       "        text-align: right;\n",
       "    }\n",
       "</style>\n",
       "<table border=\"1\" class=\"dataframe\">\n",
       "  <thead>\n",
       "    <tr style=\"text-align: right;\">\n",
       "      <th></th>\n",
       "      <th>product_id</th>\n",
       "      <th>product_name</th>\n",
       "      <th>aisle_id</th>\n",
       "      <th>department_id</th>\n",
       "    </tr>\n",
       "  </thead>\n",
       "  <tbody>\n",
       "    <tr>\n",
       "      <th>37</th>\n",
       "      <td>38</td>\n",
       "      <td>NaN</td>\n",
       "      <td>100</td>\n",
       "      <td>21</td>\n",
       "    </tr>\n",
       "    <tr>\n",
       "      <th>71</th>\n",
       "      <td>72</td>\n",
       "      <td>NaN</td>\n",
       "      <td>100</td>\n",
       "      <td>21</td>\n",
       "    </tr>\n",
       "    <tr>\n",
       "      <th>109</th>\n",
       "      <td>110</td>\n",
       "      <td>NaN</td>\n",
       "      <td>100</td>\n",
       "      <td>21</td>\n",
       "    </tr>\n",
       "    <tr>\n",
       "      <th>296</th>\n",
       "      <td>297</td>\n",
       "      <td>NaN</td>\n",
       "      <td>100</td>\n",
       "      <td>21</td>\n",
       "    </tr>\n",
       "    <tr>\n",
       "      <th>416</th>\n",
       "      <td>417</td>\n",
       "      <td>NaN</td>\n",
       "      <td>100</td>\n",
       "      <td>21</td>\n",
       "    </tr>\n",
       "    <tr>\n",
       "      <th>...</th>\n",
       "      <td>...</td>\n",
       "      <td>...</td>\n",
       "      <td>...</td>\n",
       "      <td>...</td>\n",
       "    </tr>\n",
       "    <tr>\n",
       "      <th>49552</th>\n",
       "      <td>49553</td>\n",
       "      <td>NaN</td>\n",
       "      <td>100</td>\n",
       "      <td>21</td>\n",
       "    </tr>\n",
       "    <tr>\n",
       "      <th>49574</th>\n",
       "      <td>49575</td>\n",
       "      <td>NaN</td>\n",
       "      <td>100</td>\n",
       "      <td>21</td>\n",
       "    </tr>\n",
       "    <tr>\n",
       "      <th>49640</th>\n",
       "      <td>49641</td>\n",
       "      <td>NaN</td>\n",
       "      <td>100</td>\n",
       "      <td>21</td>\n",
       "    </tr>\n",
       "    <tr>\n",
       "      <th>49663</th>\n",
       "      <td>49664</td>\n",
       "      <td>NaN</td>\n",
       "      <td>100</td>\n",
       "      <td>21</td>\n",
       "    </tr>\n",
       "    <tr>\n",
       "      <th>49668</th>\n",
       "      <td>49669</td>\n",
       "      <td>NaN</td>\n",
       "      <td>100</td>\n",
       "      <td>21</td>\n",
       "    </tr>\n",
       "  </tbody>\n",
       "</table>\n",
       "<p>1258 rows × 4 columns</p>\n",
       "</div>"
      ],
      "text/plain": [
       "       product_id product_name  aisle_id  department_id\n",
       "37             38          NaN       100             21\n",
       "71             72          NaN       100             21\n",
       "109           110          NaN       100             21\n",
       "296           297          NaN       100             21\n",
       "416           417          NaN       100             21\n",
       "...           ...          ...       ...            ...\n",
       "49552       49553          NaN       100             21\n",
       "49574       49575          NaN       100             21\n",
       "49640       49641          NaN       100             21\n",
       "49663       49664          NaN       100             21\n",
       "49668       49669          NaN       100             21\n",
       "\n",
       "[1258 rows x 4 columns]"
      ]
     },
     "execution_count": 57,
     "metadata": {},
     "output_type": "execute_result"
    }
   ],
   "source": [
    "#  ¿Todos los nombres de productos ausentes están relacionados con el pasillo con ID 100?\n",
    "df_products[(df_products['product_name'].isna()) & (df_products['aisle_id']== 100)]"
   ]
  },
  {
   "cell_type": "markdown",
   "id": "WRpIfXRphpSL",
   "metadata": {
    "id": "WRpIfXRphpSL"
   },
   "source": [
    "Describe brevemente cuáles son tus hallazgos. Si estan relacionados los valores ausentes con el pasillo 100 porque sale en el total 1258 que es el total de valores ausentes de todo el dataframe."
   ]
  },
  {
   "cell_type": "code",
   "execution_count": 59,
   "id": "8fd0a541",
   "metadata": {
    "id": "8fd0a541"
   },
   "outputs": [
    {
     "data": {
      "text/html": [
       "<div>\n",
       "<style scoped>\n",
       "    .dataframe tbody tr th:only-of-type {\n",
       "        vertical-align: middle;\n",
       "    }\n",
       "\n",
       "    .dataframe tbody tr th {\n",
       "        vertical-align: top;\n",
       "    }\n",
       "\n",
       "    .dataframe thead th {\n",
       "        text-align: right;\n",
       "    }\n",
       "</style>\n",
       "<table border=\"1\" class=\"dataframe\">\n",
       "  <thead>\n",
       "    <tr style=\"text-align: right;\">\n",
       "      <th></th>\n",
       "      <th>product_id</th>\n",
       "      <th>product_name</th>\n",
       "      <th>aisle_id</th>\n",
       "      <th>department_id</th>\n",
       "    </tr>\n",
       "  </thead>\n",
       "  <tbody>\n",
       "    <tr>\n",
       "      <th>37</th>\n",
       "      <td>38</td>\n",
       "      <td>NaN</td>\n",
       "      <td>100</td>\n",
       "      <td>21</td>\n",
       "    </tr>\n",
       "    <tr>\n",
       "      <th>71</th>\n",
       "      <td>72</td>\n",
       "      <td>NaN</td>\n",
       "      <td>100</td>\n",
       "      <td>21</td>\n",
       "    </tr>\n",
       "    <tr>\n",
       "      <th>109</th>\n",
       "      <td>110</td>\n",
       "      <td>NaN</td>\n",
       "      <td>100</td>\n",
       "      <td>21</td>\n",
       "    </tr>\n",
       "    <tr>\n",
       "      <th>296</th>\n",
       "      <td>297</td>\n",
       "      <td>NaN</td>\n",
       "      <td>100</td>\n",
       "      <td>21</td>\n",
       "    </tr>\n",
       "    <tr>\n",
       "      <th>416</th>\n",
       "      <td>417</td>\n",
       "      <td>NaN</td>\n",
       "      <td>100</td>\n",
       "      <td>21</td>\n",
       "    </tr>\n",
       "    <tr>\n",
       "      <th>...</th>\n",
       "      <td>...</td>\n",
       "      <td>...</td>\n",
       "      <td>...</td>\n",
       "      <td>...</td>\n",
       "    </tr>\n",
       "    <tr>\n",
       "      <th>49552</th>\n",
       "      <td>49553</td>\n",
       "      <td>NaN</td>\n",
       "      <td>100</td>\n",
       "      <td>21</td>\n",
       "    </tr>\n",
       "    <tr>\n",
       "      <th>49574</th>\n",
       "      <td>49575</td>\n",
       "      <td>NaN</td>\n",
       "      <td>100</td>\n",
       "      <td>21</td>\n",
       "    </tr>\n",
       "    <tr>\n",
       "      <th>49640</th>\n",
       "      <td>49641</td>\n",
       "      <td>NaN</td>\n",
       "      <td>100</td>\n",
       "      <td>21</td>\n",
       "    </tr>\n",
       "    <tr>\n",
       "      <th>49663</th>\n",
       "      <td>49664</td>\n",
       "      <td>NaN</td>\n",
       "      <td>100</td>\n",
       "      <td>21</td>\n",
       "    </tr>\n",
       "    <tr>\n",
       "      <th>49668</th>\n",
       "      <td>49669</td>\n",
       "      <td>NaN</td>\n",
       "      <td>100</td>\n",
       "      <td>21</td>\n",
       "    </tr>\n",
       "  </tbody>\n",
       "</table>\n",
       "<p>1258 rows × 4 columns</p>\n",
       "</div>"
      ],
      "text/plain": [
       "       product_id product_name  aisle_id  department_id\n",
       "37             38          NaN       100             21\n",
       "71             72          NaN       100             21\n",
       "109           110          NaN       100             21\n",
       "296           297          NaN       100             21\n",
       "416           417          NaN       100             21\n",
       "...           ...          ...       ...            ...\n",
       "49552       49553          NaN       100             21\n",
       "49574       49575          NaN       100             21\n",
       "49640       49641          NaN       100             21\n",
       "49663       49664          NaN       100             21\n",
       "49668       49669          NaN       100             21\n",
       "\n",
       "[1258 rows x 4 columns]"
      ]
     },
     "execution_count": 59,
     "metadata": {},
     "output_type": "execute_result"
    }
   ],
   "source": [
    "# ¿Todos los nombres de productos ausentes están relacionados con el departamento con ID 21?\n",
    "df_products[(df_products['product_name'].isna()) & (df_products['department_id']== 21)]"
   ]
  },
  {
   "cell_type": "markdown",
   "id": "qDpdYn1Fht_I",
   "metadata": {
    "id": "qDpdYn1Fht_I"
   },
   "source": [
    "Describe brevemente cuáles son tus hallazgos.Si estan relacionados los valores ausentes con el departamento 100 porque sale en el total 1258 que es el total de valores ausentes de todo el dataframe."
   ]
  },
  {
   "cell_type": "code",
   "execution_count": 61,
   "id": "325c3464",
   "metadata": {
    "id": "325c3464"
   },
   "outputs": [
    {
     "data": {
      "text/html": [
       "<div>\n",
       "<style scoped>\n",
       "    .dataframe tbody tr th:only-of-type {\n",
       "        vertical-align: middle;\n",
       "    }\n",
       "\n",
       "    .dataframe tbody tr th {\n",
       "        vertical-align: top;\n",
       "    }\n",
       "\n",
       "    .dataframe thead th {\n",
       "        text-align: right;\n",
       "    }\n",
       "</style>\n",
       "<table border=\"1\" class=\"dataframe\">\n",
       "  <thead>\n",
       "    <tr style=\"text-align: right;\">\n",
       "      <th></th>\n",
       "      <th>product_id</th>\n",
       "      <th>product_name</th>\n",
       "      <th>aisle_id</th>\n",
       "      <th>department_id</th>\n",
       "    </tr>\n",
       "  </thead>\n",
       "  <tbody>\n",
       "    <tr>\n",
       "      <th>37</th>\n",
       "      <td>38</td>\n",
       "      <td>NaN</td>\n",
       "      <td>100</td>\n",
       "      <td>21</td>\n",
       "    </tr>\n",
       "    <tr>\n",
       "      <th>71</th>\n",
       "      <td>72</td>\n",
       "      <td>NaN</td>\n",
       "      <td>100</td>\n",
       "      <td>21</td>\n",
       "    </tr>\n",
       "    <tr>\n",
       "      <th>109</th>\n",
       "      <td>110</td>\n",
       "      <td>NaN</td>\n",
       "      <td>100</td>\n",
       "      <td>21</td>\n",
       "    </tr>\n",
       "    <tr>\n",
       "      <th>296</th>\n",
       "      <td>297</td>\n",
       "      <td>NaN</td>\n",
       "      <td>100</td>\n",
       "      <td>21</td>\n",
       "    </tr>\n",
       "    <tr>\n",
       "      <th>416</th>\n",
       "      <td>417</td>\n",
       "      <td>NaN</td>\n",
       "      <td>100</td>\n",
       "      <td>21</td>\n",
       "    </tr>\n",
       "    <tr>\n",
       "      <th>...</th>\n",
       "      <td>...</td>\n",
       "      <td>...</td>\n",
       "      <td>...</td>\n",
       "      <td>...</td>\n",
       "    </tr>\n",
       "    <tr>\n",
       "      <th>49552</th>\n",
       "      <td>49553</td>\n",
       "      <td>NaN</td>\n",
       "      <td>100</td>\n",
       "      <td>21</td>\n",
       "    </tr>\n",
       "    <tr>\n",
       "      <th>49574</th>\n",
       "      <td>49575</td>\n",
       "      <td>NaN</td>\n",
       "      <td>100</td>\n",
       "      <td>21</td>\n",
       "    </tr>\n",
       "    <tr>\n",
       "      <th>49640</th>\n",
       "      <td>49641</td>\n",
       "      <td>NaN</td>\n",
       "      <td>100</td>\n",
       "      <td>21</td>\n",
       "    </tr>\n",
       "    <tr>\n",
       "      <th>49663</th>\n",
       "      <td>49664</td>\n",
       "      <td>NaN</td>\n",
       "      <td>100</td>\n",
       "      <td>21</td>\n",
       "    </tr>\n",
       "    <tr>\n",
       "      <th>49668</th>\n",
       "      <td>49669</td>\n",
       "      <td>NaN</td>\n",
       "      <td>100</td>\n",
       "      <td>21</td>\n",
       "    </tr>\n",
       "  </tbody>\n",
       "</table>\n",
       "<p>1258 rows × 4 columns</p>\n",
       "</div>"
      ],
      "text/plain": [
       "       product_id product_name  aisle_id  department_id\n",
       "37             38          NaN       100             21\n",
       "71             72          NaN       100             21\n",
       "109           110          NaN       100             21\n",
       "296           297          NaN       100             21\n",
       "416           417          NaN       100             21\n",
       "...           ...          ...       ...            ...\n",
       "49552       49553          NaN       100             21\n",
       "49574       49575          NaN       100             21\n",
       "49640       49641          NaN       100             21\n",
       "49663       49664          NaN       100             21\n",
       "49668       49669          NaN       100             21\n",
       "\n",
       "[1258 rows x 4 columns]"
      ]
     },
     "execution_count": 61,
     "metadata": {},
     "output_type": "execute_result"
    }
   ],
   "source": [
    "# Usa las tablas department y aisle para revisar los datos del pasillo con ID 100 y el departamento con ID 21.\n",
    "df_products[(df_products['aisle_id']==100) & (df_products['department_id']== 21)]"
   ]
  },
  {
   "cell_type": "markdown",
   "id": "nqhSTUPhhvEJ",
   "metadata": {
    "id": "nqhSTUPhhvEJ"
   },
   "source": [
    "Describe brevemente cuáles son tus hallazgos. Todos los datos del pasillo 100 y departamento 21 tienen valores ausentes."
   ]
  },
  {
   "cell_type": "code",
   "execution_count": 63,
   "id": "6b295120",
   "metadata": {
    "id": "6b295120"
   },
   "outputs": [],
   "source": [
    "# Completa los nombres de productos ausentes con 'Unknown'\n",
    "df_products['product_name'].fillna('unknown',inplace=True)"
   ]
  },
  {
   "cell_type": "code",
   "execution_count": 65,
   "id": "47425cf7",
   "metadata": {},
   "outputs": [
    {
     "data": {
      "text/html": [
       "<div>\n",
       "<style scoped>\n",
       "    .dataframe tbody tr th:only-of-type {\n",
       "        vertical-align: middle;\n",
       "    }\n",
       "\n",
       "    .dataframe tbody tr th {\n",
       "        vertical-align: top;\n",
       "    }\n",
       "\n",
       "    .dataframe thead th {\n",
       "        text-align: right;\n",
       "    }\n",
       "</style>\n",
       "<table border=\"1\" class=\"dataframe\">\n",
       "  <thead>\n",
       "    <tr style=\"text-align: right;\">\n",
       "      <th></th>\n",
       "      <th>product_id</th>\n",
       "      <th>product_name</th>\n",
       "      <th>aisle_id</th>\n",
       "      <th>department_id</th>\n",
       "    </tr>\n",
       "  </thead>\n",
       "  <tbody>\n",
       "    <tr>\n",
       "      <th>37</th>\n",
       "      <td>38</td>\n",
       "      <td>unknown</td>\n",
       "      <td>100</td>\n",
       "      <td>21</td>\n",
       "    </tr>\n",
       "    <tr>\n",
       "      <th>71</th>\n",
       "      <td>72</td>\n",
       "      <td>unknown</td>\n",
       "      <td>100</td>\n",
       "      <td>21</td>\n",
       "    </tr>\n",
       "    <tr>\n",
       "      <th>109</th>\n",
       "      <td>110</td>\n",
       "      <td>unknown</td>\n",
       "      <td>100</td>\n",
       "      <td>21</td>\n",
       "    </tr>\n",
       "    <tr>\n",
       "      <th>296</th>\n",
       "      <td>297</td>\n",
       "      <td>unknown</td>\n",
       "      <td>100</td>\n",
       "      <td>21</td>\n",
       "    </tr>\n",
       "    <tr>\n",
       "      <th>416</th>\n",
       "      <td>417</td>\n",
       "      <td>unknown</td>\n",
       "      <td>100</td>\n",
       "      <td>21</td>\n",
       "    </tr>\n",
       "    <tr>\n",
       "      <th>...</th>\n",
       "      <td>...</td>\n",
       "      <td>...</td>\n",
       "      <td>...</td>\n",
       "      <td>...</td>\n",
       "    </tr>\n",
       "    <tr>\n",
       "      <th>49552</th>\n",
       "      <td>49553</td>\n",
       "      <td>unknown</td>\n",
       "      <td>100</td>\n",
       "      <td>21</td>\n",
       "    </tr>\n",
       "    <tr>\n",
       "      <th>49574</th>\n",
       "      <td>49575</td>\n",
       "      <td>unknown</td>\n",
       "      <td>100</td>\n",
       "      <td>21</td>\n",
       "    </tr>\n",
       "    <tr>\n",
       "      <th>49640</th>\n",
       "      <td>49641</td>\n",
       "      <td>unknown</td>\n",
       "      <td>100</td>\n",
       "      <td>21</td>\n",
       "    </tr>\n",
       "    <tr>\n",
       "      <th>49663</th>\n",
       "      <td>49664</td>\n",
       "      <td>unknown</td>\n",
       "      <td>100</td>\n",
       "      <td>21</td>\n",
       "    </tr>\n",
       "    <tr>\n",
       "      <th>49668</th>\n",
       "      <td>49669</td>\n",
       "      <td>unknown</td>\n",
       "      <td>100</td>\n",
       "      <td>21</td>\n",
       "    </tr>\n",
       "  </tbody>\n",
       "</table>\n",
       "<p>1258 rows × 4 columns</p>\n",
       "</div>"
      ],
      "text/plain": [
       "       product_id product_name  aisle_id  department_id\n",
       "37             38      unknown       100             21\n",
       "71             72      unknown       100             21\n",
       "109           110      unknown       100             21\n",
       "296           297      unknown       100             21\n",
       "416           417      unknown       100             21\n",
       "...           ...          ...       ...            ...\n",
       "49552       49553      unknown       100             21\n",
       "49574       49575      unknown       100             21\n",
       "49640       49641      unknown       100             21\n",
       "49663       49664      unknown       100             21\n",
       "49668       49669      unknown       100             21\n",
       "\n",
       "[1258 rows x 4 columns]"
      ]
     },
     "execution_count": 65,
     "metadata": {},
     "output_type": "execute_result"
    }
   ],
   "source": [
    "df_products[(df_products['aisle_id']==100) & (df_products['department_id']== 21)]"
   ]
  },
  {
   "cell_type": "markdown",
   "id": "fc70e5ad",
   "metadata": {
    "id": "fc70e5ad"
   },
   "source": [
    "Describe brevemente tus hallazgos y lo que hiciste con ellos. Los valores NaN (ausentes) del pasillo 100 del departamento 21 se rellenaron con el 'unknown' como nombre de producto desconocido."
   ]
  },
  {
   "cell_type": "markdown",
   "id": "7eb45c86",
   "metadata": {
    "id": "7eb45c86"
   },
   "source": [
    "### `orders` data frame"
   ]
  },
  {
   "cell_type": "code",
   "execution_count": 68,
   "id": "93e41d96",
   "metadata": {
    "id": "93e41d96"
   },
   "outputs": [
    {
     "data": {
      "text/plain": [
       "order_id                      0\n",
       "user_id                       0\n",
       "order_number                  0\n",
       "order_dow                     0\n",
       "order_hour_of_day             0\n",
       "days_since_prior_order    28817\n",
       "dtype: int64"
      ]
     },
     "execution_count": 68,
     "metadata": {},
     "output_type": "execute_result"
    }
   ],
   "source": [
    "# Encuentra los valores ausentes\n",
    "df_instacart_orders.isna().sum()"
   ]
  },
  {
   "cell_type": "code",
   "execution_count": 69,
   "id": "9f203cd9-87a7-4df9-ab49-374d9a3a6830",
   "metadata": {},
   "outputs": [
    {
     "data": {
      "text/plain": [
       "28817"
      ]
     },
     "execution_count": 69,
     "metadata": {},
     "output_type": "execute_result"
    }
   ],
   "source": [
    "df_instacart_orders['days_since_prior_order'].isna().sum()"
   ]
  },
  {
   "cell_type": "code",
   "execution_count": 70,
   "id": "166e5a86",
   "metadata": {
    "id": "166e5a86"
   },
   "outputs": [
    {
     "data": {
      "text/html": [
       "<div>\n",
       "<style scoped>\n",
       "    .dataframe tbody tr th:only-of-type {\n",
       "        vertical-align: middle;\n",
       "    }\n",
       "\n",
       "    .dataframe tbody tr th {\n",
       "        vertical-align: top;\n",
       "    }\n",
       "\n",
       "    .dataframe thead th {\n",
       "        text-align: right;\n",
       "    }\n",
       "</style>\n",
       "<table border=\"1\" class=\"dataframe\">\n",
       "  <thead>\n",
       "    <tr style=\"text-align: right;\">\n",
       "      <th></th>\n",
       "      <th>order_id</th>\n",
       "      <th>user_id</th>\n",
       "      <th>order_number</th>\n",
       "      <th>order_dow</th>\n",
       "      <th>order_hour_of_day</th>\n",
       "      <th>days_since_prior_order</th>\n",
       "    </tr>\n",
       "  </thead>\n",
       "  <tbody>\n",
       "  </tbody>\n",
       "</table>\n",
       "</div>"
      ],
      "text/plain": [
       "Empty DataFrame\n",
       "Columns: [order_id, user_id, order_number, order_dow, order_hour_of_day, days_since_prior_order]\n",
       "Index: []"
      ]
     },
     "execution_count": 70,
     "metadata": {},
     "output_type": "execute_result"
    }
   ],
   "source": [
    "# ¿Hay algún valor ausente que no sea el primer pedido del cliente?\n",
    "df_instacart_orders[(df_instacart_orders['days_since_prior_order'].isna()) & (~df_instacart_orders['order_number'] == 1)]"
   ]
  },
  {
   "cell_type": "markdown",
   "id": "4e23d089",
   "metadata": {
    "id": "4e23d089"
   },
   "source": [
    "Describe brevemente tus hallazgos y lo que hiciste con ellos. No hay valores que sean ausentes que no tengan que ver con el primer pedido del cliente entonces como la columna son valores transcurridos luego de la primer orden y los valores asusentes son de las primeras ordenes porque logicmanete no hay transcurrido dias despues de la primera orden. Entonces se mantien los valores ausentes pq no habria ninguna inferencia en rellenarlos con 0 dias transcurridos y dejarlos como NaN. "
   ]
  },
  {
   "cell_type": "markdown",
   "id": "69dc9ca4",
   "metadata": {
    "id": "69dc9ca4"
   },
   "source": [
    "### `order_products` data frame"
   ]
  },
  {
   "cell_type": "code",
   "execution_count": 74,
   "id": "b8240253",
   "metadata": {
    "id": "b8240253"
   },
   "outputs": [
    {
     "data": {
      "text/plain": [
       "order_id               0\n",
       "product_id             0\n",
       "add_to_cart_order    836\n",
       "reordered              0\n",
       "dtype: int64"
      ]
     },
     "execution_count": 74,
     "metadata": {},
     "output_type": "execute_result"
    }
   ],
   "source": [
    "# Encuentra los valores ausentes\n",
    "df_order_products.isna().sum()"
   ]
  },
  {
   "cell_type": "code",
   "execution_count": 75,
   "id": "9a78e5ee",
   "metadata": {
    "id": "9a78e5ee"
   },
   "outputs": [
    {
     "data": {
      "text/plain": [
       "(1.0, 64.0)"
      ]
     },
     "execution_count": 75,
     "metadata": {},
     "output_type": "execute_result"
    }
   ],
   "source": [
    "# ¿Cuáles son los valores mínimos y máximos en esta columna?\n",
    "df_order_products['add_to_cart_order'].min(),df_order_products['add_to_cart_order'].max()"
   ]
  },
  {
   "cell_type": "markdown",
   "id": "-Z2Ja215jW78",
   "metadata": {
    "id": "-Z2Ja215jW78"
   },
   "source": [
    "Describe brevemente cuáles son tus hallazgos."
   ]
  },
  {
   "cell_type": "code",
   "execution_count": 77,
   "id": "ab9d0c2b",
   "metadata": {
    "id": "ab9d0c2b"
   },
   "outputs": [
    {
     "data": {
      "text/plain": [
       "array([2449164, 1968313, 2926893, 1717990, 1959075,  844733,   61355,\n",
       "        936852,  264710, 1564093,  129627,  293169, 2849370, 1386261,\n",
       "       3308010,  903110, 2136777, 3347453, 1888628,  165801, 2094761,\n",
       "       1038146, 2997021,  813364, 2256933,  171934, 2409109, 1730767,\n",
       "       1169835,  733526,  404157, 3125735,  747668, 1800005, 1961723,\n",
       "        871281,  388234, 1648217, 1477139,  102236, 1021563, 1832957,\n",
       "       2721963,  678116, 1220886, 1673227, 2999801, 1633337, 2470674,\n",
       "       2625444, 1677118, 2479011, 3383594, 1183255, 1713430, 2652650,\n",
       "       1598369, 1916118,  854647, 1302315,  888470,  180546, 2621907,\n",
       "       1308785, 2729254,    9310, 2170451, 2979697, 1625713, 1529171],\n",
       "      dtype=int64)"
      ]
     },
     "execution_count": 77,
     "metadata": {},
     "output_type": "execute_result"
    }
   ],
   "source": [
    "# Guarda todas las IDs de pedidos que tengan un valor ausente en 'add_to_cart_order'\n",
    "ids_isna= df_order_products[df_order_products['add_to_cart_order'].isna()]['order_id'].unique()\n",
    "ids_isna"
   ]
  },
  {
   "cell_type": "code",
   "execution_count": 78,
   "id": "54c31695",
   "metadata": {
    "id": "54c31695"
   },
   "outputs": [
    {
     "data": {
      "text/plain": [
       "order_id\n",
       "9310        65\n",
       "747668      65\n",
       "1598369     65\n",
       "1677118     65\n",
       "2170451     65\n",
       "          ... \n",
       "1959075     98\n",
       "171934     104\n",
       "2136777    108\n",
       "3308010    115\n",
       "61355      127\n",
       "Name: product_id, Length: 70, dtype: int64"
      ]
     },
     "execution_count": 78,
     "metadata": {},
     "output_type": "execute_result"
    }
   ],
   "source": [
    "# ¿Todos los pedidos con valores ausentes tienen más de 64 productos?\n",
    "# Agrupa todos los pedidos con datos ausentes por su ID de pedido.\n",
    "# Cuenta el número de 'product_id' en cada pedido y revisa el valor mínimo del conteo.\n",
    "df_order_products[df_order_products['order_id'].isin(ids_isna)].groupby('order_id')['product_id'].count().sort_values()\n"
   ]
  },
  {
   "cell_type": "markdown",
   "id": "p9V6pddtjglj",
   "metadata": {
    "id": "p9V6pddtjglj"
   },
   "source": [
    "Describe brevemente cuáles son tus hallazgos."
   ]
  },
  {
   "cell_type": "code",
   "execution_count": 80,
   "id": "a92e6a07-7988-422d-ada0-09f1a838fdd8",
   "metadata": {},
   "outputs": [],
   "source": [
    "# Remplaza los valores ausentes en la columna 'add_to_cart? con 999 y convierte la columna al tipo entero.\n",
    "df_order_products['add_to_cart_order']=df_order_products['add_to_cart_order'].fillna(999).astype('int')"
   ]
  },
  {
   "cell_type": "code",
   "execution_count": 81,
   "id": "fafa610b",
   "metadata": {},
   "outputs": [
    {
     "data": {
      "text/plain": [
       "0"
      ]
     },
     "execution_count": 81,
     "metadata": {},
     "output_type": "execute_result"
    }
   ],
   "source": [
    "df_order_products['add_to_cart_order'].isna().sum()"
   ]
  },
  {
   "cell_type": "code",
   "execution_count": 82,
   "id": "01ff30b8",
   "metadata": {},
   "outputs": [
    {
     "name": "stdout",
     "output_type": "stream",
     "text": [
      "<class 'pandas.core.frame.DataFrame'>\n",
      "RangeIndex: 4545007 entries, 0 to 4545006\n",
      "Data columns (total 4 columns):\n",
      " #   Column             Non-Null Count    Dtype\n",
      "---  ------             --------------    -----\n",
      " 0   order_id           4545007 non-null  int64\n",
      " 1   product_id         4545007 non-null  int64\n",
      " 2   add_to_cart_order  4545007 non-null  int32\n",
      " 3   reordered          4545007 non-null  int64\n",
      "dtypes: int32(1), int64(3)\n",
      "memory usage: 121.4 MB\n"
     ]
    }
   ],
   "source": [
    "df_order_products.info(show_counts=True)"
   ]
  },
  {
   "cell_type": "markdown",
   "id": "fea4bcc7",
   "metadata": {
    "id": "fea4bcc7"
   },
   "source": [
    "Describe brevemente tus hallazgos y lo que hiciste con ellos. Los valores ausentes en la columna add_to_cart_order que superan los 64 articulos se completo con el valor 999 y el tipo de dato se convitio a entero."
   ]
  },
  {
   "cell_type": "markdown",
   "id": "RnplPFY1gSrb",
   "metadata": {
    "id": "RnplPFY1gSrb"
   },
   "source": [
    "## Conclusiones\n",
    "\n",
    "Escribe aquí tus conclusiones intermedias sobre el Paso 2. Preprocesamiento de los datos\n",
    "En la fase del procesamiento de datos se elimino lo duplicados de los dataframes asi como se relleno los datos ausentes de los dataframes con unkdown y 999. Para de esa forma tener limpio los datos para proceder al analisis de datos. "
   ]
  },
  {
   "cell_type": "markdown",
   "id": "UjrOIwTcz3ri",
   "metadata": {
    "id": "UjrOIwTcz3ri"
   },
   "source": [
    "# Paso 3. Análisis de los datos\n",
    "\n",
    "Una vez los datos estén procesados y listos, haz el siguiente análisis:"
   ]
  },
  {
   "cell_type": "markdown",
   "id": "turkish-kidney",
   "metadata": {
    "id": "turkish-kidney"
   },
   "source": [
    "# [A] Fácil (deben completarse todos para aprobar)\n",
    "\n",
    "1. Verifica que los valores en las columnas `'order_hour_of_day'` y `'order_dow'` en la tabla orders sean razonables (es decir, `'order_hour_of_day'` oscile entre 0 y 23 y `'order_dow'` oscile entre 0 y 6).\n",
    "2. Crea un gráfico que muestre el número de personas que hacen pedidos dependiendo de la hora del día.\n",
    "3. Crea un gráfico que muestre qué día de la semana la gente hace sus compras.\n",
    "4. Crea un gráfico que muestre el tiempo que la gente espera hasta hacer su siguiente pedido, y comenta sobre los valores mínimos y máximos."
   ]
  },
  {
   "cell_type": "markdown",
   "id": "short-capability",
   "metadata": {
    "id": "short-capability"
   },
   "source": [
    "### [A1] Verifica que los valores sean sensibles"
   ]
  },
  {
   "cell_type": "code",
   "execution_count": 90,
   "id": "growing-fruit",
   "metadata": {
    "id": "growing-fruit"
   },
   "outputs": [
    {
     "data": {
      "text/plain": [
       "(0, 23)"
      ]
     },
     "execution_count": 90,
     "metadata": {},
     "output_type": "execute_result"
    }
   ],
   "source": [
    "df_instacart_orders['order_hour_of_day'].min(),df_instacart_orders['order_hour_of_day'].max()"
   ]
  },
  {
   "cell_type": "code",
   "execution_count": 91,
   "id": "accessory-malaysia",
   "metadata": {
    "id": "accessory-malaysia"
   },
   "outputs": [
    {
     "data": {
      "text/plain": [
       "(0, 6)"
      ]
     },
     "execution_count": 91,
     "metadata": {},
     "output_type": "execute_result"
    }
   ],
   "source": [
    "df_instacart_orders['order_dow'].min(),df_instacart_orders['order_dow'].max()"
   ]
  },
  {
   "cell_type": "markdown",
   "id": "hmR2GNQ6lCsX",
   "metadata": {
    "id": "hmR2GNQ6lCsX"
   },
   "source": [
    "Escribe aquí tus conclusiones Estan correctos las horas del dia ya que oscilan de 0 a 23 horas y de 0 a 6 completando los 7 dias de las semana."
   ]
  },
  {
   "cell_type": "markdown",
   "id": "a6743a70",
   "metadata": {
    "id": "a6743a70"
   },
   "source": [
    "### [A2] Para cada hora del día, ¿cuántas personas hacen órdenes?"
   ]
  },
  {
   "cell_type": "code",
   "execution_count": 95,
   "id": "a36cca27",
   "metadata": {
    "id": "a36cca27"
   },
   "outputs": [
    {
     "data": {
      "text/plain": [
       "order_hour_of_day\n",
       "0      3180\n",
       "1      1763\n",
       "2       989\n",
       "3       770\n",
       "4       765\n",
       "5      1371\n",
       "6      4215\n",
       "7     13043\n",
       "8     25024\n",
       "9     35896\n",
       "10    40578\n",
       "11    40032\n",
       "12    38034\n",
       "13    39007\n",
       "14    39631\n",
       "15    39789\n",
       "16    38112\n",
       "17    31930\n",
       "18    25510\n",
       "19    19547\n",
       "20    14624\n",
       "21    11019\n",
       "22     8512\n",
       "23     5611\n",
       "Name: count, dtype: int64"
      ]
     },
     "execution_count": 95,
     "metadata": {},
     "output_type": "execute_result"
    }
   ],
   "source": [
    "ordenes_por_hora_del_dia= df_instacart_orders['order_hour_of_day'].value_counts().sort_index()\n",
    "ordenes_por_hora_del_dia"
   ]
  },
  {
   "cell_type": "code",
   "execution_count": 96,
   "id": "46cb232b-83c0-4188-a5f1-532f90675c9e",
   "metadata": {},
   "outputs": [
    {
     "data": {
      "text/plain": [
       "<Axes: title={'center': 'Ordenes por hora del dia'}, xlabel='Hora del dia', ylabel='Cantidad de Ordenes'>"
      ]
     },
     "execution_count": 96,
     "metadata": {},
     "output_type": "execute_result"
    },
    {
     "data": {
      "image/png": "[encoded data removed]",
      "text/plain": [
       "<Figure size 640x480 with 1 Axes>"
      ]
     },
     "metadata": {},
     "output_type": "display_data"
    }
   ],
   "source": [
    "ordenes_por_hora_del_dia.plot(kind='bar',title='Ordenes por hora del dia',xlabel='Hora del dia',ylabel='Cantidad de Ordenes')"
   ]
  },
  {
   "cell_type": "markdown",
   "id": "11270eed",
   "metadata": {
    "id": "11270eed"
   },
   "source": [
    "Conclusion: De 10 am a 16pm hay mas volumen de ordenes. De 17 pm hasta las 23 horas empiezan a decaer las compras posiblemente porque son horas cercanas a la noche y es posible que ya no haya muchos compradorees asi como en las madrugadas sino a apartir de las 7 am se activan las comrpas que comienza la hora de actividad."
   ]
  },
  {
   "cell_type": "markdown",
   "id": "documented-command",
   "metadata": {
    "id": "documented-command"
   },
   "source": [
    "### [A3] ¿Qué día de la semana compran víveres las personas?"
   ]
  },
  {
   "cell_type": "code",
   "execution_count": 99,
   "id": "chief-digit",
   "metadata": {
    "id": "chief-digit"
   },
   "outputs": [
    {
     "data": {
      "text/plain": [
       "order_dow\n",
       "0    84090\n",
       "1    82185\n",
       "2    65833\n",
       "3    60897\n",
       "4    59810\n",
       "5    63488\n",
       "6    62649\n",
       "Name: count, dtype: int64"
      ]
     },
     "execution_count": 99,
     "metadata": {},
     "output_type": "execute_result"
    }
   ],
   "source": [
    "ordenes_por_dia_de_la_semana= df_instacart_orders['order_dow'].value_counts().sort_index()\n",
    "ordenes_por_dia_de_la_semana"
   ]
  },
  {
   "cell_type": "code",
   "execution_count": 100,
   "id": "afd82493-8178-4333-86a9-e0db0c3920f3",
   "metadata": {
    "id": "dominant-lightning"
   },
   "outputs": [
    {
     "data": {
      "text/plain": [
       "<Axes: title={'center': 'Ordenes por dia de la semana'}, xlabel='Dia de la semana', ylabel='Cantidad de Ordenes'>"
      ]
     },
     "execution_count": 100,
     "metadata": {},
     "output_type": "execute_result"
    },
    {
     "data": {
      "image/png": "[encoded data removed]",
      "text/plain": [
       "<Figure size 640x480 with 1 Axes>"
      ]
     },
     "metadata": {},
     "output_type": "display_data"
    }
   ],
   "source": [
    "ordenes_por_dia_de_la_semana.plot(kind='bar',title='Ordenes por dia de la semana',xlabel='Dia de la semana',ylabel='Cantidad de Ordenes')"
   ]
  },
  {
   "cell_type": "markdown",
   "id": "f6780e53-348f-4af8-8d37-a40da35395a3",
   "metadata": {},
   "source": [
    "Conclsuion: El dia domingo y sabado son los dias de mas ordenes puede ser porque los fines de semana los usarios tienen mas tiempo de hacer compras y eso va disminuyendo de lunes a viernes, los miercoles y jueves son los dias de menos ordenes de toda la semana. "
   ]
  },
  {
   "cell_type": "markdown",
   "id": "cutting-concert",
   "metadata": {
    "id": "cutting-concert"
   },
   "source": [
    "### [A4] ¿Cuánto tiempo esperan las personas hasta hacer otro pedido? Comenta sobre los valores mínimos y máximos."
   ]
  },
  {
   "cell_type": "code",
   "execution_count": 103,
   "id": "c231f523",
   "metadata": {
    "id": "c231f523"
   },
   "outputs": [
    {
     "data": {
      "text/plain": [
       "days_since_prior_order\n",
       "0.0      9589\n",
       "1.0     20179\n",
       "2.0     27138\n",
       "3.0     30224\n",
       "4.0     31006\n",
       "5.0     30096\n",
       "6.0     33930\n",
       "7.0     44577\n",
       "8.0     25361\n",
       "9.0     16753\n",
       "10.0    13309\n",
       "11.0    11467\n",
       "12.0    10658\n",
       "13.0    11737\n",
       "14.0    13992\n",
       "15.0     9416\n",
       "16.0     6587\n",
       "17.0     5498\n",
       "18.0     4971\n",
       "19.0     4939\n",
       "20.0     5302\n",
       "21.0     6448\n",
       "22.0     4514\n",
       "23.0     3337\n",
       "24.0     3015\n",
       "25.0     2711\n",
       "26.0     2640\n",
       "27.0     2986\n",
       "28.0     3745\n",
       "29.0     2673\n",
       "30.0    51337\n",
       "Name: count, dtype: int64"
      ]
     },
     "execution_count": 103,
     "metadata": {},
     "output_type": "execute_result"
    }
   ],
   "source": [
    "tiempo_de_espera_para_ordenar_de_nuevo= df_instacart_orders['days_since_prior_order'].value_counts().sort_index()\n",
    "tiempo_de_espera_para_ordenar_de_nuevo"
   ]
  },
  {
   "cell_type": "code",
   "execution_count": 104,
   "id": "e558410c-7548-4dbb-9084-6ee09c6fd6d1",
   "metadata": {
    "id": "discrete-vertex"
   },
   "outputs": [
    {
     "data": {
      "text/plain": [
       "<Axes: title={'center': 'Tiempo de espera de los clientes para ordenar de nuevo'}, xlabel='Tiempo de espera', ylabel='Cantidad de Ordenes'>"
      ]
     },
     "execution_count": 104,
     "metadata": {},
     "output_type": "execute_result"
    },
    {
     "data": {
      "image/png": "[encoded data removed]",
      "text/plain": [
       "<Figure size 640x480 with 1 Axes>"
      ]
     },
     "metadata": {},
     "output_type": "display_data"
    }
   ],
   "source": [
    "tiempo_de_espera_para_ordenar_de_nuevo.plot(kind='bar',title='Tiempo de espera de los clientes para ordenar de nuevo',xlabel='Tiempo de espera',ylabel='Cantidad de Ordenes')"
   ]
  },
  {
   "cell_type": "markdown",
   "id": "205aa556-fc22-4ec8-b4fa-bc6d538804ea",
   "metadata": {},
   "source": [
    "Conclusiones: En la grafica se evidencia los valores maximos en el dia siete y treinta del mes por lo que se puede concluir que la tendencia de las personas es a comprar semanalmente o mensulamente que es posible porque al fin de mes la mayoria de personas tienen sus ingresos. "
   ]
  },
  {
   "cell_type": "markdown",
   "id": "tight-staff",
   "metadata": {
    "id": "tight-staff"
   },
   "source": [
    "# [B] Intermedio (deben completarse todos para aprobar)\n",
    "\n",
    "1. ¿Existe alguna diferencia entre las distribuciones `'order_hour_of_day'` de los miércoles y los sábados? Traza gráficos de barra de `'order_hour_of_day'` para ambos días en la misma figura y describe las diferencias que observes.\n",
    "2. Grafica la distribución para el número de órdenes que hacen los clientes (es decir, cuántos clientes hicieron solo 1 pedido, cuántos hicieron 2, cuántos 3, y así sucesivamente...).\n",
    "3. ¿Cuáles son los 20 principales productos que se piden con más frecuencia (muestra su identificación y nombre)?"
   ]
  },
  {
   "cell_type": "markdown",
   "id": "packed-classic",
   "metadata": {
    "id": "packed-classic"
   },
   "source": [
    "### [B1] Diferencia entre miércoles y sábados para  `'order_hour_of_day'`. Traza gráficos de barra para los dos días y describe las diferencias que veas."
   ]
  },
  {
   "cell_type": "code",
   "execution_count": 110,
   "id": "b1360e92-f604-4f29-b9b1-c7f9ae5f1483",
   "metadata": {},
   "outputs": [],
   "source": [
    "wednesday=df_instacart_orders[df_instacart_orders['order_dow']== 3]\n",
    "saturday=df_instacart_orders[df_instacart_orders['order_dow']== 6]"
   ]
  },
  {
   "cell_type": "code",
   "execution_count": 111,
   "id": "49f4bf7a-1cf4-4d7c-8543-788c52b003f4",
   "metadata": {},
   "outputs": [
    {
     "data": {
      "text/plain": [
       "order_hour_of_day\n",
       "0      373\n",
       "1      215\n",
       "2      106\n",
       "3      101\n",
       "4      108\n",
       "5      170\n",
       "6      643\n",
       "7     1732\n",
       "8     3125\n",
       "9     4490\n",
       "10    5026\n",
       "11    5004\n",
       "12    4688\n",
       "13    4674\n",
       "14    4774\n",
       "15    5163\n",
       "16    4976\n",
       "17    4175\n",
       "18    3463\n",
       "19    2652\n",
       "20    1917\n",
       "21    1450\n",
       "22    1154\n",
       "23     718\n",
       "Name: order_id, dtype: int64"
      ]
     },
     "execution_count": 111,
     "metadata": {},
     "output_type": "execute_result"
    }
   ],
   "source": [
    "wednesday= wednesday.groupby('order_hour_of_day')['order_id'].count()\n",
    "wednesday"
   ]
  },
  {
   "cell_type": "code",
   "execution_count": 112,
   "id": "94e54e8a",
   "metadata": {
    "id": "94e54e8a"
   },
   "outputs": [
    {
     "data": {
      "text/plain": [
       "order_hour_of_day\n",
       "0      464\n",
       "1      254\n",
       "2      177\n",
       "3      125\n",
       "4      118\n",
       "5      161\n",
       "6      451\n",
       "7     1619\n",
       "8     3246\n",
       "9     4311\n",
       "10    4919\n",
       "11    5116\n",
       "12    5132\n",
       "13    5323\n",
       "14    5375\n",
       "15    5188\n",
       "16    5029\n",
       "17    4295\n",
       "18    3338\n",
       "19    2610\n",
       "20    1847\n",
       "21    1473\n",
       "22    1185\n",
       "23     893\n",
       "Name: order_id, dtype: int64"
      ]
     },
     "execution_count": 112,
     "metadata": {},
     "output_type": "execute_result"
    }
   ],
   "source": [
    "saturday= saturday.groupby('order_hour_of_day')['order_id'].count()\n",
    "saturday"
   ]
  },
  {
   "cell_type": "code",
   "execution_count": 113,
   "id": "797c90a8",
   "metadata": {
    "id": "797c90a8"
   },
   "outputs": [
    {
     "data": {
      "text/html": [
       "<div>\n",
       "<style scoped>\n",
       "    .dataframe tbody tr th:only-of-type {\n",
       "        vertical-align: middle;\n",
       "    }\n",
       "\n",
       "    .dataframe tbody tr th {\n",
       "        vertical-align: top;\n",
       "    }\n",
       "\n",
       "    .dataframe thead th {\n",
       "        text-align: right;\n",
       "    }\n",
       "</style>\n",
       "<table border=\"1\" class=\"dataframe\">\n",
       "  <thead>\n",
       "    <tr style=\"text-align: right;\">\n",
       "      <th></th>\n",
       "      <th>hora_del_dia</th>\n",
       "      <th>wednesday</th>\n",
       "      <th>saturday</th>\n",
       "    </tr>\n",
       "  </thead>\n",
       "  <tbody>\n",
       "    <tr>\n",
       "      <th>0</th>\n",
       "      <td>0</td>\n",
       "      <td>373</td>\n",
       "      <td>464</td>\n",
       "    </tr>\n",
       "    <tr>\n",
       "      <th>1</th>\n",
       "      <td>1</td>\n",
       "      <td>215</td>\n",
       "      <td>254</td>\n",
       "    </tr>\n",
       "    <tr>\n",
       "      <th>2</th>\n",
       "      <td>2</td>\n",
       "      <td>106</td>\n",
       "      <td>177</td>\n",
       "    </tr>\n",
       "    <tr>\n",
       "      <th>3</th>\n",
       "      <td>3</td>\n",
       "      <td>101</td>\n",
       "      <td>125</td>\n",
       "    </tr>\n",
       "    <tr>\n",
       "      <th>4</th>\n",
       "      <td>4</td>\n",
       "      <td>108</td>\n",
       "      <td>118</td>\n",
       "    </tr>\n",
       "    <tr>\n",
       "      <th>5</th>\n",
       "      <td>5</td>\n",
       "      <td>170</td>\n",
       "      <td>161</td>\n",
       "    </tr>\n",
       "    <tr>\n",
       "      <th>6</th>\n",
       "      <td>6</td>\n",
       "      <td>643</td>\n",
       "      <td>451</td>\n",
       "    </tr>\n",
       "    <tr>\n",
       "      <th>7</th>\n",
       "      <td>7</td>\n",
       "      <td>1732</td>\n",
       "      <td>1619</td>\n",
       "    </tr>\n",
       "    <tr>\n",
       "      <th>8</th>\n",
       "      <td>8</td>\n",
       "      <td>3125</td>\n",
       "      <td>3246</td>\n",
       "    </tr>\n",
       "    <tr>\n",
       "      <th>9</th>\n",
       "      <td>9</td>\n",
       "      <td>4490</td>\n",
       "      <td>4311</td>\n",
       "    </tr>\n",
       "    <tr>\n",
       "      <th>10</th>\n",
       "      <td>10</td>\n",
       "      <td>5026</td>\n",
       "      <td>4919</td>\n",
       "    </tr>\n",
       "    <tr>\n",
       "      <th>11</th>\n",
       "      <td>11</td>\n",
       "      <td>5004</td>\n",
       "      <td>5116</td>\n",
       "    </tr>\n",
       "    <tr>\n",
       "      <th>12</th>\n",
       "      <td>12</td>\n",
       "      <td>4688</td>\n",
       "      <td>5132</td>\n",
       "    </tr>\n",
       "    <tr>\n",
       "      <th>13</th>\n",
       "      <td>13</td>\n",
       "      <td>4674</td>\n",
       "      <td>5323</td>\n",
       "    </tr>\n",
       "    <tr>\n",
       "      <th>14</th>\n",
       "      <td>14</td>\n",
       "      <td>4774</td>\n",
       "      <td>5375</td>\n",
       "    </tr>\n",
       "    <tr>\n",
       "      <th>15</th>\n",
       "      <td>15</td>\n",
       "      <td>5163</td>\n",
       "      <td>5188</td>\n",
       "    </tr>\n",
       "    <tr>\n",
       "      <th>16</th>\n",
       "      <td>16</td>\n",
       "      <td>4976</td>\n",
       "      <td>5029</td>\n",
       "    </tr>\n",
       "    <tr>\n",
       "      <th>17</th>\n",
       "      <td>17</td>\n",
       "      <td>4175</td>\n",
       "      <td>4295</td>\n",
       "    </tr>\n",
       "    <tr>\n",
       "      <th>18</th>\n",
       "      <td>18</td>\n",
       "      <td>3463</td>\n",
       "      <td>3338</td>\n",
       "    </tr>\n",
       "    <tr>\n",
       "      <th>19</th>\n",
       "      <td>19</td>\n",
       "      <td>2652</td>\n",
       "      <td>2610</td>\n",
       "    </tr>\n",
       "    <tr>\n",
       "      <th>20</th>\n",
       "      <td>20</td>\n",
       "      <td>1917</td>\n",
       "      <td>1847</td>\n",
       "    </tr>\n",
       "    <tr>\n",
       "      <th>21</th>\n",
       "      <td>21</td>\n",
       "      <td>1450</td>\n",
       "      <td>1473</td>\n",
       "    </tr>\n",
       "    <tr>\n",
       "      <th>22</th>\n",
       "      <td>22</td>\n",
       "      <td>1154</td>\n",
       "      <td>1185</td>\n",
       "    </tr>\n",
       "    <tr>\n",
       "      <th>23</th>\n",
       "      <td>23</td>\n",
       "      <td>718</td>\n",
       "      <td>893</td>\n",
       "    </tr>\n",
       "  </tbody>\n",
       "</table>\n",
       "</div>"
      ],
      "text/plain": [
       "    hora_del_dia  wednesday  saturday\n",
       "0              0        373       464\n",
       "1              1        215       254\n",
       "2              2        106       177\n",
       "3              3        101       125\n",
       "4              4        108       118\n",
       "5              5        170       161\n",
       "6              6        643       451\n",
       "7              7       1732      1619\n",
       "8              8       3125      3246\n",
       "9              9       4490      4311\n",
       "10            10       5026      4919\n",
       "11            11       5004      5116\n",
       "12            12       4688      5132\n",
       "13            13       4674      5323\n",
       "14            14       4774      5375\n",
       "15            15       5163      5188\n",
       "16            16       4976      5029\n",
       "17            17       4175      4295\n",
       "18            18       3463      3338\n",
       "19            19       2652      2610\n",
       "20            20       1917      1847\n",
       "21            21       1450      1473\n",
       "22            22       1154      1185\n",
       "23            23        718       893"
      ]
     },
     "execution_count": 113,
     "metadata": {},
     "output_type": "execute_result"
    }
   ],
   "source": [
    "concat_days=pd.concat([wednesday,saturday], axis=1).reset_index()\n",
    "concat_days.columns=['hora_del_dia','wednesday','saturday']\n",
    "concat_days"
   ]
  },
  {
   "cell_type": "code",
   "execution_count": 114,
   "id": "35bcea30",
   "metadata": {
    "id": "35bcea30"
   },
   "outputs": [
    {
     "data": {
      "image/png": "[encoded data removed]",
      "text/plain": [
       "<Figure size 640x480 with 1 Axes>"
      ]
     },
     "metadata": {},
     "output_type": "display_data"
    }
   ],
   "source": [
    "concat_days.plot(title='Diferencias en la hora de la orden entre miercoles y sabado', kind='bar',x='hora_del_dia',y= ['wednesday','saturday'],xlabel='Hora del dia',ylabel='Cantidad de clientes')\n",
    "plt.legend(['wednesday','saturday'])\n",
    "plt.show()"
   ]
  },
  {
   "cell_type": "markdown",
   "id": "charitable-congo",
   "metadata": {
    "id": "charitable-congo"
   },
   "source": [
    "Escribe aquí tus conclusiones: El dia sabado de 11 a 17 tiene mas movimiento que el miercoles, pero el dia miercoles temprano de 6 a 7 hay mas movimiento seguramnte porque es un dia laboral y los fines de semana la tendencia es que se haga compras mas tarde. Y de 18 a 20 horas tiene mas movimiento porque es un dia entre semana que por lo general hay mas movimiento a diferencia de un dia sabado que es fin de semana. "
   ]
  },
  {
   "cell_type": "markdown",
   "id": "e3891143",
   "metadata": {
    "id": "e3891143"
   },
   "source": [
    "### [B2] ¿Cuál es la distribución para el número de pedidos por cliente?"
   ]
  },
  {
   "cell_type": "code",
   "execution_count": 118,
   "id": "d8c26c23",
   "metadata": {
    "id": "d8c26c23"
   },
   "outputs": [
    {
     "data": {
      "text/plain": [
       "order_number\n",
       "1      28817\n",
       "4      28703\n",
       "3      28685\n",
       "2      28633\n",
       "5      25661\n",
       "       ...  \n",
       "97       221\n",
       "96       220\n",
       "100      194\n",
       "98       191\n",
       "99       169\n",
       "Name: user_id, Length: 100, dtype: int64"
      ]
     },
     "execution_count": 118,
     "metadata": {},
     "output_type": "execute_result"
    }
   ],
   "source": [
    "numero_pedido_por_cliente=df_instacart_orders.groupby('order_number')['user_id'].count().sort_values(ascending=False)\n",
    "numero_pedido_por_cliente"
   ]
  },
  {
   "cell_type": "code",
   "execution_count": 119,
   "id": "00e69a66",
   "metadata": {
    "id": "00e69a66"
   },
   "outputs": [
    {
     "data": {
      "image/png": "[encoded data removed]",
      "text/plain": [
       "<Figure size 640x480 with 1 Axes>"
      ]
     },
     "metadata": {},
     "output_type": "display_data"
    }
   ],
   "source": [
    "numero_pedido_por_cliente.plot(kind='hist',title='Distribucion de pedido por cliente',xlabel='Numero de pedidos',ylabel='Clientes')\n",
    "plt.show()"
   ]
  },
  {
   "cell_type": "markdown",
   "id": "d2eff7d5",
   "metadata": {
    "id": "d2eff7d5"
   },
   "source": [
    "Escribe aquí tus conclusiones Se puede evidenciar que la mayoria de veces que son pocos los clientes frecuentes."
   ]
  },
  {
   "cell_type": "markdown",
   "id": "54a0319c",
   "metadata": {
    "id": "54a0319c"
   },
   "source": [
    "### [B3] ¿Cuáles son los 20 productos más populares (muestra su ID y nombre)?"
   ]
  },
  {
   "cell_type": "code",
   "execution_count": 122,
   "id": "exterior-arizona",
   "metadata": {
    "id": "exterior-arizona",
    "scrolled": true
   },
   "outputs": [
    {
     "data": {
      "text/html": [
       "<div>\n",
       "<style scoped>\n",
       "    .dataframe tbody tr th:only-of-type {\n",
       "        vertical-align: middle;\n",
       "    }\n",
       "\n",
       "    .dataframe tbody tr th {\n",
       "        vertical-align: top;\n",
       "    }\n",
       "\n",
       "    .dataframe thead th {\n",
       "        text-align: right;\n",
       "    }\n",
       "</style>\n",
       "<table border=\"1\" class=\"dataframe\">\n",
       "  <thead>\n",
       "    <tr style=\"text-align: right;\">\n",
       "      <th></th>\n",
       "      <th>order_id</th>\n",
       "      <th>product_id</th>\n",
       "      <th>add_to_cart_order</th>\n",
       "      <th>reordered</th>\n",
       "      <th>product_name</th>\n",
       "      <th>aisle_id</th>\n",
       "      <th>department_id</th>\n",
       "    </tr>\n",
       "  </thead>\n",
       "  <tbody>\n",
       "    <tr>\n",
       "      <th>0</th>\n",
       "      <td>2141543</td>\n",
       "      <td>11440</td>\n",
       "      <td>17</td>\n",
       "      <td>0</td>\n",
       "      <td>Chicken Breast Tenders Breaded</td>\n",
       "      <td>129</td>\n",
       "      <td>1</td>\n",
       "    </tr>\n",
       "    <tr>\n",
       "      <th>1</th>\n",
       "      <td>567889</td>\n",
       "      <td>1560</td>\n",
       "      <td>1</td>\n",
       "      <td>1</td>\n",
       "      <td>Bag Of Ice</td>\n",
       "      <td>37</td>\n",
       "      <td>1</td>\n",
       "    </tr>\n",
       "    <tr>\n",
       "      <th>2</th>\n",
       "      <td>2261212</td>\n",
       "      <td>26683</td>\n",
       "      <td>1</td>\n",
       "      <td>1</td>\n",
       "      <td>Cafe Latte Pure Lightly Sweetened Iced Coffee ...</td>\n",
       "      <td>91</td>\n",
       "      <td>16</td>\n",
       "    </tr>\n",
       "    <tr>\n",
       "      <th>3</th>\n",
       "      <td>491251</td>\n",
       "      <td>8670</td>\n",
       "      <td>35</td>\n",
       "      <td>1</td>\n",
       "      <td>Diced Tomatoes</td>\n",
       "      <td>81</td>\n",
       "      <td>15</td>\n",
       "    </tr>\n",
       "    <tr>\n",
       "      <th>4</th>\n",
       "      <td>2571142</td>\n",
       "      <td>1940</td>\n",
       "      <td>5</td>\n",
       "      <td>1</td>\n",
       "      <td>Organic 2% Reduced Fat Milk</td>\n",
       "      <td>84</td>\n",
       "      <td>16</td>\n",
       "    </tr>\n",
       "    <tr>\n",
       "      <th>...</th>\n",
       "      <td>...</td>\n",
       "      <td>...</td>\n",
       "      <td>...</td>\n",
       "      <td>...</td>\n",
       "      <td>...</td>\n",
       "      <td>...</td>\n",
       "      <td>...</td>\n",
       "    </tr>\n",
       "    <tr>\n",
       "      <th>4545002</th>\n",
       "      <td>577211</td>\n",
       "      <td>15290</td>\n",
       "      <td>12</td>\n",
       "      <td>1</td>\n",
       "      <td>Orange Bell Pepper</td>\n",
       "      <td>83</td>\n",
       "      <td>4</td>\n",
       "    </tr>\n",
       "    <tr>\n",
       "      <th>4545003</th>\n",
       "      <td>1219554</td>\n",
       "      <td>21914</td>\n",
       "      <td>9</td>\n",
       "      <td>0</td>\n",
       "      <td>Peanut Butter &amp; Jelly Fruit &amp; Nut Food Bar</td>\n",
       "      <td>3</td>\n",
       "      <td>19</td>\n",
       "    </tr>\n",
       "    <tr>\n",
       "      <th>4545004</th>\n",
       "      <td>692640</td>\n",
       "      <td>47766</td>\n",
       "      <td>4</td>\n",
       "      <td>1</td>\n",
       "      <td>Organic Avocado</td>\n",
       "      <td>24</td>\n",
       "      <td>4</td>\n",
       "    </tr>\n",
       "    <tr>\n",
       "      <th>4545005</th>\n",
       "      <td>319435</td>\n",
       "      <td>691</td>\n",
       "      <td>8</td>\n",
       "      <td>1</td>\n",
       "      <td>Organic Promise Strawberry Fields Cereal</td>\n",
       "      <td>121</td>\n",
       "      <td>14</td>\n",
       "    </tr>\n",
       "    <tr>\n",
       "      <th>4545006</th>\n",
       "      <td>1398151</td>\n",
       "      <td>28733</td>\n",
       "      <td>9</td>\n",
       "      <td>0</td>\n",
       "      <td>Chicken Nuggets</td>\n",
       "      <td>129</td>\n",
       "      <td>1</td>\n",
       "    </tr>\n",
       "  </tbody>\n",
       "</table>\n",
       "<p>4545007 rows × 7 columns</p>\n",
       "</div>"
      ],
      "text/plain": [
       "         order_id  product_id  add_to_cart_order  reordered  \\\n",
       "0         2141543       11440                 17          0   \n",
       "1          567889        1560                  1          1   \n",
       "2         2261212       26683                  1          1   \n",
       "3          491251        8670                 35          1   \n",
       "4         2571142        1940                  5          1   \n",
       "...           ...         ...                ...        ...   \n",
       "4545002    577211       15290                 12          1   \n",
       "4545003   1219554       21914                  9          0   \n",
       "4545004    692640       47766                  4          1   \n",
       "4545005    319435         691                  8          1   \n",
       "4545006   1398151       28733                  9          0   \n",
       "\n",
       "                                              product_name  aisle_id  \\\n",
       "0                           Chicken Breast Tenders Breaded       129   \n",
       "1                                               Bag Of Ice        37   \n",
       "2        Cafe Latte Pure Lightly Sweetened Iced Coffee ...        91   \n",
       "3                                           Diced Tomatoes        81   \n",
       "4                              Organic 2% Reduced Fat Milk        84   \n",
       "...                                                    ...       ...   \n",
       "4545002                                 Orange Bell Pepper        83   \n",
       "4545003         Peanut Butter & Jelly Fruit & Nut Food Bar         3   \n",
       "4545004                                    Organic Avocado        24   \n",
       "4545005           Organic Promise Strawberry Fields Cereal       121   \n",
       "4545006                                    Chicken Nuggets       129   \n",
       "\n",
       "         department_id  \n",
       "0                    1  \n",
       "1                    1  \n",
       "2                   16  \n",
       "3                   15  \n",
       "4                   16  \n",
       "...                ...  \n",
       "4545002              4  \n",
       "4545003             19  \n",
       "4545004              4  \n",
       "4545005             14  \n",
       "4545006              1  \n",
       "\n",
       "[4545007 rows x 7 columns]"
      ]
     },
     "execution_count": 122,
     "metadata": {},
     "output_type": "execute_result"
    }
   ],
   "source": [
    "df_order_products=df_order_products.merge(df_products,on='product_id')\n",
    "df_order_products                                       "
   ]
  },
  {
   "cell_type": "code",
   "execution_count": 123,
   "id": "universal-facial",
   "metadata": {
    "id": "universal-facial"
   },
   "outputs": [
    {
     "data": {
      "text/plain": [
       "product_id  product_name                                          \n",
       "24852       Banana                                                    66050\n",
       "13176       Bag of Organic Bananas                                    53297\n",
       "21137       Organic Strawberries                                      37039\n",
       "21903       Organic Baby Spinach                                      33971\n",
       "47209       Organic Hass Avocado                                      29773\n",
       "                                                                      ...  \n",
       "5836        Arctic D Cod Liver Oil Lemon                                  1\n",
       "43573       Whisk- 10 Inch                                                1\n",
       "43570       Queso Cotija                                                  1\n",
       "36174       Whole Pinto Beans                                             1\n",
       "41403       Extra Rich & Thick Spaghetti Sauce Spices & Seasonings        1\n",
       "Name: order_id, Length: 45573, dtype: int64"
      ]
     },
     "execution_count": 123,
     "metadata": {},
     "output_type": "execute_result"
    }
   ],
   "source": [
    "mejores_productos=df_order_products.groupby(['product_id','product_name'])['order_id'].count().sort_values(ascending=False)\n",
    "mejores_productos"
   ]
  },
  {
   "cell_type": "code",
   "execution_count": 124,
   "id": "bbcdd20b",
   "metadata": {
    "id": "bbcdd20b"
   },
   "outputs": [
    {
     "data": {
      "text/plain": [
       "product_id  product_name            \n",
       "24852       Banana                      66050\n",
       "13176       Bag of Organic Bananas      53297\n",
       "21137       Organic Strawberries        37039\n",
       "21903       Organic Baby Spinach        33971\n",
       "47209       Organic Hass Avocado        29773\n",
       "47766       Organic Avocado             24689\n",
       "47626       Large Lemon                 21495\n",
       "16797       Strawberries                20018\n",
       "26209       Limes                       19690\n",
       "27845       Organic Whole Milk          19600\n",
       "27966       Organic Raspberries         19197\n",
       "22935       Organic Yellow Onion        15898\n",
       "24964       Organic Garlic              15292\n",
       "45007       Organic Zucchini            14584\n",
       "39275       Organic Blueberries         13879\n",
       "49683       Cucumber Kirby              13675\n",
       "28204       Organic Fuji Apple          12544\n",
       "5876        Organic Lemon               12232\n",
       "8277        Apple Honeycrisp Organic    11993\n",
       "40706       Organic Grape Tomatoes      11781\n",
       "Name: order_id, dtype: int64"
      ]
     },
     "execution_count": 124,
     "metadata": {},
     "output_type": "execute_result"
    }
   ],
   "source": [
    "veinte_mejores_productos=mejores_productos.head(20)\n",
    "veinte_mejores_productos"
   ]
  },
  {
   "cell_type": "code",
   "execution_count": 125,
   "id": "8f659010-6b28-4d62-a733-83a6d0cba824",
   "metadata": {},
   "outputs": [
    {
     "data": {
      "image/png": "[encoded data removed]",
      "text/plain": [
       "<Figure size 640x480 with 1 Axes>"
      ]
     },
     "metadata": {},
     "output_type": "display_data"
    }
   ],
   "source": [
    "veinte_mejores_productos.plot(kind='bar',title='20 mejores productos',xlabel='productos',ylabel='numero de ordenes')\n",
    "plt.show()"
   ]
  },
  {
   "cell_type": "markdown",
   "id": "7df00f47",
   "metadata": {
    "id": "7df00f47"
   },
   "source": [
    "Escribe aquí tus conclusiones: Los 20 mejpres productos son organicos, se podria deducir que la tendencia del consumidor es comprar vegetales de origen organico. "
   ]
  },
  {
   "cell_type": "markdown",
   "id": "gross-theme",
   "metadata": {
    "id": "gross-theme"
   },
   "source": [
    "# [C] Difícil (deben completarse todos para aprobar)\n",
    "\n",
    "1. ¿Cuántos artículos suelen comprar las personas en un pedido? ¿Cómo es la distribución?\n",
    "2. ¿Cuáles son los 20 principales artículos que vuelven a pedirse con mayor frecuencia (muestra sus nombres e IDs de los productos)?\n",
    "3. Para cada producto, ¿cuál es la tasa de repetición del pedido (número de repeticiones de pedido/total de pedidos?\n",
    "4. Para cada cliente, ¿qué proporción de los productos que pidió ya los había pedido? Calcula la tasa de repetición de pedido para cada usuario en lugar de para cada producto.\n",
    "5. ¿Cuáles son los 20 principales artículos que la gente pone primero en sus carritos (muestra las IDs de los productos, sus nombres, y el número de veces en que fueron el primer artículo en añadirse al carrito)?"
   ]
  },
  {
   "cell_type": "markdown",
   "id": "romantic-deposit",
   "metadata": {
    "id": "romantic-deposit"
   },
   "source": [
    "### [C1] ¿Cuántos artículos compran normalmente las personas en un pedido? ¿Cómo es la distribución?"
   ]
  },
  {
   "cell_type": "code",
   "execution_count": 130,
   "id": "virtual-punch",
   "metadata": {
    "id": "virtual-punch"
   },
   "outputs": [],
   "source": [
    "articulos_por_pedido=df_order_products.groupby('order_id')['product_id'].count().sort_index(ascending=False)"
   ]
  },
  {
   "cell_type": "code",
   "execution_count": 131,
   "id": "sensitive-breathing",
   "metadata": {
    "id": "sensitive-breathing"
   },
   "outputs": [
    {
     "data": {
      "text/plain": [
       "order_id\n",
       "3421079     1\n",
       "3421077     4\n",
       "3421071     5\n",
       "3421053     9\n",
       "3421034    17\n",
       "           ..\n",
       "20          8\n",
       "19          3\n",
       "11          5\n",
       "9          15\n",
       "4          13\n",
       "Name: product_id, Length: 450046, dtype: int64"
      ]
     },
     "execution_count": 131,
     "metadata": {},
     "output_type": "execute_result"
    }
   ],
   "source": [
    "articulos_por_pedido"
   ]
  },
  {
   "cell_type": "code",
   "execution_count": 132,
   "id": "completed-frank",
   "metadata": {
    "id": "completed-frank"
   },
   "outputs": [
    {
     "data": {
      "text/plain": [
       "<Axes: title={'center': 'Articulos por pedido'}, xlabel='Articulos', ylabel='Ordenes'>"
      ]
     },
     "execution_count": 132,
     "metadata": {},
     "output_type": "execute_result"
    },
    {
     "data": {
      "image/png": "[encoded data removed]",
      "text/plain": [
       "<Figure size 640x480 with 1 Axes>"
      ]
     },
     "metadata": {},
     "output_type": "display_data"
    }
   ],
   "source": [
    "articulos_por_pedido.plot(kind='hist',bins=30,title='Articulos por pedido',xlabel='Articulos',ylabel='Ordenes')"
   ]
  },
  {
   "cell_type": "markdown",
   "id": "designed-mortality",
   "metadata": {
    "id": "designed-mortality"
   },
   "source": [
    "Escribe aquí tus conclusiones Los pedidos no pasan de los 60 articulos y la tendencia es a comprar de 1 a 10 articulos por pedido. "
   ]
  },
  {
   "cell_type": "markdown",
   "id": "5e6b5537",
   "metadata": {
    "id": "5e6b5537"
   },
   "source": [
    "### [C2] ¿Cuáles son los 20 principales artículos que vuelven a pedirse con mayor frecuencia (muestra sus nombres e IDs de los productos)?"
   ]
  },
  {
   "cell_type": "code",
   "execution_count": 137,
   "id": "9374e55a",
   "metadata": {
    "id": "9374e55a"
   },
   "outputs": [],
   "source": [
    "mejores_articulos_reordenados=df_order_products[df_order_products['reordered'] == 1].groupby(['product_id','product_name'])['order_id'].count().sort_values(ascending=False)"
   ]
  },
  {
   "cell_type": "code",
   "execution_count": 138,
   "id": "possible-change",
   "metadata": {
    "id": "possible-change",
    "scrolled": true
   },
   "outputs": [
    {
     "data": {
      "text/plain": [
       "product_id  product_name                                 \n",
       "24852       Banana                                           55763\n",
       "13176       Bag of Organic Bananas                           44450\n",
       "21137       Organic Strawberries                             28639\n",
       "21903       Organic Baby Spinach                             26233\n",
       "47209       Organic Hass Avocado                             23629\n",
       "                                                             ...  \n",
       "7092        Melatonin NutraSpray Sublingual Orange Flavor        1\n",
       "21003       White Chocolate Macadamia Coffee Creamer             1\n",
       "32856       Crab Rangoon                                         1\n",
       "42727       Chocolate Lovers Chips Deluxe Cookies                1\n",
       "24091       Garlic Mill Spices                                   1\n",
       "Name: order_id, Length: 36228, dtype: int64"
      ]
     },
     "execution_count": 138,
     "metadata": {},
     "output_type": "execute_result"
    }
   ],
   "source": [
    "mejores_articulos_reordenados"
   ]
  },
  {
   "cell_type": "code",
   "execution_count": 139,
   "id": "professional-surfing",
   "metadata": {
    "id": "professional-surfing",
    "scrolled": true
   },
   "outputs": [
    {
     "data": {
      "text/plain": [
       "product_id  product_name            \n",
       "24852       Banana                      55763\n",
       "13176       Bag of Organic Bananas      44450\n",
       "21137       Organic Strawberries        28639\n",
       "21903       Organic Baby Spinach        26233\n",
       "47209       Organic Hass Avocado        23629\n",
       "47766       Organic Avocado             18743\n",
       "27845       Organic Whole Milk          16251\n",
       "47626       Large Lemon                 15044\n",
       "27966       Organic Raspberries         14748\n",
       "16797       Strawberries                13945\n",
       "26209       Limes                       13327\n",
       "22935       Organic Yellow Onion        11145\n",
       "24964       Organic Garlic              10411\n",
       "45007       Organic Zucchini            10076\n",
       "49683       Cucumber Kirby               9538\n",
       "28204       Organic Fuji Apple           8989\n",
       "8277        Apple Honeycrisp Organic     8836\n",
       "39275       Organic Blueberries          8799\n",
       "5876        Organic Lemon                8412\n",
       "49235       Organic Half & Half          8389\n",
       "Name: order_id, dtype: int64"
      ]
     },
     "execution_count": 139,
     "metadata": {},
     "output_type": "execute_result"
    }
   ],
   "source": [
    "veinte_mejores_articulos_reordenados= mejores_articulos_reordenados.head(20)\n",
    "veinte_mejores_articulos_reordenados"
   ]
  },
  {
   "cell_type": "code",
   "execution_count": 140,
   "id": "48dd3658",
   "metadata": {
    "id": "48dd3658"
   },
   "outputs": [
    {
     "data": {
      "image/png": "[encoded data removed]",
      "text/plain": [
       "<Figure size 640x480 with 1 Axes>"
      ]
     },
     "metadata": {},
     "output_type": "display_data"
    }
   ],
   "source": [
    "veinte_mejores_articulos_reordenados.plot(kind='bar',title='20 Articulos que se compran con mejor frecuencia',xlabel='productos',ylabel='Numero de Ordenes')\n",
    "plt.show()"
   ]
  },
  {
   "cell_type": "markdown",
   "id": "80e70c74",
   "metadata": {
    "id": "80e70c74"
   },
   "source": [
    "Escribe aquí tus conclusiones:Los 20 productos mas reordenados en su mayoria son los mejores productos vendidos. "
   ]
  },
  {
   "cell_type": "markdown",
   "id": "9d312b14",
   "metadata": {
    "id": "9d312b14"
   },
   "source": [
    "### [C3] Para cada producto, ¿cuál es la proporción de las veces que se pide y que se vuelve a pedir?"
   ]
  },
  {
   "cell_type": "code",
   "execution_count": 144,
   "id": "8ae9f4b1",
   "metadata": {
    "id": "8ae9f4b1"
   },
   "outputs": [],
   "source": [
    "tasa_de_repeticion= df_order_products.groupby('product_id').agg({'reordered':'sum','order_id':'count'}).reset_index()"
   ]
  },
  {
   "cell_type": "code",
   "execution_count": 170,
   "id": "63d30e06-019b-4536-baee-b243dcf25b7a",
   "metadata": {},
   "outputs": [
    {
     "data": {
      "text/html": [
       "<div>\n",
       "<style scoped>\n",
       "    .dataframe tbody tr th:only-of-type {\n",
       "        vertical-align: middle;\n",
       "    }\n",
       "\n",
       "    .dataframe tbody tr th {\n",
       "        vertical-align: top;\n",
       "    }\n",
       "\n",
       "    .dataframe thead th {\n",
       "        text-align: right;\n",
       "    }\n",
       "</style>\n",
       "<table border=\"1\" class=\"dataframe\">\n",
       "  <thead>\n",
       "    <tr style=\"text-align: right;\">\n",
       "      <th></th>\n",
       "      <th>product_id</th>\n",
       "      <th>reordered</th>\n",
       "      <th>order_id</th>\n",
       "      <th>tasa_repeticion</th>\n",
       "    </tr>\n",
       "  </thead>\n",
       "  <tbody>\n",
       "    <tr>\n",
       "      <th>0</th>\n",
       "      <td>1</td>\n",
       "      <td>158</td>\n",
       "      <td>280</td>\n",
       "      <td>0.564286</td>\n",
       "    </tr>\n",
       "    <tr>\n",
       "      <th>1</th>\n",
       "      <td>2</td>\n",
       "      <td>0</td>\n",
       "      <td>11</td>\n",
       "      <td>0.000000</td>\n",
       "    </tr>\n",
       "    <tr>\n",
       "      <th>2</th>\n",
       "      <td>3</td>\n",
       "      <td>31</td>\n",
       "      <td>42</td>\n",
       "      <td>0.738095</td>\n",
       "    </tr>\n",
       "    <tr>\n",
       "      <th>3</th>\n",
       "      <td>4</td>\n",
       "      <td>25</td>\n",
       "      <td>49</td>\n",
       "      <td>0.510204</td>\n",
       "    </tr>\n",
       "    <tr>\n",
       "      <th>4</th>\n",
       "      <td>7</td>\n",
       "      <td>1</td>\n",
       "      <td>2</td>\n",
       "      <td>0.500000</td>\n",
       "    </tr>\n",
       "    <tr>\n",
       "      <th>...</th>\n",
       "      <td>...</td>\n",
       "      <td>...</td>\n",
       "      <td>...</td>\n",
       "      <td>...</td>\n",
       "    </tr>\n",
       "    <tr>\n",
       "      <th>45568</th>\n",
       "      <td>49690</td>\n",
       "      <td>4</td>\n",
       "      <td>5</td>\n",
       "      <td>0.800000</td>\n",
       "    </tr>\n",
       "    <tr>\n",
       "      <th>45569</th>\n",
       "      <td>49691</td>\n",
       "      <td>31</td>\n",
       "      <td>72</td>\n",
       "      <td>0.430556</td>\n",
       "    </tr>\n",
       "    <tr>\n",
       "      <th>45570</th>\n",
       "      <td>49692</td>\n",
       "      <td>5</td>\n",
       "      <td>12</td>\n",
       "      <td>0.416667</td>\n",
       "    </tr>\n",
       "    <tr>\n",
       "      <th>45571</th>\n",
       "      <td>49693</td>\n",
       "      <td>11</td>\n",
       "      <td>25</td>\n",
       "      <td>0.440000</td>\n",
       "    </tr>\n",
       "    <tr>\n",
       "      <th>45572</th>\n",
       "      <td>49694</td>\n",
       "      <td>3</td>\n",
       "      <td>9</td>\n",
       "      <td>0.333333</td>\n",
       "    </tr>\n",
       "  </tbody>\n",
       "</table>\n",
       "<p>45573 rows × 4 columns</p>\n",
       "</div>"
      ],
      "text/plain": [
       "       product_id  reordered  order_id  tasa_repeticion\n",
       "0               1        158       280         0.564286\n",
       "1               2          0        11         0.000000\n",
       "2               3         31        42         0.738095\n",
       "3               4         25        49         0.510204\n",
       "4               7          1         2         0.500000\n",
       "...           ...        ...       ...              ...\n",
       "45568       49690          4         5         0.800000\n",
       "45569       49691         31        72         0.430556\n",
       "45570       49692          5        12         0.416667\n",
       "45571       49693         11        25         0.440000\n",
       "45572       49694          3         9         0.333333\n",
       "\n",
       "[45573 rows x 4 columns]"
      ]
     },
     "execution_count": 170,
     "metadata": {},
     "output_type": "execute_result"
    }
   ],
   "source": [
    "tasa_de_repeticion"
   ]
  },
  {
   "cell_type": "code",
   "execution_count": 145,
   "id": "103e7fe1",
   "metadata": {
    "id": "103e7fe1"
   },
   "outputs": [],
   "source": [
    "tasa_de_repeticion['tasa_repeticion']=tasa_de_repeticion['reordered']/tasa_de_repeticion['order_id']"
   ]
  },
  {
   "cell_type": "code",
   "execution_count": 146,
   "id": "social-individual",
   "metadata": {
    "id": "social-individual"
   },
   "outputs": [
    {
     "data": {
      "image/png": "[encoded data removed]",
      "text/plain": [
       "<Figure size 640x480 with 1 Axes>"
      ]
     },
     "metadata": {},
     "output_type": "display_data"
    }
   ],
   "source": [
    "tasa_de_repeticion['tasa_repeticion'].plot(kind='hist',title='Proporcion de veces que se pide y se vuelve a pedidir',xlabel='Proporcion de Reorden', ylabel='Frecuencia')\n",
    "plt.show()"
   ]
  },
  {
   "cell_type": "markdown",
   "id": "I10dEIAyldcO",
   "metadata": {
    "id": "I10dEIAyldcO"
   },
   "source": [
    "Escribe aquí tus conclusiones en la grafica se puede visualizar que hay mas productos que no se suelen reordenar , pero hay una cantidad considerable de productos que se vuelven a ordenar. Hay productos hasta 8000 que estan en un porcentaje de 0,6 de reordenarse."
   ]
  },
  {
   "cell_type": "markdown",
   "id": "subject-boxing",
   "metadata": {
    "id": "subject-boxing"
   },
   "source": [
    "### [C4] Para cada cliente, ¿qué proporción de sus productos ya los había pedido?"
   ]
  },
  {
   "cell_type": "code",
   "execution_count": 150,
   "id": "medical-couple",
   "metadata": {
    "id": "medical-couple",
    "scrolled": true
   },
   "outputs": [
    {
     "data": {
      "text/html": [
       "<div>\n",
       "<style scoped>\n",
       "    .dataframe tbody tr th:only-of-type {\n",
       "        vertical-align: middle;\n",
       "    }\n",
       "\n",
       "    .dataframe tbody tr th {\n",
       "        vertical-align: top;\n",
       "    }\n",
       "\n",
       "    .dataframe thead th {\n",
       "        text-align: right;\n",
       "    }\n",
       "</style>\n",
       "<table border=\"1\" class=\"dataframe\">\n",
       "  <thead>\n",
       "    <tr style=\"text-align: right;\">\n",
       "      <th></th>\n",
       "      <th>order_id</th>\n",
       "      <th>product_id</th>\n",
       "      <th>add_to_cart_order</th>\n",
       "      <th>reordered</th>\n",
       "      <th>product_name</th>\n",
       "      <th>aisle_id</th>\n",
       "      <th>department_id</th>\n",
       "      <th>user_id</th>\n",
       "      <th>order_number</th>\n",
       "      <th>order_dow</th>\n",
       "      <th>order_hour_of_day</th>\n",
       "      <th>days_since_prior_order</th>\n",
       "    </tr>\n",
       "  </thead>\n",
       "  <tbody>\n",
       "    <tr>\n",
       "      <th>0</th>\n",
       "      <td>2141543</td>\n",
       "      <td>11440</td>\n",
       "      <td>17</td>\n",
       "      <td>0</td>\n",
       "      <td>Chicken Breast Tenders Breaded</td>\n",
       "      <td>129</td>\n",
       "      <td>1</td>\n",
       "      <td>58454</td>\n",
       "      <td>25</td>\n",
       "      <td>0</td>\n",
       "      <td>15</td>\n",
       "      <td>8.0</td>\n",
       "    </tr>\n",
       "    <tr>\n",
       "      <th>1</th>\n",
       "      <td>567889</td>\n",
       "      <td>1560</td>\n",
       "      <td>1</td>\n",
       "      <td>1</td>\n",
       "      <td>Bag Of Ice</td>\n",
       "      <td>37</td>\n",
       "      <td>1</td>\n",
       "      <td>129474</td>\n",
       "      <td>16</td>\n",
       "      <td>1</td>\n",
       "      <td>13</td>\n",
       "      <td>14.0</td>\n",
       "    </tr>\n",
       "    <tr>\n",
       "      <th>2</th>\n",
       "      <td>2261212</td>\n",
       "      <td>26683</td>\n",
       "      <td>1</td>\n",
       "      <td>1</td>\n",
       "      <td>Cafe Latte Pure Lightly Sweetened Iced Coffee ...</td>\n",
       "      <td>91</td>\n",
       "      <td>16</td>\n",
       "      <td>47476</td>\n",
       "      <td>5</td>\n",
       "      <td>6</td>\n",
       "      <td>9</td>\n",
       "      <td>13.0</td>\n",
       "    </tr>\n",
       "    <tr>\n",
       "      <th>3</th>\n",
       "      <td>491251</td>\n",
       "      <td>8670</td>\n",
       "      <td>35</td>\n",
       "      <td>1</td>\n",
       "      <td>Diced Tomatoes</td>\n",
       "      <td>81</td>\n",
       "      <td>15</td>\n",
       "      <td>134505</td>\n",
       "      <td>27</td>\n",
       "      <td>6</td>\n",
       "      <td>13</td>\n",
       "      <td>9.0</td>\n",
       "    </tr>\n",
       "    <tr>\n",
       "      <th>4</th>\n",
       "      <td>2571142</td>\n",
       "      <td>1940</td>\n",
       "      <td>5</td>\n",
       "      <td>1</td>\n",
       "      <td>Organic 2% Reduced Fat Milk</td>\n",
       "      <td>84</td>\n",
       "      <td>16</td>\n",
       "      <td>155995</td>\n",
       "      <td>22</td>\n",
       "      <td>5</td>\n",
       "      <td>13</td>\n",
       "      <td>5.0</td>\n",
       "    </tr>\n",
       "    <tr>\n",
       "      <th>...</th>\n",
       "      <td>...</td>\n",
       "      <td>...</td>\n",
       "      <td>...</td>\n",
       "      <td>...</td>\n",
       "      <td>...</td>\n",
       "      <td>...</td>\n",
       "      <td>...</td>\n",
       "      <td>...</td>\n",
       "      <td>...</td>\n",
       "      <td>...</td>\n",
       "      <td>...</td>\n",
       "      <td>...</td>\n",
       "    </tr>\n",
       "    <tr>\n",
       "      <th>4545002</th>\n",
       "      <td>577211</td>\n",
       "      <td>15290</td>\n",
       "      <td>12</td>\n",
       "      <td>1</td>\n",
       "      <td>Orange Bell Pepper</td>\n",
       "      <td>83</td>\n",
       "      <td>4</td>\n",
       "      <td>76414</td>\n",
       "      <td>30</td>\n",
       "      <td>2</td>\n",
       "      <td>15</td>\n",
       "      <td>13.0</td>\n",
       "    </tr>\n",
       "    <tr>\n",
       "      <th>4545003</th>\n",
       "      <td>1219554</td>\n",
       "      <td>21914</td>\n",
       "      <td>9</td>\n",
       "      <td>0</td>\n",
       "      <td>Peanut Butter &amp; Jelly Fruit &amp; Nut Food Bar</td>\n",
       "      <td>3</td>\n",
       "      <td>19</td>\n",
       "      <td>163902</td>\n",
       "      <td>19</td>\n",
       "      <td>1</td>\n",
       "      <td>1</td>\n",
       "      <td>3.0</td>\n",
       "    </tr>\n",
       "    <tr>\n",
       "      <th>4545004</th>\n",
       "      <td>692640</td>\n",
       "      <td>47766</td>\n",
       "      <td>4</td>\n",
       "      <td>1</td>\n",
       "      <td>Organic Avocado</td>\n",
       "      <td>24</td>\n",
       "      <td>4</td>\n",
       "      <td>597</td>\n",
       "      <td>3</td>\n",
       "      <td>0</td>\n",
       "      <td>20</td>\n",
       "      <td>30.0</td>\n",
       "    </tr>\n",
       "    <tr>\n",
       "      <th>4545005</th>\n",
       "      <td>319435</td>\n",
       "      <td>691</td>\n",
       "      <td>8</td>\n",
       "      <td>1</td>\n",
       "      <td>Organic Promise Strawberry Fields Cereal</td>\n",
       "      <td>121</td>\n",
       "      <td>14</td>\n",
       "      <td>7124</td>\n",
       "      <td>6</td>\n",
       "      <td>5</td>\n",
       "      <td>14</td>\n",
       "      <td>24.0</td>\n",
       "    </tr>\n",
       "    <tr>\n",
       "      <th>4545006</th>\n",
       "      <td>1398151</td>\n",
       "      <td>28733</td>\n",
       "      <td>9</td>\n",
       "      <td>0</td>\n",
       "      <td>Chicken Nuggets</td>\n",
       "      <td>129</td>\n",
       "      <td>1</td>\n",
       "      <td>85144</td>\n",
       "      <td>17</td>\n",
       "      <td>2</td>\n",
       "      <td>16</td>\n",
       "      <td>4.0</td>\n",
       "    </tr>\n",
       "  </tbody>\n",
       "</table>\n",
       "<p>4545007 rows × 12 columns</p>\n",
       "</div>"
      ],
      "text/plain": [
       "         order_id  product_id  add_to_cart_order  reordered  \\\n",
       "0         2141543       11440                 17          0   \n",
       "1          567889        1560                  1          1   \n",
       "2         2261212       26683                  1          1   \n",
       "3          491251        8670                 35          1   \n",
       "4         2571142        1940                  5          1   \n",
       "...           ...         ...                ...        ...   \n",
       "4545002    577211       15290                 12          1   \n",
       "4545003   1219554       21914                  9          0   \n",
       "4545004    692640       47766                  4          1   \n",
       "4545005    319435         691                  8          1   \n",
       "4545006   1398151       28733                  9          0   \n",
       "\n",
       "                                              product_name  aisle_id  \\\n",
       "0                           Chicken Breast Tenders Breaded       129   \n",
       "1                                               Bag Of Ice        37   \n",
       "2        Cafe Latte Pure Lightly Sweetened Iced Coffee ...        91   \n",
       "3                                           Diced Tomatoes        81   \n",
       "4                              Organic 2% Reduced Fat Milk        84   \n",
       "...                                                    ...       ...   \n",
       "4545002                                 Orange Bell Pepper        83   \n",
       "4545003         Peanut Butter & Jelly Fruit & Nut Food Bar         3   \n",
       "4545004                                    Organic Avocado        24   \n",
       "4545005           Organic Promise Strawberry Fields Cereal       121   \n",
       "4545006                                    Chicken Nuggets       129   \n",
       "\n",
       "         department_id  user_id  order_number  order_dow  order_hour_of_day  \\\n",
       "0                    1    58454            25          0                 15   \n",
       "1                    1   129474            16          1                 13   \n",
       "2                   16    47476             5          6                  9   \n",
       "3                   15   134505            27          6                 13   \n",
       "4                   16   155995            22          5                 13   \n",
       "...                ...      ...           ...        ...                ...   \n",
       "4545002              4    76414            30          2                 15   \n",
       "4545003             19   163902            19          1                  1   \n",
       "4545004              4      597             3          0                 20   \n",
       "4545005             14     7124             6          5                 14   \n",
       "4545006              1    85144            17          2                 16   \n",
       "\n",
       "         days_since_prior_order  \n",
       "0                           8.0  \n",
       "1                          14.0  \n",
       "2                          13.0  \n",
       "3                           9.0  \n",
       "4                           5.0  \n",
       "...                         ...  \n",
       "4545002                    13.0  \n",
       "4545003                     3.0  \n",
       "4545004                    30.0  \n",
       "4545005                    24.0  \n",
       "4545006                     4.0  \n",
       "\n",
       "[4545007 rows x 12 columns]"
      ]
     },
     "execution_count": 150,
     "metadata": {},
     "output_type": "execute_result"
    }
   ],
   "source": [
    "df_order_products=df_order_products.merge(df_instacart_orders,on='order_id')\n",
    "df_order_products"
   ]
  },
  {
   "cell_type": "code",
   "execution_count": 151,
   "id": "8892e4b4",
   "metadata": {
    "id": "8892e4b4"
   },
   "outputs": [
    {
     "data": {
      "text/plain": [
       "product_id  reordered\n",
       "24852       1            55763\n",
       "13176       1            44450\n",
       "21137       1            28639\n",
       "21903       1            26233\n",
       "47209       1            23629\n",
       "                         ...  \n",
       "7092        1                1\n",
       "21003       1                1\n",
       "32856       1                1\n",
       "42727       1                1\n",
       "24091       1                1\n",
       "Name: user_id, Length: 36228, dtype: int64"
      ]
     },
     "execution_count": 151,
     "metadata": {},
     "output_type": "execute_result"
    }
   ],
   "source": [
    "tasa_de_repeticion_por_cliente= df_order_products[df_order_products['reordered'] == 1].groupby(['product_id','reordered'])['user_id'].count().sort_values(ascending=False)\n",
    "tasa_de_repeticion_por_cliente"
   ]
  },
  {
   "cell_type": "code",
   "execution_count": 152,
   "id": "c076abd6-2430-4981-867d-c16d95fff27e",
   "metadata": {},
   "outputs": [
    {
     "data": {
      "image/png": "[encoded data removed]",
      "text/plain": [
       "<Figure size 640x480 with 1 Axes>"
      ]
     },
     "metadata": {},
     "output_type": "display_data"
    }
   ],
   "source": [
    "tasa_de_repeticion_por_cliente.plot(kind='hist',title='Proporcion de productos que vuelve a comprar cada cliente',xlabel='Cantidad de articulos reordenados ', ylabel='Cantidad de clientes')\n",
    "plt.show()"
   ]
  },
  {
   "cell_type": "markdown",
   "id": "BgJSvXDsleXz",
   "metadata": {
    "id": "BgJSvXDsleXz"
   },
   "source": [
    "Escribe aquí tus conclusiones La mayoria de clientes vuelven a reordenar articulos. "
   ]
  },
  {
   "cell_type": "markdown",
   "id": "92d35137",
   "metadata": {
    "id": "92d35137"
   },
   "source": [
    "### [C5] ¿Cuáles son los 20 principales artículos que las personas ponen primero en sus carritos?"
   ]
  },
  {
   "cell_type": "code",
   "execution_count": 155,
   "id": "forty-netherlands",
   "metadata": {
    "id": "forty-netherlands",
    "scrolled": true
   },
   "outputs": [
    {
     "data": {
      "text/plain": [
       "product_name\n",
       "Banana                                                         15562\n",
       "Bag of Organic Bananas                                         11026\n",
       "Organic Whole Milk                                              4363\n",
       "Organic Strawberries                                            3946\n",
       "Organic Hass Avocado                                            3390\n",
       "                                                               ...  \n",
       "Organic Quinoa Rice Pasta & White Cheddar Macaroni & Cheese        1\n",
       "Organic Quinoa Squares Pineapple & Spinach                         1\n",
       "Organic Radish Sprouts                                             1\n",
       "Organic Rainbow Chard Blend                                        1\n",
       "Chewy Chocolate Caramel                                            1\n",
       "Name: user_id, Length: 26502, dtype: int64"
      ]
     },
     "execution_count": 155,
     "metadata": {},
     "output_type": "execute_result"
    }
   ],
   "source": [
    "primer_articulo_en_el_carrito= df_order_products[df_order_products['add_to_cart_order'] == 1].groupby(['product_name'])['user_id'].count().sort_values(ascending=False)\n",
    "primer_articulo_en_el_carrito"
   ]
  },
  {
   "cell_type": "code",
   "execution_count": 156,
   "id": "08e41ec2",
   "metadata": {
    "id": "08e41ec2"
   },
   "outputs": [
    {
     "data": {
      "text/plain": [
       "product_name\n",
       "Banana                         15562\n",
       "Bag of Organic Bananas         11026\n",
       "Organic Whole Milk              4363\n",
       "Organic Strawberries            3946\n",
       "Organic Hass Avocado            3390\n",
       "Organic Baby Spinach            3336\n",
       "Organic Avocado                 3044\n",
       "Spring Water                    2336\n",
       "Strawberries                    2308\n",
       "Organic Raspberries             2024\n",
       "Sparkling Water Grapefruit      1914\n",
       "Organic Half & Half             1797\n",
       "Large Lemon                     1737\n",
       "Soda                            1733\n",
       "Organic Reduced Fat Milk        1397\n",
       "Limes                           1370\n",
       "Hass Avocados                   1340\n",
       "Organic Reduced Fat 2% Milk     1310\n",
       "Half & Half                     1309\n",
       "Organic Yellow Onion            1246\n",
       "Name: user_id, dtype: int64"
      ]
     },
     "execution_count": 156,
     "metadata": {},
     "output_type": "execute_result"
    }
   ],
   "source": [
    "veinte_primeros_articulos_en_el_carrito=primer_articulo_en_el_carrito.head(20)\n",
    "veinte_primeros_articulos_en_el_carrito"
   ]
  },
  {
   "cell_type": "code",
   "execution_count": 157,
   "id": "4d3a90a9-72c2-4632-8202-7d1dea9e8631",
   "metadata": {},
   "outputs": [
    {
     "data": {
      "image/png": "[encoded data removed]",
      "text/plain": [
       "<Figure size 640x480 with 1 Axes>"
      ]
     },
     "metadata": {},
     "output_type": "display_data"
    }
   ],
   "source": [
    "veinte_primeros_articulos_en_el_carrito.plot(kind='bar',title='20 Principales articulos que colocan primero los clientes en el carrito', xlabel='Articulos',ylabel='Numero de veces puesto en el carrito')\n",
    "plt.show()"
   ]
  },
  {
   "cell_type": "markdown",
   "id": "89b1be39-4f7d-4feb-aff6-8247b51018a6",
   "metadata": {},
   "source": [
    "Conclusion: La banana sigue siendo el primero producto que los clientes colocan primero en el carrito ademas de ser el mas comprado, seguramente esta en las primeras posicion del supermercado y asi como el resto de vegetales que estan entre los 20 primeros. "
   ]
  },
  {
   "cell_type": "markdown",
   "id": "uITbFCEoDosC",
   "metadata": {
    "id": "uITbFCEoDosC"
   },
   "source": [
    "### Conclusion general del proyecto:"
   ]
  },
  {
   "cell_type": "markdown",
   "id": "24a42269-a5f6-451e-916b-ca5291878f99",
   "metadata": {
    "id": "Nk-4GS7mDwqY"
   },
   "source": [
    "La tendencia de compra es mayor los fines de semana que entre semana que son dias laborables y los compradores suelen volver a comprar semanal o mensualmente eso quiere decir que estos dias se puede potenciar su compra. "
   ]
  },
  {
   "cell_type": "markdown",
   "id": "cc96a153-5cdc-4223-b257-e66341a44a7a",
   "metadata": {},
   "source": [
    "Los productos organicos y los de primera necesidad igual estan entre los mas comprados se puede potenciar su consumo. "
   ]
  },
  {
   "cell_type": "markdown",
   "id": "32bf152a-f4da-4610-8125-26af3970d86a",
   "metadata": {},
   "source": [
    "Se comprueba la rentabilidad de los mejores productos ya que igualmente son los mas reordenados por los compradores. "
   ]
  },
  {
   "cell_type": "code",
   "execution_count": null,
   "id": "721127f5-447c-4997-b29e-12f71b32de29",
   "metadata": {},
   "outputs": [],
   "source": []
  }
 ],
 "metadata": {
  "ExecuteTimeLog": [
   {
    "duration": 325,
    "start_time": "2024-10-02T16:22:38.812Z"
   },
   {
    "duration": 1011,
    "start_time": "2024-10-02T16:22:40.753Z"
   },
   {
    "duration": 12,
    "start_time": "2024-10-02T16:22:42.348Z"
   },
   {
    "duration": 10,
    "start_time": "2024-10-02T16:24:26.573Z"
   },
   {
    "duration": 12,
    "start_time": "2024-10-02T16:24:48.561Z"
   },
   {
    "duration": 8,
    "start_time": "2024-10-02T16:25:15.903Z"
   },
   {
    "duration": 8,
    "start_time": "2024-10-02T16:25:40.136Z"
   },
   {
    "duration": 93,
    "start_time": "2024-10-02T16:41:40.740Z"
   },
   {
    "duration": 173,
    "start_time": "2024-10-02T16:45:04.273Z"
   },
   {
    "duration": 4,
    "start_time": "2024-10-02T16:45:21.138Z"
   },
   {
    "duration": 98,
    "start_time": "2024-10-02T16:48:36.543Z"
   },
   {
    "duration": 91,
    "start_time": "2024-10-02T16:48:41.832Z"
   },
   {
    "duration": 13,
    "start_time": "2024-10-02T16:50:36.808Z"
   },
   {
    "duration": 5,
    "start_time": "2024-10-02T16:50:50.188Z"
   },
   {
    "duration": 4,
    "start_time": "2024-10-02T16:51:49.342Z"
   },
   {
    "duration": 13,
    "start_time": "2024-10-02T16:55:57.446Z"
   },
   {
    "duration": 15,
    "start_time": "2024-10-02T16:56:04.289Z"
   },
   {
    "duration": 13,
    "start_time": "2024-10-02T16:57:08.045Z"
   },
   {
    "duration": 4,
    "start_time": "2024-10-02T16:57:24.647Z"
   },
   {
    "duration": 13,
    "start_time": "2024-10-02T16:59:58.051Z"
   },
   {
    "duration": 7,
    "start_time": "2024-10-02T17:00:24.557Z"
   },
   {
    "duration": 299,
    "start_time": "2024-10-02T20:38:28.200Z"
   },
   {
    "duration": 1084,
    "start_time": "2024-10-02T20:38:29.103Z"
   },
   {
    "duration": 6,
    "start_time": "2024-10-02T20:57:43.992Z"
   },
   {
    "duration": 4,
    "start_time": "2024-10-02T20:58:48.354Z"
   },
   {
    "duration": 185,
    "start_time": "2024-10-02T21:00:15.224Z"
   },
   {
    "duration": 15,
    "start_time": "2024-10-02T21:00:37.963Z"
   },
   {
    "duration": 21,
    "start_time": "2024-10-02T21:00:51.205Z"
   },
   {
    "duration": 19,
    "start_time": "2024-10-02T21:02:38.869Z"
   },
   {
    "duration": 4,
    "start_time": "2024-10-02T21:03:35.988Z"
   },
   {
    "duration": 5,
    "start_time": "2024-10-02T21:03:44.153Z"
   },
   {
    "duration": 4,
    "start_time": "2024-10-02T21:12:22.896Z"
   },
   {
    "duration": 12,
    "start_time": "2024-10-02T21:15:03.597Z"
   },
   {
    "duration": 339,
    "start_time": "2024-10-03T00:00:52.533Z"
   },
   {
    "duration": 1071,
    "start_time": "2024-10-03T00:00:53.827Z"
   },
   {
    "duration": 13,
    "start_time": "2024-10-03T00:00:57.862Z"
   },
   {
    "duration": 10,
    "start_time": "2024-10-03T00:00:59.166Z"
   },
   {
    "duration": 9,
    "start_time": "2024-10-03T00:01:00.586Z"
   },
   {
    "duration": 9,
    "start_time": "2024-10-03T00:01:01.728Z"
   },
   {
    "duration": 7,
    "start_time": "2024-10-03T00:01:03.009Z"
   },
   {
    "duration": 108,
    "start_time": "2024-10-03T00:20:24.559Z"
   },
   {
    "duration": 104,
    "start_time": "2024-10-03T00:20:41.606Z"
   },
   {
    "duration": 5,
    "start_time": "2024-10-03T00:21:05.451Z"
   },
   {
    "duration": 757,
    "start_time": "2024-10-03T00:24:40.022Z"
   },
   {
    "duration": 5,
    "start_time": "2024-10-03T00:25:19.368Z"
   },
   {
    "duration": 114,
    "start_time": "2024-10-03T00:30:04.340Z"
   },
   {
    "duration": 103,
    "start_time": "2024-10-03T00:30:35.903Z"
   },
   {
    "duration": 34,
    "start_time": "2024-10-03T00:32:11.247Z"
   },
   {
    "duration": 16,
    "start_time": "2024-10-03T00:40:14.569Z"
   },
   {
    "duration": 11,
    "start_time": "2024-10-03T00:41:09.906Z"
   },
   {
    "duration": 10,
    "start_time": "2024-10-03T00:41:25.911Z"
   },
   {
    "duration": 4,
    "start_time": "2024-10-03T00:41:41.749Z"
   },
   {
    "duration": 8,
    "start_time": "2024-10-03T00:42:46.741Z"
   },
   {
    "duration": 7,
    "start_time": "2024-10-03T00:42:58.946Z"
   },
   {
    "duration": 19,
    "start_time": "2024-10-03T00:45:07.924Z"
   },
   {
    "duration": 13,
    "start_time": "2024-10-03T00:45:31.085Z"
   },
   {
    "duration": 8,
    "start_time": "2024-10-03T00:45:39.530Z"
   },
   {
    "duration": 13,
    "start_time": "2024-10-03T00:47:44.034Z"
   },
   {
    "duration": 17,
    "start_time": "2024-10-03T00:47:57.900Z"
   },
   {
    "duration": 19,
    "start_time": "2024-10-03T00:48:19.781Z"
   },
   {
    "duration": 16,
    "start_time": "2024-10-03T00:48:25.777Z"
   },
   {
    "duration": 4,
    "start_time": "2024-10-03T00:48:42.857Z"
   },
   {
    "duration": 11,
    "start_time": "2024-10-03T00:48:53.097Z"
   },
   {
    "duration": 16,
    "start_time": "2024-10-03T00:49:02.115Z"
   },
   {
    "duration": 19,
    "start_time": "2024-10-03T00:50:57.965Z"
   },
   {
    "duration": 5,
    "start_time": "2024-10-03T00:54:07.379Z"
   },
   {
    "duration": 5,
    "start_time": "2024-10-03T00:55:06.753Z"
   },
   {
    "duration": 4,
    "start_time": "2024-10-03T00:55:15.419Z"
   },
   {
    "duration": 5,
    "start_time": "2024-10-03T00:55:48.044Z"
   },
   {
    "duration": 288,
    "start_time": "2024-10-03T00:58:43.431Z"
   },
   {
    "duration": 39,
    "start_time": "2024-10-03T00:59:14.090Z"
   },
   {
    "duration": 4,
    "start_time": "2024-10-03T00:59:44.087Z"
   },
   {
    "duration": 5,
    "start_time": "2024-10-03T01:06:15.113Z"
   },
   {
    "duration": 8,
    "start_time": "2024-10-03T01:07:15.396Z"
   },
   {
    "duration": 6,
    "start_time": "2024-10-03T01:08:18.358Z"
   },
   {
    "duration": 5,
    "start_time": "2024-10-03T01:08:58.007Z"
   },
   {
    "duration": 7,
    "start_time": "2024-10-03T01:10:30.917Z"
   },
   {
    "duration": 4,
    "start_time": "2024-10-03T01:11:43.043Z"
   },
   {
    "duration": 39,
    "start_time": "2024-10-03T01:12:17.013Z"
   },
   {
    "duration": 4,
    "start_time": "2024-10-03T01:12:59.173Z"
   },
   {
    "duration": 5,
    "start_time": "2024-10-03T01:13:45.423Z"
   },
   {
    "duration": 41,
    "start_time": "2024-10-03T01:14:24.396Z"
   },
   {
    "duration": 5,
    "start_time": "2024-10-03T01:14:50.745Z"
   },
   {
    "duration": 826,
    "start_time": "2024-10-03T01:16:23.588Z"
   },
   {
    "duration": 851,
    "start_time": "2024-10-03T01:16:44.039Z"
   },
   {
    "duration": 6,
    "start_time": "2024-10-03T01:19:08.984Z"
   },
   {
    "duration": 4,
    "start_time": "2024-10-03T01:27:33.478Z"
   },
   {
    "duration": 5,
    "start_time": "2024-10-03T01:28:08.765Z"
   },
   {
    "duration": 16,
    "start_time": "2024-10-03T01:28:47.007Z"
   },
   {
    "duration": 3,
    "start_time": "2024-10-03T01:30:12.674Z"
   },
   {
    "duration": 20,
    "start_time": "2024-10-03T01:30:19.692Z"
   },
   {
    "duration": 14,
    "start_time": "2024-10-03T01:32:37.936Z"
   },
   {
    "duration": 4,
    "start_time": "2024-10-03T01:34:19.448Z"
   },
   {
    "duration": 5,
    "start_time": "2024-10-03T01:39:26.048Z"
   },
   {
    "duration": 243,
    "start_time": "2024-10-03T01:39:33.773Z"
   },
   {
    "duration": 74452,
    "start_time": "2024-10-03T01:42:51.744Z"
   },
   {
    "duration": 13,
    "start_time": "2024-10-03T01:44:06.199Z"
   },
   {
    "duration": 17,
    "start_time": "2024-10-03T01:45:40.592Z"
   },
   {
    "duration": 3,
    "start_time": "2024-10-03T01:47:44.115Z"
   },
   {
    "duration": 42,
    "start_time": "2024-10-03T01:50:42.463Z"
   },
   {
    "duration": 41,
    "start_time": "2024-10-03T01:51:45.983Z"
   },
   {
    "duration": 4,
    "start_time": "2024-10-03T01:51:52.236Z"
   },
   {
    "duration": 4,
    "start_time": "2024-10-03T01:51:58.983Z"
   },
   {
    "duration": 11,
    "start_time": "2024-10-03T01:53:51.754Z"
   },
   {
    "duration": 11,
    "start_time": "2024-10-03T01:54:11.791Z"
   },
   {
    "duration": 3,
    "start_time": "2024-10-03T01:54:20.777Z"
   },
   {
    "duration": 3,
    "start_time": "2024-10-03T01:56:16.460Z"
   },
   {
    "duration": 5,
    "start_time": "2024-10-03T01:59:26.597Z"
   },
   {
    "duration": 4,
    "start_time": "2024-10-03T01:59:52.616Z"
   },
   {
    "duration": 7,
    "start_time": "2024-10-03T01:59:58.947Z"
   },
   {
    "duration": 7,
    "start_time": "2024-10-03T02:00:10.482Z"
   },
   {
    "duration": 4,
    "start_time": "2024-10-03T02:00:41.763Z"
   },
   {
    "duration": 15,
    "start_time": "2024-10-03T02:00:52.108Z"
   },
   {
    "duration": 5,
    "start_time": "2024-10-03T02:03:23.611Z"
   },
   {
    "duration": 12,
    "start_time": "2024-10-03T02:03:44.907Z"
   },
   {
    "duration": 11,
    "start_time": "2024-10-03T02:03:57.451Z"
   },
   {
    "duration": 11,
    "start_time": "2024-10-03T02:04:08.282Z"
   },
   {
    "duration": 5,
    "start_time": "2024-10-03T02:04:56.749Z"
   },
   {
    "duration": 7,
    "start_time": "2024-10-03T02:05:15.972Z"
   },
   {
    "duration": 12,
    "start_time": "2024-10-03T02:06:54.391Z"
   },
   {
    "duration": 8,
    "start_time": "2024-10-03T02:19:50.161Z"
   },
   {
    "duration": 8,
    "start_time": "2024-10-03T02:20:18.324Z"
   },
   {
    "duration": 6,
    "start_time": "2024-10-03T02:26:25.408Z"
   },
   {
    "duration": 6,
    "start_time": "2024-10-03T02:27:04.650Z"
   },
   {
    "duration": 7,
    "start_time": "2024-10-03T02:30:26.567Z"
   },
   {
    "duration": 5,
    "start_time": "2024-10-03T02:31:13.378Z"
   },
   {
    "duration": 18,
    "start_time": "2024-10-03T02:32:52.366Z"
   },
   {
    "duration": 20,
    "start_time": "2024-10-03T02:34:05.639Z"
   },
   {
    "duration": 302,
    "start_time": "2024-10-03T02:39:43.084Z"
   },
   {
    "duration": 2,
    "start_time": "2024-10-03T02:40:03.512Z"
   },
   {
    "duration": 43,
    "start_time": "2024-10-03T02:41:53.386Z"
   },
   {
    "duration": 42,
    "start_time": "2024-10-03T02:42:06.939Z"
   },
   {
    "duration": 8,
    "start_time": "2024-10-03T02:42:51.060Z"
   },
   {
    "duration": 7,
    "start_time": "2024-10-03T03:18:09.670Z"
   },
   {
    "duration": 9,
    "start_time": "2024-10-03T03:19:51.024Z"
   },
   {
    "duration": 10,
    "start_time": "2024-10-03T03:20:56.834Z"
   },
   {
    "duration": 25,
    "start_time": "2024-10-03T03:23:03.411Z"
   },
   {
    "duration": 8,
    "start_time": "2024-10-03T03:23:04.633Z"
   },
   {
    "duration": 9,
    "start_time": "2024-10-03T03:23:31.456Z"
   },
   {
    "duration": 16,
    "start_time": "2024-10-03T03:26:23.377Z"
   },
   {
    "duration": 16,
    "start_time": "2024-10-03T03:29:34.190Z"
   },
   {
    "duration": 20,
    "start_time": "2024-10-03T03:30:26.601Z"
   },
   {
    "duration": 13,
    "start_time": "2024-10-03T03:32:33.088Z"
   },
   {
    "duration": 13,
    "start_time": "2024-10-03T03:33:34.501Z"
   },
   {
    "duration": 13,
    "start_time": "2024-10-03T03:33:54.599Z"
   },
   {
    "duration": 13,
    "start_time": "2024-10-03T03:35:11.503Z"
   },
   {
    "duration": 13,
    "start_time": "2024-10-03T03:35:48.870Z"
   },
   {
    "duration": 19,
    "start_time": "2024-10-03T03:36:27.242Z"
   },
   {
    "duration": 15,
    "start_time": "2024-10-03T03:37:18.850Z"
   },
   {
    "duration": 5,
    "start_time": "2024-10-03T03:39:26.885Z"
   },
   {
    "duration": 12,
    "start_time": "2024-10-03T03:40:09.848Z"
   },
   {
    "duration": 88,
    "start_time": "2024-10-03T03:44:08.298Z"
   },
   {
    "duration": 58,
    "start_time": "2024-10-03T03:47:33.850Z"
   },
   {
    "duration": 64,
    "start_time": "2024-10-03T03:47:37.925Z"
   },
   {
    "duration": 69,
    "start_time": "2024-10-03T03:51:57.604Z"
   },
   {
    "duration": 54,
    "start_time": "2024-10-03T03:52:05.252Z"
   },
   {
    "duration": 54,
    "start_time": "2024-10-03T03:53:54.684Z"
   },
   {
    "duration": 329,
    "start_time": "2024-10-04T14:45:03.902Z"
   },
   {
    "duration": 1044,
    "start_time": "2024-10-04T14:45:04.233Z"
   },
   {
    "duration": 12,
    "start_time": "2024-10-04T14:45:05.279Z"
   },
   {
    "duration": 9,
    "start_time": "2024-10-04T14:45:05.294Z"
   },
   {
    "duration": 8,
    "start_time": "2024-10-04T14:45:05.304Z"
   },
   {
    "duration": 8,
    "start_time": "2024-10-04T14:45:05.313Z"
   },
   {
    "duration": 6,
    "start_time": "2024-10-04T14:45:05.322Z"
   },
   {
    "duration": 131,
    "start_time": "2024-10-04T14:45:05.330Z"
   },
   {
    "duration": 5,
    "start_time": "2024-10-04T14:45:05.469Z"
   },
   {
    "duration": 111,
    "start_time": "2024-10-04T14:45:05.477Z"
   },
   {
    "duration": 97,
    "start_time": "2024-10-04T14:45:05.590Z"
   },
   {
    "duration": 30,
    "start_time": "2024-10-04T14:45:05.688Z"
   },
   {
    "duration": 13,
    "start_time": "2024-10-04T14:45:05.720Z"
   },
   {
    "duration": 5,
    "start_time": "2024-10-04T14:45:05.734Z"
   },
   {
    "duration": 39,
    "start_time": "2024-10-04T14:45:05.741Z"
   },
   {
    "duration": 5,
    "start_time": "2024-10-04T14:45:05.782Z"
   },
   {
    "duration": 4,
    "start_time": "2024-10-04T14:45:05.789Z"
   },
   {
    "duration": 3,
    "start_time": "2024-10-04T14:45:05.795Z"
   },
   {
    "duration": 4,
    "start_time": "2024-10-04T14:45:05.800Z"
   },
   {
    "duration": 4,
    "start_time": "2024-10-04T14:45:05.806Z"
   },
   {
    "duration": 827,
    "start_time": "2024-10-04T14:45:05.811Z"
   },
   {
    "duration": 816,
    "start_time": "2024-10-04T14:45:06.640Z"
   },
   {
    "duration": 6,
    "start_time": "2024-10-04T14:45:07.457Z"
   },
   {
    "duration": 85,
    "start_time": "2024-10-04T14:45:07.470Z"
   },
   {
    "duration": 1,
    "start_time": "2024-10-04T14:45:07.557Z"
   },
   {
    "duration": 0,
    "start_time": "2024-10-04T14:45:07.570Z"
   },
   {
    "duration": 0,
    "start_time": "2024-10-04T14:45:07.572Z"
   },
   {
    "duration": 0,
    "start_time": "2024-10-04T14:45:07.573Z"
   },
   {
    "duration": 0,
    "start_time": "2024-10-04T14:45:07.575Z"
   },
   {
    "duration": 0,
    "start_time": "2024-10-04T14:45:07.576Z"
   },
   {
    "duration": 0,
    "start_time": "2024-10-04T14:45:07.576Z"
   },
   {
    "duration": 0,
    "start_time": "2024-10-04T14:45:07.578Z"
   },
   {
    "duration": 0,
    "start_time": "2024-10-04T14:45:07.579Z"
   },
   {
    "duration": 0,
    "start_time": "2024-10-04T14:45:07.580Z"
   },
   {
    "duration": 0,
    "start_time": "2024-10-04T14:45:07.582Z"
   },
   {
    "duration": 0,
    "start_time": "2024-10-04T14:45:07.583Z"
   },
   {
    "duration": 0,
    "start_time": "2024-10-04T14:45:07.584Z"
   },
   {
    "duration": 13,
    "start_time": "2024-10-04T14:47:39.032Z"
   },
   {
    "duration": 13,
    "start_time": "2024-10-04T14:49:36.156Z"
   },
   {
    "duration": 169,
    "start_time": "2024-10-04T21:45:21.829Z"
   },
   {
    "duration": 318,
    "start_time": "2024-10-04T21:45:35.646Z"
   },
   {
    "duration": 1043,
    "start_time": "2024-10-04T21:45:35.966Z"
   },
   {
    "duration": 20,
    "start_time": "2024-10-04T21:45:37.010Z"
   },
   {
    "duration": 9,
    "start_time": "2024-10-04T21:45:37.031Z"
   },
   {
    "duration": 8,
    "start_time": "2024-10-04T21:45:37.042Z"
   },
   {
    "duration": 7,
    "start_time": "2024-10-04T21:45:37.052Z"
   },
   {
    "duration": 6,
    "start_time": "2024-10-04T21:45:37.061Z"
   },
   {
    "duration": 128,
    "start_time": "2024-10-04T21:45:37.069Z"
   },
   {
    "duration": 13,
    "start_time": "2024-10-04T21:45:37.198Z"
   },
   {
    "duration": 114,
    "start_time": "2024-10-04T21:45:37.212Z"
   },
   {
    "duration": 83,
    "start_time": "2024-10-04T21:45:37.328Z"
   },
   {
    "duration": 35,
    "start_time": "2024-10-04T21:45:37.412Z"
   },
   {
    "duration": 14,
    "start_time": "2024-10-04T21:45:37.449Z"
   },
   {
    "duration": 4,
    "start_time": "2024-10-04T21:45:37.466Z"
   },
   {
    "duration": 17,
    "start_time": "2024-10-04T21:45:37.472Z"
   },
   {
    "duration": 35,
    "start_time": "2024-10-04T21:45:37.490Z"
   },
   {
    "duration": 6,
    "start_time": "2024-10-04T21:45:37.527Z"
   },
   {
    "duration": 6,
    "start_time": "2024-10-04T21:45:37.534Z"
   },
   {
    "duration": 3,
    "start_time": "2024-10-04T21:45:37.542Z"
   },
   {
    "duration": 4,
    "start_time": "2024-10-04T21:45:37.547Z"
   },
   {
    "duration": 781,
    "start_time": "2024-10-04T21:45:37.552Z"
   },
   {
    "duration": 749,
    "start_time": "2024-10-04T21:45:38.334Z"
   },
   {
    "duration": 6,
    "start_time": "2024-10-04T21:45:39.085Z"
   },
   {
    "duration": 47,
    "start_time": "2024-10-04T21:45:39.092Z"
   },
   {
    "duration": 0,
    "start_time": "2024-10-04T21:45:39.141Z"
   },
   {
    "duration": 0,
    "start_time": "2024-10-04T21:45:39.142Z"
   },
   {
    "duration": 0,
    "start_time": "2024-10-04T21:45:39.143Z"
   },
   {
    "duration": 0,
    "start_time": "2024-10-04T21:45:39.144Z"
   },
   {
    "duration": 0,
    "start_time": "2024-10-04T21:45:39.145Z"
   },
   {
    "duration": 0,
    "start_time": "2024-10-04T21:45:39.146Z"
   },
   {
    "duration": 0,
    "start_time": "2024-10-04T21:45:39.147Z"
   },
   {
    "duration": 0,
    "start_time": "2024-10-04T21:45:39.148Z"
   },
   {
    "duration": 0,
    "start_time": "2024-10-04T21:45:39.149Z"
   },
   {
    "duration": 0,
    "start_time": "2024-10-04T21:45:39.150Z"
   },
   {
    "duration": 0,
    "start_time": "2024-10-04T21:45:39.151Z"
   },
   {
    "duration": 0,
    "start_time": "2024-10-04T21:45:39.153Z"
   },
   {
    "duration": 0,
    "start_time": "2024-10-04T21:45:39.154Z"
   },
   {
    "duration": 106,
    "start_time": "2024-10-04T21:46:52.602Z"
   },
   {
    "duration": 13,
    "start_time": "2024-10-04T21:47:08.162Z"
   },
   {
    "duration": 11,
    "start_time": "2024-10-04T21:48:14.790Z"
   },
   {
    "duration": 93,
    "start_time": "2024-10-04T21:51:51.897Z"
   },
   {
    "duration": 88,
    "start_time": "2024-10-04T21:52:01.876Z"
   },
   {
    "duration": 90,
    "start_time": "2024-10-04T21:58:52.768Z"
   },
   {
    "duration": 74,
    "start_time": "2024-10-04T21:58:55.359Z"
   },
   {
    "duration": 74,
    "start_time": "2024-10-04T21:59:10.509Z"
   },
   {
    "duration": 12,
    "start_time": "2024-10-04T21:59:25.515Z"
   },
   {
    "duration": 11,
    "start_time": "2024-10-04T22:00:05.907Z"
   },
   {
    "duration": 23,
    "start_time": "2024-10-04T22:01:12.719Z"
   },
   {
    "duration": 36,
    "start_time": "2024-10-04T22:03:28.650Z"
   },
   {
    "duration": 165,
    "start_time": "2024-10-05T03:33:45.325Z"
   },
   {
    "duration": 12,
    "start_time": "2024-10-05T03:33:48.726Z"
   },
   {
    "duration": 2,
    "start_time": "2024-10-05T03:35:39.893Z"
   },
   {
    "duration": 870,
    "start_time": "2024-10-05T03:35:39.898Z"
   },
   {
    "duration": 10,
    "start_time": "2024-10-05T03:35:40.769Z"
   },
   {
    "duration": 8,
    "start_time": "2024-10-05T03:35:40.781Z"
   },
   {
    "duration": 7,
    "start_time": "2024-10-05T03:35:40.792Z"
   },
   {
    "duration": 7,
    "start_time": "2024-10-05T03:35:40.801Z"
   },
   {
    "duration": 39,
    "start_time": "2024-10-05T03:35:40.810Z"
   },
   {
    "duration": 81,
    "start_time": "2024-10-05T03:35:40.850Z"
   },
   {
    "duration": 14,
    "start_time": "2024-10-05T03:35:40.943Z"
   },
   {
    "duration": 90,
    "start_time": "2024-10-05T03:35:40.959Z"
   },
   {
    "duration": 72,
    "start_time": "2024-10-05T03:35:41.051Z"
   },
   {
    "duration": 57,
    "start_time": "2024-10-05T03:35:41.126Z"
   },
   {
    "duration": 65,
    "start_time": "2024-10-05T03:35:41.185Z"
   },
   {
    "duration": 0,
    "start_time": "2024-10-05T03:35:41.253Z"
   },
   {
    "duration": 0,
    "start_time": "2024-10-05T03:35:41.255Z"
   },
   {
    "duration": 0,
    "start_time": "2024-10-05T03:35:41.256Z"
   },
   {
    "duration": 0,
    "start_time": "2024-10-05T03:35:41.257Z"
   },
   {
    "duration": 0,
    "start_time": "2024-10-05T03:35:41.258Z"
   },
   {
    "duration": 0,
    "start_time": "2024-10-05T03:35:41.259Z"
   },
   {
    "duration": 0,
    "start_time": "2024-10-05T03:35:41.260Z"
   },
   {
    "duration": 0,
    "start_time": "2024-10-05T03:35:41.261Z"
   },
   {
    "duration": 0,
    "start_time": "2024-10-05T03:35:41.262Z"
   },
   {
    "duration": 0,
    "start_time": "2024-10-05T03:35:41.264Z"
   },
   {
    "duration": 0,
    "start_time": "2024-10-05T03:35:41.265Z"
   },
   {
    "duration": 0,
    "start_time": "2024-10-05T03:35:41.266Z"
   },
   {
    "duration": 0,
    "start_time": "2024-10-05T03:35:41.267Z"
   },
   {
    "duration": 0,
    "start_time": "2024-10-05T03:35:41.268Z"
   },
   {
    "duration": 0,
    "start_time": "2024-10-05T03:35:41.270Z"
   },
   {
    "duration": 0,
    "start_time": "2024-10-05T03:35:41.272Z"
   },
   {
    "duration": 0,
    "start_time": "2024-10-05T03:35:41.273Z"
   },
   {
    "duration": 0,
    "start_time": "2024-10-05T03:35:41.274Z"
   },
   {
    "duration": 0,
    "start_time": "2024-10-05T03:35:41.276Z"
   },
   {
    "duration": 0,
    "start_time": "2024-10-05T03:35:41.277Z"
   },
   {
    "duration": 0,
    "start_time": "2024-10-05T03:35:41.279Z"
   },
   {
    "duration": 0,
    "start_time": "2024-10-05T03:35:41.280Z"
   },
   {
    "duration": 0,
    "start_time": "2024-10-05T03:35:41.281Z"
   },
   {
    "duration": 0,
    "start_time": "2024-10-05T03:35:41.282Z"
   },
   {
    "duration": 13,
    "start_time": "2024-10-05T03:36:07.776Z"
   },
   {
    "duration": 7,
    "start_time": "2024-10-05T03:37:37.009Z"
   },
   {
    "duration": 6,
    "start_time": "2024-10-05T03:38:43.894Z"
   },
   {
    "duration": 11,
    "start_time": "2024-10-05T03:41:00.897Z"
   },
   {
    "duration": 13,
    "start_time": "2024-10-05T03:46:56.384Z"
   },
   {
    "duration": 6,
    "start_time": "2024-10-05T03:48:54.461Z"
   },
   {
    "duration": 5,
    "start_time": "2024-10-05T03:49:25.265Z"
   },
   {
    "duration": 28,
    "start_time": "2024-10-05T03:55:22.389Z"
   },
   {
    "duration": 5,
    "start_time": "2024-10-05T04:07:24.240Z"
   },
   {
    "duration": 6,
    "start_time": "2024-10-05T04:07:30.645Z"
   },
   {
    "duration": 7,
    "start_time": "2024-10-05T04:07:55.506Z"
   },
   {
    "duration": 6,
    "start_time": "2024-10-05T04:08:42.680Z"
   },
   {
    "duration": 701,
    "start_time": "2024-10-05T04:09:51.839Z"
   },
   {
    "duration": 267,
    "start_time": "2024-10-05T04:11:23.160Z"
   },
   {
    "duration": 6,
    "start_time": "2024-10-05T04:17:08.825Z"
   },
   {
    "duration": 11,
    "start_time": "2024-10-05T04:19:36.409Z"
   },
   {
    "duration": 12,
    "start_time": "2024-10-05T04:20:15.412Z"
   },
   {
    "duration": 11,
    "start_time": "2024-10-05T04:23:30.540Z"
   },
   {
    "duration": 5,
    "start_time": "2024-10-05T04:25:11.708Z"
   },
   {
    "duration": 10,
    "start_time": "2024-10-05T04:25:39.818Z"
   },
   {
    "duration": 7,
    "start_time": "2024-10-05T04:27:51.003Z"
   },
   {
    "duration": 7,
    "start_time": "2024-10-05T04:31:15.490Z"
   },
   {
    "duration": 298,
    "start_time": "2024-10-05T06:12:59.969Z"
   },
   {
    "duration": 1083,
    "start_time": "2024-10-05T06:13:00.269Z"
   },
   {
    "duration": 12,
    "start_time": "2024-10-05T06:13:01.353Z"
   },
   {
    "duration": 9,
    "start_time": "2024-10-05T06:13:01.367Z"
   },
   {
    "duration": 7,
    "start_time": "2024-10-05T06:13:01.378Z"
   },
   {
    "duration": 8,
    "start_time": "2024-10-05T06:13:01.386Z"
   },
   {
    "duration": 33,
    "start_time": "2024-10-05T06:13:01.395Z"
   },
   {
    "duration": 111,
    "start_time": "2024-10-05T06:13:01.429Z"
   },
   {
    "duration": 10,
    "start_time": "2024-10-05T06:13:01.542Z"
   },
   {
    "duration": 118,
    "start_time": "2024-10-05T06:13:01.556Z"
   },
   {
    "duration": 98,
    "start_time": "2024-10-05T06:13:01.675Z"
   },
   {
    "duration": 50,
    "start_time": "2024-10-05T06:13:01.775Z"
   },
   {
    "duration": 13,
    "start_time": "2024-10-05T06:13:01.827Z"
   },
   {
    "duration": 6,
    "start_time": "2024-10-05T06:13:01.842Z"
   },
   {
    "duration": 9,
    "start_time": "2024-10-05T06:13:01.850Z"
   },
   {
    "duration": 25,
    "start_time": "2024-10-05T06:13:01.860Z"
   },
   {
    "duration": 42,
    "start_time": "2024-10-05T06:13:01.886Z"
   },
   {
    "duration": 5,
    "start_time": "2024-10-05T06:13:01.930Z"
   },
   {
    "duration": 5,
    "start_time": "2024-10-05T06:13:01.936Z"
   },
   {
    "duration": 6,
    "start_time": "2024-10-05T06:13:01.943Z"
   },
   {
    "duration": 5,
    "start_time": "2024-10-05T06:13:01.950Z"
   },
   {
    "duration": 843,
    "start_time": "2024-10-05T06:13:01.957Z"
   },
   {
    "duration": 310,
    "start_time": "2024-10-05T06:13:02.802Z"
   },
   {
    "duration": 10,
    "start_time": "2024-10-05T06:13:03.114Z"
   },
   {
    "duration": 11,
    "start_time": "2024-10-05T06:13:03.125Z"
   },
   {
    "duration": 10,
    "start_time": "2024-10-05T06:13:03.137Z"
   },
   {
    "duration": 9,
    "start_time": "2024-10-05T06:13:03.149Z"
   },
   {
    "duration": 4,
    "start_time": "2024-10-05T06:13:03.162Z"
   },
   {
    "duration": 8,
    "start_time": "2024-10-05T06:13:03.168Z"
   },
   {
    "duration": 7,
    "start_time": "2024-10-05T06:13:03.178Z"
   },
   {
    "duration": 170,
    "start_time": "2024-10-05T06:13:37.404Z"
   },
   {
    "duration": 317,
    "start_time": "2024-10-05T06:13:48.336Z"
   },
   {
    "duration": 1040,
    "start_time": "2024-10-05T06:13:48.655Z"
   },
   {
    "duration": 12,
    "start_time": "2024-10-05T06:13:49.697Z"
   },
   {
    "duration": 19,
    "start_time": "2024-10-05T06:13:49.712Z"
   },
   {
    "duration": 7,
    "start_time": "2024-10-05T06:13:49.733Z"
   },
   {
    "duration": 7,
    "start_time": "2024-10-05T06:13:49.743Z"
   },
   {
    "duration": 6,
    "start_time": "2024-10-05T06:13:49.752Z"
   },
   {
    "duration": 121,
    "start_time": "2024-10-05T06:13:49.759Z"
   },
   {
    "duration": 10,
    "start_time": "2024-10-05T06:13:49.882Z"
   },
   {
    "duration": 118,
    "start_time": "2024-10-05T06:13:49.895Z"
   },
   {
    "duration": 91,
    "start_time": "2024-10-05T06:13:50.015Z"
   },
   {
    "duration": 51,
    "start_time": "2024-10-05T06:13:50.108Z"
   },
   {
    "duration": 15,
    "start_time": "2024-10-05T06:13:50.161Z"
   },
   {
    "duration": 5,
    "start_time": "2024-10-05T06:13:50.177Z"
   },
   {
    "duration": 8,
    "start_time": "2024-10-05T06:13:50.184Z"
   },
   {
    "duration": 50,
    "start_time": "2024-10-05T06:13:50.193Z"
   },
   {
    "duration": 11,
    "start_time": "2024-10-05T06:13:50.245Z"
   },
   {
    "duration": 6,
    "start_time": "2024-10-05T06:13:50.257Z"
   },
   {
    "duration": 4,
    "start_time": "2024-10-05T06:13:50.264Z"
   },
   {
    "duration": 6,
    "start_time": "2024-10-05T06:13:50.269Z"
   },
   {
    "duration": 7,
    "start_time": "2024-10-05T06:13:50.276Z"
   },
   {
    "duration": 814,
    "start_time": "2024-10-05T06:13:50.285Z"
   },
   {
    "duration": 303,
    "start_time": "2024-10-05T06:13:51.101Z"
   },
   {
    "duration": 6,
    "start_time": "2024-10-05T06:13:51.405Z"
   },
   {
    "duration": 11,
    "start_time": "2024-10-05T06:13:51.423Z"
   },
   {
    "duration": 10,
    "start_time": "2024-10-05T06:13:51.436Z"
   },
   {
    "duration": 8,
    "start_time": "2024-10-05T06:13:51.448Z"
   },
   {
    "duration": 4,
    "start_time": "2024-10-05T06:13:51.460Z"
   },
   {
    "duration": 8,
    "start_time": "2024-10-05T06:13:51.466Z"
   },
   {
    "duration": 7,
    "start_time": "2024-10-05T06:13:51.476Z"
   },
   {
    "duration": 333,
    "start_time": "2024-10-05T06:14:19.634Z"
   },
   {
    "duration": 1069,
    "start_time": "2024-10-05T06:14:19.969Z"
   },
   {
    "duration": 12,
    "start_time": "2024-10-05T06:14:21.040Z"
   },
   {
    "duration": 8,
    "start_time": "2024-10-05T06:14:21.054Z"
   },
   {
    "duration": 8,
    "start_time": "2024-10-05T06:14:21.064Z"
   },
   {
    "duration": 7,
    "start_time": "2024-10-05T06:14:21.073Z"
   },
   {
    "duration": 7,
    "start_time": "2024-10-05T06:14:21.081Z"
   },
   {
    "duration": 136,
    "start_time": "2024-10-05T06:14:21.089Z"
   },
   {
    "duration": 10,
    "start_time": "2024-10-05T06:14:21.227Z"
   },
   {
    "duration": 116,
    "start_time": "2024-10-05T06:14:21.240Z"
   },
   {
    "duration": 89,
    "start_time": "2024-10-05T06:14:21.358Z"
   },
   {
    "duration": 44,
    "start_time": "2024-10-05T06:14:21.449Z"
   },
   {
    "duration": 29,
    "start_time": "2024-10-05T06:14:21.495Z"
   },
   {
    "duration": 6,
    "start_time": "2024-10-05T06:14:21.526Z"
   },
   {
    "duration": 8,
    "start_time": "2024-10-05T06:14:21.534Z"
   },
   {
    "duration": 25,
    "start_time": "2024-10-05T06:14:21.544Z"
   },
   {
    "duration": 12,
    "start_time": "2024-10-05T06:14:21.570Z"
   },
   {
    "duration": 6,
    "start_time": "2024-10-05T06:14:21.584Z"
   },
   {
    "duration": 35,
    "start_time": "2024-10-05T06:14:21.592Z"
   },
   {
    "duration": 6,
    "start_time": "2024-10-05T06:14:21.629Z"
   },
   {
    "duration": 5,
    "start_time": "2024-10-05T06:14:21.637Z"
   },
   {
    "duration": 783,
    "start_time": "2024-10-05T06:14:21.644Z"
   },
   {
    "duration": 284,
    "start_time": "2024-10-05T06:14:22.430Z"
   },
   {
    "duration": 10,
    "start_time": "2024-10-05T06:14:22.716Z"
   },
   {
    "duration": 12,
    "start_time": "2024-10-05T06:14:22.727Z"
   },
   {
    "duration": 11,
    "start_time": "2024-10-05T06:14:22.740Z"
   },
   {
    "duration": 9,
    "start_time": "2024-10-05T06:14:22.752Z"
   },
   {
    "duration": 5,
    "start_time": "2024-10-05T06:14:22.764Z"
   },
   {
    "duration": 8,
    "start_time": "2024-10-05T06:14:22.770Z"
   },
   {
    "duration": 7,
    "start_time": "2024-10-05T06:14:22.780Z"
   },
   {
    "duration": 340,
    "start_time": "2024-10-05T16:45:29.056Z"
   },
   {
    "duration": 1053,
    "start_time": "2024-10-05T16:45:29.399Z"
   },
   {
    "duration": 11,
    "start_time": "2024-10-05T16:45:30.454Z"
   },
   {
    "duration": 9,
    "start_time": "2024-10-05T16:45:30.468Z"
   },
   {
    "duration": 9,
    "start_time": "2024-10-05T16:45:30.479Z"
   },
   {
    "duration": 8,
    "start_time": "2024-10-05T16:45:30.489Z"
   },
   {
    "duration": 33,
    "start_time": "2024-10-05T16:45:30.499Z"
   },
   {
    "duration": 124,
    "start_time": "2024-10-05T16:45:30.534Z"
   },
   {
    "duration": 11,
    "start_time": "2024-10-05T16:45:30.660Z"
   },
   {
    "duration": 127,
    "start_time": "2024-10-05T16:45:30.675Z"
   },
   {
    "duration": 93,
    "start_time": "2024-10-05T16:45:30.804Z"
   },
   {
    "duration": 55,
    "start_time": "2024-10-05T16:45:30.899Z"
   },
   {
    "duration": 15,
    "start_time": "2024-10-05T16:45:30.956Z"
   },
   {
    "duration": 7,
    "start_time": "2024-10-05T16:45:30.972Z"
   },
   {
    "duration": 10,
    "start_time": "2024-10-05T16:45:30.980Z"
   },
   {
    "duration": 52,
    "start_time": "2024-10-05T16:45:30.992Z"
   },
   {
    "duration": 14,
    "start_time": "2024-10-05T16:45:31.046Z"
   },
   {
    "duration": 6,
    "start_time": "2024-10-05T16:45:31.062Z"
   },
   {
    "duration": 6,
    "start_time": "2024-10-05T16:45:31.070Z"
   },
   {
    "duration": 6,
    "start_time": "2024-10-05T16:45:31.077Z"
   },
   {
    "duration": 6,
    "start_time": "2024-10-05T16:45:31.085Z"
   },
   {
    "duration": 877,
    "start_time": "2024-10-05T16:45:31.093Z"
   },
   {
    "duration": 354,
    "start_time": "2024-10-05T16:45:31.971Z"
   },
   {
    "duration": 6,
    "start_time": "2024-10-05T16:45:32.330Z"
   },
   {
    "duration": 11,
    "start_time": "2024-10-05T16:45:32.337Z"
   },
   {
    "duration": 11,
    "start_time": "2024-10-05T16:45:32.349Z"
   },
   {
    "duration": 10,
    "start_time": "2024-10-05T16:45:32.361Z"
   },
   {
    "duration": 5,
    "start_time": "2024-10-05T16:45:32.374Z"
   },
   {
    "duration": 10,
    "start_time": "2024-10-05T16:45:32.380Z"
   },
   {
    "duration": 41,
    "start_time": "2024-10-05T16:45:32.391Z"
   },
   {
    "duration": 159,
    "start_time": "2024-10-08T22:42:46.905Z"
   },
   {
    "duration": 456,
    "start_time": "2024-10-08T22:44:51.912Z"
   },
   {
    "duration": 509,
    "start_time": "2024-10-08T22:44:52.370Z"
   },
   {
    "duration": 0,
    "start_time": "2024-10-08T22:44:52.885Z"
   },
   {
    "duration": 0,
    "start_time": "2024-10-08T22:44:52.887Z"
   },
   {
    "duration": 0,
    "start_time": "2024-10-08T22:44:52.888Z"
   },
   {
    "duration": 0,
    "start_time": "2024-10-08T22:44:52.889Z"
   },
   {
    "duration": 0,
    "start_time": "2024-10-08T22:44:52.890Z"
   },
   {
    "duration": 0,
    "start_time": "2024-10-08T22:44:52.892Z"
   },
   {
    "duration": 0,
    "start_time": "2024-10-08T22:44:52.893Z"
   },
   {
    "duration": 0,
    "start_time": "2024-10-08T22:44:52.894Z"
   },
   {
    "duration": 0,
    "start_time": "2024-10-08T22:44:52.895Z"
   },
   {
    "duration": 0,
    "start_time": "2024-10-08T22:44:52.896Z"
   },
   {
    "duration": 0,
    "start_time": "2024-10-08T22:44:52.897Z"
   },
   {
    "duration": 0,
    "start_time": "2024-10-08T22:44:52.899Z"
   },
   {
    "duration": 0,
    "start_time": "2024-10-08T22:44:52.900Z"
   },
   {
    "duration": 0,
    "start_time": "2024-10-08T22:44:52.901Z"
   },
   {
    "duration": 0,
    "start_time": "2024-10-08T22:44:52.902Z"
   },
   {
    "duration": 0,
    "start_time": "2024-10-08T22:44:52.903Z"
   },
   {
    "duration": 0,
    "start_time": "2024-10-08T22:44:52.904Z"
   },
   {
    "duration": 0,
    "start_time": "2024-10-08T22:44:52.905Z"
   },
   {
    "duration": 0,
    "start_time": "2024-10-08T22:44:52.906Z"
   },
   {
    "duration": 0,
    "start_time": "2024-10-08T22:44:52.907Z"
   },
   {
    "duration": 0,
    "start_time": "2024-10-08T22:44:52.908Z"
   },
   {
    "duration": 0,
    "start_time": "2024-10-08T22:44:52.910Z"
   },
   {
    "duration": 0,
    "start_time": "2024-10-08T22:44:52.911Z"
   },
   {
    "duration": 0,
    "start_time": "2024-10-08T22:44:52.912Z"
   },
   {
    "duration": 0,
    "start_time": "2024-10-08T22:44:52.913Z"
   },
   {
    "duration": 0,
    "start_time": "2024-10-08T22:44:52.914Z"
   },
   {
    "duration": 0,
    "start_time": "2024-10-08T22:44:52.916Z"
   },
   {
    "duration": 0,
    "start_time": "2024-10-08T22:44:52.917Z"
   },
   {
    "duration": 0,
    "start_time": "2024-10-08T22:44:52.917Z"
   },
   {
    "duration": 0,
    "start_time": "2024-10-08T22:44:52.918Z"
   },
   {
    "duration": 0,
    "start_time": "2024-10-08T22:44:52.919Z"
   },
   {
    "duration": 0,
    "start_time": "2024-10-08T22:44:52.920Z"
   },
   {
    "duration": 0,
    "start_time": "2024-10-08T22:44:52.970Z"
   },
   {
    "duration": 0,
    "start_time": "2024-10-08T22:44:52.971Z"
   },
   {
    "duration": 0,
    "start_time": "2024-10-08T22:44:52.972Z"
   },
   {
    "duration": 0,
    "start_time": "2024-10-08T22:44:52.973Z"
   },
   {
    "duration": 0,
    "start_time": "2024-10-08T22:44:52.974Z"
   },
   {
    "duration": 0,
    "start_time": "2024-10-08T22:44:52.975Z"
   },
   {
    "duration": 0,
    "start_time": "2024-10-08T22:44:52.976Z"
   },
   {
    "duration": 0,
    "start_time": "2024-10-08T22:44:52.978Z"
   },
   {
    "duration": 0,
    "start_time": "2024-10-08T22:44:52.979Z"
   },
   {
    "duration": 0,
    "start_time": "2024-10-08T22:44:52.981Z"
   },
   {
    "duration": 0,
    "start_time": "2024-10-08T22:44:52.982Z"
   },
   {
    "duration": 0,
    "start_time": "2024-10-08T22:44:52.983Z"
   },
   {
    "duration": 0,
    "start_time": "2024-10-08T22:44:52.989Z"
   },
   {
    "duration": 0,
    "start_time": "2024-10-08T22:44:52.990Z"
   },
   {
    "duration": 0,
    "start_time": "2024-10-08T22:44:52.990Z"
   },
   {
    "duration": 0,
    "start_time": "2024-10-08T22:44:52.992Z"
   },
   {
    "duration": 0,
    "start_time": "2024-10-08T22:44:52.994Z"
   },
   {
    "duration": 0,
    "start_time": "2024-10-08T22:44:52.995Z"
   },
   {
    "duration": 0,
    "start_time": "2024-10-08T22:44:52.997Z"
   },
   {
    "duration": 0,
    "start_time": "2024-10-08T22:44:52.998Z"
   },
   {
    "duration": 0,
    "start_time": "2024-10-08T22:44:52.999Z"
   },
   {
    "duration": 0,
    "start_time": "2024-10-08T22:44:53.001Z"
   },
   {
    "duration": 0,
    "start_time": "2024-10-08T22:44:53.003Z"
   },
   {
    "duration": 1,
    "start_time": "2024-10-08T22:44:53.004Z"
   },
   {
    "duration": 0,
    "start_time": "2024-10-08T22:44:53.006Z"
   },
   {
    "duration": 0,
    "start_time": "2024-10-08T22:44:53.007Z"
   },
   {
    "duration": 0,
    "start_time": "2024-10-08T22:44:53.070Z"
   },
   {
    "duration": 0,
    "start_time": "2024-10-08T22:44:53.072Z"
   },
   {
    "duration": 0,
    "start_time": "2024-10-08T22:44:53.073Z"
   },
   {
    "duration": 0,
    "start_time": "2024-10-08T22:44:53.075Z"
   },
   {
    "duration": 0,
    "start_time": "2024-10-08T22:44:53.076Z"
   },
   {
    "duration": 0,
    "start_time": "2024-10-08T22:44:53.078Z"
   },
   {
    "duration": 0,
    "start_time": "2024-10-08T22:44:53.079Z"
   },
   {
    "duration": 0,
    "start_time": "2024-10-08T22:44:53.081Z"
   },
   {
    "duration": 0,
    "start_time": "2024-10-08T22:44:53.082Z"
   },
   {
    "duration": 0,
    "start_time": "2024-10-08T22:44:53.084Z"
   },
   {
    "duration": 0,
    "start_time": "2024-10-08T22:44:53.085Z"
   },
   {
    "duration": 0,
    "start_time": "2024-10-08T22:44:53.086Z"
   },
   {
    "duration": 0,
    "start_time": "2024-10-08T22:44:53.087Z"
   },
   {
    "duration": 0,
    "start_time": "2024-10-08T22:44:53.089Z"
   },
   {
    "duration": 0,
    "start_time": "2024-10-08T22:44:53.090Z"
   },
   {
    "duration": 480,
    "start_time": "2024-10-08T22:45:53.690Z"
   },
   {
    "duration": 518,
    "start_time": "2024-10-08T22:45:54.174Z"
   },
   {
    "duration": 0,
    "start_time": "2024-10-08T22:45:54.697Z"
   },
   {
    "duration": 0,
    "start_time": "2024-10-08T22:45:54.698Z"
   },
   {
    "duration": 0,
    "start_time": "2024-10-08T22:45:54.699Z"
   },
   {
    "duration": 0,
    "start_time": "2024-10-08T22:45:54.700Z"
   },
   {
    "duration": 0,
    "start_time": "2024-10-08T22:45:54.701Z"
   },
   {
    "duration": 0,
    "start_time": "2024-10-08T22:45:54.702Z"
   },
   {
    "duration": 0,
    "start_time": "2024-10-08T22:45:54.703Z"
   },
   {
    "duration": 0,
    "start_time": "2024-10-08T22:45:54.704Z"
   },
   {
    "duration": 0,
    "start_time": "2024-10-08T22:45:54.705Z"
   },
   {
    "duration": 0,
    "start_time": "2024-10-08T22:45:54.706Z"
   },
   {
    "duration": 0,
    "start_time": "2024-10-08T22:45:54.707Z"
   },
   {
    "duration": 0,
    "start_time": "2024-10-08T22:45:54.708Z"
   },
   {
    "duration": 0,
    "start_time": "2024-10-08T22:45:54.709Z"
   },
   {
    "duration": 0,
    "start_time": "2024-10-08T22:45:54.710Z"
   },
   {
    "duration": 0,
    "start_time": "2024-10-08T22:45:54.711Z"
   },
   {
    "duration": 0,
    "start_time": "2024-10-08T22:45:54.712Z"
   },
   {
    "duration": 0,
    "start_time": "2024-10-08T22:45:54.713Z"
   },
   {
    "duration": 0,
    "start_time": "2024-10-08T22:45:54.714Z"
   },
   {
    "duration": 0,
    "start_time": "2024-10-08T22:45:54.715Z"
   },
   {
    "duration": 0,
    "start_time": "2024-10-08T22:45:54.716Z"
   },
   {
    "duration": 0,
    "start_time": "2024-10-08T22:45:54.717Z"
   },
   {
    "duration": 0,
    "start_time": "2024-10-08T22:45:54.718Z"
   },
   {
    "duration": 0,
    "start_time": "2024-10-08T22:45:54.719Z"
   },
   {
    "duration": 0,
    "start_time": "2024-10-08T22:45:54.720Z"
   },
   {
    "duration": 0,
    "start_time": "2024-10-08T22:45:54.721Z"
   },
   {
    "duration": 0,
    "start_time": "2024-10-08T22:45:54.722Z"
   },
   {
    "duration": 0,
    "start_time": "2024-10-08T22:45:54.770Z"
   },
   {
    "duration": 0,
    "start_time": "2024-10-08T22:45:54.771Z"
   },
   {
    "duration": 0,
    "start_time": "2024-10-08T22:45:54.772Z"
   },
   {
    "duration": 0,
    "start_time": "2024-10-08T22:45:54.773Z"
   },
   {
    "duration": 1,
    "start_time": "2024-10-08T22:45:54.774Z"
   },
   {
    "duration": 0,
    "start_time": "2024-10-08T22:45:54.776Z"
   },
   {
    "duration": 0,
    "start_time": "2024-10-08T22:45:54.778Z"
   },
   {
    "duration": 0,
    "start_time": "2024-10-08T22:45:54.779Z"
   },
   {
    "duration": 0,
    "start_time": "2024-10-08T22:45:54.780Z"
   },
   {
    "duration": 0,
    "start_time": "2024-10-08T22:45:54.781Z"
   },
   {
    "duration": 0,
    "start_time": "2024-10-08T22:45:54.782Z"
   },
   {
    "duration": 0,
    "start_time": "2024-10-08T22:45:54.783Z"
   },
   {
    "duration": 0,
    "start_time": "2024-10-08T22:45:54.785Z"
   },
   {
    "duration": 0,
    "start_time": "2024-10-08T22:45:54.786Z"
   },
   {
    "duration": 0,
    "start_time": "2024-10-08T22:45:54.787Z"
   },
   {
    "duration": 0,
    "start_time": "2024-10-08T22:45:54.788Z"
   },
   {
    "duration": 0,
    "start_time": "2024-10-08T22:45:54.788Z"
   },
   {
    "duration": 0,
    "start_time": "2024-10-08T22:45:54.789Z"
   },
   {
    "duration": 0,
    "start_time": "2024-10-08T22:45:54.790Z"
   },
   {
    "duration": 0,
    "start_time": "2024-10-08T22:45:54.791Z"
   },
   {
    "duration": 0,
    "start_time": "2024-10-08T22:45:54.792Z"
   },
   {
    "duration": 0,
    "start_time": "2024-10-08T22:45:54.792Z"
   },
   {
    "duration": 0,
    "start_time": "2024-10-08T22:45:54.794Z"
   },
   {
    "duration": 0,
    "start_time": "2024-10-08T22:45:54.794Z"
   },
   {
    "duration": 0,
    "start_time": "2024-10-08T22:45:54.795Z"
   },
   {
    "duration": 0,
    "start_time": "2024-10-08T22:45:54.796Z"
   },
   {
    "duration": 0,
    "start_time": "2024-10-08T22:45:54.797Z"
   },
   {
    "duration": 0,
    "start_time": "2024-10-08T22:45:54.802Z"
   },
   {
    "duration": 0,
    "start_time": "2024-10-08T22:45:54.803Z"
   },
   {
    "duration": 0,
    "start_time": "2024-10-08T22:45:54.804Z"
   },
   {
    "duration": 0,
    "start_time": "2024-10-08T22:45:54.805Z"
   },
   {
    "duration": 0,
    "start_time": "2024-10-08T22:45:54.806Z"
   },
   {
    "duration": 0,
    "start_time": "2024-10-08T22:45:54.807Z"
   },
   {
    "duration": 0,
    "start_time": "2024-10-08T22:45:54.808Z"
   },
   {
    "duration": 0,
    "start_time": "2024-10-08T22:45:54.809Z"
   },
   {
    "duration": 0,
    "start_time": "2024-10-08T22:45:54.810Z"
   },
   {
    "duration": 0,
    "start_time": "2024-10-08T22:45:54.811Z"
   },
   {
    "duration": 0,
    "start_time": "2024-10-08T22:45:54.812Z"
   },
   {
    "duration": 0,
    "start_time": "2024-10-08T22:45:54.871Z"
   },
   {
    "duration": 0,
    "start_time": "2024-10-08T22:45:54.872Z"
   },
   {
    "duration": 0,
    "start_time": "2024-10-08T22:45:54.873Z"
   },
   {
    "duration": 0,
    "start_time": "2024-10-08T22:45:54.874Z"
   },
   {
    "duration": 0,
    "start_time": "2024-10-08T22:45:54.875Z"
   },
   {
    "duration": 0,
    "start_time": "2024-10-08T22:45:54.877Z"
   },
   {
    "duration": 0,
    "start_time": "2024-10-08T22:45:54.878Z"
   },
   {
    "duration": 0,
    "start_time": "2024-10-08T22:45:54.879Z"
   },
   {
    "duration": 0,
    "start_time": "2024-10-08T22:45:54.881Z"
   },
   {
    "duration": 2,
    "start_time": "2024-10-08T22:46:09.534Z"
   },
   {
    "duration": 59,
    "start_time": "2024-10-08T22:46:11.321Z"
   },
   {
    "duration": 160,
    "start_time": "2024-10-10T14:48:39.653Z"
   },
   {
    "duration": 2312,
    "start_time": "2024-10-10T14:48:51.932Z"
   },
   {
    "duration": 1040,
    "start_time": "2024-10-10T14:48:54.247Z"
   },
   {
    "duration": 496,
    "start_time": "2024-10-10T14:49:27.603Z"
   },
   {
    "duration": 950,
    "start_time": "2024-10-10T14:49:28.101Z"
   },
   {
    "duration": 14,
    "start_time": "2024-10-10T14:49:29.053Z"
   },
   {
    "duration": 95,
    "start_time": "2024-10-10T14:49:29.070Z"
   },
   {
    "duration": 23,
    "start_time": "2024-10-10T14:49:29.166Z"
   },
   {
    "duration": 8,
    "start_time": "2024-10-10T14:49:29.192Z"
   },
   {
    "duration": 8,
    "start_time": "2024-10-10T14:49:29.202Z"
   },
   {
    "duration": 7,
    "start_time": "2024-10-10T14:49:29.212Z"
   },
   {
    "duration": 130,
    "start_time": "2024-10-10T14:49:29.221Z"
   },
   {
    "duration": 11,
    "start_time": "2024-10-10T14:49:29.355Z"
   },
   {
    "duration": 121,
    "start_time": "2024-10-10T14:49:29.368Z"
   },
   {
    "duration": 86,
    "start_time": "2024-10-10T14:49:29.491Z"
   },
   {
    "duration": 43,
    "start_time": "2024-10-10T14:49:29.578Z"
   },
   {
    "duration": 17,
    "start_time": "2024-10-10T14:49:29.624Z"
   },
   {
    "duration": 6,
    "start_time": "2024-10-10T14:49:29.643Z"
   },
   {
    "duration": 38,
    "start_time": "2024-10-10T14:49:29.650Z"
   },
   {
    "duration": 29,
    "start_time": "2024-10-10T14:49:29.690Z"
   },
   {
    "duration": 18,
    "start_time": "2024-10-10T14:49:29.720Z"
   },
   {
    "duration": 6,
    "start_time": "2024-10-10T14:49:29.739Z"
   },
   {
    "duration": 5,
    "start_time": "2024-10-10T14:49:29.747Z"
   },
   {
    "duration": 6,
    "start_time": "2024-10-10T14:49:29.787Z"
   },
   {
    "duration": 5,
    "start_time": "2024-10-10T14:49:29.795Z"
   },
   {
    "duration": 796,
    "start_time": "2024-10-10T14:49:29.802Z"
   },
   {
    "duration": 292,
    "start_time": "2024-10-10T14:49:30.599Z"
   },
   {
    "duration": 5,
    "start_time": "2024-10-10T14:49:30.893Z"
   },
   {
    "duration": 14,
    "start_time": "2024-10-10T14:49:30.900Z"
   },
   {
    "duration": 13,
    "start_time": "2024-10-10T14:49:30.916Z"
   },
   {
    "duration": 12,
    "start_time": "2024-10-10T14:49:30.934Z"
   },
   {
    "duration": 5,
    "start_time": "2024-10-10T14:49:30.948Z"
   },
   {
    "duration": 42,
    "start_time": "2024-10-10T14:49:30.955Z"
   },
   {
    "duration": 7,
    "start_time": "2024-10-10T14:49:31.000Z"
   },
   {
    "duration": 4,
    "start_time": "2024-10-10T14:49:31.008Z"
   },
   {
    "duration": 8,
    "start_time": "2024-10-10T14:49:31.014Z"
   },
   {
    "duration": 17,
    "start_time": "2024-10-10T14:49:31.024Z"
   },
   {
    "duration": 77,
    "start_time": "2024-10-10T14:49:31.043Z"
   },
   {
    "duration": 9,
    "start_time": "2024-10-10T14:49:31.122Z"
   },
   {
    "duration": 84,
    "start_time": "2024-10-10T14:49:31.132Z"
   },
   {
    "duration": 31,
    "start_time": "2024-10-10T14:49:31.217Z"
   },
   {
    "duration": 8,
    "start_time": "2024-10-10T14:49:31.250Z"
   },
   {
    "duration": 42,
    "start_time": "2024-10-10T14:49:31.259Z"
   },
   {
    "duration": 4,
    "start_time": "2024-10-10T14:49:31.304Z"
   },
   {
    "duration": 5,
    "start_time": "2024-10-10T14:49:31.310Z"
   },
   {
    "duration": 6,
    "start_time": "2024-10-10T14:49:31.317Z"
   },
   {
    "duration": 247,
    "start_time": "2024-10-10T14:49:31.325Z"
   },
   {
    "duration": 16,
    "start_time": "2024-10-10T14:49:31.575Z"
   },
   {
    "duration": 133,
    "start_time": "2024-10-10T14:49:31.592Z"
   },
   {
    "duration": 13,
    "start_time": "2024-10-10T14:49:31.727Z"
   },
   {
    "duration": 215,
    "start_time": "2024-10-10T14:49:31.742Z"
   },
   {
    "duration": 10,
    "start_time": "2024-10-10T14:49:31.959Z"
   },
   {
    "duration": 19,
    "start_time": "2024-10-10T14:49:31.970Z"
   },
   {
    "duration": 573,
    "start_time": "2024-10-10T14:49:31.991Z"
   },
   {
    "duration": 0,
    "start_time": "2024-10-10T14:49:32.566Z"
   },
   {
    "duration": 0,
    "start_time": "2024-10-10T14:49:32.567Z"
   },
   {
    "duration": 0,
    "start_time": "2024-10-10T14:49:32.568Z"
   },
   {
    "duration": 0,
    "start_time": "2024-10-10T14:49:32.569Z"
   },
   {
    "duration": 0,
    "start_time": "2024-10-10T14:49:32.570Z"
   },
   {
    "duration": 0,
    "start_time": "2024-10-10T14:49:32.572Z"
   },
   {
    "duration": 0,
    "start_time": "2024-10-10T14:49:32.587Z"
   },
   {
    "duration": 0,
    "start_time": "2024-10-10T14:49:32.588Z"
   },
   {
    "duration": 0,
    "start_time": "2024-10-10T14:49:32.589Z"
   },
   {
    "duration": 0,
    "start_time": "2024-10-10T14:49:32.591Z"
   },
   {
    "duration": 0,
    "start_time": "2024-10-10T14:49:32.592Z"
   },
   {
    "duration": 0,
    "start_time": "2024-10-10T14:49:32.593Z"
   },
   {
    "duration": 0,
    "start_time": "2024-10-10T14:49:32.594Z"
   },
   {
    "duration": 0,
    "start_time": "2024-10-10T14:49:32.595Z"
   },
   {
    "duration": 0,
    "start_time": "2024-10-10T14:49:32.596Z"
   },
   {
    "duration": 0,
    "start_time": "2024-10-10T14:49:32.597Z"
   },
   {
    "duration": 0,
    "start_time": "2024-10-10T14:49:32.598Z"
   },
   {
    "duration": 0,
    "start_time": "2024-10-10T14:49:32.599Z"
   },
   {
    "duration": 0,
    "start_time": "2024-10-10T14:49:32.600Z"
   },
   {
    "duration": 0,
    "start_time": "2024-10-10T14:49:32.601Z"
   },
   {
    "duration": 0,
    "start_time": "2024-10-10T14:49:32.602Z"
   },
   {
    "duration": 0,
    "start_time": "2024-10-10T14:49:32.603Z"
   },
   {
    "duration": 0,
    "start_time": "2024-10-10T14:49:32.604Z"
   },
   {
    "duration": 0,
    "start_time": "2024-10-10T14:49:32.605Z"
   },
   {
    "duration": 11,
    "start_time": "2024-10-10T14:51:08.847Z"
   },
   {
    "duration": 11,
    "start_time": "2024-10-10T14:51:33.990Z"
   },
   {
    "duration": 10,
    "start_time": "2024-10-10T14:51:48.019Z"
   },
   {
    "duration": 31,
    "start_time": "2024-10-10T14:56:49.827Z"
   },
   {
    "duration": 475,
    "start_time": "2024-10-10T14:57:34.414Z"
   },
   {
    "duration": 915,
    "start_time": "2024-10-10T14:57:34.892Z"
   },
   {
    "duration": 10,
    "start_time": "2024-10-10T14:57:35.809Z"
   },
   {
    "duration": 9,
    "start_time": "2024-10-10T14:57:35.822Z"
   },
   {
    "duration": 10,
    "start_time": "2024-10-10T14:57:35.835Z"
   },
   {
    "duration": 8,
    "start_time": "2024-10-10T14:57:35.846Z"
   },
   {
    "duration": 37,
    "start_time": "2024-10-10T14:57:35.856Z"
   },
   {
    "duration": 7,
    "start_time": "2024-10-10T14:57:35.895Z"
   },
   {
    "duration": 113,
    "start_time": "2024-10-10T14:57:35.904Z"
   },
   {
    "duration": 12,
    "start_time": "2024-10-10T14:57:36.019Z"
   },
   {
    "duration": 131,
    "start_time": "2024-10-10T14:57:36.032Z"
   },
   {
    "duration": 99,
    "start_time": "2024-10-10T14:57:36.164Z"
   },
   {
    "duration": 51,
    "start_time": "2024-10-10T14:57:36.265Z"
   },
   {
    "duration": 14,
    "start_time": "2024-10-10T14:57:36.320Z"
   },
   {
    "duration": 5,
    "start_time": "2024-10-10T14:57:36.336Z"
   },
   {
    "duration": 9,
    "start_time": "2024-10-10T14:57:36.343Z"
   },
   {
    "duration": 52,
    "start_time": "2024-10-10T14:57:36.353Z"
   },
   {
    "duration": 12,
    "start_time": "2024-10-10T14:57:36.407Z"
   },
   {
    "duration": 5,
    "start_time": "2024-10-10T14:57:36.420Z"
   },
   {
    "duration": 5,
    "start_time": "2024-10-10T14:57:36.427Z"
   },
   {
    "duration": 6,
    "start_time": "2024-10-10T14:57:36.433Z"
   },
   {
    "duration": 5,
    "start_time": "2024-10-10T14:57:36.440Z"
   },
   {
    "duration": 845,
    "start_time": "2024-10-10T14:57:36.448Z"
   },
   {
    "duration": 306,
    "start_time": "2024-10-10T14:57:37.295Z"
   },
   {
    "duration": 5,
    "start_time": "2024-10-10T14:57:37.603Z"
   },
   {
    "duration": 11,
    "start_time": "2024-10-10T14:57:37.610Z"
   },
   {
    "duration": 11,
    "start_time": "2024-10-10T14:57:37.623Z"
   },
   {
    "duration": 9,
    "start_time": "2024-10-10T14:57:37.636Z"
   },
   {
    "duration": 4,
    "start_time": "2024-10-10T14:57:37.647Z"
   },
   {
    "duration": 41,
    "start_time": "2024-10-10T14:57:37.652Z"
   },
   {
    "duration": 6,
    "start_time": "2024-10-10T14:57:37.695Z"
   },
   {
    "duration": 5,
    "start_time": "2024-10-10T14:57:37.702Z"
   },
   {
    "duration": 7,
    "start_time": "2024-10-10T14:57:37.708Z"
   },
   {
    "duration": 17,
    "start_time": "2024-10-10T14:57:37.717Z"
   },
   {
    "duration": 65,
    "start_time": "2024-10-10T14:57:37.735Z"
   },
   {
    "duration": 8,
    "start_time": "2024-10-10T14:57:37.802Z"
   },
   {
    "duration": 81,
    "start_time": "2024-10-10T14:57:37.812Z"
   },
   {
    "duration": 27,
    "start_time": "2024-10-10T14:57:37.895Z"
   },
   {
    "duration": 7,
    "start_time": "2024-10-10T14:57:37.924Z"
   },
   {
    "duration": 21,
    "start_time": "2024-10-10T14:57:37.933Z"
   },
   {
    "duration": 28,
    "start_time": "2024-10-10T14:57:37.959Z"
   },
   {
    "duration": 4,
    "start_time": "2024-10-10T14:57:37.988Z"
   },
   {
    "duration": 8,
    "start_time": "2024-10-10T14:57:37.994Z"
   },
   {
    "duration": 224,
    "start_time": "2024-10-10T14:57:38.005Z"
   },
   {
    "duration": 7,
    "start_time": "2024-10-10T14:57:38.231Z"
   },
   {
    "duration": 126,
    "start_time": "2024-10-10T14:57:38.239Z"
   },
   {
    "duration": 20,
    "start_time": "2024-10-10T14:57:38.367Z"
   },
   {
    "duration": 209,
    "start_time": "2024-10-10T14:57:38.389Z"
   },
   {
    "duration": 9,
    "start_time": "2024-10-10T14:57:38.599Z"
   },
   {
    "duration": 5,
    "start_time": "2024-10-10T14:57:38.610Z"
   },
   {
    "duration": 570,
    "start_time": "2024-10-10T14:57:38.617Z"
   },
   {
    "duration": 0,
    "start_time": "2024-10-10T14:57:39.189Z"
   },
   {
    "duration": 0,
    "start_time": "2024-10-10T14:57:39.190Z"
   },
   {
    "duration": 0,
    "start_time": "2024-10-10T14:57:39.192Z"
   },
   {
    "duration": 0,
    "start_time": "2024-10-10T14:57:39.193Z"
   },
   {
    "duration": 0,
    "start_time": "2024-10-10T14:57:39.194Z"
   },
   {
    "duration": 0,
    "start_time": "2024-10-10T14:57:39.195Z"
   },
   {
    "duration": 0,
    "start_time": "2024-10-10T14:57:39.196Z"
   },
   {
    "duration": 0,
    "start_time": "2024-10-10T14:57:39.197Z"
   },
   {
    "duration": 0,
    "start_time": "2024-10-10T14:57:39.198Z"
   },
   {
    "duration": 0,
    "start_time": "2024-10-10T14:57:39.199Z"
   },
   {
    "duration": 0,
    "start_time": "2024-10-10T14:57:39.201Z"
   },
   {
    "duration": 0,
    "start_time": "2024-10-10T14:57:39.202Z"
   },
   {
    "duration": 0,
    "start_time": "2024-10-10T14:57:39.203Z"
   },
   {
    "duration": 0,
    "start_time": "2024-10-10T14:57:39.204Z"
   },
   {
    "duration": 0,
    "start_time": "2024-10-10T14:57:39.206Z"
   },
   {
    "duration": 0,
    "start_time": "2024-10-10T14:57:39.207Z"
   },
   {
    "duration": 0,
    "start_time": "2024-10-10T14:57:39.208Z"
   },
   {
    "duration": 0,
    "start_time": "2024-10-10T14:57:39.209Z"
   },
   {
    "duration": 0,
    "start_time": "2024-10-10T14:57:39.211Z"
   },
   {
    "duration": 0,
    "start_time": "2024-10-10T14:57:39.213Z"
   },
   {
    "duration": 0,
    "start_time": "2024-10-10T14:57:39.215Z"
   },
   {
    "duration": 0,
    "start_time": "2024-10-10T14:57:39.215Z"
   },
   {
    "duration": 0,
    "start_time": "2024-10-10T14:57:39.217Z"
   },
   {
    "duration": 0,
    "start_time": "2024-10-10T14:57:39.218Z"
   },
   {
    "duration": 35,
    "start_time": "2024-10-10T14:58:53.793Z"
   },
   {
    "duration": 35,
    "start_time": "2024-10-10T15:00:45.922Z"
   },
   {
    "duration": 22,
    "start_time": "2024-10-10T15:00:58.584Z"
   },
   {
    "duration": 10,
    "start_time": "2024-10-10T15:02:19.210Z"
   },
   {
    "duration": 50,
    "start_time": "2024-10-10T15:02:49.944Z"
   },
   {
    "duration": 34,
    "start_time": "2024-10-10T15:04:36.098Z"
   },
   {
    "duration": 435,
    "start_time": "2024-10-10T15:04:39.442Z"
   },
   {
    "duration": 30,
    "start_time": "2024-10-10T15:05:30.676Z"
   },
   {
    "duration": 44,
    "start_time": "2024-10-10T15:05:59.681Z"
   }
  ],
  "colab": {
   "provenance": []
  },
  "kernelspec": {
   "display_name": "Python 3 (ipykernel)",
   "language": "python",
   "name": "python3"
  },
  "language_info": {
   "codemirror_mode": {
    "name": "ipython",
    "version": 3
   },
   "file_extension": ".py",
   "mimetype": "text/x-python",
   "name": "python",
   "nbconvert_exporter": "python",
   "pygments_lexer": "ipython3",
   "version": "3.12.4"
  },
  "toc": {
   "base_numbering": 1,
   "nav_menu": {},
   "number_sections": true,
   "sideBar": true,
   "skip_h1_title": true,
   "title_cell": "Table of Contents",
   "title_sidebar": "Contents",
   "toc_cell": false,
   "toc_position": {},
   "toc_section_display": true,
   "toc_window_display": false
  },
  "vscode": {
   "interpreter": {
    "hash": "01a7be9ec63e704a62cefc5fe7a4756944464ee731be31632bdf42a4cb4688cf"
   }
  }
 },
 "nbformat": 4,
 "nbformat_minor": 5
}
