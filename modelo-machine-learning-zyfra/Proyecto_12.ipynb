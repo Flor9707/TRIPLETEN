{
 "cells": [
  {
   "cell_type": "markdown",
   "id": "05d7c62e-f0ca-48e3-920d-f2e282f76e17",
   "metadata": {},
   "source": [
    "# Proyecto 12"
   ]
  },
  {
   "cell_type": "markdown",
   "id": "f13e9221-c00a-48bd-8c01-e8ce3febe238",
   "metadata": {},
   "source": [
    "Prepara un prototipo de un modelo de machine learning para Zyfra. La empresa desarrolla soluciones de eficiencia para la industria pesada.\n",
    "\n",
    "El modelo debe predecir la cantidad de oro extraído del mineral de oro. Dispones de los datos de extracción y purificación.\n",
    "\n",
    "El modelo ayudará a optimizar la producción y a eliminar los parámetros no rentables.\n",
    "\n",
    "Tendrás que:\n",
    "\n",
    "Preparar los datos.\n",
    "Realizar el análisis de datos.\n",
    "Desarrollar un modelo y entrenarlo.\n",
    "\n",
    "Necesitamos predecir dos valores:\r\n",
    "\r\n",
    "La recuperación del concentrado rougher rougher.output.recovery.\r\n",
    "La recuperación final del concentrado final.output.recovery."
   ]
  },
  {
   "cell_type": "markdown",
   "id": "8f5efe94-e6fd-4376-8d11-795ca8cfabcf",
   "metadata": {},
   "source": [
    "## 1 Preparacion de Datos\n"
   ]
  },
  {
   "cell_type": "markdown",
   "id": "26234a73-b26f-48bd-b0ef-b60c5121ec5b",
   "metadata": {},
   "source": [
    "### 1.1 Visualizacion de Datos"
   ]
  },
  {
   "cell_type": "code",
   "execution_count": 187,
   "id": "db01b741-7802-41c4-9b81-8f14cc51beb5",
   "metadata": {},
   "outputs": [],
   "source": [
    "# Importar Librerias\n",
    "import pandas as pd\n",
    "import numpy as np \n",
    "import matplotlib.pyplot as plt\n",
    "import seaborn as sns\n",
    "from sklearn.preprocessing import StandardScaler\n",
    "from sklearn.linear_model import LinearRegression\n",
    "from sklearn.model_selection import train_test_split\n",
    "from sklearn.metrics import mean_squared_error, root_mean_squared_error\n",
    "from sklearn.tree import DecisionTreeRegressor\n",
    "from sklearn.ensemble import RandomForestRegressor\n",
    "from sklearn.model_selection import cross_val_score\n",
    "from sklearn.metrics import make_scorer"
   ]
  },
  {
   "cell_type": "code",
   "execution_count": 6,
   "id": "c3ea0802-b451-4ab2-8e9a-2a1e4689264a",
   "metadata": {},
   "outputs": [],
   "source": [
    "# Leer los datasets\n",
    "data_train = pd.read_csv('gold_recovery_train.csv',index_col='date', parse_dates=True)\n",
    "data_test = pd.read_csv('gold_recovery_test.csv',index_col='date', parse_dates=True)\n",
    "data_full = pd.read_csv('gold_recovery_full.csv',index_col='date', parse_dates=True)"
   ]
  },
  {
   "cell_type": "code",
   "execution_count": 7,
   "id": "0746f528-f9f0-4d47-88b7-7ad2dd2974b4",
   "metadata": {},
   "outputs": [
    {
     "name": "stdout",
     "output_type": "stream",
     "text": [
      "<class 'pandas.core.frame.DataFrame'>\n",
      "DatetimeIndex: 22716 entries, 2016-01-15 00:00:00 to 2018-08-18 10:59:59\n",
      "Data columns (total 86 columns):\n",
      " #   Column                                              Non-Null Count  Dtype  \n",
      "---  ------                                              --------------  -----  \n",
      " 0   final.output.concentrate_ag                         22627 non-null  float64\n",
      " 1   final.output.concentrate_pb                         22629 non-null  float64\n",
      " 2   final.output.concentrate_sol                        22331 non-null  float64\n",
      " 3   final.output.concentrate_au                         22630 non-null  float64\n",
      " 4   final.output.recovery                               20753 non-null  float64\n",
      " 5   final.output.tail_ag                                22633 non-null  float64\n",
      " 6   final.output.tail_pb                                22516 non-null  float64\n",
      " 7   final.output.tail_sol                               22445 non-null  float64\n",
      " 8   final.output.tail_au                                22635 non-null  float64\n",
      " 9   primary_cleaner.input.sulfate                       21107 non-null  float64\n",
      " 10  primary_cleaner.input.depressant                    21170 non-null  float64\n",
      " 11  primary_cleaner.input.feed_size                     22716 non-null  float64\n",
      " 12  primary_cleaner.input.xanthate                      21565 non-null  float64\n",
      " 13  primary_cleaner.output.concentrate_ag               22618 non-null  float64\n",
      " 14  primary_cleaner.output.concentrate_pb               22268 non-null  float64\n",
      " 15  primary_cleaner.output.concentrate_sol              21918 non-null  float64\n",
      " 16  primary_cleaner.output.concentrate_au               22618 non-null  float64\n",
      " 17  primary_cleaner.output.tail_ag                      22614 non-null  float64\n",
      " 18  primary_cleaner.output.tail_pb                      22594 non-null  float64\n",
      " 19  primary_cleaner.output.tail_sol                     22365 non-null  float64\n",
      " 20  primary_cleaner.output.tail_au                      22617 non-null  float64\n",
      " 21  primary_cleaner.state.floatbank8_a_air              22660 non-null  float64\n",
      " 22  primary_cleaner.state.floatbank8_a_level            22667 non-null  float64\n",
      " 23  primary_cleaner.state.floatbank8_b_air              22660 non-null  float64\n",
      " 24  primary_cleaner.state.floatbank8_b_level            22673 non-null  float64\n",
      " 25  primary_cleaner.state.floatbank8_c_air              22662 non-null  float64\n",
      " 26  primary_cleaner.state.floatbank8_c_level            22673 non-null  float64\n",
      " 27  primary_cleaner.state.floatbank8_d_air              22661 non-null  float64\n",
      " 28  primary_cleaner.state.floatbank8_d_level            22673 non-null  float64\n",
      " 29  rougher.calculation.sulfate_to_au_concentrate       22672 non-null  float64\n",
      " 30  rougher.calculation.floatbank10_sulfate_to_au_feed  22672 non-null  float64\n",
      " 31  rougher.calculation.floatbank11_sulfate_to_au_feed  22672 non-null  float64\n",
      " 32  rougher.calculation.au_pb_ratio                     21089 non-null  float64\n",
      " 33  rougher.input.feed_ag                               22618 non-null  float64\n",
      " 34  rougher.input.feed_pb                               22472 non-null  float64\n",
      " 35  rougher.input.feed_rate                             22163 non-null  float64\n",
      " 36  rougher.input.feed_size                             22277 non-null  float64\n",
      " 37  rougher.input.feed_sol                              22357 non-null  float64\n",
      " 38  rougher.input.feed_au                               22617 non-null  float64\n",
      " 39  rougher.input.floatbank10_sulfate                   21415 non-null  float64\n",
      " 40  rougher.input.floatbank10_xanthate                  22247 non-null  float64\n",
      " 41  rougher.input.floatbank11_sulfate                   22038 non-null  float64\n",
      " 42  rougher.input.floatbank11_xanthate                  20459 non-null  float64\n",
      " 43  rougher.output.concentrate_ag                       22618 non-null  float64\n",
      " 44  rougher.output.concentrate_pb                       22618 non-null  float64\n",
      " 45  rougher.output.concentrate_sol                      22526 non-null  float64\n",
      " 46  rougher.output.concentrate_au                       22618 non-null  float64\n",
      " 47  rougher.output.recovery                             19597 non-null  float64\n",
      " 48  rougher.output.tail_ag                              19979 non-null  float64\n",
      " 49  rougher.output.tail_pb                              22618 non-null  float64\n",
      " 50  rougher.output.tail_sol                             19980 non-null  float64\n",
      " 51  rougher.output.tail_au                              19980 non-null  float64\n",
      " 52  rougher.state.floatbank10_a_air                     22646 non-null  float64\n",
      " 53  rougher.state.floatbank10_a_level                   22647 non-null  float64\n",
      " 54  rougher.state.floatbank10_b_air                     22646 non-null  float64\n",
      " 55  rougher.state.floatbank10_b_level                   22647 non-null  float64\n",
      " 56  rougher.state.floatbank10_c_air                     22646 non-null  float64\n",
      " 57  rougher.state.floatbank10_c_level                   22654 non-null  float64\n",
      " 58  rougher.state.floatbank10_d_air                     22641 non-null  float64\n",
      " 59  rougher.state.floatbank10_d_level                   22649 non-null  float64\n",
      " 60  rougher.state.floatbank10_e_air                     22096 non-null  float64\n",
      " 61  rougher.state.floatbank10_e_level                   22649 non-null  float64\n",
      " 62  rougher.state.floatbank10_f_air                     22641 non-null  float64\n",
      " 63  rougher.state.floatbank10_f_level                   22642 non-null  float64\n",
      " 64  secondary_cleaner.output.tail_ag                    22616 non-null  float64\n",
      " 65  secondary_cleaner.output.tail_pb                    22600 non-null  float64\n",
      " 66  secondary_cleaner.output.tail_sol                   20501 non-null  float64\n",
      " 67  secondary_cleaner.output.tail_au                    22618 non-null  float64\n",
      " 68  secondary_cleaner.state.floatbank2_a_air            22333 non-null  float64\n",
      " 69  secondary_cleaner.state.floatbank2_a_level          22591 non-null  float64\n",
      " 70  secondary_cleaner.state.floatbank2_b_air            22538 non-null  float64\n",
      " 71  secondary_cleaner.state.floatbank2_b_level          22588 non-null  float64\n",
      " 72  secondary_cleaner.state.floatbank3_a_air            22585 non-null  float64\n",
      " 73  secondary_cleaner.state.floatbank3_a_level          22587 non-null  float64\n",
      " 74  secondary_cleaner.state.floatbank3_b_air            22592 non-null  float64\n",
      " 75  secondary_cleaner.state.floatbank3_b_level          22590 non-null  float64\n",
      " 76  secondary_cleaner.state.floatbank4_a_air            22571 non-null  float64\n",
      " 77  secondary_cleaner.state.floatbank4_a_level          22587 non-null  float64\n",
      " 78  secondary_cleaner.state.floatbank4_b_air            22608 non-null  float64\n",
      " 79  secondary_cleaner.state.floatbank4_b_level          22607 non-null  float64\n",
      " 80  secondary_cleaner.state.floatbank5_a_air            22615 non-null  float64\n",
      " 81  secondary_cleaner.state.floatbank5_a_level          22615 non-null  float64\n",
      " 82  secondary_cleaner.state.floatbank5_b_air            22615 non-null  float64\n",
      " 83  secondary_cleaner.state.floatbank5_b_level          22616 non-null  float64\n",
      " 84  secondary_cleaner.state.floatbank6_a_air            22597 non-null  float64\n",
      " 85  secondary_cleaner.state.floatbank6_a_level          22615 non-null  float64\n",
      "dtypes: float64(86)\n",
      "memory usage: 15.1 MB\n"
     ]
    }
   ],
   "source": [
    "data_full.info()"
   ]
  },
  {
   "cell_type": "markdown",
   "id": "5d5307b1-c7aa-4bd6-9f20-d922328df6c2",
   "metadata": {},
   "source": [
    "### 1.2 Comprobar el calculo de recuperacion "
   ]
  },
  {
   "cell_type": "code",
   "execution_count": 9,
   "id": "e9df7636-e03c-49f3-99c5-420ee85b9ab5",
   "metadata": {},
   "outputs": [],
   "source": [
    "# Crear una funcion para comprobar el calculo de recuperacion\n",
    "def metrica_recuperacion (fila):\n",
    "    numerador= fila['rougher.output.concentrate_au']* (fila['rougher.input.feed_au']- fila['rougher.output.tail_au'])\n",
    "    denominador= fila['rougher.input.feed_au'] * (fila['rougher.output.concentrate_au'] - fila['rougher.output.tail_au'])\n",
    "    return numerador/denominador* 100    "
   ]
  },
  {
   "cell_type": "code",
   "execution_count": 10,
   "id": "317b9936-6abd-4ac8-905b-06f6d28bd570",
   "metadata": {},
   "outputs": [],
   "source": [
    "df_comprobacion_recovery = data_train.copy()"
   ]
  },
  {
   "cell_type": "code",
   "execution_count": 11,
   "id": "417e0e1b-1dbf-4a62-97fa-820b9f16cee0",
   "metadata": {},
   "outputs": [
    {
     "name": "stderr",
     "output_type": "stream",
     "text": [
      "C:\\Users\\Flor Borja\\AppData\\Local\\Temp\\ipykernel_5372\\3781542755.py:5: RuntimeWarning: divide by zero encountered in scalar divide\n",
      "  return numerador/denominador* 100\n",
      "C:\\Users\\Flor Borja\\AppData\\Local\\Temp\\ipykernel_5372\\3781542755.py:5: RuntimeWarning: invalid value encountered in scalar divide\n",
      "  return numerador/denominador* 100\n"
     ]
    }
   ],
   "source": [
    "df_comprobacion_recovery['recuperacion_metrica']= df_comprobacion_recovery.apply(lambda fila: metrica_recuperacion(fila), axis=1)"
   ]
  },
  {
   "cell_type": "code",
   "execution_count": 12,
   "id": "3eac2627-6dc0-4dbf-a967-4b94d3bd3c37",
   "metadata": {},
   "outputs": [],
   "source": [
    "diferencia_real_vs_metrica = (df_comprobacion_recovery['recuperacion_metrica'] - df_comprobacion_recovery['rougher.output.recovery'])"
   ]
  },
  {
   "cell_type": "code",
   "execution_count": 13,
   "id": "1676ec09-aaf5-4988-8056-adc1ec4f7f08",
   "metadata": {},
   "outputs": [
    {
     "data": {
      "text/plain": [
       "9.303415616264301e-15"
      ]
     },
     "execution_count": 13,
     "metadata": {},
     "output_type": "execute_result"
    }
   ],
   "source": [
    "diferencia_real_vs_metrica.abs().mean()"
   ]
  },
  {
   "cell_type": "markdown",
   "id": "42d4fc0a-025c-400d-9598-f41ef220338f",
   "metadata": {},
   "source": [
    "#### Observacion \n",
    "El calculo de recuperacion es correcto al aplicarlo en el conjunto de entrenamiento y compararlo con los datos de la caracteristica rougher.output.recovery "
   ]
  },
  {
   "cell_type": "markdown",
   "id": "713c2354-459b-4b3d-9aec-97ceaf00d160",
   "metadata": {},
   "source": [
    "### 1.3 Analizar las caracteristicas no disponibles en el conjunto de prueba"
   ]
  },
  {
   "cell_type": "code",
   "execution_count": 16,
   "id": "e9a72e7d-311d-4a63-a7d5-1451a6a27251",
   "metadata": {},
   "outputs": [
    {
     "name": "stdout",
     "output_type": "stream",
     "text": [
      "<class 'pandas.core.frame.DataFrame'>\n",
      "DatetimeIndex: 5856 entries, 2016-09-01 00:59:59 to 2017-12-31 23:59:59\n",
      "Data columns (total 52 columns):\n",
      " #   Column                                      Non-Null Count  Dtype  \n",
      "---  ------                                      --------------  -----  \n",
      " 0   primary_cleaner.input.sulfate               5554 non-null   float64\n",
      " 1   primary_cleaner.input.depressant            5572 non-null   float64\n",
      " 2   primary_cleaner.input.feed_size             5856 non-null   float64\n",
      " 3   primary_cleaner.input.xanthate              5690 non-null   float64\n",
      " 4   primary_cleaner.state.floatbank8_a_air      5840 non-null   float64\n",
      " 5   primary_cleaner.state.floatbank8_a_level    5840 non-null   float64\n",
      " 6   primary_cleaner.state.floatbank8_b_air      5840 non-null   float64\n",
      " 7   primary_cleaner.state.floatbank8_b_level    5840 non-null   float64\n",
      " 8   primary_cleaner.state.floatbank8_c_air      5840 non-null   float64\n",
      " 9   primary_cleaner.state.floatbank8_c_level    5840 non-null   float64\n",
      " 10  primary_cleaner.state.floatbank8_d_air      5840 non-null   float64\n",
      " 11  primary_cleaner.state.floatbank8_d_level    5840 non-null   float64\n",
      " 12  rougher.input.feed_ag                       5840 non-null   float64\n",
      " 13  rougher.input.feed_pb                       5840 non-null   float64\n",
      " 14  rougher.input.feed_rate                     5816 non-null   float64\n",
      " 15  rougher.input.feed_size                     5834 non-null   float64\n",
      " 16  rougher.input.feed_sol                      5789 non-null   float64\n",
      " 17  rougher.input.feed_au                       5840 non-null   float64\n",
      " 18  rougher.input.floatbank10_sulfate           5599 non-null   float64\n",
      " 19  rougher.input.floatbank10_xanthate          5733 non-null   float64\n",
      " 20  rougher.input.floatbank11_sulfate           5801 non-null   float64\n",
      " 21  rougher.input.floatbank11_xanthate          5503 non-null   float64\n",
      " 22  rougher.state.floatbank10_a_air             5839 non-null   float64\n",
      " 23  rougher.state.floatbank10_a_level           5840 non-null   float64\n",
      " 24  rougher.state.floatbank10_b_air             5839 non-null   float64\n",
      " 25  rougher.state.floatbank10_b_level           5840 non-null   float64\n",
      " 26  rougher.state.floatbank10_c_air             5839 non-null   float64\n",
      " 27  rougher.state.floatbank10_c_level           5840 non-null   float64\n",
      " 28  rougher.state.floatbank10_d_air             5839 non-null   float64\n",
      " 29  rougher.state.floatbank10_d_level           5840 non-null   float64\n",
      " 30  rougher.state.floatbank10_e_air             5839 non-null   float64\n",
      " 31  rougher.state.floatbank10_e_level           5840 non-null   float64\n",
      " 32  rougher.state.floatbank10_f_air             5839 non-null   float64\n",
      " 33  rougher.state.floatbank10_f_level           5840 non-null   float64\n",
      " 34  secondary_cleaner.state.floatbank2_a_air    5836 non-null   float64\n",
      " 35  secondary_cleaner.state.floatbank2_a_level  5840 non-null   float64\n",
      " 36  secondary_cleaner.state.floatbank2_b_air    5833 non-null   float64\n",
      " 37  secondary_cleaner.state.floatbank2_b_level  5840 non-null   float64\n",
      " 38  secondary_cleaner.state.floatbank3_a_air    5822 non-null   float64\n",
      " 39  secondary_cleaner.state.floatbank3_a_level  5840 non-null   float64\n",
      " 40  secondary_cleaner.state.floatbank3_b_air    5840 non-null   float64\n",
      " 41  secondary_cleaner.state.floatbank3_b_level  5840 non-null   float64\n",
      " 42  secondary_cleaner.state.floatbank4_a_air    5840 non-null   float64\n",
      " 43  secondary_cleaner.state.floatbank4_a_level  5840 non-null   float64\n",
      " 44  secondary_cleaner.state.floatbank4_b_air    5840 non-null   float64\n",
      " 45  secondary_cleaner.state.floatbank4_b_level  5840 non-null   float64\n",
      " 46  secondary_cleaner.state.floatbank5_a_air    5840 non-null   float64\n",
      " 47  secondary_cleaner.state.floatbank5_a_level  5840 non-null   float64\n",
      " 48  secondary_cleaner.state.floatbank5_b_air    5840 non-null   float64\n",
      " 49  secondary_cleaner.state.floatbank5_b_level  5840 non-null   float64\n",
      " 50  secondary_cleaner.state.floatbank6_a_air    5840 non-null   float64\n",
      " 51  secondary_cleaner.state.floatbank6_a_level  5840 non-null   float64\n",
      "dtypes: float64(52)\n",
      "memory usage: 2.4 MB\n"
     ]
    }
   ],
   "source": [
    "data_test.info()"
   ]
  },
  {
   "cell_type": "code",
   "execution_count": 17,
   "id": "a0dc58c9-e30e-4acc-ae8c-dab9c6f2c7c8",
   "metadata": {},
   "outputs": [],
   "source": [
    "# Rellenar los datos con el metodo ffill en los dataset del conjunto de entremaiento y prueba\n",
    "data_train = data_train.ffill()\n",
    "data_test = data_test.ffill()"
   ]
  },
  {
   "cell_type": "code",
   "execution_count": 18,
   "id": "c4a30827-b414-473a-8d09-26ab370d7aa5",
   "metadata": {},
   "outputs": [
    {
     "data": {
      "text/plain": [
       "86"
      ]
     },
     "execution_count": 18,
     "metadata": {},
     "output_type": "execute_result"
    }
   ],
   "source": [
    "# Calcular la longuitud de las columnas para visualizae cuantas faltan en el conjunto de prueba \n",
    "len(data_train.columns)"
   ]
  },
  {
   "cell_type": "code",
   "execution_count": 19,
   "id": "62ffbc97-5128-49b8-942c-2f4e68a08cff",
   "metadata": {},
   "outputs": [
    {
     "data": {
      "text/plain": [
       "52"
      ]
     },
     "execution_count": 19,
     "metadata": {},
     "output_type": "execute_result"
    }
   ],
   "source": [
    "len(data_test.columns)"
   ]
  },
  {
   "cell_type": "code",
   "execution_count": 20,
   "id": "37c52ade-5348-4f51-a541-02ca815aa88f",
   "metadata": {},
   "outputs": [],
   "source": [
    "missed_test_columns = set(list(data_train.columns.values)) - set(list(data_test.columns.values))"
   ]
  },
  {
   "cell_type": "code",
   "execution_count": 21,
   "id": "4036d306-55dc-454b-a538-b09bc5d1ee72",
   "metadata": {},
   "outputs": [
    {
     "data": {
      "text/plain": [
       "{'final.output.concentrate_ag',\n",
       " 'final.output.concentrate_au',\n",
       " 'final.output.concentrate_pb',\n",
       " 'final.output.concentrate_sol',\n",
       " 'final.output.recovery',\n",
       " 'final.output.tail_ag',\n",
       " 'final.output.tail_au',\n",
       " 'final.output.tail_pb',\n",
       " 'final.output.tail_sol',\n",
       " 'primary_cleaner.output.concentrate_ag',\n",
       " 'primary_cleaner.output.concentrate_au',\n",
       " 'primary_cleaner.output.concentrate_pb',\n",
       " 'primary_cleaner.output.concentrate_sol',\n",
       " 'primary_cleaner.output.tail_ag',\n",
       " 'primary_cleaner.output.tail_au',\n",
       " 'primary_cleaner.output.tail_pb',\n",
       " 'primary_cleaner.output.tail_sol',\n",
       " 'rougher.calculation.au_pb_ratio',\n",
       " 'rougher.calculation.floatbank10_sulfate_to_au_feed',\n",
       " 'rougher.calculation.floatbank11_sulfate_to_au_feed',\n",
       " 'rougher.calculation.sulfate_to_au_concentrate',\n",
       " 'rougher.output.concentrate_ag',\n",
       " 'rougher.output.concentrate_au',\n",
       " 'rougher.output.concentrate_pb',\n",
       " 'rougher.output.concentrate_sol',\n",
       " 'rougher.output.recovery',\n",
       " 'rougher.output.tail_ag',\n",
       " 'rougher.output.tail_au',\n",
       " 'rougher.output.tail_pb',\n",
       " 'rougher.output.tail_sol',\n",
       " 'secondary_cleaner.output.tail_ag',\n",
       " 'secondary_cleaner.output.tail_au',\n",
       " 'secondary_cleaner.output.tail_pb',\n",
       " 'secondary_cleaner.output.tail_sol'}"
      ]
     },
     "execution_count": 21,
     "metadata": {},
     "output_type": "execute_result"
    }
   ],
   "source": [
    "missed_test_columns"
   ]
  },
  {
   "cell_type": "markdown",
   "id": "67819560-839f-40d4-8616-bc9e61b6c666",
   "metadata": {},
   "source": [
    "#### Observacion \n",
    "En el conjunto de prueba no se observan las caracteristicas output propias del proceso de flotacion del oro y el tipo de caracteristicas son valores flotantes."
   ]
  },
  {
   "cell_type": "markdown",
   "id": "21bb1289-244a-4a23-879b-480a36006676",
   "metadata": {},
   "source": [
    "### 1.4 Preproceamiento de Datos"
   ]
  },
  {
   "cell_type": "code",
   "execution_count": 24,
   "id": "fc8d71a4-be3d-42d8-949b-74e9a81ab9a1",
   "metadata": {},
   "outputs": [
    {
     "name": "stdout",
     "output_type": "stream",
     "text": [
      "<class 'pandas.core.frame.DataFrame'>\n",
      "DatetimeIndex: 22716 entries, 2016-01-15 00:00:00 to 2018-08-18 10:59:59\n",
      "Data columns (total 86 columns):\n",
      " #   Column                                              Non-Null Count  Dtype  \n",
      "---  ------                                              --------------  -----  \n",
      " 0   final.output.concentrate_ag                         22627 non-null  float64\n",
      " 1   final.output.concentrate_pb                         22629 non-null  float64\n",
      " 2   final.output.concentrate_sol                        22331 non-null  float64\n",
      " 3   final.output.concentrate_au                         22630 non-null  float64\n",
      " 4   final.output.recovery                               20753 non-null  float64\n",
      " 5   final.output.tail_ag                                22633 non-null  float64\n",
      " 6   final.output.tail_pb                                22516 non-null  float64\n",
      " 7   final.output.tail_sol                               22445 non-null  float64\n",
      " 8   final.output.tail_au                                22635 non-null  float64\n",
      " 9   primary_cleaner.input.sulfate                       21107 non-null  float64\n",
      " 10  primary_cleaner.input.depressant                    21170 non-null  float64\n",
      " 11  primary_cleaner.input.feed_size                     22716 non-null  float64\n",
      " 12  primary_cleaner.input.xanthate                      21565 non-null  float64\n",
      " 13  primary_cleaner.output.concentrate_ag               22618 non-null  float64\n",
      " 14  primary_cleaner.output.concentrate_pb               22268 non-null  float64\n",
      " 15  primary_cleaner.output.concentrate_sol              21918 non-null  float64\n",
      " 16  primary_cleaner.output.concentrate_au               22618 non-null  float64\n",
      " 17  primary_cleaner.output.tail_ag                      22614 non-null  float64\n",
      " 18  primary_cleaner.output.tail_pb                      22594 non-null  float64\n",
      " 19  primary_cleaner.output.tail_sol                     22365 non-null  float64\n",
      " 20  primary_cleaner.output.tail_au                      22617 non-null  float64\n",
      " 21  primary_cleaner.state.floatbank8_a_air              22660 non-null  float64\n",
      " 22  primary_cleaner.state.floatbank8_a_level            22667 non-null  float64\n",
      " 23  primary_cleaner.state.floatbank8_b_air              22660 non-null  float64\n",
      " 24  primary_cleaner.state.floatbank8_b_level            22673 non-null  float64\n",
      " 25  primary_cleaner.state.floatbank8_c_air              22662 non-null  float64\n",
      " 26  primary_cleaner.state.floatbank8_c_level            22673 non-null  float64\n",
      " 27  primary_cleaner.state.floatbank8_d_air              22661 non-null  float64\n",
      " 28  primary_cleaner.state.floatbank8_d_level            22673 non-null  float64\n",
      " 29  rougher.calculation.sulfate_to_au_concentrate       22672 non-null  float64\n",
      " 30  rougher.calculation.floatbank10_sulfate_to_au_feed  22672 non-null  float64\n",
      " 31  rougher.calculation.floatbank11_sulfate_to_au_feed  22672 non-null  float64\n",
      " 32  rougher.calculation.au_pb_ratio                     21089 non-null  float64\n",
      " 33  rougher.input.feed_ag                               22618 non-null  float64\n",
      " 34  rougher.input.feed_pb                               22472 non-null  float64\n",
      " 35  rougher.input.feed_rate                             22163 non-null  float64\n",
      " 36  rougher.input.feed_size                             22277 non-null  float64\n",
      " 37  rougher.input.feed_sol                              22357 non-null  float64\n",
      " 38  rougher.input.feed_au                               22617 non-null  float64\n",
      " 39  rougher.input.floatbank10_sulfate                   21415 non-null  float64\n",
      " 40  rougher.input.floatbank10_xanthate                  22247 non-null  float64\n",
      " 41  rougher.input.floatbank11_sulfate                   22038 non-null  float64\n",
      " 42  rougher.input.floatbank11_xanthate                  20459 non-null  float64\n",
      " 43  rougher.output.concentrate_ag                       22618 non-null  float64\n",
      " 44  rougher.output.concentrate_pb                       22618 non-null  float64\n",
      " 45  rougher.output.concentrate_sol                      22526 non-null  float64\n",
      " 46  rougher.output.concentrate_au                       22618 non-null  float64\n",
      " 47  rougher.output.recovery                             19597 non-null  float64\n",
      " 48  rougher.output.tail_ag                              19979 non-null  float64\n",
      " 49  rougher.output.tail_pb                              22618 non-null  float64\n",
      " 50  rougher.output.tail_sol                             19980 non-null  float64\n",
      " 51  rougher.output.tail_au                              19980 non-null  float64\n",
      " 52  rougher.state.floatbank10_a_air                     22646 non-null  float64\n",
      " 53  rougher.state.floatbank10_a_level                   22647 non-null  float64\n",
      " 54  rougher.state.floatbank10_b_air                     22646 non-null  float64\n",
      " 55  rougher.state.floatbank10_b_level                   22647 non-null  float64\n",
      " 56  rougher.state.floatbank10_c_air                     22646 non-null  float64\n",
      " 57  rougher.state.floatbank10_c_level                   22654 non-null  float64\n",
      " 58  rougher.state.floatbank10_d_air                     22641 non-null  float64\n",
      " 59  rougher.state.floatbank10_d_level                   22649 non-null  float64\n",
      " 60  rougher.state.floatbank10_e_air                     22096 non-null  float64\n",
      " 61  rougher.state.floatbank10_e_level                   22649 non-null  float64\n",
      " 62  rougher.state.floatbank10_f_air                     22641 non-null  float64\n",
      " 63  rougher.state.floatbank10_f_level                   22642 non-null  float64\n",
      " 64  secondary_cleaner.output.tail_ag                    22616 non-null  float64\n",
      " 65  secondary_cleaner.output.tail_pb                    22600 non-null  float64\n",
      " 66  secondary_cleaner.output.tail_sol                   20501 non-null  float64\n",
      " 67  secondary_cleaner.output.tail_au                    22618 non-null  float64\n",
      " 68  secondary_cleaner.state.floatbank2_a_air            22333 non-null  float64\n",
      " 69  secondary_cleaner.state.floatbank2_a_level          22591 non-null  float64\n",
      " 70  secondary_cleaner.state.floatbank2_b_air            22538 non-null  float64\n",
      " 71  secondary_cleaner.state.floatbank2_b_level          22588 non-null  float64\n",
      " 72  secondary_cleaner.state.floatbank3_a_air            22585 non-null  float64\n",
      " 73  secondary_cleaner.state.floatbank3_a_level          22587 non-null  float64\n",
      " 74  secondary_cleaner.state.floatbank3_b_air            22592 non-null  float64\n",
      " 75  secondary_cleaner.state.floatbank3_b_level          22590 non-null  float64\n",
      " 76  secondary_cleaner.state.floatbank4_a_air            22571 non-null  float64\n",
      " 77  secondary_cleaner.state.floatbank4_a_level          22587 non-null  float64\n",
      " 78  secondary_cleaner.state.floatbank4_b_air            22608 non-null  float64\n",
      " 79  secondary_cleaner.state.floatbank4_b_level          22607 non-null  float64\n",
      " 80  secondary_cleaner.state.floatbank5_a_air            22615 non-null  float64\n",
      " 81  secondary_cleaner.state.floatbank5_a_level          22615 non-null  float64\n",
      " 82  secondary_cleaner.state.floatbank5_b_air            22615 non-null  float64\n",
      " 83  secondary_cleaner.state.floatbank5_b_level          22616 non-null  float64\n",
      " 84  secondary_cleaner.state.floatbank6_a_air            22597 non-null  float64\n",
      " 85  secondary_cleaner.state.floatbank6_a_level          22615 non-null  float64\n",
      "dtypes: float64(86)\n",
      "memory usage: 15.1 MB\n"
     ]
    }
   ],
   "source": [
    "# En el dataset que tienen los datos completos se va realizar el preprocesamiento de Datos \n",
    "data_full.info()"
   ]
  },
  {
   "cell_type": "code",
   "execution_count": 25,
   "id": "6e562fa1-a43d-49d0-b82a-f2045e66c44f",
   "metadata": {},
   "outputs": [],
   "source": [
    "# Rellenar los valores con el metodo ffill\n",
    "data_full = data_full.ffill()"
   ]
  },
  {
   "cell_type": "code",
   "execution_count": 26,
   "id": "b8f394ef-1b2e-46e6-90a3-d6c5d5167af6",
   "metadata": {},
   "outputs": [
    {
     "data": {
      "text/plain": [
       "final.output.concentrate_ag                   0\n",
       "rougher.state.floatbank10_b_air               0\n",
       "rougher.state.floatbank10_f_air               0\n",
       "rougher.state.floatbank10_e_level             0\n",
       "rougher.state.floatbank10_e_air               0\n",
       "                                             ..\n",
       "primary_cleaner.state.floatbank8_d_air        0\n",
       "primary_cleaner.state.floatbank8_c_level      0\n",
       "primary_cleaner.state.floatbank8_c_air        0\n",
       "primary_cleaner.state.floatbank8_b_level      0\n",
       "secondary_cleaner.state.floatbank6_a_level    0\n",
       "Length: 86, dtype: int64"
      ]
     },
     "execution_count": 26,
     "metadata": {},
     "output_type": "execute_result"
    }
   ],
   "source": [
    "data_full.isna().sum().sort_values(ascending = False)"
   ]
  },
  {
   "cell_type": "markdown",
   "id": "ea03ffdb-2230-49ad-bfb8-55ef1c00a6f8",
   "metadata": {},
   "source": [
    "## 2. Analisis de Datos"
   ]
  },
  {
   "cell_type": "markdown",
   "id": "222cf049-d621-4540-8b3b-d2583e455e67",
   "metadata": {},
   "source": [
    "### 2.1 Observa cómo cambia la concentración de metales (Au, Ag, Pb) en función de la etapa de purificación."
   ]
  },
  {
   "cell_type": "code",
   "execution_count": 29,
   "id": "1f6c874b-2593-41be-bb78-039ae84a9854",
   "metadata": {},
   "outputs": [],
   "source": [
    "# Establecer el proceso de purificacion\n",
    "procesos =[ \n",
    "    'rougher.input.feed_{}',\n",
    "    'rougher.output.concentrate_{}',\n",
    "    'primary_cleaner.output.concentrate_{}',\n",
    "    'final.output.concentrate_{}'\n",
    "]"
   ]
  },
  {
   "cell_type": "code",
   "execution_count": 30,
   "id": "b7e241fd-7871-40a1-9b95-db771df2b630",
   "metadata": {},
   "outputs": [],
   "source": [
    "# Crear una funcion para graficar la concentracion\n",
    "def grafico_concentracion(material):\n",
    "    pasos = [paso.format(material) for paso in procesos]\n",
    "    for paso in pasos:\n",
    "        data_full[paso].hist(alpha=0.5, bins=20)\n",
    "        plt.legend(pasos)  "
   ]
  },
  {
   "cell_type": "code",
   "execution_count": 31,
   "id": "29379be9-bd1a-47ed-b2e2-2aeed126e8b0",
   "metadata": {},
   "outputs": [
    {
     "data": {
      "text/plain": [
       "Text(0.5, 1.0, 'Cambio de concentracion en el oro')"
      ]
     },
     "execution_count": 31,
     "metadata": {},
     "output_type": "execute_result"
    },
    {
     "data": {
      "image/png": "[encoded data removed]",
      "text/plain": [
       "<Figure size 640x480 with 1 Axes>"
      ]
     },
     "metadata": {},
     "output_type": "display_data"
    }
   ],
   "source": [
    "grafico_concentracion('au')\n",
    "plt.title('Cambio de concentracion en el oro')"
   ]
  },
  {
   "cell_type": "code",
   "execution_count": 32,
   "id": "2417b156-70dc-482e-8945-7fdc7718bebd",
   "metadata": {},
   "outputs": [
    {
     "data": {
      "text/plain": [
       "Text(0.5, 1.0, 'Cambio de concentracion en la plata')"
      ]
     },
     "execution_count": 32,
     "metadata": {},
     "output_type": "execute_result"
    },
    {
     "data": {
      "image/png": "[encoded data removed]",
      "text/plain": [
       "<Figure size 640x480 with 1 Axes>"
      ]
     },
     "metadata": {},
     "output_type": "display_data"
    }
   ],
   "source": [
    "grafico_concentracion('ag')\n",
    "plt.title('Cambio de concentracion en la plata')"
   ]
  },
  {
   "cell_type": "code",
   "execution_count": 33,
   "id": "3d66d822-ebe3-4d7c-a006-f8b7a5f2a146",
   "metadata": {},
   "outputs": [
    {
     "data": {
      "text/plain": [
       "Text(0.5, 1.0, 'Cambio de concentracion en el plomo')"
      ]
     },
     "execution_count": 33,
     "metadata": {},
     "output_type": "execute_result"
    },
    {
     "data": {
      "image/png": "[encoded data removed]",
      "text/plain": [
       "<Figure size 640x480 with 1 Axes>"
      ]
     },
     "metadata": {},
     "output_type": "display_data"
    }
   ],
   "source": [
    "grafico_concentracion('pb')\n",
    "plt.title('Cambio de concentracion en el plomo')"
   ]
  },
  {
   "cell_type": "markdown",
   "id": "24017b42-68c3-4615-9e91-5ac84a6131e6",
   "metadata": {},
   "source": [
    "### 2.2 Compara las distribuciones del tamaño de las partículas de la alimentación en el conjunto de entrenamiento y en el conjunto de prueba. "
   ]
  },
  {
   "cell_type": "code",
   "execution_count": 35,
   "id": "0eb8c5a7-0fec-4f35-91bb-7a8ff6a57305",
   "metadata": {},
   "outputs": [],
   "source": [
    "# Crear una funcion que filtre el párametro feed_sive que es el tamaño de las particulas de alimentaicon de cada conjunto.\n",
    "def filtrar_columnas_feed_size(dataset, clave='feed_size'):\n",
    "    \"\"\"\n",
    "    Filtra las columnas que contienen 'feed_size' en el nombre del dataset.\n",
    "\n",
    "    Args:\n",
    "        dataset (DataFrame): Dataset a filtrar.\n",
    "        clave (str): Palabra clave para buscar en los nombres de las columnas.\n",
    "\n",
    "    Returns:\n",
    "        DataFrame: Un DataFrame con solo las columnas que contienen la clave.\n",
    "    \"\"\"\n",
    "    columnas = [col for col in dataset.columns if clave in col]\n",
    "    if not columnas:\n",
    "        raise ValueError(f\"No se encontraron columnas que contengan '{clave}' en el dataset.\")\n",
    "    return dataset[columnas]\n",
    "\n",
    "# Craer una funcion para comparar las distribucion de cada conjunto \n",
    "def comparar_distribuciones_feed_size(conjunto_entrenamiento, conjunto_prueba, clave='feed_size'):\n",
    "    \"\"\"\n",
    "    Compara las distribuciones de las columnas filtradas que contienen 'feed_size' \n",
    "    entre los datasets de entrenamiento y prueba.\n",
    "\n",
    "    Args:\n",
    "        conjunto_entrenamiento (DataFrame): Dataset de entrenamiento.\n",
    "        conjunto_prueba (DataFrame): Dataset de prueba.\n",
    "        clave (str): Palabra clave para buscar columnas (por defecto 'feed_size').\n",
    "    \"\"\"\n",
    "    # Filtrar las columnas que contienen 'feed_size'\n",
    "    entrenamiento_filtrado = filtrar_columnas_feed_size(conjunto_entrenamiento, clave)\n",
    "    prueba_filtrada = filtrar_columnas_feed_size(conjunto_prueba, clave)\n",
    "    \n",
    "    # Verificar que los datasets tengan las mismas columnas para comparar\n",
    "    columnas_comunes = set(entrenamiento_filtrado.columns).intersection(set(prueba_filtrada.columns))\n",
    "    if not columnas_comunes:\n",
    "        raise ValueError(\"No hay columnas comunes con 'feed_size' entre los datasets de entrenamiento y prueba.\")\n",
    "    \n",
    "    # Comparar las distribuciones de las columnas comunes\n",
    "    for columna in columnas_comunes:\n",
    "        plt.figure(figsize=(10, 6))\n",
    "        plt.hist(entrenamiento_filtrado[columna], bins=20, alpha=0.6, label='Conjunto de Entrenamiento', color='blue')\n",
    "        plt.hist(prueba_filtrada[columna], bins=20, alpha=0.6, label='Conjunto de Prueba', color='orange')\n",
    "        \n",
    "        # Configuración del gráfico\n",
    "        plt.title(f'Comparación de Distribuciones: {columna}')\n",
    "        plt.xlabel('Valores')\n",
    "        plt.ylabel('Frecuencia')\n",
    "        plt.legend(loc='upper right')\n",
    "        plt.show()"
   ]
  },
  {
   "cell_type": "code",
   "execution_count": 36,
   "id": "b602d2ce-ac54-4276-b3e7-2aa767942a9e",
   "metadata": {},
   "outputs": [
    {
     "data": {
      "image/png": "[encoded data removed]",
      "text/plain": [
       "<Figure size 1000x600 with 1 Axes>"
      ]
     },
     "metadata": {},
     "output_type": "display_data"
    },
    {
     "data": {
      "image/png": "[encoded data removed]",
      "text/plain": [
       "<Figure size 1000x600 with 1 Axes>"
      ]
     },
     "metadata": {},
     "output_type": "display_data"
    }
   ],
   "source": [
    "conjunto_entrenamiento = pd.DataFrame(data_train)\n",
    "conjunto_prueba = pd.DataFrame(data_test)\n",
    "\n",
    "# Usar la función\n",
    "comparar_distribuciones_feed_size(conjunto_entrenamiento, conjunto_prueba)"
   ]
  },
  {
   "cell_type": "markdown",
   "id": "d1075cf9-fc99-4395-a503-429a6dcb9468",
   "metadata": {},
   "source": [
    "### Observacion\n",
    "Las distibuciones del tamaño de las particulas de alimentacion en el conjunto de entrenamiento y de prueba no varian significativamente"
   ]
  },
  {
   "cell_type": "markdown",
   "id": "f7bd37c3-a92f-42cf-a24b-cc46be2416bf",
   "metadata": {},
   "source": [
    "### 2.3  Considera las concentraciones totales de todas las sustancias en las diferentes etapas: materia prima, concentrado rougher y concentrado final. ¿Observas algún valor anormal en la distribución total? Si es así, ¿merece la pena eliminar esos valores de ambas muestras? "
   ]
  },
  {
   "cell_type": "code",
   "execution_count": 39,
   "id": "c5e8da5b-3f12-47ee-adca-a1a694a3dd7e",
   "metadata": {},
   "outputs": [],
   "source": [
    "def crear_histograma_concentraciones(dataset, columnas_etapas):\n",
    "    \"\"\"\n",
    "    Crea un histograma de las concentraciones totales en diferentes etapas.\n",
    "\n",
    "    Args:\n",
    "        dataset (DataFrame): Dataset que contiene las columnas con las etapas.\n",
    "        columnas_etapas (list): Lista de nombres de columnas que representan las etapas.\n",
    "    \"\"\"\n",
    "    # Calcular la suma total de las concentraciones para todas las etapas\n",
    "    dataset['concentracion_total'] = dataset[columnas_etapas].sum(axis=1)\n",
    "    \n",
    "    # Crear el histograma\n",
    "    plt.figure(figsize=(10, 6))\n",
    "    plt.hist(dataset['concentracion_total'], bins=20, alpha=0.7, color='blue', edgecolor='black')\n",
    "    \n",
    "    # Configuración del gráfico\n",
    "    plt.title('Distribución de las Concentraciones Totales')\n",
    "    plt.xlabel('Concentración Total')\n",
    "    plt.ylabel('Frecuencia')\n",
    "    plt.grid(axis='y', linestyle='--', alpha=0.7)\n",
    "    plt.show()"
   ]
  },
  {
   "cell_type": "code",
   "execution_count": 40,
   "id": "9941a3df-693c-4ad5-854c-94849dba2505",
   "metadata": {},
   "outputs": [
    {
     "data": {
      "image/png": "[encoded data removed]",
      "text/plain": [
       "<Figure size 1000x600 with 1 Axes>"
      ]
     },
     "metadata": {},
     "output_type": "display_data"
    }
   ],
   "source": [
    "dataset = pd.DataFrame(data_full)\n",
    "\n",
    "# Columnas de las etapas\n",
    "columnas_etapas = [ 'rougher.input.feed_au','rougher.input.feed_ag', 'rougher.input.feed_pb',\n",
    "    'rougher.output.concentrate_au', 'rougher.output.concentrate_ag','rougher.output.concentrate_pb',\n",
    "    'final.output.concentrate_au','final.output.concentrate_ag','final.output.concentrate_pb'\n",
    "                  ]\n",
    "\n",
    "# Crear el histograma\n",
    "crear_histograma_concentraciones(dataset, columnas_etapas)"
   ]
  },
  {
   "cell_type": "markdown",
   "id": "47b978df-8cf8-4ff2-bce4-85bf7e9ca354",
   "metadata": {},
   "source": [
    "#### Observacion\n",
    "Hay valores anormales en la distribucion de la concentracion total de todas la sustancias en cada etapa "
   ]
  },
  {
   "cell_type": "markdown",
   "id": "d717f479-7f66-4ace-9dd1-e00d0803b4aa",
   "metadata": {},
   "source": [
    "## 3. Contruccion del Modelo"
   ]
  },
  {
   "cell_type": "markdown",
   "id": "b3376307-d5ba-4831-9cee-af73a4275bdc",
   "metadata": {},
   "source": [
    "### 3.1 Escribe una funcion para calcular el valor final de sMAPE"
   ]
  },
  {
   "cell_type": "code",
   "execution_count": 154,
   "id": "f99730fa-4d36-4bd5-bf1a-708939abbfc1",
   "metadata": {},
   "outputs": [],
   "source": [
    "# Funcion para calcular el valor final de sMAPE\n",
    "def calcular_sMAPE(valores_reales, valores_predichos):\n",
    "    valores_reales = np.array(valores_reales)\n",
    "    valores_predichos = np.array(valores_predichos)\n",
    "    \n",
    "    # Crear una máscara para ignorar pares donde ambos valores son 0\n",
    "    mask = ~(valores_reales == 0) & ~(valores_predichos == 0)\n",
    "    \n",
    "    # Aplicar la máscara para filtrar los valores válidos\n",
    "    valores_reales_filtrados = valores_reales[mask]\n",
    "    valores_predichos_filtrados = valores_predichos[mask]\n",
    "    \n",
    "    # Calcular el sMAPE solo con los valores filtrados\n",
    "    numerador = np.abs(valores_reales_filtrados - valores_predichos_filtrados)\n",
    "    denominador = (np.abs(valores_reales_filtrados) + np.abs(valores_predichos_filtrados)) / 2\n",
    "    smape = np.mean(numerador / denominador) * 100\n",
    "    \n",
    "    return smape\n",
    "\n",
    "def calcular_metrica_final(valores_reales_rougher, valores_predichos_rougher, \n",
    "                           valores_reales_final, valores_predichos_final):\n",
    "    \n",
    "    smape_rougher = calcular_sMAPE(valores_reales_rougher, valores_predichos_rougher)\n",
    "    smape_final = calcular_sMAPE(valores_reales_final, valores_predichos_final)\n",
    "    \n",
    "    # Calcular la métrica final ponderada\n",
    "    metrica_final = 0.25 * smape_rougher + 0.75 * smape_final\n",
    "    \n",
    "    return metrica_final"
   ]
  },
  {
   "cell_type": "markdown",
   "id": "396f33bf-a462-47b9-8f2d-d21b45e33146",
   "metadata": {},
   "source": [
    "### 3.2 Entrena diferentes modelos. Evalúalos aplicando la validación cruzada. Elige el mejor modelo y pruébalo utilizando la muestra de prueba."
   ]
  },
  {
   "cell_type": "markdown",
   "id": "d11d435c-bfba-442f-adc7-046a55dd47d9",
   "metadata": {},
   "source": [
    "#### 3.2.1 Escoger el dataset para la evalucion del modelo y realizar el preprocesamiento "
   ]
  },
  {
   "cell_type": "code",
   "execution_count": 48,
   "id": "8041c6e5-f8fc-40a8-9098-737309c075e4",
   "metadata": {},
   "outputs": [],
   "source": [
    "# En este caso para entrenar el modelo se escoeger el dataset fuente que contiene todos los datos de entrenamiento y prueba y se va rellenar los datos con ffill.\n",
    "data_clean = data_full.ffill()"
   ]
  },
  {
   "cell_type": "code",
   "execution_count": 49,
   "id": "ac9b8529-fbc9-4adc-bf2e-2e436fb77c8f",
   "metadata": {},
   "outputs": [
    {
     "data": {
      "text/plain": [
       "final.output.concentrate_ag                   0\n",
       "final.output.concentrate_pb                   0\n",
       "final.output.concentrate_sol                  0\n",
       "final.output.concentrate_au                   0\n",
       "final.output.recovery                         0\n",
       "                                             ..\n",
       "secondary_cleaner.state.floatbank5_a_level    0\n",
       "secondary_cleaner.state.floatbank5_b_air      0\n",
       "secondary_cleaner.state.floatbank5_b_level    0\n",
       "secondary_cleaner.state.floatbank6_a_air      0\n",
       "secondary_cleaner.state.floatbank6_a_level    0\n",
       "Length: 86, dtype: int64"
      ]
     },
     "execution_count": 49,
     "metadata": {},
     "output_type": "execute_result"
    }
   ],
   "source": [
    "data_clean.isnull().sum()"
   ]
  },
  {
   "cell_type": "code",
   "execution_count": 50,
   "id": "39dedea5-5308-49b4-a6cd-bd991b1f9432",
   "metadata": {},
   "outputs": [
    {
     "data": {
      "text/html": [
       "<div>\n",
       "<style scoped>\n",
       "    .dataframe tbody tr th:only-of-type {\n",
       "        vertical-align: middle;\n",
       "    }\n",
       "\n",
       "    .dataframe tbody tr th {\n",
       "        vertical-align: top;\n",
       "    }\n",
       "\n",
       "    .dataframe thead th {\n",
       "        text-align: right;\n",
       "    }\n",
       "</style>\n",
       "<table border=\"1\" class=\"dataframe\">\n",
       "  <thead>\n",
       "    <tr style=\"text-align: right;\">\n",
       "      <th></th>\n",
       "      <th>final.output.concentrate_ag</th>\n",
       "      <th>final.output.concentrate_pb</th>\n",
       "      <th>final.output.concentrate_sol</th>\n",
       "      <th>final.output.concentrate_au</th>\n",
       "      <th>final.output.recovery</th>\n",
       "      <th>final.output.tail_ag</th>\n",
       "      <th>final.output.tail_pb</th>\n",
       "      <th>final.output.tail_sol</th>\n",
       "      <th>final.output.tail_au</th>\n",
       "      <th>primary_cleaner.input.sulfate</th>\n",
       "      <th>...</th>\n",
       "      <th>secondary_cleaner.state.floatbank4_a_air</th>\n",
       "      <th>secondary_cleaner.state.floatbank4_a_level</th>\n",
       "      <th>secondary_cleaner.state.floatbank4_b_air</th>\n",
       "      <th>secondary_cleaner.state.floatbank4_b_level</th>\n",
       "      <th>secondary_cleaner.state.floatbank5_a_air</th>\n",
       "      <th>secondary_cleaner.state.floatbank5_a_level</th>\n",
       "      <th>secondary_cleaner.state.floatbank5_b_air</th>\n",
       "      <th>secondary_cleaner.state.floatbank5_b_level</th>\n",
       "      <th>secondary_cleaner.state.floatbank6_a_air</th>\n",
       "      <th>secondary_cleaner.state.floatbank6_a_level</th>\n",
       "    </tr>\n",
       "  </thead>\n",
       "  <tbody>\n",
       "    <tr>\n",
       "      <th>count</th>\n",
       "      <td>22716.000000</td>\n",
       "      <td>22716.000000</td>\n",
       "      <td>22716.000000</td>\n",
       "      <td>22716.000000</td>\n",
       "      <td>22716.000000</td>\n",
       "      <td>22716.000000</td>\n",
       "      <td>22716.000000</td>\n",
       "      <td>22716.000000</td>\n",
       "      <td>22716.000000</td>\n",
       "      <td>22716.000000</td>\n",
       "      <td>...</td>\n",
       "      <td>22716.000000</td>\n",
       "      <td>22716.000000</td>\n",
       "      <td>22716.000000</td>\n",
       "      <td>22716.000000</td>\n",
       "      <td>22716.000000</td>\n",
       "      <td>22716.000000</td>\n",
       "      <td>22716.000000</td>\n",
       "      <td>22716.000000</td>\n",
       "      <td>22716.000000</td>\n",
       "      <td>22716.000000</td>\n",
       "    </tr>\n",
       "    <tr>\n",
       "      <th>mean</th>\n",
       "      <td>4.768013</td>\n",
       "      <td>9.071366</td>\n",
       "      <td>8.537502</td>\n",
       "      <td>39.891718</td>\n",
       "      <td>66.475263</td>\n",
       "      <td>8.900622</td>\n",
       "      <td>2.471149</td>\n",
       "      <td>9.434396</td>\n",
       "      <td>2.819885</td>\n",
       "      <td>131.338303</td>\n",
       "      <td>...</td>\n",
       "      <td>18.105943</td>\n",
       "      <td>-501.274111</td>\n",
       "      <td>14.302334</td>\n",
       "      <td>-477.753153</td>\n",
       "      <td>14.831127</td>\n",
       "      <td>-504.279270</td>\n",
       "      <td>11.588761</td>\n",
       "      <td>-501.510723</td>\n",
       "      <td>17.904473</td>\n",
       "      <td>-520.266675</td>\n",
       "    </tr>\n",
       "    <tr>\n",
       "      <th>std</th>\n",
       "      <td>2.042594</td>\n",
       "      <td>3.260960</td>\n",
       "      <td>3.858203</td>\n",
       "      <td>13.540157</td>\n",
       "      <td>13.042781</td>\n",
       "      <td>3.544045</td>\n",
       "      <td>1.201069</td>\n",
       "      <td>4.145832</td>\n",
       "      <td>1.269214</td>\n",
       "      <td>58.477466</td>\n",
       "      <td>...</td>\n",
       "      <td>6.672497</td>\n",
       "      <td>82.631294</td>\n",
       "      <td>5.710034</td>\n",
       "      <td>95.648618</td>\n",
       "      <td>6.417280</td>\n",
       "      <td>74.648011</td>\n",
       "      <td>5.780520</td>\n",
       "      <td>80.663516</td>\n",
       "      <td>6.717178</td>\n",
       "      <td>76.976308</td>\n",
       "    </tr>\n",
       "    <tr>\n",
       "      <th>min</th>\n",
       "      <td>0.000000</td>\n",
       "      <td>0.000000</td>\n",
       "      <td>0.000000</td>\n",
       "      <td>0.000000</td>\n",
       "      <td>0.000000</td>\n",
       "      <td>0.000000</td>\n",
       "      <td>0.000000</td>\n",
       "      <td>0.000000</td>\n",
       "      <td>0.000000</td>\n",
       "      <td>0.000003</td>\n",
       "      <td>...</td>\n",
       "      <td>0.000000</td>\n",
       "      <td>-799.920713</td>\n",
       "      <td>0.000000</td>\n",
       "      <td>-800.836914</td>\n",
       "      <td>-0.423260</td>\n",
       "      <td>-799.741097</td>\n",
       "      <td>0.427084</td>\n",
       "      <td>-800.258209</td>\n",
       "      <td>-0.079426</td>\n",
       "      <td>-810.473526</td>\n",
       "    </tr>\n",
       "    <tr>\n",
       "      <th>25%</th>\n",
       "      <td>4.011471</td>\n",
       "      <td>8.737809</td>\n",
       "      <td>7.036629</td>\n",
       "      <td>42.353890</td>\n",
       "      <td>62.258453</td>\n",
       "      <td>7.669323</td>\n",
       "      <td>1.780344</td>\n",
       "      <td>8.050901</td>\n",
       "      <td>2.297002</td>\n",
       "      <td>101.198976</td>\n",
       "      <td>...</td>\n",
       "      <td>14.046697</td>\n",
       "      <td>-500.919584</td>\n",
       "      <td>10.141535</td>\n",
       "      <td>-500.319422</td>\n",
       "      <td>10.938055</td>\n",
       "      <td>-500.641708</td>\n",
       "      <td>8.031211</td>\n",
       "      <td>-500.171370</td>\n",
       "      <td>13.031799</td>\n",
       "      <td>-501.000058</td>\n",
       "    </tr>\n",
       "    <tr>\n",
       "      <th>50%</th>\n",
       "      <td>4.949959</td>\n",
       "      <td>9.910363</td>\n",
       "      <td>8.858385</td>\n",
       "      <td>44.639019</td>\n",
       "      <td>67.981407</td>\n",
       "      <td>9.477554</td>\n",
       "      <td>2.643964</td>\n",
       "      <td>10.174399</td>\n",
       "      <td>2.910336</td>\n",
       "      <td>137.084713</td>\n",
       "      <td>...</td>\n",
       "      <td>18.004609</td>\n",
       "      <td>-499.924952</td>\n",
       "      <td>14.945528</td>\n",
       "      <td>-499.616792</td>\n",
       "      <td>14.615849</td>\n",
       "      <td>-499.868380</td>\n",
       "      <td>10.987789</td>\n",
       "      <td>-499.953415</td>\n",
       "      <td>18.002995</td>\n",
       "      <td>-500.098653</td>\n",
       "    </tr>\n",
       "    <tr>\n",
       "      <th>75%</th>\n",
       "      <td>5.857985</td>\n",
       "      <td>10.927188</td>\n",
       "      <td>10.667178</td>\n",
       "      <td>46.106662</td>\n",
       "      <td>72.941119</td>\n",
       "      <td>11.084153</td>\n",
       "      <td>3.282285</td>\n",
       "      <td>11.840024</td>\n",
       "      <td>3.552452</td>\n",
       "      <td>170.993920</td>\n",
       "      <td>...</td>\n",
       "      <td>22.996115</td>\n",
       "      <td>-498.369203</td>\n",
       "      <td>17.962227</td>\n",
       "      <td>-400.229299</td>\n",
       "      <td>18.014080</td>\n",
       "      <td>-498.503626</td>\n",
       "      <td>13.999903</td>\n",
       "      <td>-499.499414</td>\n",
       "      <td>23.007616</td>\n",
       "      <td>-499.527882</td>\n",
       "    </tr>\n",
       "    <tr>\n",
       "      <th>max</th>\n",
       "      <td>16.001945</td>\n",
       "      <td>17.031899</td>\n",
       "      <td>19.615720</td>\n",
       "      <td>53.611374</td>\n",
       "      <td>100.000000</td>\n",
       "      <td>19.552149</td>\n",
       "      <td>6.086532</td>\n",
       "      <td>22.861749</td>\n",
       "      <td>9.789625</td>\n",
       "      <td>274.409626</td>\n",
       "      <td>...</td>\n",
       "      <td>60.000000</td>\n",
       "      <td>-127.692333</td>\n",
       "      <td>31.269706</td>\n",
       "      <td>-6.506986</td>\n",
       "      <td>63.116298</td>\n",
       "      <td>-244.483566</td>\n",
       "      <td>39.846228</td>\n",
       "      <td>-120.190931</td>\n",
       "      <td>54.876806</td>\n",
       "      <td>-29.093593</td>\n",
       "    </tr>\n",
       "  </tbody>\n",
       "</table>\n",
       "<p>8 rows × 86 columns</p>\n",
       "</div>"
      ],
      "text/plain": [
       "       final.output.concentrate_ag  final.output.concentrate_pb  \\\n",
       "count                 22716.000000                 22716.000000   \n",
       "mean                      4.768013                     9.071366   \n",
       "std                       2.042594                     3.260960   \n",
       "min                       0.000000                     0.000000   \n",
       "25%                       4.011471                     8.737809   \n",
       "50%                       4.949959                     9.910363   \n",
       "75%                       5.857985                    10.927188   \n",
       "max                      16.001945                    17.031899   \n",
       "\n",
       "       final.output.concentrate_sol  final.output.concentrate_au  \\\n",
       "count                  22716.000000                 22716.000000   \n",
       "mean                       8.537502                    39.891718   \n",
       "std                        3.858203                    13.540157   \n",
       "min                        0.000000                     0.000000   \n",
       "25%                        7.036629                    42.353890   \n",
       "50%                        8.858385                    44.639019   \n",
       "75%                       10.667178                    46.106662   \n",
       "max                       19.615720                    53.611374   \n",
       "\n",
       "       final.output.recovery  final.output.tail_ag  final.output.tail_pb  \\\n",
       "count           22716.000000          22716.000000          22716.000000   \n",
       "mean               66.475263              8.900622              2.471149   \n",
       "std                13.042781              3.544045              1.201069   \n",
       "min                 0.000000              0.000000              0.000000   \n",
       "25%                62.258453              7.669323              1.780344   \n",
       "50%                67.981407              9.477554              2.643964   \n",
       "75%                72.941119             11.084153              3.282285   \n",
       "max               100.000000             19.552149              6.086532   \n",
       "\n",
       "       final.output.tail_sol  final.output.tail_au  \\\n",
       "count           22716.000000          22716.000000   \n",
       "mean                9.434396              2.819885   \n",
       "std                 4.145832              1.269214   \n",
       "min                 0.000000              0.000000   \n",
       "25%                 8.050901              2.297002   \n",
       "50%                10.174399              2.910336   \n",
       "75%                11.840024              3.552452   \n",
       "max                22.861749              9.789625   \n",
       "\n",
       "       primary_cleaner.input.sulfate  ...  \\\n",
       "count                   22716.000000  ...   \n",
       "mean                      131.338303  ...   \n",
       "std                        58.477466  ...   \n",
       "min                         0.000003  ...   \n",
       "25%                       101.198976  ...   \n",
       "50%                       137.084713  ...   \n",
       "75%                       170.993920  ...   \n",
       "max                       274.409626  ...   \n",
       "\n",
       "       secondary_cleaner.state.floatbank4_a_air  \\\n",
       "count                              22716.000000   \n",
       "mean                                  18.105943   \n",
       "std                                    6.672497   \n",
       "min                                    0.000000   \n",
       "25%                                   14.046697   \n",
       "50%                                   18.004609   \n",
       "75%                                   22.996115   \n",
       "max                                   60.000000   \n",
       "\n",
       "       secondary_cleaner.state.floatbank4_a_level  \\\n",
       "count                                22716.000000   \n",
       "mean                                  -501.274111   \n",
       "std                                     82.631294   \n",
       "min                                   -799.920713   \n",
       "25%                                   -500.919584   \n",
       "50%                                   -499.924952   \n",
       "75%                                   -498.369203   \n",
       "max                                   -127.692333   \n",
       "\n",
       "       secondary_cleaner.state.floatbank4_b_air  \\\n",
       "count                              22716.000000   \n",
       "mean                                  14.302334   \n",
       "std                                    5.710034   \n",
       "min                                    0.000000   \n",
       "25%                                   10.141535   \n",
       "50%                                   14.945528   \n",
       "75%                                   17.962227   \n",
       "max                                   31.269706   \n",
       "\n",
       "       secondary_cleaner.state.floatbank4_b_level  \\\n",
       "count                                22716.000000   \n",
       "mean                                  -477.753153   \n",
       "std                                     95.648618   \n",
       "min                                   -800.836914   \n",
       "25%                                   -500.319422   \n",
       "50%                                   -499.616792   \n",
       "75%                                   -400.229299   \n",
       "max                                     -6.506986   \n",
       "\n",
       "       secondary_cleaner.state.floatbank5_a_air  \\\n",
       "count                              22716.000000   \n",
       "mean                                  14.831127   \n",
       "std                                    6.417280   \n",
       "min                                   -0.423260   \n",
       "25%                                   10.938055   \n",
       "50%                                   14.615849   \n",
       "75%                                   18.014080   \n",
       "max                                   63.116298   \n",
       "\n",
       "       secondary_cleaner.state.floatbank5_a_level  \\\n",
       "count                                22716.000000   \n",
       "mean                                  -504.279270   \n",
       "std                                     74.648011   \n",
       "min                                   -799.741097   \n",
       "25%                                   -500.641708   \n",
       "50%                                   -499.868380   \n",
       "75%                                   -498.503626   \n",
       "max                                   -244.483566   \n",
       "\n",
       "       secondary_cleaner.state.floatbank5_b_air  \\\n",
       "count                              22716.000000   \n",
       "mean                                  11.588761   \n",
       "std                                    5.780520   \n",
       "min                                    0.427084   \n",
       "25%                                    8.031211   \n",
       "50%                                   10.987789   \n",
       "75%                                   13.999903   \n",
       "max                                   39.846228   \n",
       "\n",
       "       secondary_cleaner.state.floatbank5_b_level  \\\n",
       "count                                22716.000000   \n",
       "mean                                  -501.510723   \n",
       "std                                     80.663516   \n",
       "min                                   -800.258209   \n",
       "25%                                   -500.171370   \n",
       "50%                                   -499.953415   \n",
       "75%                                   -499.499414   \n",
       "max                                   -120.190931   \n",
       "\n",
       "       secondary_cleaner.state.floatbank6_a_air  \\\n",
       "count                              22716.000000   \n",
       "mean                                  17.904473   \n",
       "std                                    6.717178   \n",
       "min                                   -0.079426   \n",
       "25%                                   13.031799   \n",
       "50%                                   18.002995   \n",
       "75%                                   23.007616   \n",
       "max                                   54.876806   \n",
       "\n",
       "       secondary_cleaner.state.floatbank6_a_level  \n",
       "count                                22716.000000  \n",
       "mean                                  -520.266675  \n",
       "std                                     76.976308  \n",
       "min                                   -810.473526  \n",
       "25%                                   -501.000058  \n",
       "50%                                   -500.098653  \n",
       "75%                                   -499.527882  \n",
       "max                                    -29.093593  \n",
       "\n",
       "[8 rows x 86 columns]"
      ]
     },
     "execution_count": 50,
     "metadata": {},
     "output_type": "execute_result"
    }
   ],
   "source": [
    "data_clean.describe()"
   ]
  },
  {
   "cell_type": "code",
   "execution_count": 51,
   "id": "2a4e798e-915b-4e4f-adf1-528dadd7bfd9",
   "metadata": {},
   "outputs": [],
   "source": [
    "# Eliminar las caracteristicas que no se mencionan en el proceso tecnologico del oro y definir los dos objetivos que se desea predecir tanto como el concentrado rougher y el concentrado final.\n",
    "caracteristicas_1 = data_clean[['rougher.input.feed_au','rougher.output.tail_au','rougher.output.concentrate_au']]\n",
    "caracteristicas_2 = data_clean[['primary_cleaner.output.tail_au','primary_cleaner.output.concentrate_au','secondary_cleaner.output.tail_au','final.output.tail_au','final.output.concentrate_au']]\n",
    "objetivo_1 = data_clean['rougher.output.recovery']\n",
    "objetivo_2 = data_clean['final.output.recovery']"
   ]
  },
  {
   "cell_type": "markdown",
   "id": "c84a9c92-be6f-4937-b0a5-734a78101aab",
   "metadata": {},
   "source": [
    "#### 3.2.2 Entrenar un modelo de regresion lineal "
   ]
  },
  {
   "cell_type": "code",
   "execution_count": 125,
   "id": "5da688f5-9219-4899-80d3-f35d17589204",
   "metadata": {},
   "outputs": [],
   "source": [
    "def entrenar_modelo(caracteristicas, objetivo, test_size=0.2, random_state=42):\n",
    "    # Dividir los datos en entrenamiento y prueba\n",
    "    X_train, X_test, y_train, y_test = train_test_split(caracteristicas, objetivo, test_size=test_size, random_state=random_state)\n",
    "\n",
    "    # Escalar las características\n",
    "    scaler = StandardScaler()\n",
    "    X_train = scaler.fit_transform(X_train)\n",
    "    X_test = scaler.transform(X_test)\n",
    "\n",
    "    # Entrenar el modelo de regresión lineal\n",
    "    modelo = LinearRegression()\n",
    "    modelo.fit(X_train, y_train)\n",
    "\n",
    "    # Predicciones y cálculo de error\n",
    "    prediccion = modelo.predict(X_test)\n",
    "    rmse = root_mean_squared_error(y_test, prediccion)\n",
    "    print('RMSE', rmse)\n",
    "    resultado= pd.DataFrame(dict(prediccion_valores = prediccion, valor_real = y_test))\n",
    "    smape= calcular_sMAPE(resultado['valor_real'], resultado['prediccion_valores'])\n",
    "    print('SMAPE', smape)\n",
    "   \n",
    "    return resultado"
   ]
  },
  {
   "cell_type": "code",
   "execution_count": 127,
   "id": "cc4f7b62-49a6-44fe-a5c4-27f8b0677b5c",
   "metadata": {},
   "outputs": [
    {
     "name": "stdout",
     "output_type": "stream",
     "text": [
      "RMSE 14.359620648760739\n",
      "SMAPE 14.1332454216192\n"
     ]
    },
    {
     "data": {
      "text/html": [
       "<div>\n",
       "<style scoped>\n",
       "    .dataframe tbody tr th:only-of-type {\n",
       "        vertical-align: middle;\n",
       "    }\n",
       "\n",
       "    .dataframe tbody tr th {\n",
       "        vertical-align: top;\n",
       "    }\n",
       "\n",
       "    .dataframe thead th {\n",
       "        text-align: right;\n",
       "    }\n",
       "</style>\n",
       "<table border=\"1\" class=\"dataframe\">\n",
       "  <thead>\n",
       "    <tr style=\"text-align: right;\">\n",
       "      <th></th>\n",
       "      <th>prediccion_valores</th>\n",
       "      <th>valor_real</th>\n",
       "    </tr>\n",
       "    <tr>\n",
       "      <th>date</th>\n",
       "      <th></th>\n",
       "      <th></th>\n",
       "    </tr>\n",
       "  </thead>\n",
       "  <tbody>\n",
       "    <tr>\n",
       "      <th>2017-10-31 12:59:59</th>\n",
       "      <td>80.326884</td>\n",
       "      <td>89.520904</td>\n",
       "    </tr>\n",
       "    <tr>\n",
       "      <th>2017-06-03 13:59:59</th>\n",
       "      <td>84.560423</td>\n",
       "      <td>80.994927</td>\n",
       "    </tr>\n",
       "    <tr>\n",
       "      <th>2017-03-03 09:59:59</th>\n",
       "      <td>86.542025</td>\n",
       "      <td>94.980094</td>\n",
       "    </tr>\n",
       "    <tr>\n",
       "      <th>2016-08-30 10:59:59</th>\n",
       "      <td>83.367039</td>\n",
       "      <td>76.388361</td>\n",
       "    </tr>\n",
       "    <tr>\n",
       "      <th>2018-02-25 13:59:59</th>\n",
       "      <td>88.449853</td>\n",
       "      <td>97.177847</td>\n",
       "    </tr>\n",
       "    <tr>\n",
       "      <th>...</th>\n",
       "      <td>...</td>\n",
       "      <td>...</td>\n",
       "    </tr>\n",
       "    <tr>\n",
       "      <th>2017-07-03 21:59:59</th>\n",
       "      <td>82.844214</td>\n",
       "      <td>77.128221</td>\n",
       "    </tr>\n",
       "    <tr>\n",
       "      <th>2016-03-31 14:00:00</th>\n",
       "      <td>60.035053</td>\n",
       "      <td>78.998992</td>\n",
       "    </tr>\n",
       "    <tr>\n",
       "      <th>2017-08-08 08:59:59</th>\n",
       "      <td>86.834874</td>\n",
       "      <td>87.418343</td>\n",
       "    </tr>\n",
       "    <tr>\n",
       "      <th>2016-12-29 19:59:59</th>\n",
       "      <td>77.054001</td>\n",
       "      <td>71.549745</td>\n",
       "    </tr>\n",
       "    <tr>\n",
       "      <th>2018-08-14 13:59:59</th>\n",
       "      <td>88.792465</td>\n",
       "      <td>94.235653</td>\n",
       "    </tr>\n",
       "  </tbody>\n",
       "</table>\n",
       "<p>4544 rows × 2 columns</p>\n",
       "</div>"
      ],
      "text/plain": [
       "                     prediccion_valores  valor_real\n",
       "date                                               \n",
       "2017-10-31 12:59:59           80.326884   89.520904\n",
       "2017-06-03 13:59:59           84.560423   80.994927\n",
       "2017-03-03 09:59:59           86.542025   94.980094\n",
       "2016-08-30 10:59:59           83.367039   76.388361\n",
       "2018-02-25 13:59:59           88.449853   97.177847\n",
       "...                                 ...         ...\n",
       "2017-07-03 21:59:59           82.844214   77.128221\n",
       "2016-03-31 14:00:00           60.035053   78.998992\n",
       "2017-08-08 08:59:59           86.834874   87.418343\n",
       "2016-12-29 19:59:59           77.054001   71.549745\n",
       "2018-08-14 13:59:59           88.792465   94.235653\n",
       "\n",
       "[4544 rows x 2 columns]"
      ]
     },
     "execution_count": 127,
     "metadata": {},
     "output_type": "execute_result"
    }
   ],
   "source": [
    " entrenar_modelo(caracteristicas_1, objetivo_1, test_size=0.2, random_state=42)"
   ]
  },
  {
   "cell_type": "code",
   "execution_count": 143,
   "id": "63b34236-a016-46f8-91ae-1b5c80ea7e96",
   "metadata": {},
   "outputs": [
    {
     "name": "stdout",
     "output_type": "stream",
     "text": [
      "RMSE 11.50756975067642\n",
      "SMAPE 12.946680455760573\n"
     ]
    },
    {
     "data": {
      "text/html": [
       "<div>\n",
       "<style scoped>\n",
       "    .dataframe tbody tr th:only-of-type {\n",
       "        vertical-align: middle;\n",
       "    }\n",
       "\n",
       "    .dataframe tbody tr th {\n",
       "        vertical-align: top;\n",
       "    }\n",
       "\n",
       "    .dataframe thead th {\n",
       "        text-align: right;\n",
       "    }\n",
       "</style>\n",
       "<table border=\"1\" class=\"dataframe\">\n",
       "  <thead>\n",
       "    <tr style=\"text-align: right;\">\n",
       "      <th></th>\n",
       "      <th>prediccion_valores</th>\n",
       "      <th>valor_real</th>\n",
       "    </tr>\n",
       "    <tr>\n",
       "      <th>date</th>\n",
       "      <th></th>\n",
       "      <th></th>\n",
       "    </tr>\n",
       "  </thead>\n",
       "  <tbody>\n",
       "    <tr>\n",
       "      <th>2017-10-31 12:59:59</th>\n",
       "      <td>65.130859</td>\n",
       "      <td>71.333042</td>\n",
       "    </tr>\n",
       "    <tr>\n",
       "      <th>2017-06-03 13:59:59</th>\n",
       "      <td>41.064327</td>\n",
       "      <td>42.125635</td>\n",
       "    </tr>\n",
       "    <tr>\n",
       "      <th>2017-03-03 09:59:59</th>\n",
       "      <td>79.776662</td>\n",
       "      <td>100.000000</td>\n",
       "    </tr>\n",
       "    <tr>\n",
       "      <th>2016-08-30 10:59:59</th>\n",
       "      <td>65.033823</td>\n",
       "      <td>60.699442</td>\n",
       "    </tr>\n",
       "    <tr>\n",
       "      <th>2018-02-25 13:59:59</th>\n",
       "      <td>72.584980</td>\n",
       "      <td>73.870714</td>\n",
       "    </tr>\n",
       "    <tr>\n",
       "      <th>...</th>\n",
       "      <td>...</td>\n",
       "      <td>...</td>\n",
       "    </tr>\n",
       "    <tr>\n",
       "      <th>2017-07-03 21:59:59</th>\n",
       "      <td>67.976519</td>\n",
       "      <td>63.525919</td>\n",
       "    </tr>\n",
       "    <tr>\n",
       "      <th>2016-03-31 14:00:00</th>\n",
       "      <td>65.790961</td>\n",
       "      <td>39.381992</td>\n",
       "    </tr>\n",
       "    <tr>\n",
       "      <th>2017-08-08 08:59:59</th>\n",
       "      <td>71.217142</td>\n",
       "      <td>69.510739</td>\n",
       "    </tr>\n",
       "    <tr>\n",
       "      <th>2016-12-29 19:59:59</th>\n",
       "      <td>64.605673</td>\n",
       "      <td>58.234408</td>\n",
       "    </tr>\n",
       "    <tr>\n",
       "      <th>2018-08-14 13:59:59</th>\n",
       "      <td>73.233818</td>\n",
       "      <td>79.784993</td>\n",
       "    </tr>\n",
       "  </tbody>\n",
       "</table>\n",
       "<p>4544 rows × 2 columns</p>\n",
       "</div>"
      ],
      "text/plain": [
       "                     prediccion_valores  valor_real\n",
       "date                                               \n",
       "2017-10-31 12:59:59           65.130859   71.333042\n",
       "2017-06-03 13:59:59           41.064327   42.125635\n",
       "2017-03-03 09:59:59           79.776662  100.000000\n",
       "2016-08-30 10:59:59           65.033823   60.699442\n",
       "2018-02-25 13:59:59           72.584980   73.870714\n",
       "...                                 ...         ...\n",
       "2017-07-03 21:59:59           67.976519   63.525919\n",
       "2016-03-31 14:00:00           65.790961   39.381992\n",
       "2017-08-08 08:59:59           71.217142   69.510739\n",
       "2016-12-29 19:59:59           64.605673   58.234408\n",
       "2018-08-14 13:59:59           73.233818   79.784993\n",
       "\n",
       "[4544 rows x 2 columns]"
      ]
     },
     "execution_count": 143,
     "metadata": {},
     "output_type": "execute_result"
    }
   ],
   "source": [
    "entrenar_modelo(caracteristicas_2, objetivo_2, test_size=0.2, random_state=42)"
   ]
  },
  {
   "cell_type": "markdown",
   "id": "82148c0b-3838-4f65-90c8-5cb3924d8055",
   "metadata": {},
   "source": [
    "#### 2.2.3 Entrenar un modelo de Arbol de Regresion"
   ]
  },
  {
   "cell_type": "code",
   "execution_count": 204,
   "id": "2fc21b8d-13b9-4203-9753-972be3d5d6d0",
   "metadata": {},
   "outputs": [],
   "source": [
    "def probar_arbol_regresion(caracteristicas, objetivo, test_size=0.2, random_state=42, max_depth=None):\n",
    "    # Dividir los datos en entrenamiento y prueba\n",
    "    X_train, X_test, y_train, y_test = train_test_split(caracteristicas, objetivo, test_size=test_size, random_state=random_state)\n",
    "    \n",
    "    # Crear y entrenar el árbol de regresión\n",
    "    modelo = DecisionTreeRegressor(random_state=random_state, max_depth=max_depth)\n",
    "    modelo.fit(X_train, y_train)\n",
    "    \n",
    "    # Realizar predicciones\n",
    "    prediccion = modelo.predict(X_test)\n",
    "    \n",
    "    # Calcular el RMSE\n",
    "    rmse = root_mean_squared_error(y_test, prediccion)\n",
    "    print(f\"Error (RMSE): {rmse}\")\n",
    "    resultado_arbol= pd.DataFrame(dict(prediccion_valores = prediccion, valor_real = y_test))\n",
    "    smape= calcular_sMAPE(resultado_arbol['valor_real'], resultado_arbol['prediccion_valores'])\n",
    "    print('SMAPE', smape)\n",
    "\n",
    "    return resultado_arbol"
   ]
  },
  {
   "cell_type": "code",
   "execution_count": 206,
   "id": "fa051251-9384-4704-a196-96945679102e",
   "metadata": {},
   "outputs": [
    {
     "name": "stdout",
     "output_type": "stream",
     "text": [
      "Error (RMSE): 6.739397271863331\n",
      "SMAPE 1.2326348514400272\n"
     ]
    },
    {
     "data": {
      "text/html": [
       "<div>\n",
       "<style scoped>\n",
       "    .dataframe tbody tr th:only-of-type {\n",
       "        vertical-align: middle;\n",
       "    }\n",
       "\n",
       "    .dataframe tbody tr th {\n",
       "        vertical-align: top;\n",
       "    }\n",
       "\n",
       "    .dataframe thead th {\n",
       "        text-align: right;\n",
       "    }\n",
       "</style>\n",
       "<table border=\"1\" class=\"dataframe\">\n",
       "  <thead>\n",
       "    <tr style=\"text-align: right;\">\n",
       "      <th></th>\n",
       "      <th>prediccion_valores</th>\n",
       "      <th>valor_real</th>\n",
       "    </tr>\n",
       "    <tr>\n",
       "      <th>date</th>\n",
       "      <th></th>\n",
       "      <th></th>\n",
       "    </tr>\n",
       "  </thead>\n",
       "  <tbody>\n",
       "    <tr>\n",
       "      <th>2017-10-31 12:59:59</th>\n",
       "      <td>89.221717</td>\n",
       "      <td>89.520904</td>\n",
       "    </tr>\n",
       "    <tr>\n",
       "      <th>2017-06-03 13:59:59</th>\n",
       "      <td>79.872973</td>\n",
       "      <td>80.994927</td>\n",
       "    </tr>\n",
       "    <tr>\n",
       "      <th>2017-03-03 09:59:59</th>\n",
       "      <td>94.435087</td>\n",
       "      <td>94.980094</td>\n",
       "    </tr>\n",
       "    <tr>\n",
       "      <th>2016-08-30 10:59:59</th>\n",
       "      <td>75.762794</td>\n",
       "      <td>76.388361</td>\n",
       "    </tr>\n",
       "    <tr>\n",
       "      <th>2018-02-25 13:59:59</th>\n",
       "      <td>97.502915</td>\n",
       "      <td>97.177847</td>\n",
       "    </tr>\n",
       "    <tr>\n",
       "      <th>...</th>\n",
       "      <td>...</td>\n",
       "      <td>...</td>\n",
       "    </tr>\n",
       "    <tr>\n",
       "      <th>2017-07-03 21:59:59</th>\n",
       "      <td>76.545722</td>\n",
       "      <td>77.128221</td>\n",
       "    </tr>\n",
       "    <tr>\n",
       "      <th>2016-03-31 14:00:00</th>\n",
       "      <td>78.998992</td>\n",
       "      <td>78.998992</td>\n",
       "    </tr>\n",
       "    <tr>\n",
       "      <th>2017-08-08 08:59:59</th>\n",
       "      <td>87.412476</td>\n",
       "      <td>87.418343</td>\n",
       "    </tr>\n",
       "    <tr>\n",
       "      <th>2016-12-29 19:59:59</th>\n",
       "      <td>66.251357</td>\n",
       "      <td>71.549745</td>\n",
       "    </tr>\n",
       "    <tr>\n",
       "      <th>2018-08-14 13:59:59</th>\n",
       "      <td>94.295743</td>\n",
       "      <td>94.235653</td>\n",
       "    </tr>\n",
       "  </tbody>\n",
       "</table>\n",
       "<p>4544 rows × 2 columns</p>\n",
       "</div>"
      ],
      "text/plain": [
       "                     prediccion_valores  valor_real\n",
       "date                                               \n",
       "2017-10-31 12:59:59           89.221717   89.520904\n",
       "2017-06-03 13:59:59           79.872973   80.994927\n",
       "2017-03-03 09:59:59           94.435087   94.980094\n",
       "2016-08-30 10:59:59           75.762794   76.388361\n",
       "2018-02-25 13:59:59           97.502915   97.177847\n",
       "...                                 ...         ...\n",
       "2017-07-03 21:59:59           76.545722   77.128221\n",
       "2016-03-31 14:00:00           78.998992   78.998992\n",
       "2017-08-08 08:59:59           87.412476   87.418343\n",
       "2016-12-29 19:59:59           66.251357   71.549745\n",
       "2018-08-14 13:59:59           94.295743   94.235653\n",
       "\n",
       "[4544 rows x 2 columns]"
      ]
     },
     "execution_count": 206,
     "metadata": {},
     "output_type": "execute_result"
    }
   ],
   "source": [
    "probar_arbol_regresion(caracteristicas_1, objetivo_1, test_size=0.2, random_state=42, max_depth=None)"
   ]
  },
  {
   "cell_type": "code",
   "execution_count": 160,
   "id": "5140f9f5-b017-4d9d-8115-fb1923eb6112",
   "metadata": {},
   "outputs": [
    {
     "name": "stdout",
     "output_type": "stream",
     "text": [
      "Error (RMSE): 11.13797578054157\n",
      "SMAPE 10.701650324239557\n"
     ]
    },
    {
     "data": {
      "text/html": [
       "<div>\n",
       "<style scoped>\n",
       "    .dataframe tbody tr th:only-of-type {\n",
       "        vertical-align: middle;\n",
       "    }\n",
       "\n",
       "    .dataframe tbody tr th {\n",
       "        vertical-align: top;\n",
       "    }\n",
       "\n",
       "    .dataframe thead th {\n",
       "        text-align: right;\n",
       "    }\n",
       "</style>\n",
       "<table border=\"1\" class=\"dataframe\">\n",
       "  <thead>\n",
       "    <tr style=\"text-align: right;\">\n",
       "      <th></th>\n",
       "      <th>prediccion_valores</th>\n",
       "      <th>valor_real</th>\n",
       "    </tr>\n",
       "    <tr>\n",
       "      <th>date</th>\n",
       "      <th></th>\n",
       "      <th></th>\n",
       "    </tr>\n",
       "  </thead>\n",
       "  <tbody>\n",
       "    <tr>\n",
       "      <th>2017-10-31 12:59:59</th>\n",
       "      <td>71.114952</td>\n",
       "      <td>71.333042</td>\n",
       "    </tr>\n",
       "    <tr>\n",
       "      <th>2017-06-03 13:59:59</th>\n",
       "      <td>33.634310</td>\n",
       "      <td>42.125635</td>\n",
       "    </tr>\n",
       "    <tr>\n",
       "      <th>2017-03-03 09:59:59</th>\n",
       "      <td>100.000000</td>\n",
       "      <td>100.000000</td>\n",
       "    </tr>\n",
       "    <tr>\n",
       "      <th>2016-08-30 10:59:59</th>\n",
       "      <td>56.269644</td>\n",
       "      <td>60.699442</td>\n",
       "    </tr>\n",
       "    <tr>\n",
       "      <th>2018-02-25 13:59:59</th>\n",
       "      <td>67.566607</td>\n",
       "      <td>73.870714</td>\n",
       "    </tr>\n",
       "    <tr>\n",
       "      <th>...</th>\n",
       "      <td>...</td>\n",
       "      <td>...</td>\n",
       "    </tr>\n",
       "    <tr>\n",
       "      <th>2017-07-03 21:59:59</th>\n",
       "      <td>82.184884</td>\n",
       "      <td>63.525919</td>\n",
       "    </tr>\n",
       "    <tr>\n",
       "      <th>2016-03-31 14:00:00</th>\n",
       "      <td>57.999929</td>\n",
       "      <td>39.381992</td>\n",
       "    </tr>\n",
       "    <tr>\n",
       "      <th>2017-08-08 08:59:59</th>\n",
       "      <td>71.771975</td>\n",
       "      <td>69.510739</td>\n",
       "    </tr>\n",
       "    <tr>\n",
       "      <th>2016-12-29 19:59:59</th>\n",
       "      <td>64.882313</td>\n",
       "      <td>58.234408</td>\n",
       "    </tr>\n",
       "    <tr>\n",
       "      <th>2018-08-14 13:59:59</th>\n",
       "      <td>74.559979</td>\n",
       "      <td>79.784993</td>\n",
       "    </tr>\n",
       "  </tbody>\n",
       "</table>\n",
       "<p>4544 rows × 2 columns</p>\n",
       "</div>"
      ],
      "text/plain": [
       "                     prediccion_valores  valor_real\n",
       "date                                               \n",
       "2017-10-31 12:59:59           71.114952   71.333042\n",
       "2017-06-03 13:59:59           33.634310   42.125635\n",
       "2017-03-03 09:59:59          100.000000  100.000000\n",
       "2016-08-30 10:59:59           56.269644   60.699442\n",
       "2018-02-25 13:59:59           67.566607   73.870714\n",
       "...                                 ...         ...\n",
       "2017-07-03 21:59:59           82.184884   63.525919\n",
       "2016-03-31 14:00:00           57.999929   39.381992\n",
       "2017-08-08 08:59:59           71.771975   69.510739\n",
       "2016-12-29 19:59:59           64.882313   58.234408\n",
       "2018-08-14 13:59:59           74.559979   79.784993\n",
       "\n",
       "[4544 rows x 2 columns]"
      ]
     },
     "execution_count": 160,
     "metadata": {},
     "output_type": "execute_result"
    }
   ],
   "source": [
    "probar_arbol_regresion(caracteristicas_2, objetivo_2, test_size=0.2, random_state=42, max_depth=None)"
   ]
  },
  {
   "cell_type": "markdown",
   "id": "341b206a-f3c3-4755-a4d7-2f179796e6f9",
   "metadata": {},
   "source": [
    "#### 3.2.4 Entrenar un Bosque de Regresion "
   ]
  },
  {
   "cell_type": "code",
   "execution_count": 180,
   "id": "1acd4b31-bb91-4512-81cc-d5ed006c5efb",
   "metadata": {},
   "outputs": [],
   "source": [
    "def probar_bosque_regresion(caracteristicas, objetivo, test_size=0.2, random_state=42, n_estimators=100, max_depth=None):\n",
    "    # Dividir los datos en entrenamiento y prueba\n",
    "    X_train, X_test, y_train, y_test = train_test_split(caracteristicas, objetivo, test_size=test_size, random_state=random_state)\n",
    "    \n",
    "    # Crear y entrenar el Bosque de Regresión\n",
    "    modelo = RandomForestRegressor(random_state=random_state, n_estimators=n_estimators, max_depth=max_depth)\n",
    "    modelo.fit(X_train, y_train)\n",
    "    \n",
    "    # Realizar predicciones\n",
    "    prediccion = modelo.predict(X_test)\n",
    "    \n",
    "    # Calcular el RMSE\n",
    "    rmse = root_mean_squared_error(y_test, prediccion)\n",
    "    print(f\"Error (RMSE): {rmse}\")\n",
    "    resultado_bosque= pd.DataFrame(dict(prediccion_valores = prediccion, valor_real = y_test))\n",
    "    smape= calcular_sMAPE(resultado_bosque['valor_real'], resultado_bosque['prediccion_valores'])\n",
    "    print('SMAPE', smape)\n",
    "    \n",
    "    return resultado_bosque"
   ]
  },
  {
   "cell_type": "code",
   "execution_count": 182,
   "id": "cef0263b-5659-4550-938c-cb0c547b01c2",
   "metadata": {},
   "outputs": [
    {
     "name": "stdout",
     "output_type": "stream",
     "text": [
      "Error (RMSE): 5.561551736728578\n",
      "SMAPE 1.0643006257690324\n"
     ]
    },
    {
     "data": {
      "text/html": [
       "<div>\n",
       "<style scoped>\n",
       "    .dataframe tbody tr th:only-of-type {\n",
       "        vertical-align: middle;\n",
       "    }\n",
       "\n",
       "    .dataframe tbody tr th {\n",
       "        vertical-align: top;\n",
       "    }\n",
       "\n",
       "    .dataframe thead th {\n",
       "        text-align: right;\n",
       "    }\n",
       "</style>\n",
       "<table border=\"1\" class=\"dataframe\">\n",
       "  <thead>\n",
       "    <tr style=\"text-align: right;\">\n",
       "      <th></th>\n",
       "      <th>prediccion_valores</th>\n",
       "      <th>valor_real</th>\n",
       "    </tr>\n",
       "    <tr>\n",
       "      <th>date</th>\n",
       "      <th></th>\n",
       "      <th></th>\n",
       "    </tr>\n",
       "  </thead>\n",
       "  <tbody>\n",
       "    <tr>\n",
       "      <th>2017-10-31 12:59:59</th>\n",
       "      <td>86.739974</td>\n",
       "      <td>89.520904</td>\n",
       "    </tr>\n",
       "    <tr>\n",
       "      <th>2017-06-03 13:59:59</th>\n",
       "      <td>80.862352</td>\n",
       "      <td>80.994927</td>\n",
       "    </tr>\n",
       "    <tr>\n",
       "      <th>2017-03-03 09:59:59</th>\n",
       "      <td>94.899391</td>\n",
       "      <td>94.980094</td>\n",
       "    </tr>\n",
       "    <tr>\n",
       "      <th>2016-08-30 10:59:59</th>\n",
       "      <td>65.561570</td>\n",
       "      <td>76.388361</td>\n",
       "    </tr>\n",
       "    <tr>\n",
       "      <th>2018-02-25 13:59:59</th>\n",
       "      <td>97.177205</td>\n",
       "      <td>97.177847</td>\n",
       "    </tr>\n",
       "    <tr>\n",
       "      <th>...</th>\n",
       "      <td>...</td>\n",
       "      <td>...</td>\n",
       "    </tr>\n",
       "    <tr>\n",
       "      <th>2017-07-03 21:59:59</th>\n",
       "      <td>77.149197</td>\n",
       "      <td>77.128221</td>\n",
       "    </tr>\n",
       "    <tr>\n",
       "      <th>2016-03-31 14:00:00</th>\n",
       "      <td>78.998992</td>\n",
       "      <td>78.998992</td>\n",
       "    </tr>\n",
       "    <tr>\n",
       "      <th>2017-08-08 08:59:59</th>\n",
       "      <td>87.457749</td>\n",
       "      <td>87.418343</td>\n",
       "    </tr>\n",
       "    <tr>\n",
       "      <th>2016-12-29 19:59:59</th>\n",
       "      <td>71.451487</td>\n",
       "      <td>71.549745</td>\n",
       "    </tr>\n",
       "    <tr>\n",
       "      <th>2018-08-14 13:59:59</th>\n",
       "      <td>94.257790</td>\n",
       "      <td>94.235653</td>\n",
       "    </tr>\n",
       "  </tbody>\n",
       "</table>\n",
       "<p>4544 rows × 2 columns</p>\n",
       "</div>"
      ],
      "text/plain": [
       "                     prediccion_valores  valor_real\n",
       "date                                               \n",
       "2017-10-31 12:59:59           86.739974   89.520904\n",
       "2017-06-03 13:59:59           80.862352   80.994927\n",
       "2017-03-03 09:59:59           94.899391   94.980094\n",
       "2016-08-30 10:59:59           65.561570   76.388361\n",
       "2018-02-25 13:59:59           97.177205   97.177847\n",
       "...                                 ...         ...\n",
       "2017-07-03 21:59:59           77.149197   77.128221\n",
       "2016-03-31 14:00:00           78.998992   78.998992\n",
       "2017-08-08 08:59:59           87.457749   87.418343\n",
       "2016-12-29 19:59:59           71.451487   71.549745\n",
       "2018-08-14 13:59:59           94.257790   94.235653\n",
       "\n",
       "[4544 rows x 2 columns]"
      ]
     },
     "execution_count": 182,
     "metadata": {},
     "output_type": "execute_result"
    }
   ],
   "source": [
    "probar_bosque_regresion(caracteristicas_1, objetivo_1, test_size=0.2, random_state=42, n_estimators=100, max_depth=None)"
   ]
  },
  {
   "cell_type": "code",
   "execution_count": 166,
   "id": "4c08e905-f447-418b-93bb-1b2e82d51881",
   "metadata": {},
   "outputs": [
    {
     "name": "stdout",
     "output_type": "stream",
     "text": [
      "Error (RMSE): 8.341387049022185\n",
      "SMAPE 8.070645689632306\n"
     ]
    },
    {
     "data": {
      "text/html": [
       "<div>\n",
       "<style scoped>\n",
       "    .dataframe tbody tr th:only-of-type {\n",
       "        vertical-align: middle;\n",
       "    }\n",
       "\n",
       "    .dataframe tbody tr th {\n",
       "        vertical-align: top;\n",
       "    }\n",
       "\n",
       "    .dataframe thead th {\n",
       "        text-align: right;\n",
       "    }\n",
       "</style>\n",
       "<table border=\"1\" class=\"dataframe\">\n",
       "  <thead>\n",
       "    <tr style=\"text-align: right;\">\n",
       "      <th></th>\n",
       "      <th>prediccion_valores</th>\n",
       "      <th>valor_real</th>\n",
       "    </tr>\n",
       "    <tr>\n",
       "      <th>date</th>\n",
       "      <th></th>\n",
       "      <th></th>\n",
       "    </tr>\n",
       "  </thead>\n",
       "  <tbody>\n",
       "    <tr>\n",
       "      <th>2017-10-31 12:59:59</th>\n",
       "      <td>71.988649</td>\n",
       "      <td>71.333042</td>\n",
       "    </tr>\n",
       "    <tr>\n",
       "      <th>2017-06-03 13:59:59</th>\n",
       "      <td>39.295330</td>\n",
       "      <td>42.125635</td>\n",
       "    </tr>\n",
       "    <tr>\n",
       "      <th>2017-03-03 09:59:59</th>\n",
       "      <td>99.697094</td>\n",
       "      <td>100.000000</td>\n",
       "    </tr>\n",
       "    <tr>\n",
       "      <th>2016-08-30 10:59:59</th>\n",
       "      <td>64.196940</td>\n",
       "      <td>60.699442</td>\n",
       "    </tr>\n",
       "    <tr>\n",
       "      <th>2018-02-25 13:59:59</th>\n",
       "      <td>75.301078</td>\n",
       "      <td>73.870714</td>\n",
       "    </tr>\n",
       "    <tr>\n",
       "      <th>...</th>\n",
       "      <td>...</td>\n",
       "      <td>...</td>\n",
       "    </tr>\n",
       "    <tr>\n",
       "      <th>2017-07-03 21:59:59</th>\n",
       "      <td>65.512734</td>\n",
       "      <td>63.525919</td>\n",
       "    </tr>\n",
       "    <tr>\n",
       "      <th>2016-03-31 14:00:00</th>\n",
       "      <td>58.030647</td>\n",
       "      <td>39.381992</td>\n",
       "    </tr>\n",
       "    <tr>\n",
       "      <th>2017-08-08 08:59:59</th>\n",
       "      <td>71.001730</td>\n",
       "      <td>69.510739</td>\n",
       "    </tr>\n",
       "    <tr>\n",
       "      <th>2016-12-29 19:59:59</th>\n",
       "      <td>65.526649</td>\n",
       "      <td>58.234408</td>\n",
       "    </tr>\n",
       "    <tr>\n",
       "      <th>2018-08-14 13:59:59</th>\n",
       "      <td>74.143004</td>\n",
       "      <td>79.784993</td>\n",
       "    </tr>\n",
       "  </tbody>\n",
       "</table>\n",
       "<p>4544 rows × 2 columns</p>\n",
       "</div>"
      ],
      "text/plain": [
       "                     prediccion_valores  valor_real\n",
       "date                                               \n",
       "2017-10-31 12:59:59           71.988649   71.333042\n",
       "2017-06-03 13:59:59           39.295330   42.125635\n",
       "2017-03-03 09:59:59           99.697094  100.000000\n",
       "2016-08-30 10:59:59           64.196940   60.699442\n",
       "2018-02-25 13:59:59           75.301078   73.870714\n",
       "...                                 ...         ...\n",
       "2017-07-03 21:59:59           65.512734   63.525919\n",
       "2016-03-31 14:00:00           58.030647   39.381992\n",
       "2017-08-08 08:59:59           71.001730   69.510739\n",
       "2016-12-29 19:59:59           65.526649   58.234408\n",
       "2018-08-14 13:59:59           74.143004   79.784993\n",
       "\n",
       "[4544 rows x 2 columns]"
      ]
     },
     "execution_count": 166,
     "metadata": {},
     "output_type": "execute_result"
    }
   ],
   "source": [
    "probar_bosque_regresion(caracteristicas_2, objetivo_2, test_size=0.2, random_state=42, n_estimators=100, max_depth=None)"
   ]
  },
  {
   "cell_type": "markdown",
   "id": "0edd7fb5-2d20-4a01-b005-4fb0124b8af6",
   "metadata": {},
   "source": [
    "#### 3.3.4 Realizar la validacion cruzada"
   ]
  },
  {
   "cell_type": "code",
   "execution_count": 193,
   "id": "42b73833-6f53-4a9d-bde4-75d385d892d4",
   "metadata": {},
   "outputs": [
    {
     "name": "stdout",
     "output_type": "stream",
     "text": [
      "Regresión Lineal: sMAPE promedio = 10.36%\n",
      "Árbol de Regresión: sMAPE promedio = 4.24%\n",
      "Bosque de Regresión: sMAPE promedio = 5.78%\n"
     ]
    }
   ],
   "source": [
    "# Modelos a evaluar\n",
    "modelos = {\n",
    "    \"Regresión Lineal\": LinearRegression(),\n",
    "    \"Árbol de Regresión\": DecisionTreeRegressor(random_state=42),\n",
    "    \"Bosque de Regresión\": RandomForestRegressor(random_state=42, n_estimators=100)\n",
    "}\n",
    "\n",
    "# Convertir la función en un scorer compatible con scikit-learn\n",
    "smape_scorer = make_scorer(calcular_sMAPE)\n",
    "# Realizar evaluación cruzada para cada modelo \n",
    "resultados_smape = {}\n",
    "for nombre, modelo in modelos.items():\n",
    "    puntuaciones = cross_val_score(modelo, caracteristicas_1, objetivo_1, cv=5, scoring=smape_scorer)\n",
    "    resultados_smape[nombre] = np.mean(puntuaciones)  # Promedio de sMAPE\n",
    "\n",
    "# Imprimir los resultados de sMAPE\n",
    "for modelo, smape in resultados_smape.items():\n",
    "    print(f\"{modelo}: sMAPE promedio = {smape:.2f}%\")"
   ]
  },
  {
   "cell_type": "code",
   "execution_count": 195,
   "id": "595cc517-aa38-4f37-a994-2b3959079af6",
   "metadata": {},
   "outputs": [
    {
     "name": "stdout",
     "output_type": "stream",
     "text": [
      "Regresión Lineal: sMAPE promedio = 11.77%\n",
      "Árbol de Regresión: sMAPE promedio = 14.52%\n",
      "Bosque de Regresión: sMAPE promedio = 11.74%\n"
     ]
    }
   ],
   "source": [
    "# Realizar evaluación cruzada para cada modelo \n",
    "resultados_smape = {}\n",
    "for nombre, modelo in modelos.items():\n",
    "    puntuaciones = cross_val_score(modelo, caracteristicas_2, objetivo_2, cv=5, scoring=smape_scorer)\n",
    "    resultados_smape[nombre] = np.mean(puntuaciones)  # Promedio de sMAPE\n",
    "\n",
    "# Imprimir los resultados de sMAPE\n",
    "for modelo, smape in resultados_smape.items():\n",
    "    print(f\"{modelo}: sMAPE promedio = {smape:.2f}%\")"
   ]
  },
  {
   "cell_type": "markdown",
   "id": "10832197-8963-4a98-a5dc-97ae51b9c576",
   "metadata": {},
   "source": [
    "#### Observacion \n",
    "Para el concentrado rougher el mejor modelo es el Arbol de Regresion y para el concentrado final el mejor modelo es el Bosque de Regresion  "
   ]
  },
  {
   "cell_type": "code",
   "execution_count": 237,
   "id": "02a9a178-7495-45f4-8b81-6a8bf7f6d8a9",
   "metadata": {},
   "outputs": [
    {
     "name": "stdout",
     "output_type": "stream",
     "text": [
      "371218.8391230931\n",
      "SMAPE 1.2326348514400272\n"
     ]
    }
   ],
   "source": [
    "#Modelo para el concentrado rougher\n",
    "#Dividir los datos en entrenamiento y prueba \n",
    "X_train, X_test, y_train, y_test = train_test_split(caracteristicas_1, objetivo_1, test_size=0.2, random_state=42)\n",
    "\n",
    "# Crear y entrenar el árbol de regresión\n",
    "modelo = DecisionTreeRegressor(random_state=42, max_depth=None)\n",
    "modelo.fit(X_train, y_train)\n",
    "    \n",
    "# Realizar predicciones\n",
    "prediccion = modelo.predict(X_test)\n",
    "    \n",
    "# Calcular el resultado\n",
    "resultado_arbol= pd.DataFrame(dict(prediccion_valores = prediccion, valor_real = y_test))\n",
    "print(resultado_arbol['prediccion_valores'].sum())\n",
    "smape= calcular_sMAPE(resultado_arbol['valor_real'], resultado_arbol['prediccion_valores'])\n",
    "print('SMAPE', smape)"
   ]
  },
  {
   "cell_type": "code",
   "execution_count": 239,
   "id": "6ee6a5b5-d689-49ac-8228-e4701fe65a58",
   "metadata": {},
   "outputs": [
    {
     "name": "stdout",
     "output_type": "stream",
     "text": [
      "301887.21148359816\n",
      "SMAPE 8.070645689632306\n"
     ]
    }
   ],
   "source": [
    "#Modelo para el concentrado final \n",
    "#Dividir los datos de entrenamiento y prueba \n",
    "X_train, X_test, y_train, y_test = train_test_split(caracteristicas_2, objetivo_2, test_size=0.2, random_state=42)\n",
    "    \n",
    "# Crear y entrenar el Bosque de Regresión\n",
    "modelo = RandomForestRegressor(random_state=42, n_estimators=100, max_depth=None)\n",
    "modelo.fit(X_train, y_train)\n",
    "    \n",
    "# Realizar predicciones\n",
    "prediccion = modelo.predict(X_test)\n",
    "    \n",
    "# Calcular el resultado\n",
    "resultado_bosque= pd.DataFrame(dict(prediccion_valores = prediccion, valor_real = y_test))\n",
    "print(resultado_bosque['prediccion_valores'].sum())\n",
    "smape= calcular_sMAPE(resultado_bosque['valor_real'], resultado_bosque['prediccion_valores'])\n",
    "print('SMAPE', smape)"
   ]
  },
  {
   "cell_type": "code",
   "execution_count": 224,
   "id": "78f20bfa-7948-4001-a7da-a4b7fba913c9",
   "metadata": {},
   "outputs": [
    {
     "name": "stdout",
     "output_type": "stream",
     "text": [
      "Métrica final: 6.36\n"
     ]
    }
   ],
   "source": [
    "# Calcular metrica Final con los valores del bosque de regresion y el arbol de regresion\n",
    "\n",
    "valores_reales_rougher = resultado_arbol['valor_real']\n",
    "valores_predichos_rougher = resultado_arbol['prediccion_valores']\n",
    "\n",
    "valores_reales_final = resultado_bosque['valor_real']\n",
    "valores_predichos_final = resultado_bosque['prediccion_valores']\n",
    "\n",
    "# Calcular la métrica final\n",
    "metrica_final = calcular_metrica_final(valores_reales_rougher, valores_predichos_rougher, \n",
    "                                       valores_reales_final, valores_predichos_final)\n",
    "\n",
    "print(f\"Métrica final: {metrica_final:.2f}\")\n"
   ]
  },
  {
   "cell_type": "markdown",
   "id": "f565e260-b609-4651-97ae-c456fe5d176e",
   "metadata": {},
   "source": [
    "## Conclusion Final \n",
    "Al entrenar varios modelos se pudo evidenciar que el concentrado rougher y el concentrado final en sus predicciones se calculan mas eficientemente en diferente modelos y al final se entreno estos modelos que eran mas eficientes para cada uno y calculo la metrica final la cual es 6.36 porciento de comparacion entre los valores reales y las prediciones. La cantiadad de oro extraido final es menor al del concentrado rougher y esto debido a que segun el proceso tecnologico explicado luego de la purificacion va perdiendo concentracion."
   ]
  },
  {
   "cell_type": "code",
   "execution_count": 246,
   "id": "ff8bedc5-c192-40a1-9936-fdb88fa9597e",
   "metadata": {},
   "outputs": [
    {
     "data": {
      "image/png": "[encoded data removed]",
      "text/plain": [
       "<Figure size 1000x600 with 1 Axes>"
      ]
     },
     "metadata": {},
     "output_type": "display_data"
    }
   ],
   "source": [
    "import matplotlib.pyplot as plt\n",
    "\n",
    "# Crear el histograma\n",
    "plt.figure(figsize=(10, 6))\n",
    "\n",
    "# Histograma para las predicciones rougher\n",
    "plt.hist(valores_predichos_rougher, bins=15, alpha=0.7, label=\"Predicción Rougher\", color='orange', edgecolor='black')\n",
    "\n",
    "# Histograma para las predicciones finales\n",
    "plt.hist(valores_predichos_final, bins=15, alpha=0.7, label=\"Predicción Final\", color='green', edgecolor='black')\n",
    "\n",
    "# Personalización del gráfico\n",
    "plt.title(\"Distribución de Predicciones del Concentrado Rougher y Final\", fontsize=14)\n",
    "plt.xlabel(\"Concentrado Predicho\", fontsize=12)\n",
    "plt.ylabel(\"Frecuencia\", fontsize=12)\n",
    "plt.legend()\n",
    "plt.grid(alpha=0.5)\n",
    "\n",
    "# Mostrar el histograma\n",
    "plt.tight_layout()\n",
    "plt.show()"
   ]
  }
 ],
 "metadata": {
  "kernelspec": {
   "display_name": "Python 3 (ipykernel)",
   "language": "python",
   "name": "python3"
  },
  "language_info": {
   "codemirror_mode": {
    "name": "ipython",
    "version": 3
   },
   "file_extension": ".py",
   "mimetype": "text/x-python",
   "name": "python",
   "nbconvert_exporter": "python",
   "pygments_lexer": "ipython3",
   "version": "3.12.7"
  }
 },
 "nbformat": 4,
 "nbformat_minor": 5
}
