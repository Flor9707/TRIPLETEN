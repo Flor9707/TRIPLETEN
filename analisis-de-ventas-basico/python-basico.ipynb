{
 "cells": [
  {
   "cell_type": "markdown",
   "metadata": {
    "id": "EMQlsEYlxGET"
   },
   "source": [
    "Estos son los datos que el cliente nos proporcionó. Tienen el formato de una lista de Python, con las siguientes columnas de datos:\n",
    "\n",
    "- **user_id:** Identificador único para cada usuario.\n",
    "- **user_name:** El nombre del usuario.\n",
    "- **user_age:** La edad del usuario.\n",
    "- **fav_categories:** Categorías favoritas de los artículos que compró el usuario, como 'ELECTRONICS', 'SPORT' y 'BOOKS' (ELECTRÓNICOS, DEPORTES y LIBROS), etc.\n",
    "- **total_spendings:** Una lista de números enteros que indican la cantidad total gastada en cada una de las categorías favoritas.\n"
   ]
  },
  {
   "cell_type": "code",
   "execution_count": 1,
   "metadata": {
    "id": "LfBCH4crxLOt"
   },
   "outputs": [],
   "source": [
    "users = [\n",
    "    ['32415', ' mike_reed ', 32.0, ['ELECTRONICS', 'SPORT', 'BOOKS'], [894, 213, 173]],\n",
    "    ['31980', 'kate morgan', 24.0, ['CLOTHES', 'BOOKS'], [439, 390]],\n",
    "    ['32156', ' john doe ', 37.0, ['ELECTRONICS', 'HOME', 'FOOD'], [459, 120, 99]],\n",
    "    ['32761', 'SAMANTHA SMITH', 29.0, ['CLOTHES', 'ELECTRONICS', 'BEAUTY'], [299, 679, 85]],\n",
    "    ['32984', 'David White', 41.0, ['BOOKS', 'HOME', 'SPORT'], [234, 329, 243]],\n",
    "    ['33001', 'emily brown', 26.0, ['BEAUTY', 'HOME', 'FOOD'], [213, 659, 79]],\n",
    "    ['33767', ' Maria Garcia', 33.0, ['CLOTHES', 'FOOD', 'BEAUTY'], [499, 189, 63]],\n",
    "    ['33912', 'JOSE MARTINEZ', 22.0, ['SPORT', 'ELECTRONICS', 'HOME'], [259, 549, 109]],\n",
    "    ['34009', 'lisa wilson ', 35.0, ['HOME', 'BOOKS', 'CLOTHES'], [329, 189, 329]],\n",
    "    ['34278', 'James Lee', 28.0, ['BEAUTY', 'CLOTHES', 'ELECTRONICS'], [189, 299, 579]],\n",
    "]\n"
   ]
  },
  {
   "cell_type": "markdown",
   "metadata": {
    "id": "QJa5xuF-Jm9T"
   },
   "source": [
    "# Paso 1\n",
    "\n",
    "Store 1 tiene como objetivo garantizar la coherencia en la recopilación de datos. Como parte de esta iniciativa, se debe evaluar la calidad de los datos recopilados sobre los usuarios y las usuarias. Te han pedido que revises los datos recopilados y propongas cambios. A continuación verás datos sobre un usuario o una usuaria en particular; revisa los datos e identifica cualquier posible problema.\n"
   ]
  },
  {
   "cell_type": "code",
   "execution_count": 2,
   "metadata": {
    "id": "kvRIX_jfJm9U"
   },
   "outputs": [],
   "source": [
    "user_id = '32415'\n",
    "user_name = ' mike_reed '\n",
    "user_age = 32.0\n",
    "fav_categories = ['ELECTRONICS', 'SPORT', 'BOOKS']"
   ]
  },
  {
   "cell_type": "markdown",
   "metadata": {
    "id": "Fo28PV6wJm9U"
   },
   "source": [
    "**Opciones:**\n",
    "\n",
    "1. Se debe cambiar el tipo de dato de `user_id` de cadena a entero.\n",
    "    \n",
    "2. La variable `user_name` contiene una cadena que tiene espacios innecesarios y un guion bajo entre el nombre y el apellido.\n",
    "    \n",
    "3. El tipo de dato de `user_age` es correcto y no hay necesidad de convertirlo.\n",
    "    \n",
    "4. La lista `fav_categories` contiene cadenas en mayúsculas. En lugar de ello, debemos convertir los valores de la lista en minúsculas.\n"
   ]
  },
  {
   "cell_type": "markdown",
   "metadata": {
    "id": "uFd9fGjzJm9V"
   },
   "source": [
    "Para cada una de las opciones, escribe en la siguiente celda markdown si la identificaste como un problema real en los datos o no. Justifica tu razonamiento. Por ejemplo, si crees que la primera opción es correcta, escríbelo y explica por qué piensas que es correcta."
   ]
  },
  {
   "cell_type": "markdown",
   "metadata": {
    "id": "jBGXAwBkJm9V"
   },
   "source": [
    "**Escribe tu respuesta y explica tu argumentación:** 1.No veo la necesidad de cambiar el user_id a entero porque no se va hacer operaciones aritmeticas con el valor, 2.El user_name si se podria omitir los espacios al momento de escribir las comillas,y el guion si estaria de mas, se lee mejor 'mike reed', 3. El user_age no es un dato correcto porque la edad deberia ser un numero entero 32 y no 32.0 en este caso se deberia ser la conversion, 4.No veo un problema real que la lista fav_categorie este en mayúsculas."
   ]
  },
  {
   "cell_type": "markdown",
   "metadata": {
    "id": "aZ40WbF5Jm9V"
   },
   "source": [
    "# Paso 2\n",
    "\n",
    "Vamos a implementar los cambios que identificamos. Primero, necesitamos corregir los problemas de la variable `user_name` Como vimos, tiene espacios innecesarios y un guion bajo como separador entre el nombre y el apellido; tu objetivo es eliminar los espacios y luego reemplazar el guion bajo con el espacio.\n"
   ]
  },
  {
   "cell_type": "code",
   "execution_count": 3,
   "metadata": {
    "colab": {
     "base_uri": "https://localhost:8080/"
    },
    "id": "_uOLKjF8Jm9V",
    "outputId": "630b0663-620c-44a2-f0d1-4b7b4a592b0b"
   },
   "outputs": [
    {
     "name": "stdout",
     "output_type": "stream",
     "text": [
      "mike reed\n"
     ]
    }
   ],
   "source": [
    "user_name = ' mike_reed '\n",
    "user_name = user_name.strip()\n",
    "user_name = user_name.replace(\"_\",\" \")\n",
    "\n",
    "print(user_name)\n"
   ]
  },
  {
   "cell_type": "markdown",
   "metadata": {
    "id": "IBQlePCsJm9V"
   },
   "source": [
    "# Paso 3\n",
    "\n",
    "Luego, debemos dividir el `user_name` (nombre de usuario o usuaria) actualizado en dos subcadenas para obtener una lista que contenga dos valores: la cadena para el nombre y la cadena para el apellido."
   ]
  },
  {
   "cell_type": "code",
   "execution_count": 4,
   "metadata": {
    "colab": {
     "base_uri": "https://localhost:8080/"
    },
    "id": "0mYAxetNJm9W",
    "outputId": "2128b910-489c-4939-cb24-6d0f6d45e877"
   },
   "outputs": [
    {
     "name": "stdout",
     "output_type": "stream",
     "text": [
      "['mike', 'reed']\n"
     ]
    }
   ],
   "source": [
    "user_name = 'mike reed'\n",
    "name_split = user_name.split()\n",
    "\n",
    "print(name_split)"
   ]
  },
  {
   "cell_type": "markdown",
   "metadata": {
    "id": "bcNebWVsJm9W"
   },
   "source": [
    "# Paso 4\n",
    "\n",
    "¡Genial! Ahora debemos trabajar con la variable `user_age`. Como ya mencionamos, esta tiene un tipo de datos incorrecto. Arreglemos este problema transformando el tipo de datos y mostrando el resultado final.\n"
   ]
  },
  {
   "cell_type": "code",
   "execution_count": 5,
   "metadata": {
    "colab": {
     "base_uri": "https://localhost:8080/"
    },
    "id": "g0FZSll4Jm9W",
    "outputId": "8b977bc7-e315-4a27-97ad-645570ed60bc"
   },
   "outputs": [
    {
     "name": "stdout",
     "output_type": "stream",
     "text": [
      "32\n"
     ]
    }
   ],
   "source": [
    "user_age = 32.0\n",
    "user_age = int(user_age)\n",
    "\n",
    "print(user_age)"
   ]
  },
  {
   "cell_type": "markdown",
   "metadata": {
    "id": "r4a-d2veJm9W"
   },
   "source": [
    "********Hint********\n",
    "\n",
    "¿Qué tipo de datos eliminará la parte de coma flotante?\n"
   ]
  },
  {
   "cell_type": "markdown",
   "metadata": {
    "id": "U0bvLZOVJm9W"
   },
   "source": [
    "# Paso 5\n",
    "\n",
    "Como sabemos, los datos no siempre son perfectos. Debemos considerar escenarios en los que el valor de `user_age` no se pueda convertir en un número entero. Para evitar que nuestro sistema se bloquee, debemos tomar medidas con anticipación.\n",
    "\n",
    "Escribe un código que intente convertir la variable `user_age` en un número entero y asigna el valor transformado a `user_age_int`. Si el intento falla, mostramos un mensaje pidiendo al usuario o la usuaria que proporcione su edad como un valor numérico con el mensaje: `Please provide your age as a numerical value.` (Proporcione su edad como un valor numérico.)"
   ]
  },
  {
   "cell_type": "code",
   "execution_count": 6,
   "metadata": {
    "colab": {
     "base_uri": "https://localhost:8080/"
    },
    "id": "bKxiA-voJm9W",
    "outputId": "829a78ce-a7a5-4195-c424-90e9982c63ce"
   },
   "outputs": [],
   "source": [
    "user_age = 'treinta y dos'\n",
    "\n",
    "try:\n",
    "    user_age= 'treinta y dos'\n",
    "except:\n",
    "    print('Please provide your age as a numerical value')"
   ]
  },
  {
   "cell_type": "markdown",
   "metadata": {
    "id": "YAFlIV8OL6S5"
   },
   "source": [
    "********Hint********\n",
    "\n",
    "Utiliza un bloque `try-except` para intentar la conversión; si falla, proporciona un mensaje claro indicando que la entrada debe ser numérica."
   ]
  },
  {
   "cell_type": "markdown",
   "metadata": {
    "id": "geo-WB0KW3Ji"
   },
   "source": [
    "# Paso 6\n",
    "\n",
    "El equipo de dirección de Store 1 te pidió ayudarles a organizar los datos de sus clientes para analizarlos y gestionarlos mejor.\n",
    "\n",
    "Tu tarea es ordenar esta lista por ID de usuario de forma ascendente para que sea más fácil acceder a ella y analizarla.\n"
   ]
  },
  {
   "cell_type": "code",
   "execution_count": 7,
   "metadata": {
    "colab": {
     "base_uri": "https://localhost:8080/"
    },
    "id": "Re_QlnnLW3Jo",
    "outputId": "8b977bc7-e315-4a27-97ad-645570ed60bc"
   },
   "outputs": [
    {
     "name": "stdout",
     "output_type": "stream",
     "text": [
      "[['34278', 'James Lee', 28.0, ['BEAUTY', 'CLOTHES', 'ELECTRONICS'], [189, 299, 579]], ['34009', 'lisa wilson ', 35.0, ['HOME', 'BOOKS', 'CLOTHES'], [329, 189, 329]], ['33912', 'JOSE MARTINEZ', 22.0, ['SPORT', 'ELECTRONICS', 'HOME'], [259, 549, 109]], ['33767', ' Maria Garcia', 33.0, ['CLOTHES', 'FOOD', 'BEAUTY'], [499, 189, 63]], ['33001', 'emily brown', 26.0, ['BEAUTY', 'HOME', 'FOOD'], [213, 659, 79]], ['32984', 'David White', 41.0, ['BOOKS', 'HOME', 'SPORT'], [234, 329, 243]], ['32761', 'SAMANTHA SMITH', 29.0, ['CLOTHES', 'ELECTRONICS', 'BEAUTY'], [299, 679, 85]], ['32415', ' mike_reed ', 32.0, ['ELECTRONICS', 'SPORT', 'BOOKS'], [894, 213, 173]], ['32156', ' john doe ', 37.0, ['ELECTRONICS', 'HOME', 'FOOD'], [459, 120, 99]], ['31980', 'kate morgan', 24.0, ['CLOTHES', 'BOOKS'], [439, 390]]]\n"
     ]
    }
   ],
   "source": [
    "users = [\n",
    "    ['32415', ' mike_reed ', 32.0, ['ELECTRONICS', 'SPORT', 'BOOKS'], [894, 213, 173]],\n",
    "    ['31980', 'kate morgan', 24.0, ['CLOTHES', 'BOOKS'], [439, 390]],\n",
    "    ['32156', ' john doe ', 37.0, ['ELECTRONICS', 'HOME', 'FOOD'], [459, 120, 99]],\n",
    "    ['32761', 'SAMANTHA SMITH', 29.0, ['CLOTHES', 'ELECTRONICS', 'BEAUTY'], [299, 679, 85]],\n",
    "    ['32984', 'David White', 41.0, ['BOOKS', 'HOME', 'SPORT'], [234, 329, 243]],\n",
    "    ['33001', 'emily brown', 26.0, ['BEAUTY', 'HOME', 'FOOD'], [213, 659, 79]],\n",
    "    ['33767', ' Maria Garcia', 33.0, ['CLOTHES', 'FOOD', 'BEAUTY'], [499, 189, 63]],\n",
    "    ['33912', 'JOSE MARTINEZ', 22.0, ['SPORT', 'ELECTRONICS', 'HOME'], [259, 549, 109]],\n",
    "    ['34009', 'lisa wilson ', 35.0, ['HOME', 'BOOKS', 'CLOTHES'], [329, 189, 329]],\n",
    "    ['34278', 'James Lee', 28.0, ['BEAUTY', 'CLOTHES', 'ELECTRONICS'], [189, 299, 579]],\n",
    "]\n",
    "\n",
    "users.sort(reverse=True)\n",
    "\n",
    "print(users)"
   ]
  },
  {
   "cell_type": "markdown",
   "metadata": {
    "id": "uxG5diF0W3Jo"
   },
   "source": [
    "********Hint********\n",
    "\n",
    "Puedes utilizar el método `sort()` en la lista de usuarios para ordenarla de forma ascendente.\n"
   ]
  },
  {
   "cell_type": "markdown",
   "metadata": {
    "id": "VRqEQFJiJm9X"
   },
   "source": [
    "# Paso 7\n",
    "\n",
    "Tenemos la información de los hábitos de consumo de nuestros usuarios, incluyendo la cantidad gastada en cada una de sus categorías favoritas. La dirección está interesada en conocer la cantidad total gastada por el usuario.\n",
    "\n",
    "\n",
    "Calculemos este valor y despleguémoslo.\n"
   ]
  },
  {
   "cell_type": "code",
   "execution_count": 8,
   "metadata": {
    "colab": {
     "base_uri": "https://localhost:8080/"
    },
    "id": "sjNmuLsQJm9X",
    "outputId": "308483d6-8d3c-4763-9014-7e702307424f"
   },
   "outputs": [
    {
     "name": "stdout",
     "output_type": "stream",
     "text": [
      "1280\n"
     ]
    }
   ],
   "source": [
    "fav_categories_low = ['electronics', 'sport', 'books']\n",
    "spendings_per_category = [894, 213, 173]\n",
    "\n",
    "total_amount = sum(spendings_per_category)\n",
    "\n",
    "print(total_amount)\n"
   ]
  },
  {
   "cell_type": "markdown",
   "metadata": {
    "id": "VMh87UdWJm9X"
   },
   "source": [
    "********Hint********\n",
    "\n",
    "¿Cuáles son los tres métodos que se pueden aplicar a una lista para calcular sus valores mínimo, máximo y total?\n"
   ]
  },
  {
   "cell_type": "markdown",
   "metadata": {
    "id": "zP0nVV5FJm9Y"
   },
   "source": [
    "# Paso 8\n",
    "\n",
    "La dirección de la empresa nos pidió pensar en una manera de resumir toda la información de un usuario. Tu objetivo es crear una cadena formateada que utilice información de las variables `user_id`, `user_name` y `user_age`.\n",
    "\n",
    "Esta es la cadena final que queremos crear: `User 32415 is mike who is 32 years old.` (El usuario 32415 es Mike, quien tiene 32 años).\n"
   ]
  },
  {
   "cell_type": "code",
   "execution_count": 9,
   "metadata": {
    "colab": {
     "base_uri": "https://localhost:8080/"
    },
    "id": "8mlIJr4OJm9Y",
    "outputId": "909d84d1-5723-4676-fb2d-92f8a8c15b7b"
   },
   "outputs": [
    {
     "name": "stdout",
     "output_type": "stream",
     "text": [
      "User 32415 is mike who is 32 years old\n"
     ]
    }
   ],
   "source": [
    "user_id = '32415'\n",
    "user_name = ['mike', 'reed']\n",
    "user_age = 32\n",
    "\n",
    "user_info =\"User {a} is {b} who is {c} years old\".format(a=user_id,b=user_name[0],c=user_age)\n",
    "print(user_info)"
   ]
  },
  {
   "cell_type": "markdown",
   "metadata": {
    "id": "vZCOPWq9Jm9Y"
   },
   "source": [
    "********Hint********\n",
    "\n",
    "Para crear una cadena, puedes utilizar el método `format()` o f-string. Para extraer el nombre de la lista `user_name`, puedes utilizar la segmentación.\n"
   ]
  },
  {
   "cell_type": "markdown",
   "metadata": {
    "id": "xOj8_G0ZO9mM"
   },
   "source": [
    "# Paso 9\n",
    "\n",
    "La dirección también quiere una forma fácil de conocer la cantidad de clientes con cuyos datos contamos. Tu objetivo es crear una cadena formateada que muestre la cantidad de datos de clientes registrados.\n",
    "\n",
    "Esta es la cadena final que queremos crear: `Hemos registrado datos de X clientes`.\n"
   ]
  },
  {
   "cell_type": "code",
   "execution_count": 10,
   "metadata": {
    "colab": {
     "base_uri": "https://localhost:8080/"
    },
    "id": "eGvjS1rkO9mS",
    "outputId": "ce65761f-07d9-463e-e645-4a69c4c9cd9f"
   },
   "outputs": [
    {
     "name": "stdout",
     "output_type": "stream",
     "text": [
      "We have registered data on 10 clients.\n"
     ]
    }
   ],
   "source": [
    "users = [\n",
    "    ['32415', ' mike_reed ', 32.0, ['ELECTRONICS', 'SPORT', 'BOOKS'], [894, 213, 173]],\n",
    "    ['31980', 'kate morgan', 24.0, ['CLOTHES', 'BOOKS'], [439, 390]],\n",
    "    ['32156', ' john doe ', 37.0, ['ELECTRONICS', 'HOME', 'FOOD'], [459, 120, 99]],\n",
    "    ['32761', 'SAMANTHA SMITH', 29.0, ['CLOTHES', 'ELECTRONICS', 'BEAUTY'], [299, 679, 85]],\n",
    "    ['32984', 'David White', 41.0, ['BOOKS', 'HOME', 'SPORT'], [234, 329, 243]],\n",
    "    ['33001', 'emily brown', 26.0, ['BEAUTY', 'HOME', 'FOOD'], [213, 659, 79]],\n",
    "    ['33767', ' Maria Garcia', 33.0, ['CLOTHES', 'FOOD', 'BEAUTY'], [499, 189, 63]],\n",
    "    ['33912', 'JOSE MARTINEZ', 22.0, ['SPORT', 'ELECTRONICS', 'HOME'], [259, 549, 109]],\n",
    "    ['34009', 'lisa wilson ', 35.0, ['HOME', 'BOOKS', 'CLOTHES'], [329, 189, 329]],\n",
    "    ['34278', 'James Lee', 28.0, ['BEAUTY', 'CLOTHES', 'ELECTRONICS'], [189, 299, 579]],\n",
    "]\n",
    "\n",
    "\n",
    "user_info = f\"We have registered data on {len(users)} clients.\"\n",
    "print(user_info)"
   ]
  },
  {
   "cell_type": "markdown",
   "metadata": {
    "id": "B0oHnhDaO9mS"
   },
   "source": [
    "********Hint********\n",
    "\n",
    "Para crear una cadena, puedes utilizar el método `format()` o f-string. Para extraer la cantidad de clientes en la lista, puedes utilizar la función que devuelve la longitud de la lista.\n"
   ]
  },
  {
   "cell_type": "markdown",
   "metadata": {
    "id": "CVVBVYzORu7I"
   },
   "source": [
    "# Paso 10\n",
    "\n",
    "Apliquemos ahora todos los cambios a la lista de clientes. Para simplificar las cosas, te proporcionaremos una más corta.\n",
    "Debes:\n",
    "1. Eliminar todos los espacios iniciales y finales de los nombres, así como cualquier guion bajo.\n",
    "2. Convertir todas las edades en números enteros.\n",
    "3. Separar todos los nombres y apellidos en una sublista.\n",
    "\n",
    "Guarda la lista modificada como una nueva lista llamada `users_clean` y muéstrala en la pantalla.\n"
   ]
  },
  {
   "cell_type": "code",
   "execution_count": 11,
   "metadata": {
    "colab": {
     "base_uri": "https://localhost:8080/"
    },
    "id": "9qu_k6XURu7O",
    "outputId": "0bfb6d81-56c3-4c21-fa54-aa09b9752082"
   },
   "outputs": [
    {
     "name": "stdout",
     "output_type": "stream",
     "text": [
      "[['mike', 'reed'], 32, ['kate', 'morgan'], 24, ['john', 'doe'], 37]\n"
     ]
    }
   ],
   "source": [
    "users = [\n",
    "    ['32415', ' mike_reed ', 32.0, ['ELECTRONICS', 'SPORT', 'BOOKS'], [894, 213, 173]],\n",
    "    ['31980', 'kate morgan', 24.0, ['CLOTHES', 'BOOKS'], [439, 390]],\n",
    "    ['32156', ' john doe ', 37.0, ['ELECTRONICS', 'HOME', 'FOOD'], [459, 120, 99]],\n",
    "]\n",
    "\n",
    "users_clean = []\n",
    "\n",
    "\n",
    "# Procesa al primer usuario\n",
    "user_name_1 = users[0][1].strip().replace(\"_\",\" \")\n",
    "user_age_1 = int(users[0][2])\n",
    "user_name_1 = user_name_1.split()\n",
    "users_clean.append(user_name_1)\n",
    "users_clean.append(user_age_1)\n",
    "\n",
    "# Procesa al segundo usuario\n",
    "user_name_2 = users[1][1].strip()\n",
    "user_age_2 = int(users[1][2])\n",
    "user_name_2 = users[1][1].split()\n",
    "users_clean.append(user_name_2)\n",
    "users_clean.append(user_age_2)\n",
    "\n",
    "# Procesa al tercer usuario\n",
    "user_name_3 = users[2][1].strip()\n",
    "user_age_3 = int(users[2][2])\n",
    "user_name_3 = users[2][1].split()\n",
    "users_clean.append(user_name_3)\n",
    "users_clean.append(user_age_3)\n",
    "\n",
    "\n",
    "\n",
    "print(users_clean)\n"
   ]
  },
  {
   "cell_type": "markdown",
   "metadata": {
    "id": "TXMzdgzkRu7P"
   },
   "source": [
    "********Hint********\n",
    "\n",
    "Para procesar a cada usuario, comienza por acceder a los elementos requeridos de la lista de usuarios. Utiliza el método `strip()` para eliminar los espacios iniciales y finales y el método `replace('_',' ')` para reemplazar los guiones bajos por espacios en los nombres. Convierte la edad a un número entero utilizando `int()`. Separa el nombre completo en nombre y apellido utilizando el método `split()`. Por último, `append` (agrega) los datos limpios a la lista `users_clean`.\n"
   ]
  },
  {
   "cell_type": "markdown",
   "metadata": {
    "id": "06IMoD_nRmtf"
   },
   "source": [
    "----------\n"
   ]
  }
 ],
 "metadata": {
  "ExecuteTimeLog": [
   {
    "duration": 11,
    "start_time": "2024-08-19T20:56:10.483Z"
   },
   {
    "duration": 5,
    "start_time": "2024-08-19T21:00:44.894Z"
   },
   {
    "duration": 320,
    "start_time": "2024-08-19T21:01:57.366Z"
   },
   {
    "duration": 4,
    "start_time": "2024-08-19T21:02:18.803Z"
   },
   {
    "duration": 9,
    "start_time": "2024-08-19T21:08:18.007Z"
   },
   {
    "duration": 6,
    "start_time": "2024-08-19T21:08:23.862Z"
   },
   {
    "duration": 8,
    "start_time": "2024-08-19T21:08:47.700Z"
   },
   {
    "duration": 6,
    "start_time": "2024-08-19T21:09:15.374Z"
   },
   {
    "duration": 6,
    "start_time": "2024-08-19T21:09:40.946Z"
   },
   {
    "duration": 5,
    "start_time": "2024-08-19T21:10:35.939Z"
   },
   {
    "duration": 5,
    "start_time": "2024-08-19T21:10:45.895Z"
   },
   {
    "duration": 4,
    "start_time": "2024-08-19T21:11:18.207Z"
   },
   {
    "duration": 6,
    "start_time": "2024-08-19T21:12:13.280Z"
   },
   {
    "duration": 6,
    "start_time": "2024-08-19T21:12:29.705Z"
   },
   {
    "duration": 40,
    "start_time": "2024-08-19T21:16:13.303Z"
   },
   {
    "duration": 9,
    "start_time": "2024-08-19T21:16:46.555Z"
   },
   {
    "duration": 24,
    "start_time": "2024-08-19T21:34:24.488Z"
   },
   {
    "duration": 24,
    "start_time": "2024-08-19T21:35:56.822Z"
   },
   {
    "duration": 5,
    "start_time": "2024-08-19T21:36:08.601Z"
   },
   {
    "duration": 24,
    "start_time": "2024-08-19T21:36:18.928Z"
   },
   {
    "duration": 24,
    "start_time": "2024-08-19T21:36:37.526Z"
   },
   {
    "duration": 5,
    "start_time": "2024-08-19T21:42:45.903Z"
   },
   {
    "duration": 8,
    "start_time": "2024-08-19T21:54:30.781Z"
   },
   {
    "duration": 6,
    "start_time": "2024-08-19T21:54:55.628Z"
   },
   {
    "duration": 7,
    "start_time": "2024-08-19T21:56:56.736Z"
   },
   {
    "duration": 6,
    "start_time": "2024-08-19T21:57:45.882Z"
   },
   {
    "duration": 58,
    "start_time": "2024-08-19T21:58:49.051Z"
   },
   {
    "duration": 23,
    "start_time": "2024-08-19T22:00:02.205Z"
   },
   {
    "duration": 23,
    "start_time": "2024-08-19T22:00:25.157Z"
   },
   {
    "duration": 23,
    "start_time": "2024-08-19T22:01:57.887Z"
   },
   {
    "duration": 5,
    "start_time": "2024-08-19T22:15:48.739Z"
   },
   {
    "duration": 6,
    "start_time": "2024-08-19T22:18:01.016Z"
   },
   {
    "duration": 35,
    "start_time": "2024-08-19T22:22:17.296Z"
   },
   {
    "duration": 36,
    "start_time": "2024-08-19T22:23:41.110Z"
   },
   {
    "duration": 12,
    "start_time": "2024-08-19T22:24:43.711Z"
   },
   {
    "duration": 10,
    "start_time": "2024-08-19T22:24:58.013Z"
   },
   {
    "duration": 9,
    "start_time": "2024-08-19T22:25:35.960Z"
   },
   {
    "duration": 32,
    "start_time": "2024-08-19T22:49:58.003Z"
   },
   {
    "duration": 41,
    "start_time": "2024-08-19T22:59:05.343Z"
   },
   {
    "duration": 37,
    "start_time": "2024-08-19T23:07:30.783Z"
   },
   {
    "duration": 34,
    "start_time": "2024-08-19T23:08:21.687Z"
   },
   {
    "duration": 36,
    "start_time": "2024-08-19T23:09:25.433Z"
   },
   {
    "duration": 9,
    "start_time": "2024-08-19T23:09:47.450Z"
   },
   {
    "duration": 41,
    "start_time": "2024-08-19T23:13:03.485Z"
   },
   {
    "duration": 35,
    "start_time": "2024-08-19T23:14:35.523Z"
   },
   {
    "duration": 10,
    "start_time": "2024-08-19T23:17:30.623Z"
   },
   {
    "duration": 10,
    "start_time": "2024-08-19T23:18:36.632Z"
   },
   {
    "duration": 11,
    "start_time": "2024-08-19T23:24:14.352Z"
   },
   {
    "duration": 37,
    "start_time": "2024-08-19T23:24:38.936Z"
   },
   {
    "duration": 10,
    "start_time": "2024-08-19T23:25:21.825Z"
   },
   {
    "duration": 10,
    "start_time": "2024-08-19T23:27:49.217Z"
   },
   {
    "duration": 10,
    "start_time": "2024-08-19T23:28:21.681Z"
   },
   {
    "duration": 10,
    "start_time": "2024-08-19T23:29:32.757Z"
   },
   {
    "duration": 11,
    "start_time": "2024-08-19T23:29:45.782Z"
   },
   {
    "duration": 10,
    "start_time": "2024-08-19T23:32:19.772Z"
   },
   {
    "duration": 33,
    "start_time": "2024-08-19T23:37:07.991Z"
   },
   {
    "duration": 33,
    "start_time": "2024-08-19T23:39:10.514Z"
   },
   {
    "duration": 36,
    "start_time": "2024-08-19T23:42:57.044Z"
   },
   {
    "duration": 9,
    "start_time": "2024-08-19T23:51:34.490Z"
   },
   {
    "duration": 36,
    "start_time": "2024-08-19T23:52:58.397Z"
   },
   {
    "duration": 10,
    "start_time": "2024-08-19T23:53:34.006Z"
   },
   {
    "duration": 10,
    "start_time": "2024-08-19T23:54:10.500Z"
   },
   {
    "duration": 9,
    "start_time": "2024-08-19T23:54:37.794Z"
   },
   {
    "duration": 10,
    "start_time": "2024-08-19T23:55:58.676Z"
   },
   {
    "duration": 10,
    "start_time": "2024-08-19T23:56:19.195Z"
   },
   {
    "duration": 11,
    "start_time": "2024-08-19T23:57:19.343Z"
   },
   {
    "duration": 38,
    "start_time": "2024-08-19T23:58:26.119Z"
   },
   {
    "duration": 11,
    "start_time": "2024-08-19T23:58:49.995Z"
   },
   {
    "duration": 10,
    "start_time": "2024-08-19T23:59:32.556Z"
   },
   {
    "duration": 11,
    "start_time": "2024-08-20T00:00:14.511Z"
   },
   {
    "duration": 35,
    "start_time": "2024-08-20T00:01:41.995Z"
   },
   {
    "duration": 35,
    "start_time": "2024-08-20T00:02:57.917Z"
   },
   {
    "duration": 38,
    "start_time": "2024-08-20T00:03:14.310Z"
   },
   {
    "duration": 35,
    "start_time": "2024-08-20T00:03:34.824Z"
   },
   {
    "duration": 10,
    "start_time": "2024-08-20T00:04:20.291Z"
   },
   {
    "duration": 37,
    "start_time": "2024-08-20T00:05:11.446Z"
   },
   {
    "duration": 45,
    "start_time": "2024-08-20T00:05:36.745Z"
   },
   {
    "duration": 11,
    "start_time": "2024-08-20T00:05:59.395Z"
   },
   {
    "duration": 36,
    "start_time": "2024-08-20T00:07:40.057Z"
   },
   {
    "duration": 9,
    "start_time": "2024-08-20T00:07:53.245Z"
   },
   {
    "duration": 22,
    "start_time": "2024-08-21T23:21:33.055Z"
   },
   {
    "duration": 13,
    "start_time": "2024-08-21T23:22:42.201Z"
   },
   {
    "duration": 12,
    "start_time": "2024-08-21T23:23:03.044Z"
   },
   {
    "duration": 11,
    "start_time": "2024-08-21T23:23:36.181Z"
   },
   {
    "duration": 12,
    "start_time": "2024-08-21T23:24:26.066Z"
   },
   {
    "duration": 12,
    "start_time": "2024-08-21T23:28:45.961Z"
   },
   {
    "duration": 333,
    "start_time": "2024-08-21T23:31:03.470Z"
   },
   {
    "duration": 11,
    "start_time": "2024-08-21T23:31:17.506Z"
   },
   {
    "duration": 12,
    "start_time": "2024-08-21T23:31:46.388Z"
   }
  ],
  "colab": {
   "provenance": []
  },
  "kernelspec": {
   "display_name": "base",
   "language": "python",
   "name": "python3"
  },
  "language_info": {
   "codemirror_mode": {
    "name": "ipython",
    "version": 3
   },
   "file_extension": ".py",
   "mimetype": "text/x-python",
   "name": "python",
   "nbconvert_exporter": "python",
   "pygments_lexer": "ipython3",
   "version": "3.12.4"
  },
  "toc": {
   "base_numbering": 1,
   "nav_menu": {},
   "number_sections": true,
   "sideBar": true,
   "skip_h1_title": true,
   "title_cell": "Table of Contents",
   "title_sidebar": "Contents",
   "toc_cell": false,
   "toc_position": {},
   "toc_section_display": true,
   "toc_window_display": false
  }
 },
 "nbformat": 4,
 "nbformat_minor": 1
}
