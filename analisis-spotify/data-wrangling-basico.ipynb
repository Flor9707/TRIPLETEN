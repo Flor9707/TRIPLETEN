{
 "cells": [
  {
   "cell_type": "markdown",
   "metadata": {
    "id": "E0vqbgi9ay0H"
   },
   "source": [
    "# Déjame escuchar la música"
   ]
  },
  {
   "cell_type": "markdown",
   "metadata": {
    "id": "fhq_eyov_Zcs"
   },
   "source": [
    "# Contenido <a id='back'></a>\n",
    "\n",
    "* [Introducción](#intro)\n",
    "* [Etapa 1. Descripción de los datos](#data_review)\n",
    "    * [Conclusiones](#data_review_conclusions)\n",
    "* [Etapa 2. Preprocesamiento de datos](#data_preprocessing)\n",
    "    * [2.1 Estilo del encabezado](#header_style)\n",
    "    * [2.2 Valores ausentes](#missing_values)\n",
    "    * [2.3 Duplicados](#duplicates)\n",
    "    * [2.4 Conclusiones](#data_preprocessing_conclusions)\n",
    "* [Etapa 3. Prueba de hipótesis](#hypothesis)\n",
    "    * [3.1 Hipótesis 1: actividad de los usuarios y las usuarias en las dos ciudades](#activity)\n",
    "* [Conclusiones](#end)"
   ]
  },
  {
   "cell_type": "markdown",
   "metadata": {
    "id": "VUC88oWjTJw2"
   },
   "source": [
    "## Introducción <a id='intro'></a>\n",
    "Como analista de datos, tu trabajo consiste en analizar datos para extraer información valiosa y tomar decisiones basadas en ellos. Esto implica diferentes etapas, como la descripción general de los datos, el preprocesamiento y la prueba de hipótesis.\n",
    "\n",
    "Siempre que investigamos, necesitamos formular hipótesis que después podamos probar. A veces aceptamos estas hipótesis; otras veces, las rechazamos. Para tomar las decisiones correctas, una empresa debe ser capaz de entender si está haciendo las suposiciones correctas.\n",
    "\n",
    "En este proyecto, compararás las preferencias musicales de las ciudades de Springfield y Shelbyville. Estudiarás datos reales de transmisión de música online para probar la hipótesis a continuación y comparar el comportamiento de los usuarios y las usuarias de estas dos ciudades.\n",
    "\n",
    "### Objetivo:\n",
    "Prueba la hipótesis:\n",
    "1. La actividad de los usuarios y las usuarias difiere según el día de la semana y dependiendo de la ciudad.\n",
    "\n",
    "\n",
    "### Etapas\n",
    "Los datos del comportamiento del usuario se almacenan en el archivo `/datasets/music_project_en.csv`. No hay ninguna información sobre la calidad de los datos, así que necesitarás examinarlos antes de probar la hipótesis.\n",
    "\n",
    "Primero, evaluarás la calidad de los datos y verás si los problemas son significativos. Entonces, durante el preprocesamiento de datos, tomarás en cuenta los problemas más críticos.\n",
    "\n",
    "Tu proyecto consistirá en tres etapas:\n",
    " 1. Descripción de los datos.\n",
    " 2. Preprocesamiento de datos.\n",
    " 3. Prueba de hipótesis.\n",
    "\n",
    "\n",
    "\n",
    "\n",
    "\n",
    "\n"
   ]
  },
  {
   "cell_type": "markdown",
   "metadata": {
    "id": "hDt6pg-Rw-1U"
   },
   "source": [
    "[Volver a Contenidos](#back)"
   ]
  },
  {
   "cell_type": "markdown",
   "metadata": {
    "id": "Ml1hmfXC_Zcs"
   },
   "source": [
    "## Etapa 1. Descripción de los datos <a id='data_review'></a>\n",
    "\n",
    "Abre los datos y examínalos."
   ]
  },
  {
   "cell_type": "markdown",
   "metadata": {
    "id": "57eAOGIz_Zcs"
   },
   "source": [
    "Necesitarás `pandas`, así que impórtalo."
   ]
  },
  {
   "cell_type": "code",
   "execution_count": 1,
   "metadata": {
    "id": "AXN7PHPN_Zcs"
   },
   "outputs": [],
   "source": [
    "# Importar pandas\n",
    "import pandas"
   ]
  },
  {
   "cell_type": "markdown",
   "metadata": {
    "id": "SG23P8tt_Zcs"
   },
   "source": [
    "Lee el archivo `music_project_en.csv` de la carpeta `/datasets/` y guárdalo en la variable `df`:"
   ]
  },
  {
   "cell_type": "code",
   "execution_count": 2,
   "metadata": {
    "id": "fFVu7vqh_Zct"
   },
   "outputs": [],
   "source": [
    "# Leer el archivo y almacenarlo en df\n",
    "data_music=pandas.read_csv(\"/datasets/music_project_en.csv\")"
   ]
  },
  {
   "cell_type": "markdown",
   "metadata": {
    "id": "rDoOMd3uTqnZ"
   },
   "source": [
    "Muestra las 10 primeras filas de la tabla:"
   ]
  },
  {
   "cell_type": "code",
   "execution_count": 3,
   "metadata": {
    "id": "oWTVX3gW_Zct"
   },
   "outputs": [
    {
     "data": {
      "text/html": [
       "<div>\n",
       "<style scoped>\n",
       "    .dataframe tbody tr th:only-of-type {\n",
       "        vertical-align: middle;\n",
       "    }\n",
       "\n",
       "    .dataframe tbody tr th {\n",
       "        vertical-align: top;\n",
       "    }\n",
       "\n",
       "    .dataframe thead th {\n",
       "        text-align: right;\n",
       "    }\n",
       "</style>\n",
       "<table border=\"1\" class=\"dataframe\">\n",
       "  <thead>\n",
       "    <tr style=\"text-align: right;\">\n",
       "      <th></th>\n",
       "      <th>userID</th>\n",
       "      <th>Track</th>\n",
       "      <th>artist</th>\n",
       "      <th>genre</th>\n",
       "      <th>City</th>\n",
       "      <th>time</th>\n",
       "      <th>Day</th>\n",
       "    </tr>\n",
       "  </thead>\n",
       "  <tbody>\n",
       "    <tr>\n",
       "      <th>0</th>\n",
       "      <td>FFB692EC</td>\n",
       "      <td>Kamigata To Boots</td>\n",
       "      <td>The Mass Missile</td>\n",
       "      <td>rock</td>\n",
       "      <td>Shelbyville</td>\n",
       "      <td>20:28:33</td>\n",
       "      <td>Wednesday</td>\n",
       "    </tr>\n",
       "    <tr>\n",
       "      <th>1</th>\n",
       "      <td>55204538</td>\n",
       "      <td>Delayed Because of Accident</td>\n",
       "      <td>Andreas Rönnberg</td>\n",
       "      <td>rock</td>\n",
       "      <td>Springfield</td>\n",
       "      <td>14:07:09</td>\n",
       "      <td>Friday</td>\n",
       "    </tr>\n",
       "    <tr>\n",
       "      <th>2</th>\n",
       "      <td>20EC38</td>\n",
       "      <td>Funiculì funiculà</td>\n",
       "      <td>Mario Lanza</td>\n",
       "      <td>pop</td>\n",
       "      <td>Shelbyville</td>\n",
       "      <td>20:58:07</td>\n",
       "      <td>Wednesday</td>\n",
       "    </tr>\n",
       "    <tr>\n",
       "      <th>3</th>\n",
       "      <td>A3DD03C9</td>\n",
       "      <td>Dragons in the Sunset</td>\n",
       "      <td>Fire + Ice</td>\n",
       "      <td>folk</td>\n",
       "      <td>Shelbyville</td>\n",
       "      <td>08:37:09</td>\n",
       "      <td>Monday</td>\n",
       "    </tr>\n",
       "    <tr>\n",
       "      <th>4</th>\n",
       "      <td>E2DC1FAE</td>\n",
       "      <td>Soul People</td>\n",
       "      <td>Space Echo</td>\n",
       "      <td>dance</td>\n",
       "      <td>Springfield</td>\n",
       "      <td>08:34:34</td>\n",
       "      <td>Monday</td>\n",
       "    </tr>\n",
       "    <tr>\n",
       "      <th>5</th>\n",
       "      <td>842029A1</td>\n",
       "      <td>Chains</td>\n",
       "      <td>Obladaet</td>\n",
       "      <td>rusrap</td>\n",
       "      <td>Shelbyville</td>\n",
       "      <td>13:09:41</td>\n",
       "      <td>Friday</td>\n",
       "    </tr>\n",
       "    <tr>\n",
       "      <th>6</th>\n",
       "      <td>4CB90AA5</td>\n",
       "      <td>True</td>\n",
       "      <td>Roman Messer</td>\n",
       "      <td>dance</td>\n",
       "      <td>Springfield</td>\n",
       "      <td>13:00:07</td>\n",
       "      <td>Wednesday</td>\n",
       "    </tr>\n",
       "    <tr>\n",
       "      <th>7</th>\n",
       "      <td>F03E1C1F</td>\n",
       "      <td>Feeling This Way</td>\n",
       "      <td>Polina Griffith</td>\n",
       "      <td>dance</td>\n",
       "      <td>Springfield</td>\n",
       "      <td>20:47:49</td>\n",
       "      <td>Wednesday</td>\n",
       "    </tr>\n",
       "    <tr>\n",
       "      <th>8</th>\n",
       "      <td>8FA1D3BE</td>\n",
       "      <td>L’estate</td>\n",
       "      <td>Julia Dalia</td>\n",
       "      <td>ruspop</td>\n",
       "      <td>Springfield</td>\n",
       "      <td>09:17:40</td>\n",
       "      <td>Friday</td>\n",
       "    </tr>\n",
       "    <tr>\n",
       "      <th>9</th>\n",
       "      <td>E772D5C0</td>\n",
       "      <td>Pessimist</td>\n",
       "      <td>NaN</td>\n",
       "      <td>dance</td>\n",
       "      <td>Shelbyville</td>\n",
       "      <td>21:20:49</td>\n",
       "      <td>Wednesday</td>\n",
       "    </tr>\n",
       "  </tbody>\n",
       "</table>\n",
       "</div>"
      ],
      "text/plain": [
       "     userID                        Track            artist   genre  \\\n",
       "0  FFB692EC            Kamigata To Boots  The Mass Missile    rock   \n",
       "1  55204538  Delayed Because of Accident  Andreas Rönnberg    rock   \n",
       "2    20EC38            Funiculì funiculà       Mario Lanza     pop   \n",
       "3  A3DD03C9        Dragons in the Sunset        Fire + Ice    folk   \n",
       "4  E2DC1FAE                  Soul People        Space Echo   dance   \n",
       "5  842029A1                       Chains          Obladaet  rusrap   \n",
       "6  4CB90AA5                         True      Roman Messer   dance   \n",
       "7  F03E1C1F             Feeling This Way   Polina Griffith   dance   \n",
       "8  8FA1D3BE                     L’estate       Julia Dalia  ruspop   \n",
       "9  E772D5C0                    Pessimist               NaN   dance   \n",
       "\n",
       "        City        time        Day  \n",
       "0  Shelbyville  20:28:33  Wednesday  \n",
       "1  Springfield  14:07:09     Friday  \n",
       "2  Shelbyville  20:58:07  Wednesday  \n",
       "3  Shelbyville  08:37:09     Monday  \n",
       "4  Springfield  08:34:34     Monday  \n",
       "5  Shelbyville  13:09:41     Friday  \n",
       "6  Springfield  13:00:07  Wednesday  \n",
       "7  Springfield  20:47:49  Wednesday  \n",
       "8  Springfield  09:17:40     Friday  \n",
       "9  Shelbyville  21:20:49  Wednesday  "
      ]
     },
     "execution_count": 3,
     "metadata": {},
     "output_type": "execute_result"
    }
   ],
   "source": [
    "# Obtener las 10 primeras filas de la tabla df\n",
    "data_music.head(10)"
   ]
  },
  {
   "cell_type": "markdown",
   "metadata": {
    "id": "EO73Kwic_Zct"
   },
   "source": [
    "Obtén la información general sobre la tabla con un comando. Conoces el método que muestra la información general que necesitamos."
   ]
  },
  {
   "cell_type": "code",
   "execution_count": 4,
   "metadata": {
    "id": "DSf2kIb-_Zct"
   },
   "outputs": [
    {
     "name": "stdout",
     "output_type": "stream",
     "text": [
      "<class 'pandas.core.frame.DataFrame'>\n",
      "RangeIndex: 65079 entries, 0 to 65078\n",
      "Data columns (total 7 columns):\n",
      " #   Column    Non-Null Count  Dtype \n",
      "---  ------    --------------  ----- \n",
      " 0     userID  65079 non-null  object\n",
      " 1   Track     63736 non-null  object\n",
      " 2   artist    57512 non-null  object\n",
      " 3   genre     63881 non-null  object\n",
      " 4     City    65079 non-null  object\n",
      " 5   time      65079 non-null  object\n",
      " 6   Day       65079 non-null  object\n",
      "dtypes: object(7)\n",
      "memory usage: 3.5+ MB\n"
     ]
    }
   ],
   "source": [
    "# Obtener la información general sobre nuestros datos\n",
    "data_music.info()"
   ]
  },
  {
   "cell_type": "markdown",
   "metadata": {
    "id": "TaQ2Iwbr_Zct"
   },
   "source": [
    "Estas son nuestras observaciones sobre la tabla. Contiene siete columnas. Almacenan los mismos tipos de datos: `object`.\n",
    "\n",
    "Según la documentación:\n",
    "- `' userID'`: identificador del usuario o la usuaria;\n",
    "- `'Track'`: título de la canción;\n",
    "- `'artist'`: nombre del artista;\n",
    "- `'genre'`: género de la pista;\n",
    "- `'City'`: ciudad del usuario o la usuaria;\n",
    "- `'time'`: la hora exacta en la que se reprodujo la canción;\n",
    "- `'Day'`: día de la semana.\n",
    "\n",
    "Podemos ver tres problemas con el estilo en los encabezados de la tabla:\n",
    "1. Algunos encabezados están en mayúsculas, otros en minúsculas.\n",
    "2. Hay espacios en algunos encabezados.\n",
    "3. `Detecta el tercer problema por tu cuenta y descríbelo aquí`.\n",
    "\n",
    "\n"
   ]
  },
  {
   "cell_type": "markdown",
   "metadata": {
    "id": "MCB6-dXG_Zct"
   },
   "source": [
    "### Escribe observaciones de tu parte. Estas son algunas de las preguntas que pueden ser útiles: <a id='data_review_conclusions'></a>\n",
    "\n",
    "`1.   ¿Qué tipo de datos tenemos a nuestra disposición en las filas? ¿Y cómo podemos entender lo que almacenan las columnas?`\n",
    "\n",
    "`2.   ¿Hay suficientes datos para proporcionar respuestas a nuestra hipótesis o necesitamos más información?`\n",
    "\n",
    "`3.   ¿Notaste algún problema en los datos, como valores ausentes, duplicados o tipos de datos incorrectos?`"
   ]
  },
  {
   "cell_type": "markdown",
   "metadata": {},
   "source": [
    "1.-El tipo de datos que estan a nuestra disposicion en las filas son el nombre de las columnas, datos nulos y el tipo de dato. Se puede entender por los encabezados los cuales describen el tipo de dato que esta en esa columna.\n",
    "2.Si son suficientes porque vamos a analizar las preferencias musicales de dos ciudades entonces solo vamos a realizar el analisis con los datos de la columna genero y de la columna ciudad.\n",
    "3.Si hay datos ausentes en la columna track, artist y genre porque el numero de entradas es distinto al total. Ademas los nombres de las columnas tienes errores de tipografia como espacios, uso innecesario de Mayusculas."
   ]
  },
  {
   "cell_type": "markdown",
   "metadata": {
    "id": "3eL__vcwViOi"
   },
   "source": [
    "[Volver a Contenidos](#back)"
   ]
  },
  {
   "cell_type": "markdown",
   "metadata": {
    "id": "SjYF6Ub9_Zct"
   },
   "source": [
    "## Etapa 2. Preprocesamiento de datos <a id='data_preprocessing'></a>\n",
    "\n",
    "El objetivo aquí es preparar los datos para que sean analizados.\n",
    "El primer paso es resolver cualquier problema con los encabezados. Luego podemos avanzar a los valores ausentes y duplicados. Empecemos.\n",
    "\n",
    "Corrige el formato en los encabezados de la tabla.\n"
   ]
  },
  {
   "cell_type": "markdown",
   "metadata": {
    "id": "dIaKXr29_Zct"
   },
   "source": [
    "### Estilo del encabezado <a id='header_style'></a>\n",
    "Muestra los encabezados de la tabla (los nombres de las columnas):"
   ]
  },
  {
   "cell_type": "code",
   "execution_count": 5,
   "metadata": {
    "id": "oKOTdF_Q_Zct"
   },
   "outputs": [
    {
     "data": {
      "text/plain": [
       "Index(['  userID', 'Track', 'artist', 'genre', '  City  ', 'time', 'Day'], dtype='object')"
      ]
     },
     "execution_count": 5,
     "metadata": {},
     "output_type": "execute_result"
    }
   ],
   "source": [
    "# Muestra los nombres de las columnas\n",
    "data_music.columns"
   ]
  },
  {
   "cell_type": "markdown",
   "metadata": {
    "id": "zj5534cv_Zct"
   },
   "source": [
    "Cambia los encabezados de la tabla de acuerdo con las reglas del buen estilo:\n",
    "* Todos los caracteres deben ser minúsculas.\n",
    "* Elimina los espacios.\n",
    "* Si el nombre tiene varias palabras, utiliza snake_case."
   ]
  },
  {
   "cell_type": "markdown",
   "metadata": {
    "id": "Xu0zkfe5zNJe"
   },
   "source": [
    "Anteriormente, aprendiste acerca de la forma automática de cambiar el nombre de las columnas. Vamos a aplicarla ahora. Utiliza el bucle for para iterar sobre los nombres de las columnas y poner todos los caracteres en minúsculas. Cuando hayas terminado, vuelve a mostrar los encabezados de la tabla:"
   ]
  },
  {
   "cell_type": "code",
   "execution_count": 6,
   "metadata": {
    "id": "6I_RwwMhzM4e"
   },
   "outputs": [
    {
     "data": {
      "text/plain": [
       "Index(['  userid', 'track', 'artist', 'genre', '  city  ', 'time', 'day'], dtype='object')"
      ]
     },
     "execution_count": 6,
     "metadata": {},
     "output_type": "execute_result"
    }
   ],
   "source": [
    "# Bucle en los encabezados poniendo todo en minúsculas\n",
    "new_columns=[]\n",
    "\n",
    "for column in data_music.columns:\n",
    "    name_clean= column.lower()\n",
    "    new_columns.append(name_clean)\n",
    "\n",
    "data_music.columns=new_columns\n",
    "    \n",
    "data_music.columns"
   ]
  },
  {
   "cell_type": "markdown",
   "metadata": {
    "id": "pweIRxjSzPYW"
   },
   "source": [
    "Ahora, utilizando el mismo método, elimina los espacios al principio y al final de los nombres de las columnas e imprime los nombres de las columnas nuevamente:"
   ]
  },
  {
   "cell_type": "code",
   "execution_count": 7,
   "metadata": {
    "id": "vVQXbFyJzSYl"
   },
   "outputs": [
    {
     "data": {
      "text/plain": [
       "Index(['userid', 'track', 'artist', 'genre', 'city', 'time', 'day'], dtype='object')"
      ]
     },
     "execution_count": 7,
     "metadata": {},
     "output_type": "execute_result"
    }
   ],
   "source": [
    "# Bucle en los encabezados eliminando los espacios\n",
    "new_columns=[]\n",
    "\n",
    "for column in data_music.columns:\n",
    "    name_clean= column.strip()\n",
    "    new_columns.append(name_clean)\n",
    "\n",
    "data_music.columns=new_columns\n",
    "    \n",
    "data_music.columns"
   ]
  },
  {
   "cell_type": "markdown",
   "metadata": {
    "id": "yCb8MW1JzURd"
   },
   "source": [
    "Necesitamos aplicar la regla de snake_case a la columna `userid`. Debe ser `user_id`. Cambia el nombre de esta columna y muestra los nombres de todas las columnas cuando hayas terminado."
   ]
  },
  {
   "cell_type": "code",
   "execution_count": 8,
   "metadata": {
    "id": "ISlFqs5y_Zct"
   },
   "outputs": [
    {
     "data": {
      "text/plain": [
       "Index(['user_id', 'track', 'artist', 'genre', 'city', 'time', 'day'], dtype='object')"
      ]
     },
     "execution_count": 8,
     "metadata": {},
     "output_type": "execute_result"
    }
   ],
   "source": [
    "# Cambiar el nombre de la columna \"userid\"\n",
    "if new_columns[0] == 'userid':\n",
    "    new_columns[0] = 'user_id'\n",
    "\n",
    "data_music.columns=new_columns\n",
    "    \n",
    "data_music.columns"
   ]
  },
  {
   "cell_type": "markdown",
   "metadata": {
    "id": "1dqbh00J_Zct"
   },
   "source": [
    "Comprueba el resultado. Muestra los encabezados una vez más:"
   ]
  },
  {
   "cell_type": "code",
   "execution_count": 9,
   "metadata": {
    "id": "d4NOAmTW_Zct"
   },
   "outputs": [
    {
     "name": "stdout",
     "output_type": "stream",
     "text": [
      "<class 'pandas.core.frame.DataFrame'>\n",
      "RangeIndex: 65079 entries, 0 to 65078\n",
      "Data columns (total 7 columns):\n",
      " #   Column   Non-Null Count  Dtype \n",
      "---  ------   --------------  ----- \n",
      " 0   user_id  65079 non-null  object\n",
      " 1   track    63736 non-null  object\n",
      " 2   artist   57512 non-null  object\n",
      " 3   genre    63881 non-null  object\n",
      " 4   city     65079 non-null  object\n",
      " 5   time     65079 non-null  object\n",
      " 6   day      65079 non-null  object\n",
      "dtypes: object(7)\n",
      "memory usage: 3.5+ MB\n"
     ]
    }
   ],
   "source": [
    "# Comprobar el resultado: la lista de encabezados\n",
    "data_music.info()"
   ]
  },
  {
   "cell_type": "markdown",
   "metadata": {
    "id": "xYJk6ksJVpOl"
   },
   "source": [
    "[Volver a Contenidos](#back)"
   ]
  },
  {
   "cell_type": "markdown",
   "metadata": {
    "id": "5ISfbcfY_Zct"
   },
   "source": [
    "### Valores ausentes <a id='missing_values'></a>\n",
    " Primero, encuentra el número de valores ausentes en la tabla. Debes utilizar dos métodos en una secuencia para obtener el número de valores ausentes."
   ]
  },
  {
   "cell_type": "code",
   "execution_count": 10,
   "metadata": {
    "id": "RskX29qr_Zct"
   },
   "outputs": [
    {
     "data": {
      "text/plain": [
       "user_id       0\n",
       "track      1343\n",
       "artist     7567\n",
       "genre      1198\n",
       "city          0\n",
       "time          0\n",
       "day           0\n",
       "dtype: int64"
      ]
     },
     "execution_count": 10,
     "metadata": {},
     "output_type": "execute_result"
    }
   ],
   "source": [
    "# Calcular el número de valores ausentes\n",
    "data_music.isna().sum()"
   ]
  },
  {
   "cell_type": "markdown",
   "metadata": {
    "id": "qubhgnlO_Zct"
   },
   "source": [
    "No todos los valores ausentes afectan a la investigación. Por ejemplo, los valores ausentes en `track` y `artist` no son cruciales. Simplemente puedes reemplazarlos con valores predeterminados como el string `'unknown'` (desconocido).\n",
    "\n",
    "Pero los valores ausentes en `'genre'` pueden afectar la comparación entre las preferencias musicales de Springfield y Shelbyville. En la vida real, sería útil saber las razones por las cuales hay datos ausentes e intentar recuperarlos. Pero no tenemos esa oportunidad en este proyecto. Así que tendrás que:\n",
    "* rellenar estos valores ausentes con un valor predeterminado;\n",
    "* evaluar cuánto podrían afectar los valores ausentes a tus cómputos;"
   ]
  },
  {
   "cell_type": "markdown",
   "metadata": {
    "id": "fSv2laPA_Zct"
   },
   "source": [
    "Reemplazar los valores ausentes en las columnas `'track'`, `'artist'` y `'genre'` con el string `'unknown'`. Como mostramos anteriormente en las lecciones, la mejor forma de hacerlo es crear una lista que almacene los nombres de las columnas donde se necesita el reemplazo. Luego, utiliza esta lista e itera sobre las columnas donde se necesita el reemplazo haciendo el propio reemplazo."
   ]
  },
  {
   "cell_type": "code",
   "execution_count": 11,
   "metadata": {
    "id": "KplB5qWs_Zct"
   },
   "outputs": [],
   "source": [
    "# Bucle en los encabezados reemplazando los valores ausentes con 'unknown'\n",
    "columns_to_clean= ['track','artist','genre']\n",
    "\n",
    "for column in columns_to_clean:\n",
    "    data_music[column].fillna('unknown',inplace=True)\n"
   ]
  },
  {
   "cell_type": "markdown",
   "metadata": {
    "id": "Ilsm-MZo_Zct"
   },
   "source": [
    "Ahora comprueba el resultado para asegurarte de que después del reemplazo no haya valores ausentes en el conjunto de datos. Para hacer esto, cuenta los valores ausentes nuevamente."
   ]
  },
  {
   "cell_type": "code",
   "execution_count": 12,
   "metadata": {
    "id": "Tq4nYRX4_Zct"
   },
   "outputs": [
    {
     "data": {
      "text/plain": [
       "user_id    0\n",
       "track      0\n",
       "artist     0\n",
       "genre      0\n",
       "city       0\n",
       "time       0\n",
       "day        0\n",
       "dtype: int64"
      ]
     },
     "execution_count": 12,
     "metadata": {},
     "output_type": "execute_result"
    }
   ],
   "source": [
    "# Contar valores ausentes\n",
    "data_music.isna().sum()"
   ]
  },
  {
   "cell_type": "markdown",
   "metadata": {
    "id": "74ZIBmq9VrsK"
   },
   "source": [
    "[Volver a Contenidos](#back)"
   ]
  },
  {
   "cell_type": "markdown",
   "metadata": {
    "id": "BWKRtBJ3_Zct"
   },
   "source": [
    "### Duplicados <a id='duplicates'></a>\n",
    "Encuentra el número de duplicados explícitos en la tabla. Una vez más, debes aplicar dos métodos en una secuencia para obtener la cantidad de duplicados explícitos."
   ]
  },
  {
   "cell_type": "code",
   "execution_count": 13,
   "metadata": {
    "id": "36eES_S0_Zct"
   },
   "outputs": [
    {
     "data": {
      "text/plain": [
       "3826"
      ]
     },
     "execution_count": 13,
     "metadata": {},
     "output_type": "execute_result"
    }
   ],
   "source": [
    "# Contar duplicados explícitos\n",
    "data_music.duplicated().sum()"
   ]
  },
  {
   "cell_type": "markdown",
   "metadata": {
    "id": "Ot25h6XR_Zct"
   },
   "source": [
    "Ahora, elimina todos los duplicados. Para ello, llama al método que hace exactamente esto."
   ]
  },
  {
   "cell_type": "code",
   "execution_count": 14,
   "metadata": {
    "id": "exFHq6tt_Zct"
   },
   "outputs": [],
   "source": [
    "# Eliminar duplicados explícitos\n",
    "data_music.drop_duplicates(inplace=True)"
   ]
  },
  {
   "cell_type": "markdown",
   "metadata": {
    "id": "Im2YwBEG_Zct"
   },
   "source": [
    "Comprobemos ahora si eliminamos con éxito todos los duplicados. Cuenta los duplicados explícitos una vez más para asegurarte de haberlos eliminado todos:"
   ]
  },
  {
   "cell_type": "code",
   "execution_count": 15,
   "metadata": {
    "id": "-8PuNWQ0_Zct"
   },
   "outputs": [
    {
     "data": {
      "text/plain": [
       "0"
      ]
     },
     "execution_count": 15,
     "metadata": {},
     "output_type": "execute_result"
    }
   ],
   "source": [
    "# Comprobar de nuevo si hay duplicados\n",
    "data_music.duplicated().sum()"
   ]
  },
  {
   "cell_type": "markdown",
   "metadata": {
    "id": "QlFBsxAr_Zct"
   },
   "source": [
    "Ahora queremos deshacernos de los duplicados implícitos en la columna `genre`. Por ejemplo, el nombre de un género se puede escribir de varias formas. Dichos errores también pueden afectar al resultado."
   ]
  },
  {
   "cell_type": "markdown",
   "metadata": {
    "id": "eSjWwsOh_Zct"
   },
   "source": [
    "Para hacerlo, primero mostremos una lista de nombres de género únicos, ordenados en orden alfabético. Para ello:\n",
    "* Extrae la columna `genre` del DataFrame.\n",
    "* Llama al método que devolverá todos los valores únicos en la columna extraída.\n"
   ]
  },
  {
   "cell_type": "code",
   "execution_count": 16,
   "metadata": {
    "id": "JIUcqzZN_Zct"
   },
   "outputs": [
    {
     "data": {
      "text/plain": [
       "array(['rock', 'pop', 'folk', 'dance', 'rusrap', 'ruspop', 'world',\n",
       "       'electronic', 'unknown', 'alternative', 'children', 'rnb', 'hip',\n",
       "       'jazz', 'postrock', 'latin', 'classical', 'metal', 'reggae',\n",
       "       'triphop', 'blues', 'instrumental', 'rusrock', 'dnb', 'türk',\n",
       "       'post', 'country', 'psychedelic', 'conjazz', 'indie',\n",
       "       'posthardcore', 'local', 'avantgarde', 'punk', 'videogame',\n",
       "       'techno', 'house', 'christmas', 'melodic', 'caucasian',\n",
       "       'reggaeton', 'soundtrack', 'singer', 'ska', 'salsa', 'ambient',\n",
       "       'film', 'western', 'rap', 'beats', \"hard'n'heavy\", 'progmetal',\n",
       "       'minimal', 'tropical', 'contemporary', 'new', 'soul', 'holiday',\n",
       "       'german', 'jpop', 'spiritual', 'urban', 'gospel', 'nujazz',\n",
       "       'folkmetal', 'trance', 'miscellaneous', 'anime', 'hardcore',\n",
       "       'progressive', 'korean', 'numetal', 'vocal', 'estrada', 'tango',\n",
       "       'loungeelectronic', 'classicmetal', 'dubstep', 'club', 'deep',\n",
       "       'southern', 'black', 'folkrock', 'fitness', 'french', 'disco',\n",
       "       'religious', 'hiphop', 'drum', 'extrememetal', 'türkçe',\n",
       "       'experimental', 'easy', 'metalcore', 'modern', 'argentinetango',\n",
       "       'old', 'swing', 'breaks', 'eurofolk', 'stonerrock', 'industrial',\n",
       "       'funk', 'middle', 'variété', 'other', 'adult', 'christian',\n",
       "       'thrash', 'gothic', 'international', 'muslim', 'relax', 'schlager',\n",
       "       'caribbean', 'nu', 'breakbeat', 'comedy', 'chill', 'newage',\n",
       "       'specialty', 'uzbek', 'k-pop', 'balkan', 'chinese', 'meditative',\n",
       "       'dub', 'power', 'death', 'grime', 'arabesk', 'romance', 'flamenco',\n",
       "       'leftfield', 'european', 'tech', 'newwave', 'dancehall', 'mpb',\n",
       "       'piano', 'top', 'bigroom', 'opera', 'celtic', 'tradjazz',\n",
       "       'acoustic', 'epicmetal', 'hip-hop', 'historisch', 'downbeat',\n",
       "       'downtempo', 'africa', 'audiobook', 'jewish', 'sängerportrait',\n",
       "       'deutschrock', 'eastern', 'action', 'future', 'electropop',\n",
       "       'folklore', 'bollywood', 'marschmusik', 'rnr', 'karaoke', 'indian',\n",
       "       'rancheras', 'afrikaans', 'rhythm', 'sound', 'deutschspr', 'trip',\n",
       "       'lovers', 'choral', 'dancepop', 'retro', 'smooth', 'mexican',\n",
       "       'brazilian', 'ïîï', 'mood', 'surf', 'gangsta', 'inspirational',\n",
       "       'idm', 'ethnic', 'bluegrass', 'broadway', 'animated', 'americana',\n",
       "       'karadeniz', 'rockabilly', 'colombian', 'self', 'hop', 'sertanejo',\n",
       "       'japanese', 'canzone', 'lounge', 'sport', 'ragga', 'traditional',\n",
       "       'gitarre', 'frankreich', 'emo', 'laiko', 'cantopop', 'glitch',\n",
       "       'documentary', 'oceania', 'popeurodance', 'dark', 'vi', 'grunge',\n",
       "       'hardstyle', 'samba', 'garage', 'art', 'folktronica', 'entehno',\n",
       "       'mediterranean', 'chamber', 'cuban', 'taraftar', 'gypsy',\n",
       "       'hardtechno', 'shoegazing', 'bossa', 'latino', 'worldbeat',\n",
       "       'malaysian', 'baile', 'ghazal', 'arabic', 'popelectronic', 'acid',\n",
       "       'kayokyoku', 'neoklassik', 'tribal', 'tanzorchester', 'native',\n",
       "       'independent', 'cantautori', 'handsup', 'punjabi', 'synthpop',\n",
       "       'rave', 'französisch', 'quebecois', 'speech', 'soulful', 'jam',\n",
       "       'ram', 'horror', 'orchestral', 'neue', 'roots', 'slow', 'jungle',\n",
       "       'indipop', 'axé', 'fado', 'showtunes', 'arena', 'irish',\n",
       "       'mandopop', 'forró', 'dirty', 'regional'], dtype=object)"
      ]
     },
     "execution_count": 16,
     "metadata": {},
     "output_type": "execute_result"
    }
   ],
   "source": [
    "# Inspeccionar los nombres de géneros únicos\n",
    "data_music['genre'].unique()"
   ]
  },
  {
   "cell_type": "markdown",
   "metadata": {
    "id": "qej-Qmuo_Zct"
   },
   "source": [
    "Busca en la lista para encontrar duplicados implícitos del género `hiphop`. Estos pueden ser nombres escritos incorrectamente o nombres alternativos para el mismo género.\n",
    "\n",
    "Verás los siguientes duplicados implícitos:\n",
    "* `hip`\n",
    "* `hop`\n",
    "* `hip-hop`\n",
    "\n",
    "Para deshacerte de ellos, crea una función llamada `replace_wrong_genres()` con dos parámetros:\n",
    "* `wrong_genres=`: esta es una lista que contiene todos los valores que necesitas reemplazar.\n",
    "* `correct_genre=`: este es un string que vas a utilizar como reemplazo.\n",
    "\n",
    "Como resultado, la función debería corregir los nombres en la columna `'genre'` de la tabla `df`, es decir, remplazar cada valor de la lista `wrong_genres` por el valor en `correct_genre`.\n",
    "\n",
    "Dentro del cuerpo de la función, utiliza un bucle `'for'` para iterar sobre la lista de géneros incorrectos, extrae la columna `'genre'` y aplica el método `replace` para hacer correcciones."
   ]
  },
  {
   "cell_type": "code",
   "execution_count": 17,
   "metadata": {
    "id": "ErNDkmns_Zct"
   },
   "outputs": [],
   "source": [
    "# Función para reemplazar duplicados implícitos\n",
    "def replace_wrong_genre(data_music,columns,wrong_genres,correct_genre):\n",
    "    for wrong_genre in wrong_genres:\n",
    "        data_music[columns]=data_music[columns].replace(wrong_genres,correct_genre)\n",
    "    return data_music"
   ]
  },
  {
   "cell_type": "markdown",
   "metadata": {
    "id": "aDoBJxbA_Zct"
   },
   "source": [
    "Ahora, llama a `replace_wrong_genres()` y pásale tales argumentos para que retire los duplicados implícitos (`hip`, `hop` y `hip-hop`) y los reemplace por `hiphop`:"
   ]
  },
  {
   "cell_type": "code",
   "execution_count": 18,
   "metadata": {
    "id": "YN5i2hpmSo09"
   },
   "outputs": [],
   "source": [
    "# Eliminar duplicados implícitos\n",
    "duplicates=['hip','hop','hip-hop']\n",
    "column='genre'\n",
    "hiphop= replace_wrong_genre(data_music,column,duplicates,'hiphop')"
   ]
  },
  {
   "cell_type": "markdown",
   "metadata": {
    "id": "zQKF16_RG15m"
   },
   "source": [
    "Asegúrate de que los nombres duplicados han sido eliminados. Muestra la lista de valores únicos de la columna `'genre'` una vez más:"
   ]
  },
  {
   "cell_type": "code",
   "execution_count": 19,
   "metadata": {
    "id": "wvixALnFG15m"
   },
   "outputs": [
    {
     "data": {
      "text/plain": [
       "array(['rock', 'pop', 'folk', 'dance', 'rusrap', 'ruspop', 'world',\n",
       "       'electronic', 'unknown', 'alternative', 'children', 'rnb',\n",
       "       'hiphop', 'jazz', 'postrock', 'latin', 'classical', 'metal',\n",
       "       'reggae', 'triphop', 'blues', 'instrumental', 'rusrock', 'dnb',\n",
       "       'türk', 'post', 'country', 'psychedelic', 'conjazz', 'indie',\n",
       "       'posthardcore', 'local', 'avantgarde', 'punk', 'videogame',\n",
       "       'techno', 'house', 'christmas', 'melodic', 'caucasian',\n",
       "       'reggaeton', 'soundtrack', 'singer', 'ska', 'salsa', 'ambient',\n",
       "       'film', 'western', 'rap', 'beats', \"hard'n'heavy\", 'progmetal',\n",
       "       'minimal', 'tropical', 'contemporary', 'new', 'soul', 'holiday',\n",
       "       'german', 'jpop', 'spiritual', 'urban', 'gospel', 'nujazz',\n",
       "       'folkmetal', 'trance', 'miscellaneous', 'anime', 'hardcore',\n",
       "       'progressive', 'korean', 'numetal', 'vocal', 'estrada', 'tango',\n",
       "       'loungeelectronic', 'classicmetal', 'dubstep', 'club', 'deep',\n",
       "       'southern', 'black', 'folkrock', 'fitness', 'french', 'disco',\n",
       "       'religious', 'drum', 'extrememetal', 'türkçe', 'experimental',\n",
       "       'easy', 'metalcore', 'modern', 'argentinetango', 'old', 'swing',\n",
       "       'breaks', 'eurofolk', 'stonerrock', 'industrial', 'funk', 'middle',\n",
       "       'variété', 'other', 'adult', 'christian', 'thrash', 'gothic',\n",
       "       'international', 'muslim', 'relax', 'schlager', 'caribbean', 'nu',\n",
       "       'breakbeat', 'comedy', 'chill', 'newage', 'specialty', 'uzbek',\n",
       "       'k-pop', 'balkan', 'chinese', 'meditative', 'dub', 'power',\n",
       "       'death', 'grime', 'arabesk', 'romance', 'flamenco', 'leftfield',\n",
       "       'european', 'tech', 'newwave', 'dancehall', 'mpb', 'piano', 'top',\n",
       "       'bigroom', 'opera', 'celtic', 'tradjazz', 'acoustic', 'epicmetal',\n",
       "       'historisch', 'downbeat', 'downtempo', 'africa', 'audiobook',\n",
       "       'jewish', 'sängerportrait', 'deutschrock', 'eastern', 'action',\n",
       "       'future', 'electropop', 'folklore', 'bollywood', 'marschmusik',\n",
       "       'rnr', 'karaoke', 'indian', 'rancheras', 'afrikaans', 'rhythm',\n",
       "       'sound', 'deutschspr', 'trip', 'lovers', 'choral', 'dancepop',\n",
       "       'retro', 'smooth', 'mexican', 'brazilian', 'ïîï', 'mood', 'surf',\n",
       "       'gangsta', 'inspirational', 'idm', 'ethnic', 'bluegrass',\n",
       "       'broadway', 'animated', 'americana', 'karadeniz', 'rockabilly',\n",
       "       'colombian', 'self', 'sertanejo', 'japanese', 'canzone', 'lounge',\n",
       "       'sport', 'ragga', 'traditional', 'gitarre', 'frankreich', 'emo',\n",
       "       'laiko', 'cantopop', 'glitch', 'documentary', 'oceania',\n",
       "       'popeurodance', 'dark', 'vi', 'grunge', 'hardstyle', 'samba',\n",
       "       'garage', 'art', 'folktronica', 'entehno', 'mediterranean',\n",
       "       'chamber', 'cuban', 'taraftar', 'gypsy', 'hardtechno',\n",
       "       'shoegazing', 'bossa', 'latino', 'worldbeat', 'malaysian', 'baile',\n",
       "       'ghazal', 'arabic', 'popelectronic', 'acid', 'kayokyoku',\n",
       "       'neoklassik', 'tribal', 'tanzorchester', 'native', 'independent',\n",
       "       'cantautori', 'handsup', 'punjabi', 'synthpop', 'rave',\n",
       "       'französisch', 'quebecois', 'speech', 'soulful', 'jam', 'ram',\n",
       "       'horror', 'orchestral', 'neue', 'roots', 'slow', 'jungle',\n",
       "       'indipop', 'axé', 'fado', 'showtunes', 'arena', 'irish',\n",
       "       'mandopop', 'forró', 'dirty', 'regional'], dtype=object)"
      ]
     },
     "execution_count": 19,
     "metadata": {},
     "output_type": "execute_result"
    }
   ],
   "source": [
    "# Comprobación de duplicados implícitos\n",
    "data_music['genre'].unique()"
   ]
  },
  {
   "cell_type": "markdown",
   "metadata": {
    "id": "ALgNbvF3VtPA"
   },
   "source": [
    "[Volver a Contenidos](#back)"
   ]
  },
  {
   "cell_type": "markdown",
   "metadata": {
    "id": "jz6a9-7HQUDd"
   },
   "source": [
    "2.3 Conclusiones\n",
    "\n",
    "`Describe brevemente lo que has notado al analizar duplicados, cómo abordaste sus eliminaciones y qué resultados obtuviste.`\n"
   ]
  },
  {
   "cell_type": "markdown",
   "metadata": {},
   "source": [
    "En el caso para eliminar los duplicados explicitos se utilizo el metodo drop_duplicates() para eliminarlos.\n",
    "Y en el caso de los duplicados implicitos de la columna genre se aplico una funcion que permitiera remplazar los duplicados incorrectos en este caso hip, hop y hip-hop por el resultado correcto hiphop."
   ]
  },
  {
   "cell_type": "markdown",
   "metadata": {
    "id": "eK1es74rVujj"
   },
   "source": [
    "[Volver a Contenidos](#back)"
   ]
  },
  {
   "cell_type": "markdown",
   "metadata": {
    "id": "WttZHXH0SqKk"
   },
   "source": [
    "## Etapa 3. Prueba de hipótesis <a id='hypothesis'></a>"
   ]
  },
  {
   "cell_type": "markdown",
   "metadata": {
    "id": "Im936VVi_Zcu"
   },
   "source": [
    "### Hipótesis: comparar el comportamiento del usuario o la usuaria en las dos ciudades <a id='activity'></a>"
   ]
  },
  {
   "cell_type": "markdown",
   "metadata": {
    "id": "nwt_MuaL_Zcu"
   },
   "source": [
    "La hipótesis afirma que existen diferencias en la forma en que los usuarios y las usuarias de Springfield y Shelbyville consumen música. Para comprobar esto, usa los datos de tres días de la semana: lunes, miércoles y viernes.\n",
    "\n",
    "* Agrupa a los usuarios y las usuarias por ciudad.\n",
    "* Compara el número de canciones que cada grupo reprodujo el lunes, el miércoles y el viernes.\n"
   ]
  },
  {
   "cell_type": "markdown",
   "metadata": {
    "id": "8Dw_YMmT_Zcu"
   },
   "source": [
    "Realiza cada cálculo por separado.\n",
    "\n",
    "El primer paso es evaluar la actividad del usuario en cada ciudad. Recuerda las etapas dividir-aplicar-combinar de las que hablamos anteriormente en la lección. Tu objetivo ahora es agrupar los datos por ciudad, aplicar el método apropiado para contar durante la etapa de aplicación y luego encontrar la cantidad de canciones reproducidas en cada grupo especificando la columna para obtener el recuento.\n",
    "\n",
    "A continuación se muestra un ejemplo de cómo debería verse el resultado final:\n",
    "`df.groupby(by='....')['column'].method()`Realiza cada cálculo por separado.\n",
    "\n",
    "Para evaluar la actividad de los usuarios y las usuarias en cada ciudad, agrupa los datos por ciudad y encuentra la cantidad de canciones reproducidas en cada grupo.\n",
    "\n"
   ]
  },
  {
   "cell_type": "code",
   "execution_count": 20,
   "metadata": {
    "id": "0_Qs96oh_Zcu"
   },
   "outputs": [
    {
     "data": {
      "text/plain": [
       "city\n",
       "Shelbyville    18512\n",
       "Springfield    42741\n",
       "Name: track, dtype: int64"
      ]
     },
     "execution_count": 20,
     "metadata": {},
     "output_type": "execute_result"
    }
   ],
   "source": [
    "# Contar las canciones reproducidas en cada ciudad\n",
    "data_music.groupby('city')['track'].count()"
   ]
  },
  {
   "cell_type": "markdown",
   "metadata": {
    "id": "t_Qx-3NewAnK"
   },
   "source": [
    "`Comenta tus observaciones aquí`\n",
    "La ciudad de Springfield  tiene mas canciones reproducidas a comparacion de Shelbyville."
   ]
  },
  {
   "cell_type": "markdown",
   "metadata": {
    "id": "dzli3w8o_Zcu"
   },
   "source": [
    "Ahora agrupemos los datos por día de la semana y encontremos el número de canciones reproducidas el lunes, miércoles y viernes. Utiliza el mismo método que antes, pero ahora necesitamos una agrupación diferente.\n"
   ]
  },
  {
   "cell_type": "code",
   "execution_count": 21,
   "metadata": {
    "id": "uZMKjiJz_Zcu"
   },
   "outputs": [
    {
     "data": {
      "text/plain": [
       "day\n",
       "Friday       21840\n",
       "Monday       21354\n",
       "Wednesday    18059\n",
       "Name: track, dtype: int64"
      ]
     },
     "execution_count": 21,
     "metadata": {},
     "output_type": "execute_result"
    }
   ],
   "source": [
    "# Calcular las canciones reproducidas en cada uno de los tres días\n",
    "data_music.groupby('day')['track'].count()"
   ]
  },
  {
   "cell_type": "markdown",
   "metadata": {
    "id": "cC2tNrlL_Zcu"
   },
   "source": [
    "`Comenta tus observaciones aquí`\n",
    "El dia viernes es el dia que mas reproduce canciones a comparacion del lunes y miercoles. El dia miercoles siendo el dia que menos canciones se reproduce."
   ]
  },
  {
   "cell_type": "markdown",
   "metadata": {
    "id": "POzs8bGa_Zcu"
   },
   "source": [
    "Ya sabes cómo contar entradas agrupándolas por ciudad o día. Ahora necesitas escribir una función que pueda contar entradas según ambos criterios simultáneamente.\n",
    "\n",
    "Crea la función `number_tracks()` para calcular el número de canciones reproducidas en un determinado día **y** ciudad. La función debe aceptar dos parámetros:\n",
    "\n",
    "- `day`: un día de la semana para filtrar. Por ejemplo, `'Monday'` (lunes).\n",
    "- `city`: una ciudad para filtrar. Por ejemplo, `'Springfield'`.\n",
    "\n",
    "Dentro de la función, aplicarás un filtrado consecutivo con indexación lógica.\n",
    "\n",
    "Primero filtra los datos por día y luego filtra la tabla resultante por ciudad.\n",
    "\n",
    "Después de filtrar los datos por dos criterios, cuenta el número de valores de la columna 'user_id' en la tabla resultante. Este recuento representa el número de entradas que estás buscando. Guarda el resultado en una nueva variable y devuélvelo desde la función."
   ]
  },
  {
   "cell_type": "code",
   "execution_count": 22,
   "metadata": {
    "id": "Nz3GdQB1_Zcu"
   },
   "outputs": [],
   "source": [
    "# Declara la función number_tracks() con dos parámetros: day= y city=.\n",
    "# Almacena las filas del DataFrame donde el valor en la columna 'day' es igual al parámetro day=\n",
    "# Filtra las filas donde el valor en la columna 'city' es igual al parámetro city=\n",
    "# Extrae la columna 'user_id' de la tabla filtrada y aplica el método count()\n",
    "# Devolve el número de valores de la columna 'user_id'\n",
    "\n",
    "def number_tracks(data_music,column,day,city):\n",
    "    data_music_filtered=data_music[(data_music['day']== day)&(data_music['city']== city)]\n",
    "    result=data_music_filtered[column].count()\n",
    "    return result\n",
    "      "
   ]
  },
  {
   "cell_type": "markdown",
   "metadata": {
    "id": "ytf7xFrFJQ2r"
   },
   "source": [
    "Llama a `number_tracks()` seis veces, cambiando los valores de los parámetros para que recuperes los datos de ambas ciudades para cada uno de los tres días."
   ]
  },
  {
   "cell_type": "code",
   "execution_count": 23,
   "metadata": {
    "id": "rJcRATNQ_Zcu"
   },
   "outputs": [
    {
     "data": {
      "text/plain": [
       "15740"
      ]
     },
     "execution_count": 23,
     "metadata": {},
     "output_type": "execute_result"
    }
   ],
   "source": [
    "# El número de canciones reproducidas en Springfield el lunes\n",
    "day='Monday'\n",
    "city='Springfield'\n",
    "column='user_id'\n",
    "Monday_Springfield= number_tracks(data_music,column,day,city)\n",
    "Monday_Springfield"
   ]
  },
  {
   "cell_type": "code",
   "execution_count": 24,
   "metadata": {
    "id": "hq_ncZ5T_Zcu"
   },
   "outputs": [
    {
     "data": {
      "text/plain": [
       "5614"
      ]
     },
     "execution_count": 24,
     "metadata": {},
     "output_type": "execute_result"
    }
   ],
   "source": [
    "# El número de canciones reproducidas en Shelbyville el lunes\n",
    "day='Monday'\n",
    "city='Shelbyville'\n",
    "column='user_id'\n",
    "Monday_Shelbyville= number_tracks(data_music,column,day,city)\n",
    "Monday_Shelbyville"
   ]
  },
  {
   "cell_type": "code",
   "execution_count": 25,
   "metadata": {
    "id": "_NTy2VPU_Zcu"
   },
   "outputs": [
    {
     "data": {
      "text/plain": [
       "11056"
      ]
     },
     "execution_count": 25,
     "metadata": {},
     "output_type": "execute_result"
    }
   ],
   "source": [
    "# El número de canciones reproducidas en Springfield el miércoles\n",
    "day='Wednesday'\n",
    "city='Springfield'\n",
    "column='user_id'\n",
    "Wednesday_Springfield= number_tracks(data_music,column,day,city)\n",
    "Wednesday_Springfield"
   ]
  },
  {
   "cell_type": "code",
   "execution_count": 26,
   "metadata": {
    "id": "j2y3TAwo_Zcu"
   },
   "outputs": [
    {
     "data": {
      "text/plain": [
       "7003"
      ]
     },
     "execution_count": 26,
     "metadata": {},
     "output_type": "execute_result"
    }
   ],
   "source": [
    "# El número de canciones reproducidas en Shelbyville el miércoles\n",
    "day='Wednesday'\n",
    "city='Shelbyville'\n",
    "column='user_id'\n",
    "Wednesday_Shelbyville= number_tracks(data_music,column,day,city)\n",
    "Wednesday_Shelbyville"
   ]
  },
  {
   "cell_type": "code",
   "execution_count": 27,
   "metadata": {
    "id": "vYDw5u_K_Zcu"
   },
   "outputs": [
    {
     "data": {
      "text/plain": [
       "15945"
      ]
     },
     "execution_count": 27,
     "metadata": {},
     "output_type": "execute_result"
    }
   ],
   "source": [
    "# El número de canciones reproducidas en Springfield el viernes\n",
    "day='Friday'\n",
    "city='Springfield'\n",
    "column='user_id'\n",
    "Friday_Springfield= number_tracks(data_music,column,day,city)\n",
    "Friday_Springfield"
   ]
  },
  {
   "cell_type": "code",
   "execution_count": 28,
   "metadata": {
    "id": "8_yzFtW3_Zcu"
   },
   "outputs": [
    {
     "data": {
      "text/plain": [
       "5895"
      ]
     },
     "execution_count": 28,
     "metadata": {},
     "output_type": "execute_result"
    }
   ],
   "source": [
    "# El número de canciones reproducidas en Shelbyville el viernes\n",
    "day='Friday'\n",
    "city='Shelbyville'\n",
    "column='user_id'\n",
    "Friday_Shelbyville= number_tracks(data_music,column,day,city)\n",
    "Friday_Shelbyville"
   ]
  },
  {
   "cell_type": "markdown",
   "metadata": {
    "id": "-EgPIHYu_Zcu"
   },
   "source": [
    "**Conclusiones**\n",
    "\n",
    "`Comenta si la hipótesis es correcta o se debe rechazar. Explica tu razonamiento.`"
   ]
  },
  {
   "cell_type": "markdown",
   "metadata": {
    "id": "p7nFQajCVw5B"
   },
   "source": [
    "[Volver a Contenidos](#back)"
   ]
  },
  {
   "cell_type": "markdown",
   "metadata": {
    "id": "ykKQ0N65_Zcv"
   },
   "source": [
    "# Conclusiones <a id='end'></a>"
   ]
  },
  {
   "cell_type": "markdown",
   "metadata": {},
   "source": [
    "Si difiere la actividad de los usuarios porque como se pueden ver en los resultados tanto de lunes, miercoles y viernes hay cambios significativos en el numero de las reproducciones tanto para Springfield y Shelbyville.\n",
    ".Se concluye que Springfield tiene mas numero de reproduciones que Shelbyville.\n",
    ".Los lunes y viernes en este caso superan en reproducciones al dia miercoles en Springfield.\n",
    ".El miercoles supera en reproduciones al lunes y viernes en la ciudad de Shelbyville.\n",
    "Entonces la hipotesis es correcta. "
   ]
  },
  {
   "cell_type": "markdown",
   "metadata": {
    "id": "Ju4AHDSgV1FE"
   },
   "source": [
    "[Volver a Contenidos](#back)"
   ]
  }
 ],
 "metadata": {
  "ExecuteTimeLog": [
   {
    "duration": 309,
    "start_time": "2024-09-16T17:29:47.626Z"
   },
   {
    "duration": 122,
    "start_time": "2024-09-16T17:31:03.402Z"
   },
   {
    "duration": 11,
    "start_time": "2024-09-16T17:31:22.002Z"
   },
   {
    "duration": 23,
    "start_time": "2024-09-16T17:31:43.523Z"
   },
   {
    "duration": 6,
    "start_time": "2024-09-16T17:32:03.588Z"
   },
   {
    "duration": 4,
    "start_time": "2024-09-16T17:33:04.443Z"
   },
   {
    "duration": 345,
    "start_time": "2024-09-16T17:34:08.945Z"
   },
   {
    "duration": 13,
    "start_time": "2024-09-16T17:35:15.598Z"
   },
   {
    "duration": 12,
    "start_time": "2024-09-16T17:35:28.228Z"
   },
   {
    "duration": 13,
    "start_time": "2024-09-16T17:36:28.182Z"
   },
   {
    "duration": 13,
    "start_time": "2024-09-16T17:36:56.833Z"
   },
   {
    "duration": 5,
    "start_time": "2024-09-16T17:37:03.763Z"
   },
   {
    "duration": 4,
    "start_time": "2024-09-16T17:37:40.706Z"
   },
   {
    "duration": 14,
    "start_time": "2024-09-16T17:38:06.408Z"
   },
   {
    "duration": 4,
    "start_time": "2024-09-16T17:38:28.225Z"
   },
   {
    "duration": 3,
    "start_time": "2024-09-16T17:39:46.968Z"
   },
   {
    "duration": 4,
    "start_time": "2024-09-16T17:40:08.007Z"
   },
   {
    "duration": 3,
    "start_time": "2024-09-16T17:41:53.354Z"
   },
   {
    "duration": 4,
    "start_time": "2024-09-16T17:47:25.437Z"
   },
   {
    "duration": 21,
    "start_time": "2024-09-16T17:48:21.629Z"
   },
   {
    "duration": 20,
    "start_time": "2024-09-16T17:49:03.696Z"
   },
   {
    "duration": 11,
    "start_time": "2024-09-16T17:50:29.039Z"
   },
   {
    "duration": 18,
    "start_time": "2024-09-16T17:50:51.908Z"
   },
   {
    "duration": 46,
    "start_time": "2024-09-16T17:52:30.980Z"
   },
   {
    "duration": 47,
    "start_time": "2024-09-16T17:55:17.034Z"
   },
   {
    "duration": 42,
    "start_time": "2024-09-16T17:55:38.562Z"
   },
   {
    "duration": 4,
    "start_time": "2024-09-16T17:57:39.603Z"
   },
   {
    "duration": 17,
    "start_time": "2024-09-16T17:59:43.592Z"
   },
   {
    "duration": 11,
    "start_time": "2024-09-16T17:59:52.023Z"
   },
   {
    "duration": 5,
    "start_time": "2024-09-16T18:00:00.370Z"
   },
   {
    "duration": 6,
    "start_time": "2024-09-16T18:00:20.715Z"
   },
   {
    "duration": 9,
    "start_time": "2024-09-16T18:03:18.491Z"
   },
   {
    "duration": 7,
    "start_time": "2024-09-16T18:03:31.990Z"
   },
   {
    "duration": 3,
    "start_time": "2024-09-16T18:10:20.070Z"
   },
   {
    "duration": 17,
    "start_time": "2024-09-16T18:16:50.910Z"
   },
   {
    "duration": 3,
    "start_time": "2024-09-16T18:19:12.541Z"
   },
   {
    "duration": 18,
    "start_time": "2024-09-16T18:19:22.167Z"
   },
   {
    "duration": 3,
    "start_time": "2024-09-16T18:19:52.663Z"
   },
   {
    "duration": 20,
    "start_time": "2024-09-16T18:20:00.309Z"
   },
   {
    "duration": 14,
    "start_time": "2024-09-16T18:21:15.856Z"
   },
   {
    "duration": 11,
    "start_time": "2024-09-16T18:21:39.580Z"
   },
   {
    "duration": 5,
    "start_time": "2024-09-16T18:22:51.519Z"
   },
   {
    "duration": 5,
    "start_time": "2024-09-16T18:22:59.287Z"
   },
   {
    "duration": 7,
    "start_time": "2024-09-16T18:23:25.253Z"
   },
   {
    "duration": 170,
    "start_time": "2024-09-17T17:08:29.252Z"
   },
   {
    "duration": 327,
    "start_time": "2024-09-17T17:09:05.418Z"
   },
   {
    "duration": 131,
    "start_time": "2024-09-17T17:09:09.284Z"
   },
   {
    "duration": 12,
    "start_time": "2024-09-17T17:09:12.492Z"
   },
   {
    "duration": 21,
    "start_time": "2024-09-17T17:09:20.602Z"
   },
   {
    "duration": 4,
    "start_time": "2024-09-17T17:09:30.153Z"
   },
   {
    "duration": 4,
    "start_time": "2024-09-17T17:09:36.739Z"
   },
   {
    "duration": 5,
    "start_time": "2024-09-17T17:09:45.088Z"
   },
   {
    "duration": 4,
    "start_time": "2024-09-17T17:09:51.639Z"
   },
   {
    "duration": 21,
    "start_time": "2024-09-17T17:10:03.405Z"
   },
   {
    "duration": 43,
    "start_time": "2024-09-17T17:10:13.388Z"
   },
   {
    "duration": 39,
    "start_time": "2024-09-17T17:10:57.599Z"
   },
   {
    "duration": 11,
    "start_time": "2024-09-17T17:11:15.544Z"
   },
   {
    "duration": 13,
    "start_time": "2024-09-17T17:12:47.507Z"
   },
   {
    "duration": 305,
    "start_time": "2024-09-17T20:35:59.481Z"
   },
   {
    "duration": 121,
    "start_time": "2024-09-17T20:36:02.382Z"
   },
   {
    "duration": 13,
    "start_time": "2024-09-17T20:36:05.934Z"
   },
   {
    "duration": 24,
    "start_time": "2024-09-17T20:36:13.842Z"
   },
   {
    "duration": 4,
    "start_time": "2024-09-17T20:36:27.829Z"
   },
   {
    "duration": 6,
    "start_time": "2024-09-17T20:36:41.172Z"
   },
   {
    "duration": 4,
    "start_time": "2024-09-17T20:36:47.909Z"
   },
   {
    "duration": 5,
    "start_time": "2024-09-17T20:36:55.637Z"
   },
   {
    "duration": 21,
    "start_time": "2024-09-17T20:37:02.928Z"
   },
   {
    "duration": 18,
    "start_time": "2024-09-17T20:37:10.000Z"
   },
   {
    "duration": 11,
    "start_time": "2024-09-17T20:37:20.057Z"
   },
   {
    "duration": 17,
    "start_time": "2024-09-17T20:37:25.046Z"
   },
   {
    "duration": 44,
    "start_time": "2024-09-17T20:37:34.345Z"
   },
   {
    "duration": 47,
    "start_time": "2024-09-17T20:37:38.249Z"
   },
   {
    "duration": 40,
    "start_time": "2024-09-17T20:37:44.959Z"
   },
   {
    "duration": 7,
    "start_time": "2024-09-17T20:37:56.683Z"
   },
   {
    "duration": 2,
    "start_time": "2024-09-17T20:38:07.312Z"
   },
   {
    "duration": 19,
    "start_time": "2024-09-17T20:38:11.998Z"
   },
   {
    "duration": 7,
    "start_time": "2024-09-17T20:38:22.303Z"
   },
   {
    "duration": 10,
    "start_time": "2024-09-17T20:38:53.856Z"
   },
   {
    "duration": 10,
    "start_time": "2024-09-17T20:38:58.037Z"
   },
   {
    "duration": 6,
    "start_time": "2024-09-17T20:49:51.574Z"
   },
   {
    "duration": 4,
    "start_time": "2024-09-17T20:52:03.118Z"
   },
   {
    "duration": 4,
    "start_time": "2024-09-17T20:52:21.599Z"
   },
   {
    "duration": 4,
    "start_time": "2024-09-17T20:57:45.655Z"
   },
   {
    "duration": 4,
    "start_time": "2024-09-17T20:58:34.582Z"
   },
   {
    "duration": 5,
    "start_time": "2024-09-17T20:59:35.398Z"
   },
   {
    "duration": 3,
    "start_time": "2024-09-17T21:00:02.446Z"
   },
   {
    "duration": 9,
    "start_time": "2024-09-17T21:34:36.088Z"
   },
   {
    "duration": 4,
    "start_time": "2024-09-17T21:48:49.383Z"
   },
   {
    "duration": 3,
    "start_time": "2024-09-17T21:49:12.902Z"
   },
   {
    "duration": 3,
    "start_time": "2024-09-17T21:49:19.511Z"
   },
   {
    "duration": 166,
    "start_time": "2024-09-17T22:02:23.812Z"
   },
   {
    "duration": 3,
    "start_time": "2024-09-17T22:02:44.010Z"
   },
   {
    "duration": 12,
    "start_time": "2024-09-17T22:02:47.195Z"
   },
   {
    "duration": 11,
    "start_time": "2024-09-17T22:03:07.048Z"
   },
   {
    "duration": 289,
    "start_time": "2024-09-17T22:03:18.579Z"
   },
   {
    "duration": 112,
    "start_time": "2024-09-17T22:03:22.537Z"
   },
   {
    "duration": 11,
    "start_time": "2024-09-17T22:03:26.106Z"
   },
   {
    "duration": 6,
    "start_time": "2024-09-17T22:03:37.520Z"
   },
   {
    "duration": 2,
    "start_time": "2024-09-17T22:04:11.900Z"
   },
   {
    "duration": 39,
    "start_time": "2024-09-17T22:04:23.385Z"
   },
   {
    "duration": 3,
    "start_time": "2024-09-17T22:05:25.029Z"
   },
   {
    "duration": 14,
    "start_time": "2024-09-17T22:05:28.682Z"
   },
   {
    "duration": 4,
    "start_time": "2024-09-17T22:12:28.415Z"
   },
   {
    "duration": 3,
    "start_time": "2024-09-17T22:12:49.860Z"
   },
   {
    "duration": 402,
    "start_time": "2024-09-17T22:13:21.083Z"
   },
   {
    "duration": 45,
    "start_time": "2024-09-17T22:14:53.823Z"
   },
   {
    "duration": 3,
    "start_time": "2024-09-17T22:17:19.237Z"
   },
   {
    "duration": 45,
    "start_time": "2024-09-17T22:17:32.839Z"
   },
   {
    "duration": 43,
    "start_time": "2024-09-17T22:24:41.007Z"
   },
   {
    "duration": 3,
    "start_time": "2024-09-17T22:26:20.471Z"
   },
   {
    "duration": 42,
    "start_time": "2024-09-17T22:26:23.961Z"
   },
   {
    "duration": 4,
    "start_time": "2024-09-17T22:29:31.922Z"
   },
   {
    "duration": 44,
    "start_time": "2024-09-17T22:29:36.811Z"
   },
   {
    "duration": 3,
    "start_time": "2024-09-17T22:30:34.153Z"
   },
   {
    "duration": 46,
    "start_time": "2024-09-17T22:30:38.790Z"
   },
   {
    "duration": 44,
    "start_time": "2024-09-17T22:33:14.301Z"
   },
   {
    "duration": 5,
    "start_time": "2024-09-17T23:03:22.554Z"
   },
   {
    "duration": 152,
    "start_time": "2024-09-17T23:03:26.486Z"
   },
   {
    "duration": 320,
    "start_time": "2024-09-17T23:03:37.557Z"
   },
   {
    "duration": 119,
    "start_time": "2024-09-17T23:03:40.599Z"
   },
   {
    "duration": 13,
    "start_time": "2024-09-17T23:03:48.025Z"
   },
   {
    "duration": 3,
    "start_time": "2024-09-17T23:04:02.049Z"
   },
   {
    "duration": 406,
    "start_time": "2024-09-17T23:04:05.374Z"
   },
   {
    "duration": 13,
    "start_time": "2024-09-17T23:06:27.022Z"
   },
   {
    "duration": 3,
    "start_time": "2024-09-17T23:06:44.467Z"
   },
   {
    "duration": 46,
    "start_time": "2024-09-17T23:06:51.577Z"
   },
   {
    "duration": 3,
    "start_time": "2024-09-17T23:13:53.908Z"
   },
   {
    "duration": 44,
    "start_time": "2024-09-17T23:14:03.355Z"
   },
   {
    "duration": 3,
    "start_time": "2024-09-17T23:15:43.563Z"
   },
   {
    "duration": 89,
    "start_time": "2024-09-17T23:15:46.755Z"
   },
   {
    "duration": 8,
    "start_time": "2024-09-17T23:15:49.972Z"
   },
   {
    "duration": 6,
    "start_time": "2024-09-17T23:16:58.451Z"
   },
   {
    "duration": 4,
    "start_time": "2024-09-17T23:17:04.708Z"
   },
   {
    "duration": 5,
    "start_time": "2024-09-17T23:17:11.506Z"
   },
   {
    "duration": 3,
    "start_time": "2024-09-17T23:17:36.965Z"
   },
   {
    "duration": 13,
    "start_time": "2024-09-17T23:17:42.372Z"
   },
   {
    "duration": 2,
    "start_time": "2024-09-17T23:18:13.650Z"
   },
   {
    "duration": 3,
    "start_time": "2024-09-17T23:18:44.219Z"
   },
   {
    "duration": 13,
    "start_time": "2024-09-17T23:18:55.809Z"
   },
   {
    "duration": 3,
    "start_time": "2024-09-17T23:20:20.067Z"
   },
   {
    "duration": 10,
    "start_time": "2024-09-17T23:21:11.510Z"
   },
   {
    "duration": 13,
    "start_time": "2024-09-17T23:22:12.022Z"
   },
   {
    "duration": 3,
    "start_time": "2024-09-17T23:22:21.622Z"
   },
   {
    "duration": 11,
    "start_time": "2024-09-17T23:22:36.517Z"
   },
   {
    "duration": 4,
    "start_time": "2024-09-17T23:23:07.215Z"
   },
   {
    "duration": 12,
    "start_time": "2024-09-17T23:26:22.663Z"
   },
   {
    "duration": 12,
    "start_time": "2024-09-17T23:26:31.522Z"
   },
   {
    "duration": 3,
    "start_time": "2024-09-17T23:26:34.287Z"
   },
   {
    "duration": 13,
    "start_time": "2024-09-17T23:27:38.594Z"
   },
   {
    "duration": 16,
    "start_time": "2024-09-17T23:28:05.834Z"
   },
   {
    "duration": 13,
    "start_time": "2024-09-17T23:29:14.115Z"
   },
   {
    "duration": 20,
    "start_time": "2024-09-17T23:30:05.518Z"
   },
   {
    "duration": 14,
    "start_time": "2024-09-17T23:30:35.748Z"
   },
   {
    "duration": 21,
    "start_time": "2024-09-17T23:31:17.518Z"
   },
   {
    "duration": 13,
    "start_time": "2024-09-17T23:32:01.472Z"
   },
   {
    "duration": 473,
    "start_time": "2024-09-18T11:55:47.299Z"
   },
   {
    "duration": 122,
    "start_time": "2024-09-18T11:55:47.775Z"
   },
   {
    "duration": 12,
    "start_time": "2024-09-18T11:55:47.899Z"
   },
   {
    "duration": 22,
    "start_time": "2024-09-18T11:55:47.913Z"
   },
   {
    "duration": 3,
    "start_time": "2024-09-18T11:55:47.939Z"
   },
   {
    "duration": 4,
    "start_time": "2024-09-18T11:55:47.944Z"
   },
   {
    "duration": 5,
    "start_time": "2024-09-18T11:55:47.949Z"
   },
   {
    "duration": 4,
    "start_time": "2024-09-18T11:55:47.956Z"
   },
   {
    "duration": 54,
    "start_time": "2024-09-18T11:55:47.961Z"
   },
   {
    "duration": 19,
    "start_time": "2024-09-18T11:55:48.017Z"
   },
   {
    "duration": 12,
    "start_time": "2024-09-18T11:55:48.038Z"
   },
   {
    "duration": 21,
    "start_time": "2024-09-18T11:55:48.052Z"
   },
   {
    "duration": 76,
    "start_time": "2024-09-18T11:55:48.075Z"
   },
   {
    "duration": 56,
    "start_time": "2024-09-18T11:55:48.155Z"
   },
   {
    "duration": 44,
    "start_time": "2024-09-18T11:55:48.213Z"
   },
   {
    "duration": 6,
    "start_time": "2024-09-18T11:55:48.259Z"
   },
   {
    "duration": 3,
    "start_time": "2024-09-18T11:55:48.272Z"
   },
   {
    "duration": 38,
    "start_time": "2024-09-18T11:55:48.277Z"
   },
   {
    "duration": 7,
    "start_time": "2024-09-18T11:55:48.316Z"
   },
   {
    "duration": 10,
    "start_time": "2024-09-18T11:55:48.324Z"
   },
   {
    "duration": 10,
    "start_time": "2024-09-18T11:55:48.335Z"
   },
   {
    "duration": 4,
    "start_time": "2024-09-18T11:55:48.346Z"
   },
   {
    "duration": 15,
    "start_time": "2024-09-18T11:55:56.132Z"
   },
   {
    "duration": 13,
    "start_time": "2024-09-18T11:55:59.699Z"
   },
   {
    "duration": 16,
    "start_time": "2024-09-18T11:56:01.806Z"
   },
   {
    "duration": 13,
    "start_time": "2024-09-18T11:56:03.043Z"
   },
   {
    "duration": 16,
    "start_time": "2024-09-18T11:56:04.673Z"
   },
   {
    "duration": 13,
    "start_time": "2024-09-18T11:56:05.857Z"
   }
  ],
  "colab": {
   "collapsed_sections": [
    "E0vqbgi9ay0H",
    "VUC88oWjTJw2"
   ],
   "provenance": []
  },
  "kernelspec": {
   "display_name": "base",
   "language": "python",
   "name": "python3"
  },
  "language_info": {
   "codemirror_mode": {
    "name": "ipython",
    "version": 3
   },
   "file_extension": ".py",
   "mimetype": "text/x-python",
   "name": "python",
   "nbconvert_exporter": "python",
   "pygments_lexer": "ipython3",
   "version": "3.12.4"
  },
  "toc": {
   "base_numbering": 1,
   "nav_menu": {},
   "number_sections": true,
   "sideBar": true,
   "skip_h1_title": true,
   "title_cell": "Table of Contents",
   "title_sidebar": "Contents",
   "toc_cell": false,
   "toc_position": {},
   "toc_section_display": true,
   "toc_window_display": false
  }
 },
 "nbformat": 4,
 "nbformat_minor": 1
}
